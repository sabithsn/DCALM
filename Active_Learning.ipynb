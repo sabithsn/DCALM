{
  "cells": [
    {
      "cell_type": "code",
      "execution_count": null,
      "metadata": {
        "colab": {
          "base_uri": "https://localhost:8080/"
        },
        "id": "DVtSrLzqMILx",
        "outputId": "89cf8f7c-a473-4304-be65-3ccac084e177"
      },
      "outputs": [
        {
          "output_type": "stream",
          "name": "stdout",
          "text": [
            "/content/drive/MyDrive/AL3/AL-code\n"
          ]
        }
      ],
      "source": [
        "%cd drive/MyDrive/AL3/AL-code"
      ]
    },
    {
      "cell_type": "code",
      "execution_count": null,
      "metadata": {
        "colab": {
          "base_uri": "https://localhost:8080/"
        },
        "id": "a-dnprYANLLe",
        "outputId": "2b528722-e518-4b3b-ced6-a2bd03b58579"
      },
      "outputs": [
        {
          "output_type": "stream",
          "name": "stdout",
          "text": [
            "Looking in indexes: https://pypi.org/simple, https://us-python.pkg.dev/colab-wheels/public/simple/\n",
            "Collecting ktrain\n",
            "  Downloading ktrain-0.31.10.tar.gz (25.3 MB)\n",
            "\u001b[K     |████████████████████████████████| 25.3 MB 1.3 MB/s \n",
            "\u001b[?25hRequirement already satisfied: scikit-learn in /usr/local/lib/python3.7/dist-packages (from ktrain) (1.0.2)\n",
            "Requirement already satisfied: matplotlib>=3.0.0 in /usr/local/lib/python3.7/dist-packages (from ktrain) (3.2.2)\n",
            "Requirement already satisfied: pandas>=1.0.1 in /usr/local/lib/python3.7/dist-packages (from ktrain) (1.3.5)\n",
            "Requirement already satisfied: fastprogress>=0.1.21 in /usr/local/lib/python3.7/dist-packages (from ktrain) (1.0.3)\n",
            "Requirement already satisfied: requests in /usr/local/lib/python3.7/dist-packages (from ktrain) (2.23.0)\n",
            "Requirement already satisfied: joblib in /usr/local/lib/python3.7/dist-packages (from ktrain) (1.2.0)\n",
            "Requirement already satisfied: packaging in /usr/local/lib/python3.7/dist-packages (from ktrain) (21.3)\n",
            "Collecting langdetect\n",
            "  Downloading langdetect-1.0.9.tar.gz (981 kB)\n",
            "\u001b[K     |████████████████████████████████| 981 kB 24.6 MB/s \n",
            "\u001b[?25hRequirement already satisfied: jieba in /usr/local/lib/python3.7/dist-packages (from ktrain) (0.42.1)\n",
            "Collecting cchardet\n",
            "  Downloading cchardet-2.1.7-cp37-cp37m-manylinux2010_x86_64.whl (263 kB)\n",
            "\u001b[K     |████████████████████████████████| 263 kB 43.2 MB/s \n",
            "\u001b[?25hRequirement already satisfied: chardet in /usr/local/lib/python3.7/dist-packages (from ktrain) (3.0.4)\n",
            "Collecting syntok>1.3.3\n",
            "  Downloading syntok-1.4.4-py3-none-any.whl (24 kB)\n",
            "Collecting transformers==4.17.0\n",
            "  Downloading transformers-4.17.0-py3-none-any.whl (3.8 MB)\n",
            "\u001b[K     |████████████████████████████████| 3.8 MB 29.9 MB/s \n",
            "\u001b[?25hCollecting sentencepiece\n",
            "  Downloading sentencepiece-0.1.97-cp37-cp37m-manylinux_2_17_x86_64.manylinux2014_x86_64.whl (1.3 MB)\n",
            "\u001b[K     |████████████████████████████████| 1.3 MB 50.0 MB/s \n",
            "\u001b[?25hCollecting keras_bert>=0.86.0\n",
            "  Downloading keras-bert-0.89.0.tar.gz (25 kB)\n",
            "Collecting whoosh\n",
            "  Downloading Whoosh-2.7.4-py2.py3-none-any.whl (468 kB)\n",
            "\u001b[K     |████████████████████████████████| 468 kB 50.2 MB/s \n",
            "\u001b[?25hRequirement already satisfied: filelock in /usr/local/lib/python3.7/dist-packages (from transformers==4.17.0->ktrain) (3.8.0)\n",
            "Requirement already satisfied: regex!=2019.12.17 in /usr/local/lib/python3.7/dist-packages (from transformers==4.17.0->ktrain) (2022.6.2)\n",
            "Requirement already satisfied: numpy>=1.17 in /usr/local/lib/python3.7/dist-packages (from transformers==4.17.0->ktrain) (1.21.6)\n",
            "Requirement already satisfied: pyyaml>=5.1 in /usr/local/lib/python3.7/dist-packages (from transformers==4.17.0->ktrain) (6.0)\n",
            "Collecting sacremoses\n",
            "  Downloading sacremoses-0.0.53.tar.gz (880 kB)\n",
            "\u001b[K     |████████████████████████████████| 880 kB 65.6 MB/s \n",
            "\u001b[?25hCollecting tokenizers!=0.11.3,>=0.11.1\n",
            "  Downloading tokenizers-0.13.1-cp37-cp37m-manylinux_2_17_x86_64.manylinux2014_x86_64.whl (7.6 MB)\n",
            "\u001b[K     |████████████████████████████████| 7.6 MB 45.4 MB/s \n",
            "\u001b[?25hRequirement already satisfied: importlib-metadata in /usr/local/lib/python3.7/dist-packages (from transformers==4.17.0->ktrain) (5.0.0)\n",
            "Collecting huggingface-hub<1.0,>=0.1.0\n",
            "  Downloading huggingface_hub-0.10.1-py3-none-any.whl (163 kB)\n",
            "\u001b[K     |████████████████████████████████| 163 kB 75.3 MB/s \n",
            "\u001b[?25hRequirement already satisfied: tqdm>=4.27 in /usr/local/lib/python3.7/dist-packages (from transformers==4.17.0->ktrain) (4.64.1)\n",
            "Requirement already satisfied: typing-extensions>=3.7.4.3 in /usr/local/lib/python3.7/dist-packages (from huggingface-hub<1.0,>=0.1.0->transformers==4.17.0->ktrain) (4.1.1)\n",
            "Collecting keras-transformer==0.40.0\n",
            "  Downloading keras-transformer-0.40.0.tar.gz (9.7 kB)\n",
            "Collecting keras-pos-embd==0.13.0\n",
            "  Downloading keras-pos-embd-0.13.0.tar.gz (5.6 kB)\n",
            "Collecting keras-multi-head==0.29.0\n",
            "  Downloading keras-multi-head-0.29.0.tar.gz (13 kB)\n",
            "Collecting keras-layer-normalization==0.16.0\n",
            "  Downloading keras-layer-normalization-0.16.0.tar.gz (3.9 kB)\n",
            "Collecting keras-position-wise-feed-forward==0.8.0\n",
            "  Downloading keras-position-wise-feed-forward-0.8.0.tar.gz (4.1 kB)\n",
            "Collecting keras-embed-sim==0.10.0\n",
            "  Downloading keras-embed-sim-0.10.0.tar.gz (3.6 kB)\n",
            "Collecting keras-self-attention==0.51.0\n",
            "  Downloading keras-self-attention-0.51.0.tar.gz (11 kB)\n",
            "Requirement already satisfied: kiwisolver>=1.0.1 in /usr/local/lib/python3.7/dist-packages (from matplotlib>=3.0.0->ktrain) (1.4.4)\n",
            "Requirement already satisfied: pyparsing!=2.0.4,!=2.1.2,!=2.1.6,>=2.0.1 in /usr/local/lib/python3.7/dist-packages (from matplotlib>=3.0.0->ktrain) (3.0.9)\n",
            "Requirement already satisfied: python-dateutil>=2.1 in /usr/local/lib/python3.7/dist-packages (from matplotlib>=3.0.0->ktrain) (2.8.2)\n",
            "Requirement already satisfied: cycler>=0.10 in /usr/local/lib/python3.7/dist-packages (from matplotlib>=3.0.0->ktrain) (0.11.0)\n",
            "Requirement already satisfied: pytz>=2017.3 in /usr/local/lib/python3.7/dist-packages (from pandas>=1.0.1->ktrain) (2022.4)\n",
            "Requirement already satisfied: six>=1.5 in /usr/local/lib/python3.7/dist-packages (from python-dateutil>=2.1->matplotlib>=3.0.0->ktrain) (1.15.0)\n",
            "Requirement already satisfied: zipp>=0.5 in /usr/local/lib/python3.7/dist-packages (from importlib-metadata->transformers==4.17.0->ktrain) (3.8.1)\n",
            "Requirement already satisfied: idna<3,>=2.5 in /usr/local/lib/python3.7/dist-packages (from requests->ktrain) (2.10)\n",
            "Requirement already satisfied: urllib3!=1.25.0,!=1.25.1,<1.26,>=1.21.1 in /usr/local/lib/python3.7/dist-packages (from requests->ktrain) (1.24.3)\n",
            "Requirement already satisfied: certifi>=2017.4.17 in /usr/local/lib/python3.7/dist-packages (from requests->ktrain) (2022.9.24)\n",
            "Requirement already satisfied: click in /usr/local/lib/python3.7/dist-packages (from sacremoses->transformers==4.17.0->ktrain) (7.1.2)\n",
            "Requirement already satisfied: scipy>=1.1.0 in /usr/local/lib/python3.7/dist-packages (from scikit-learn->ktrain) (1.7.3)\n",
            "Requirement already satisfied: threadpoolctl>=2.0.0 in /usr/local/lib/python3.7/dist-packages (from scikit-learn->ktrain) (3.1.0)\n",
            "Building wheels for collected packages: ktrain, keras-bert, keras-transformer, keras-embed-sim, keras-layer-normalization, keras-multi-head, keras-pos-embd, keras-position-wise-feed-forward, keras-self-attention, langdetect, sacremoses\n",
            "  Building wheel for ktrain (setup.py) ... \u001b[?25l\u001b[?25hdone\n",
            "  Created wheel for ktrain: filename=ktrain-0.31.10-py3-none-any.whl size=25312982 sha256=beba5c4531ddc1d5ab4c14780dd03fbee4d21aa1f18a1a8f5d7c28ac6be8af25\n",
            "  Stored in directory: /root/.cache/pip/wheels/9c/1c/1b/6df2db85720b8f5c6ea5e3ae37313cfc656f248abf910b7cfd\n",
            "  Building wheel for keras-bert (setup.py) ... \u001b[?25l\u001b[?25hdone\n",
            "  Created wheel for keras-bert: filename=keras_bert-0.89.0-py3-none-any.whl size=33517 sha256=837ae94467c8a916b6513c44b1322be97219d13184263673f732bec05626d24e\n",
            "  Stored in directory: /root/.cache/pip/wheels/a4/e8/45/842b3a39831261aef9154b907eacbc4ac99499a99ae829b06f\n",
            "  Building wheel for keras-transformer (setup.py) ... \u001b[?25l\u001b[?25hdone\n",
            "  Created wheel for keras-transformer: filename=keras_transformer-0.40.0-py3-none-any.whl size=12305 sha256=6a42012593faa689d84c4b7d52b71bfcedb8cfc8769ccb2b87c022e7d24fcd6a\n",
            "  Stored in directory: /root/.cache/pip/wheels/46/68/26/692ed21edd832833c3b0a0e21615bcacd99ca458b3f9ed571f\n",
            "  Building wheel for keras-embed-sim (setup.py) ... \u001b[?25l\u001b[?25hdone\n",
            "  Created wheel for keras-embed-sim: filename=keras_embed_sim-0.10.0-py3-none-any.whl size=3960 sha256=df739b388f0b415065f004f91fba0b21d0434a9797956b04279cdcc64bf0d982\n",
            "  Stored in directory: /root/.cache/pip/wheels/81/67/b5/d847588d075895281e1cf5590f819bd4cf076a554872268bd5\n",
            "  Building wheel for keras-layer-normalization (setup.py) ... \u001b[?25l\u001b[?25hdone\n",
            "  Created wheel for keras-layer-normalization: filename=keras_layer_normalization-0.16.0-py3-none-any.whl size=4668 sha256=5a23028eb616466510b1335517f108de314d18954899d579ef481d1bd7f0edc3\n",
            "  Stored in directory: /root/.cache/pip/wheels/85/5d/1c/2e619f594f69fbcf8bc20943b27d414871c409be053994813e\n",
            "  Building wheel for keras-multi-head (setup.py) ... \u001b[?25l\u001b[?25hdone\n",
            "  Created wheel for keras-multi-head: filename=keras_multi_head-0.29.0-py3-none-any.whl size=14993 sha256=4c902d4c4463495a1aa7035eefd0ba441765db1095c6cf7439e47046bae43475\n",
            "  Stored in directory: /root/.cache/pip/wheels/86/aa/3c/9d15d24005179dae08ff291ce99c754b296347817d076fd9fb\n",
            "  Building wheel for keras-pos-embd (setup.py) ... \u001b[?25l\u001b[?25hdone\n",
            "  Created wheel for keras-pos-embd: filename=keras_pos_embd-0.13.0-py3-none-any.whl size=6962 sha256=60141aff5f031969a428caac147105116acc7068c26aee1de23e9af213923ba0\n",
            "  Stored in directory: /root/.cache/pip/wheels/8d/c1/a0/dc44fcf68c857b7ff6be9a97e675e5adf51022eff1169b042f\n",
            "  Building wheel for keras-position-wise-feed-forward (setup.py) ... \u001b[?25l\u001b[?25hdone\n",
            "  Created wheel for keras-position-wise-feed-forward: filename=keras_position_wise_feed_forward-0.8.0-py3-none-any.whl size=4983 sha256=40ad182a8f8012234c4ff95f7be970644f247437fc5bdea43f39b5aa87a2b2d1\n",
            "  Stored in directory: /root/.cache/pip/wheels/c2/75/6f/d42f6e051506f442daeba53ff1e2d21a5f20ef8c411610f2bb\n",
            "  Building wheel for keras-self-attention (setup.py) ... \u001b[?25l\u001b[?25hdone\n",
            "  Created wheel for keras-self-attention: filename=keras_self_attention-0.51.0-py3-none-any.whl size=18912 sha256=36ad6b7a6fd29065a28f89ae80d602d01db730fb3feaba8644e35c91f4c107b4\n",
            "  Stored in directory: /root/.cache/pip/wheels/95/b1/a8/5ee00cc137940b2f6fa198212e8f45d813d0e0d9c3a04035a3\n",
            "  Building wheel for langdetect (setup.py) ... \u001b[?25l\u001b[?25hdone\n",
            "  Created wheel for langdetect: filename=langdetect-1.0.9-py3-none-any.whl size=993242 sha256=95630da417f11567f8aaa2f6c7815951b5fdf97bd2279151df4c1d4a88c55419\n",
            "  Stored in directory: /root/.cache/pip/wheels/c5/96/8a/f90c59ed25d75e50a8c10a1b1c2d4c402e4dacfa87f3aff36a\n",
            "  Building wheel for sacremoses (setup.py) ... \u001b[?25l\u001b[?25hdone\n",
            "  Created wheel for sacremoses: filename=sacremoses-0.0.53-py3-none-any.whl size=895260 sha256=6a1f60cab0f16efffd5d26cb6e7ed5e9db6808153a3ab3281231a05e347cd8db\n",
            "  Stored in directory: /root/.cache/pip/wheels/87/39/dd/a83eeef36d0bf98e7a4d1933a4ad2d660295a40613079bafc9\n",
            "Successfully built ktrain keras-bert keras-transformer keras-embed-sim keras-layer-normalization keras-multi-head keras-pos-embd keras-position-wise-feed-forward keras-self-attention langdetect sacremoses\n",
            "Installing collected packages: keras-self-attention, keras-position-wise-feed-forward, keras-pos-embd, keras-multi-head, keras-layer-normalization, keras-embed-sim, tokenizers, sacremoses, keras-transformer, huggingface-hub, whoosh, transformers, syntok, sentencepiece, langdetect, keras-bert, cchardet, ktrain\n",
            "Successfully installed cchardet-2.1.7 huggingface-hub-0.10.1 keras-bert-0.89.0 keras-embed-sim-0.10.0 keras-layer-normalization-0.16.0 keras-multi-head-0.29.0 keras-pos-embd-0.13.0 keras-position-wise-feed-forward-0.8.0 keras-self-attention-0.51.0 keras-transformer-0.40.0 ktrain-0.31.10 langdetect-1.0.9 sacremoses-0.0.53 sentencepiece-0.1.97 syntok-1.4.4 tokenizers-0.13.1 transformers-4.17.0 whoosh-2.7.4\n"
          ]
        }
      ],
      "source": [
        "!pip install ktrain"
      ]
    },
    {
      "cell_type": "markdown",
      "metadata": {
        "id": "rB28sBLWOE5V"
      },
      "source": [
        "# adaptive cluster - smallest margin"
      ]
    },
    {
      "cell_type": "code",
      "source": [
        "from scipy.stats import entropy\n",
        "from sklearn.feature_extraction.text import CountVectorizer, TfidfVectorizer\n",
        "from sklearn.svm import LinearSVC\n",
        "from sklearn.metrics import accuracy_score, f1_score, recall_score, precision_score\n",
        "from sklearn.metrics import roc_auc_score\n",
        "from sklearn.cluster import KMeans\n",
        "\n",
        "from collections import Counter\n",
        "import random\n",
        "from sklearn.model_selection import train_test_split\n",
        "import ktrain\n",
        "from ktrain import text\n",
        "import os\n",
        "import pickle\n",
        "import numpy as np\n",
        "\n",
        "os.environ[\"CUDA_DEVICE_ORDER\"]=\"PCI_BUS_ID\";\n",
        "os.environ[\"CUDA_VISIBLE_DEVICES\"]=\"0\";\n",
        "MODEL_NAME = \"bert-base-cased\"\n",
        "# task = \"CoLA\"\n",
        "# task = \"OLID\"\n",
        "# task = \"CARER\"\n",
        "# task = \"MRDA\"\n",
        "# tasks = [\"CS\", \"POLAR\", \"SUBJ\"]\n",
        "# tasks = [\"CONAN\"]\n",
        "tasks = [\"BTYPE\"]\n",
        "runs = [\"RUN1\", \"RUN2\", \"RUN3\"]\n",
        "# Ns = [100,150,200,250,300]\n",
        "Ns = [100,200,300]\n",
        "# N = 200 # total number of labels allowed from train set\n",
        "N_INIT = 50 # number of samples for bootstrapping classifier\n",
        "# N_AL = N - N_INIT # number of samples to be distributed with active learning\n",
        "N_ROUND = 50 # number of samples for each round of AL\n",
        "ORIGINAL_N_ROUND = N_ROUND\n",
        "\n",
        "# N_IC = 5 # number of initial clusters\n",
        "# N_IC = 3 # number of initial clusters\n",
        "\n",
        "N_ICs = [10]\n",
        "\n",
        "############################ HELPER FUNCTIONS #############################################\n",
        "\n",
        "def print_evaluation(gold_labels, predicted_labels):\n",
        "\n",
        "    '''Prints accuracy, precision, recall, f1 score'''\n",
        "\n",
        "    accuracy = accuracy_score(gold_labels, predicted_labels) * 100\n",
        "    f1 = f1_score(gold_labels, predicted_labels, average = \"macro\") * 100\n",
        "    recall = recall_score(gold_labels, predicted_labels, average = \"macro\") * 100\n",
        "    precision = precision_score(gold_labels, predicted_labels, average = \"macro\") * 100\n",
        "\n",
        "\n",
        "    a = [(\"accuracy\",accuracy), (\"precision\",precision), (\"recall\", recall), (\"f1-macro\", f1)]\n",
        "    for i in range (4):\n",
        "        a[i] = (a[i][0], round(a[i][1],2))\n",
        "    print (a)\n",
        "    s = [round(accuracy, 2), round(precision, 2), round(recall, 2), round(f1, 2)]\n",
        "    return s,a\n",
        "\n",
        "def get_remaining(X_train,y_train, X_selected, y_selected):\n",
        "    X_remaining, y_remaining = [],[]\n",
        "    for i in range (len(X_train)):\n",
        "        if X_train[i] not in X_selected:\n",
        "            X_remaining.append(X_train[i])\n",
        "            y_remaining.append(y_train[i])\n",
        "    return X_remaining, y_remaining\n",
        "\n",
        "def getKey(item):\n",
        "    return item[0]\n",
        "\n",
        "def get_cluster_metric(cluster_dict, C, model):\n",
        "\n",
        "    cluster_texts = []\n",
        "    cluster_labels = []\n",
        "    try:\n",
        "        for i in range (len(cluster_dict[C])):\n",
        "            cluster_texts.append(cluster_dict[C][i][0])\n",
        "            cluster_labels.append(cluster_dict[C][i][1])\n",
        "\n",
        "        cluster_preds = predictor.predict(cluster_texts)\n",
        "        print (\"metric cluster : \", C)\n",
        "        print(Counter(cluster_labels),Counter(cluster_preds))\n",
        "        # cluster_scores = predictor.predict_proba(X_test)\n",
        "\n",
        "        s,a = print_evaluation(cluster_labels, cluster_preds)\n",
        "        metric = 100 - a[0][1]   #accuracy\n",
        "    except:\n",
        "        metric = \"NAN\"\n",
        "    # metric = 100 - a[3][1]   #f1-score\n",
        "\n",
        "    return metric\n",
        "\n",
        "def update_clusters(cluster_dict, X_selected):\n",
        "    new_clusters = {}\n",
        "    for C in cluster_dict:\n",
        "        for i in range (len(cluster_dict[C])):\n",
        "            if cluster_dict[C][i][0] in X_selected:\n",
        "                continue\n",
        "            else:\n",
        "                if C in new_clusters:\n",
        "                    new_clusters[C].append((cluster_dict[C][i][0], cluster_dict[C][i][1], cluster_dict[C][i][2]))\n",
        "                else:\n",
        "                    new_clusters[C] = [(cluster_dict[C][i][0], cluster_dict[C][i][1], cluster_dict[C][i][2])]\n",
        "    return new_clusters\n",
        "\n",
        "def pick_samples(cluster_list, n):\n",
        "    samples = random.sample(cluster_list,n)\n",
        "    addXs = []\n",
        "    addYs = []\n",
        "    for x,y,v in samples:\n",
        "        addXs.append(x)\n",
        "        addYs.append(y)\n",
        "    return (addXs, addYs)\n",
        "\n",
        "def distribute_samples(X_selected, y_selected, cluster_dict, sample_cluster, N_ROUND):\n",
        "    data_size = 0\n",
        "    for C in cluster_dict:\n",
        "        data_size += len(cluster_dict[C])\n",
        "\n",
        "    cluster_ns = {}\n",
        "    n_picked = 0\n",
        "\n",
        "    # X = N_ROUND - N_IC\n",
        "\n",
        "    for C in cluster_dict:\n",
        "        cluster_ns [C] = int(min(round(N_ROUND*(len(cluster_dict[C])*1.0/data_size)), N_ROUND - n_picked))\n",
        "        # cluster_ns [C] = cluster_ns[C] + 1\n",
        "\n",
        "        n_picked += cluster_ns[C]\n",
        "\n",
        "    print (\"Proportional Distribution:\", cluster_ns)\n",
        "    leftover = N_ROUND - n_picked\n",
        "    print (\"Proportional leftover:\", leftover)\n",
        "\n",
        "    for C in cluster_ns:\n",
        "        c_n = cluster_ns[C]\n",
        "        sample_X, sample_y = pick_samples(cluster_dict[C], c_n)\n",
        "\n",
        "        # to calculate accuracy/f1-score in each cluster\n",
        "        for i in range (len(sample_X)):\n",
        "            if C in sample_cluster:\n",
        "                sample_cluster[C].append ((sample_X[i],sample_y[i]))\n",
        "            else:\n",
        "                sample_cluster[C] = [(sample_X[i], sample_y[i])]\n",
        "\n",
        "        X_selected += sample_X\n",
        "        y_selected += sample_y\n",
        "\n",
        "    # randomly pick samples until leftover sample budget runs out\n",
        "    X_remaining, y_remaining = get_remaining(X_train, y_train, X_selected, y_selected)\n",
        "    while leftover > 0:\n",
        "        rand_ind = random.randint(0, len(X_remaining)-1)\n",
        "        if X_remaining[rand_ind] in X_selected:\n",
        "            continue\n",
        "        X_selected.append(X_remaining[rand_ind])\n",
        "        y_selected.append(y_remaining[rand_ind])\n",
        "        leftover -= 1\n",
        "\n",
        "    return X_selected, y_selected, sample_cluster\n",
        "\n",
        "def get_AL_samples(cluster, predictor, n):\n",
        "    if n == 0:\n",
        "        return [],[]\n",
        "    cluster_vecs = []\n",
        "    texts = []\n",
        "    labels = []\n",
        "    for i in range (len(cluster)):\n",
        "        texts.append(cluster[i][0])\n",
        "        labels.append(cluster[i][1])\n",
        "        cluster_vecs.append(cluster[i][2])\n",
        "\n",
        "    kmeans = KMeans(n_clusters=int(n), random_state=0).fit(cluster_vecs)\n",
        "    cluster_labels = kmeans.labels_\n",
        "\n",
        "    cluster_dict = {}\n",
        "    for i in range (len(cluster_vecs)):\n",
        "        if cluster_labels[i] in cluster_dict:\n",
        "            cluster_dict[cluster_labels[i]].append((texts[i], labels[i], cluster_vecs[i]))\n",
        "        else:\n",
        "            cluster_dict[cluster_labels[i]] = [(texts[i], labels[i], cluster_vecs[i])]\n",
        "\n",
        "    AL_sample_X = []\n",
        "    AL_sample_Y = []\n",
        "    for key in cluster_dict:\n",
        "        cluster_texts = []\n",
        "        cluster_labels = []\n",
        "        for i in range (len(cluster_dict[key])):\n",
        "            cluster_texts.append(cluster_dict[key][i][0])\n",
        "            cluster_labels.append(cluster_dict[key][i][1])\n",
        "\n",
        "        cluster_scores = predictor.predict_proba(cluster_texts)\n",
        "        min_diff = 999999\n",
        "\n",
        "        for i in range (len(cluster_dict[key])):\n",
        "            probas = cluster_scores[i]\n",
        "            sorted_probas = sorted(probas)\n",
        "            max_proba = sorted_probas[-1]\n",
        "            second_max_proba = sorted_probas[-2]\n",
        "            diff = max_proba - second_max_proba\n",
        "            if diff <= min_diff:\n",
        "                min_diff = diff\n",
        "                add_X = cluster_texts[i]\n",
        "                add_y = cluster_labels[i]\n",
        "\n",
        "        AL_sample_X.append(add_X)\n",
        "        AL_sample_Y.append(add_y)\n",
        "\n",
        "    return AL_sample_X, AL_sample_Y\n",
        "\n",
        "\n",
        "def distribute_AL_samples(X_selected, y_selected, cluster_dict, val_cluster_dict, N_ROUND, predictor):\n",
        "    # get ERROR (1 - accuracy/f1-score) for each cluster\n",
        "    cluster_metrics = {}\n",
        "    for C in cluster_dict:\n",
        "        metric = get_cluster_metric(val_cluster_dict, C, predictor)\n",
        "        cluster_metrics[C] = metric\n",
        "\n",
        "    # allocate samples proportional to the ERROR\n",
        "    metric_sum = sum(cluster_metrics.values())\n",
        "    cluster_ns = {}\n",
        "\n",
        "    n_picked = 0\n",
        "    for C in cluster_metrics:\n",
        "        if cluster_metrics[C] == 0.0:\n",
        "            cluster_ns[C] = 0\n",
        "            print (\"something went wrong with metric in cluster:\", C)\n",
        "\n",
        "            continue\n",
        "\n",
        "        cluster_ns [C] = min (int (min (round(N_ROUND* (cluster_metrics[C]/metric_sum)), N_ROUND - n_picked)), len(cluster_dict[C]))\n",
        "        n_picked += cluster_ns[C]\n",
        "\n",
        "    print (\"AL distribution:\", cluster_ns)\n",
        "    leftover = N_ROUND - n_picked\n",
        "    print (\"AL leftover:\", leftover)\n",
        "\n",
        "    for C in cluster_dict:\n",
        "        AL_sample_X, AL_sample_Y = get_AL_samples(cluster_dict[C], predictor, cluster_ns[C])\n",
        "        X_selected += AL_sample_X\n",
        "        y_selected += AL_sample_Y\n",
        "\n",
        "    X_remaining, y_remaining = get_remaining(X_train, y_train, X_selected, y_selected)\n",
        "\n",
        "    while leftover > 0:\n",
        "        rand_ind = random.randint(0, len(X_remaining)-1)\n",
        "        if X_remaining[rand_ind] in X_selected:\n",
        "            continue\n",
        "        X_selected.append(X_remaining[rand_ind])\n",
        "        y_selected.append(y_remaining[rand_ind])\n",
        "        leftover -= 1\n",
        "\n",
        "    return X_selected, y_selected, val_cluster_dict\n",
        "############################ LOAD AND PREP DATA #############################################\n",
        "# task = \"OLID\"\n",
        "for task in tasks:\n",
        "    vector_type = \"SBERT\"\n",
        "    data_directory = \"../datasets/\" + task + \"/\" + vector_type + \"-vectors/\"\n",
        "\n",
        "\n",
        "    train_file = open(data_directory + \"train.pkl\", 'rb')\n",
        "    train_data = pickle.load(train_file)\n",
        "    train_file.close()\n",
        "\n",
        "    test_file = open(data_directory + \"test.pkl\", 'rb')\n",
        "    test_data = pickle.load(test_file)\n",
        "    test_file.close()\n",
        "\n",
        "\n",
        "    dev_file = open(data_directory + \"dev.pkl\", 'rb')\n",
        "    dev_data = pickle.load(dev_file)\n",
        "    dev_file.close()\n",
        "\n",
        "    X_train, X_test, X_val, y_train, y_test, y_val = [],[],[],[],[],[]\n",
        "    X_train_vecs, X_test_vecs, X_val_vecs = [],[],[]\n",
        "    for key in train_data:\n",
        "        X_train.append(train_data[key][0])\n",
        "        y_train.append(train_data[key][1])\n",
        "        X_train_vecs.append(train_data[key][2])\n",
        "\n",
        "    for key in test_data:\n",
        "        X_test.append(test_data[key][0])\n",
        "        y_test.append(test_data[key][1])\n",
        "        X_test_vecs.append(test_data[key][2])\n",
        "\n",
        "    for key in dev_data:\n",
        "        X_val.append(dev_data[key][0])\n",
        "        y_val.append(dev_data[key][1])\n",
        "        X_val_vecs.append(dev_data[key][2])\n",
        "\n",
        "\n",
        "    for N_IC in N_ICs:\n",
        "        for N in Ns:\n",
        "            N_AL = N - N_INIT # number of samples to be distributed with active learning\n",
        "\n",
        "            RUN_SUMMARY = [[\"Adaptive-cluster\", \"Acc\", \"Precision\", \"Recall\", \"F1\"]]\n",
        "\n",
        "            for run in runs:\n",
        "                print (\"Task:\", task)\n",
        "                print (\"N:\", N)\n",
        "                print (\"K:\", N_IC)\n",
        "                print (\"----------DOING RUN:\", run, \"-----------------\")\n",
        "\n",
        "                print (\"-----RUNNING INITIAL CLUSTERING------\")\n",
        "                kmeans = KMeans(n_clusters=N_IC, random_state=0).fit(X_train_vecs)\n",
        "                labels = kmeans.labels_\n",
        "                cluster_dict = {}\n",
        "                for i in range (len(X_train_vecs)):\n",
        "                    if labels[i] in cluster_dict:\n",
        "                        cluster_dict[labels[i]].append((X_train[i], y_train[i], X_train_vecs[i]))\n",
        "                    else:\n",
        "                        cluster_dict[labels[i]] = [(X_train[i], y_train[i], X_train_vecs[i])]\n",
        "\n",
        "                print (\"CLUSTER DIST:\")\n",
        "                for C in cluster_dict:\n",
        "                    print (C, len(cluster_dict[C]))\n",
        "\n",
        "\n",
        "                val_cluster_labels = kmeans.predict(X_val_vecs)\n",
        "                val_cluster_dict = {}\n",
        "\n",
        "                for i in range (len(X_val_vecs)):\n",
        "                    if val_cluster_labels[i] in val_cluster_dict:\n",
        "                        val_cluster_dict[val_cluster_labels[i]].append((X_val[i], y_val[i], X_val_vecs[i]))\n",
        "                    else:\n",
        "                        val_cluster_dict[val_cluster_labels[i]] = [(X_val[i], y_val[i], X_val_vecs[i])]\n",
        "\n",
        "\n",
        "\n",
        "                print (\"-----INITIAL CLUSTERING DONE----\")\n",
        "\n",
        "                # pick samples according to NINIT for bootstrapping\n",
        "                cats = list(set(y_train))\n",
        "                checks = 0\n",
        "                while (True):\n",
        "                    X_selected, y_selected = [],[]\n",
        "                    sample_cluster = {}\n",
        "                    rand_inds = [i for i in range (len(X_train))]\n",
        "                    rand_inds = random.sample(rand_inds,N_INIT)\n",
        "                    X_selected = list(np.array(X_train)[rand_inds])\n",
        "                    y_selected = list(np.array(y_train)[rand_inds])\n",
        "                    flag = True\n",
        "                    for y in cats:\n",
        "                        if y not in y_selected:\n",
        "                            flag = False\n",
        "                    if flag:\n",
        "                        break\n",
        "                    checks += 1\n",
        "                print (\"rounds:\", checks)\n",
        "                # X_selected, y_selected, sample_cluster = distribute_samples(X_selected, y_selected, cluster_dict, sample_cluster, N_INIT)\n",
        "\n",
        "                ################### bootstrap classifier #########################\n",
        "                print (\"current data size:\", len(X_selected), len(y_selected))\n",
        "                cats = list(set(y_selected))\n",
        "                t = text.Transformer(MODEL_NAME, maxlen=100, class_names=cats)\n",
        "                trn = t.preprocess_train(X_selected, y_selected)\n",
        "                val = t.preprocess_test(X_val, y_val)\n",
        "\n",
        "                model = t.get_classifier()\n",
        "                learner = ktrain.get_learner(model, train_data=trn, val_data = val, batch_size=16)\n",
        "\n",
        "                learner.fit_onecycle(8e-5, 5)\n",
        "                print (\"getting bootstrapped classifier\")\n",
        "                predictor = ktrain.get_predictor(learner.model, preproc=t)\n",
        "                print (predictor.get_classes())\n",
        "                print (\"label dist after bootstrap:\", Counter(y_selected))\n",
        "                # test_preds = predictor.predict(X_test)\n",
        "                # test_scores = predictor.predict_proba(X_test)\n",
        "                # s,a = print_evaluation(y_test, test_preds)\n",
        "\n",
        "                # print (\"predicted dist of bootstrap:\", Counter(test_preds))\n",
        "                # print (\"test results of bootstrap\", a)\n",
        "                print (\"--------------------BOOTSTRAP DONE--------------------\")\n",
        "\n",
        "                ROUND = 0\n",
        "                N_REM = N_AL\n",
        "                # N_ROUND = ORIGINAL_N_ROUND/2\n",
        "                while (N_REM > 0):\n",
        "\n",
        "                    ROUND += 1\n",
        "                    print (N_REM, N_ROUND)\n",
        "\n",
        "                    print (\"AL ROUND: \", ROUND, \" (\" + run + \") (AL STEP)\")\n",
        "                    cluster_dict = update_clusters(cluster_dict, X_selected)\n",
        "                    X_selected, y_selected, _ = distribute_AL_samples(X_selected, y_selected, cluster_dict, val_cluster_dict, N_ROUND, predictor)\n",
        "                    print (\"label dist after AL step:\", Counter(y_selected))\n",
        "\n",
        "                    print (\"current data size:\", len(X_selected), len(y_selected))\n",
        "                    cats = list(set(y_selected))\n",
        "                    t = text.Transformer(MODEL_NAME, maxlen=100, class_names=cats)\n",
        "                    trn = t.preprocess_train(X_selected, y_selected)\n",
        "                    val = t.preprocess_test(X_val, y_val)\n",
        "\n",
        "                    model = t.get_classifier()\n",
        "                    learner = ktrain.get_learner(model, train_data=trn, val_data = val, batch_size=16)\n",
        "\n",
        "                    learner.fit_onecycle(8e-5, 5)\n",
        "                    print (\"updating classifier\")\n",
        "                    predictor = ktrain.get_predictor(learner.model, preproc=t)\n",
        "                    print (predictor.get_classes())\n",
        "\n",
        "                    # test_preds = predictor.predict(X_test)\n",
        "                    # test_scores = predictor.predict_proba(X_test)\n",
        "                    # s,a = print_evaluation(y_test, test_preds)\n",
        "\n",
        "                    # print (\"predicted dist after ROUND \" + str(ROUND) + \":\", Counter(test_preds))\n",
        "                    # print (\"test results after ROUND \" + str(ROUND) + \":\", a)\n",
        "                    print (\"-----------------ROUND \" + str(ROUND) + \"DONE--------------\")\n",
        "                    N_REM = N_REM - N_ROUND\n",
        "\n",
        "                test_preds = predictor.predict(X_test)\n",
        "                test_scores = predictor.predict_proba(X_test)\n",
        "                s,a = print_evaluation(y_test, test_preds)\n",
        "\n",
        "                print (\"predicted dist after ROUND \" + str(ROUND) + \":\", Counter(test_preds))\n",
        "                print (\"test results after ROUND \" + str(ROUND) + \":\", a)\n",
        "                RUN_SUMMARY.append([run] + [str(x[1]) for x in a])\n",
        "                with open (\"../MC-predictions/\" + task + \"/individual-runs/MC-Adaptive-N\" + str(N) + \"-K\" + str(N_IC) + \"-I\" + str(N_INIT) + \"-R\" + str(N_ROUND) + \"-\" + run + \".tsv\", \"w\", encoding = \"utf-8\") as f:\n",
        "                    label_dist = Counter(y_selected)\n",
        "                    f.write(\"Label Distribution:\\n\")\n",
        "                    for key in label_dist:\n",
        "                        f.write(key+\" : \"+str(label_dist[key])+\"\\n\")\n",
        "\n",
        "                    # write metrics\n",
        "                    f.write (\"results:\\n\")\n",
        "                    row = []\n",
        "                    for (m,v) in a:\n",
        "                        row.append(m + \":\" + str(v))\n",
        "                    line = \"\\t\".join(row)+\"\\n\"\n",
        "                    f.write (line)\n",
        "\n",
        "                    # write predictions\n",
        "                    f.write(\"text\\ttruth\\tpred\\tscore\\n\")\n",
        "                    for i in range (len(X_test)):\n",
        "                        f.write (X_test[i] + \"\\t\" + y_test[i] + \"\\t\" + test_preds[i] + \"\\t\" + str(test_scores[i]) + \"\\n\")\n",
        "\n",
        "\n",
        "                print (\"-------------------- DONE with \" + run + \"--------------------\")\n",
        "\n",
        "            with open (\"../MC-predictions/\" + task + \"/MC-Adaptive-N\" + str(N) + \"-K\" + str(N_IC) +  \"-I\" + str(N_INIT) + \"-R\" + str(N_ROUND) + \".tsv\", \"w\") as f:\n",
        "                for result in RUN_SUMMARY:\n",
        "                    f.write(\"\\t\".join(result)+\"\\n\")"
      ],
      "metadata": {
        "colab": {
          "base_uri": "https://localhost:8080/",
          "height": 1000
        },
        "id": "r-5LvN38RbeM",
        "outputId": "319b36dc-1770-4dcd-dc3e-bead6a3a6dee"
      },
      "execution_count": null,
      "outputs": [
        {
          "output_type": "stream",
          "name": "stdout",
          "text": [
            "Task: BTYPE\n",
            "N: 100\n",
            "K: 10\n",
            "----------DOING RUN: RUN1 -----------------\n",
            "-----RUNNING INITIAL CLUSTERING------\n",
            "CLUSTER DIST:\n",
            "0 971\n",
            "5 1178\n",
            "1 2634\n",
            "6 1091\n",
            "7 1259\n",
            "4 1636\n",
            "9 1363\n",
            "3 1529\n",
            "8 1286\n",
            "2 1053\n",
            "-----INITIAL CLUSTERING DONE----\n",
            "rounds: 0\n",
            "current data size: 50 50\n",
            "preprocessing train...\n",
            "language: en\n",
            "train sequence lengths:\n",
            "\tmean : 10\n",
            "\t95percentile : 24\n",
            "\t99percentile : 28\n"
          ]
        },
        {
          "output_type": "stream",
          "name": "stderr",
          "text": [
            "/usr/local/lib/python3.7/dist-packages/ktrain/utils.py:738: UserWarning: class_names argument was ignored, as they were extracted from string labels in dataset\n",
            "  \"class_names argument was ignored, as they were extracted from string labels in dataset\"\n"
          ]
        },
        {
          "output_type": "display_data",
          "data": {
            "text/plain": [
              "<IPython.core.display.HTML object>"
            ],
            "text/html": [
              "\n",
              "<style>\n",
              "    /* Turns off some styling */\n",
              "    progress {\n",
              "        /* gets rid of default border in Firefox and Opera. */\n",
              "        border: none;\n",
              "        /* Needs to be in here for Safari polyfill so background images work as expected. */\n",
              "        background-size: auto;\n",
              "    }\n",
              "    progress:not([value]), progress:not([value])::-webkit-progress-bar {\n",
              "        background: repeating-linear-gradient(45deg, #7e7e7e, #7e7e7e 10px, #5c5c5c 10px, #5c5c5c 20px);\n",
              "    }\n",
              "    .progress-bar-interrupted, .progress-bar-interrupted::-webkit-progress-bar {\n",
              "        background: #F44336;\n",
              "    }\n",
              "</style>\n"
            ]
          },
          "metadata": {}
        },
        {
          "output_type": "display_data",
          "data": {
            "text/plain": [
              "<IPython.core.display.HTML object>"
            ],
            "text/html": []
          },
          "metadata": {}
        },
        {
          "output_type": "stream",
          "name": "stdout",
          "text": [
            "Is Multi-Label? False\n",
            "preprocessing test...\n",
            "language: en\n",
            "test sequence lengths:\n",
            "\tmean : 9\n",
            "\t95percentile : 19\n",
            "\t99percentile : 25\n"
          ]
        },
        {
          "output_type": "display_data",
          "data": {
            "text/plain": [
              "<IPython.core.display.HTML object>"
            ],
            "text/html": [
              "\n",
              "<style>\n",
              "    /* Turns off some styling */\n",
              "    progress {\n",
              "        /* gets rid of default border in Firefox and Opera. */\n",
              "        border: none;\n",
              "        /* Needs to be in here for Safari polyfill so background images work as expected. */\n",
              "        background-size: auto;\n",
              "    }\n",
              "    progress:not([value]), progress:not([value])::-webkit-progress-bar {\n",
              "        background: repeating-linear-gradient(45deg, #7e7e7e, #7e7e7e 10px, #5c5c5c 10px, #5c5c5c 20px);\n",
              "    }\n",
              "    .progress-bar-interrupted, .progress-bar-interrupted::-webkit-progress-bar {\n",
              "        background: #F44336;\n",
              "    }\n",
              "</style>\n"
            ]
          },
          "metadata": {}
        },
        {
          "output_type": "display_data",
          "data": {
            "text/plain": [
              "<IPython.core.display.HTML object>"
            ],
            "text/html": []
          },
          "metadata": {}
        },
        {
          "output_type": "stream",
          "name": "stdout",
          "text": [
            "\n",
            "\n",
            "begin training using onecycle policy with max lr of 8e-05...\n",
            "Epoch 1/5\n",
            "4/4 [==============================] - 29s 5s/step - loss: 2.3574 - accuracy: 0.1000 - val_loss: 2.3968 - val_accuracy: 0.1065\n",
            "Epoch 2/5\n",
            "4/4 [==============================] - 11s 4s/step - loss: 2.2776 - accuracy: 0.1200 - val_loss: 2.3267 - val_accuracy: 0.1390\n",
            "Epoch 3/5\n",
            "4/4 [==============================] - 11s 4s/step - loss: 2.2048 - accuracy: 0.2000 - val_loss: 2.2733 - val_accuracy: 0.1540\n",
            "Epoch 4/5\n",
            "4/4 [==============================] - 11s 4s/step - loss: 2.0080 - accuracy: 0.3400 - val_loss: 2.2911 - val_accuracy: 0.0975\n",
            "Epoch 5/5\n",
            "4/4 [==============================] - 11s 4s/step - loss: 1.9495 - accuracy: 0.4200 - val_loss: 2.2660 - val_accuracy: 0.1320\n",
            "getting bootstrapped classifier\n",
            "['Business & Money', \"Children's Books\", 'Christian Books & Bibles', 'Cookbooks, Food & Wine', 'Crafts, Hobbies & Home', 'Health, Fitness & Dieting', 'Medical Books', 'Science & Math', 'Teen & Young Adult', 'Travel']\n",
            "label dist after bootstrap: Counter({'Business & Money': 9, 'Travel': 7, 'Science & Math': 6, 'Health, Fitness & Dieting': 5, \"Children's Books\": 5, 'Christian Books & Bibles': 5, 'Medical Books': 5, 'Crafts, Hobbies & Home': 4, 'Teen & Young Adult': 3, 'Cookbooks, Food & Wine': 1})\n",
            "--------------------BOOTSTRAP DONE--------------------\n",
            "50 50\n",
            "AL ROUND:  1  (RUN1) (AL STEP)\n",
            "metric cluster :  0\n",
            "Counter({'Travel': 77, 'Crafts, Hobbies & Home': 18, 'Science & Math': 17, \"Children's Books\": 13, 'Health, Fitness & Dieting': 4, 'Business & Money': 4, 'Teen & Young Adult': 3, 'Cookbooks, Food & Wine': 3, 'Christian Books & Bibles': 3, 'Medical Books': 2}) Counter({'Business & Money': 84, 'Crafts, Hobbies & Home': 29, 'Science & Math': 25, 'Travel': 3, \"Children's Books\": 2, 'Medical Books': 1})\n",
            "[('accuracy', 9.03), ('precision', 14.6), ('recall', 12.52), ('f1-macro', 5.65)]\n"
          ]
        },
        {
          "output_type": "stream",
          "name": "stderr",
          "text": [
            "/usr/local/lib/python3.7/dist-packages/sklearn/metrics/_classification.py:1318: UndefinedMetricWarning: Precision is ill-defined and being set to 0.0 in labels with no predicted samples. Use `zero_division` parameter to control this behavior.\n",
            "  _warn_prf(average, modifier, msg_start, len(result))\n"
          ]
        },
        {
          "output_type": "stream",
          "name": "stdout",
          "text": [
            "metric cluster :  5\n",
            "Counter({'Business & Money': 143, 'Medical Books': 9, 'Christian Books & Bibles': 6, 'Science & Math': 5, 'Teen & Young Adult': 4, \"Children's Books\": 4, 'Travel': 3, 'Crafts, Hobbies & Home': 2, 'Health, Fitness & Dieting': 1, 'Cookbooks, Food & Wine': 1}) Counter({'Business & Money': 115, 'Crafts, Hobbies & Home': 58, 'Science & Math': 2, \"Children's Books\": 2, 'Travel': 1})\n",
            "[('accuracy', 51.12), ('precision', 7.91), ('recall', 6.36), ('f1-macro', 7.05)]\n"
          ]
        },
        {
          "output_type": "stream",
          "name": "stderr",
          "text": [
            "/usr/local/lib/python3.7/dist-packages/sklearn/metrics/_classification.py:1318: UndefinedMetricWarning: Precision is ill-defined and being set to 0.0 in labels with no predicted samples. Use `zero_division` parameter to control this behavior.\n",
            "  _warn_prf(average, modifier, msg_start, len(result))\n"
          ]
        },
        {
          "output_type": "stream",
          "name": "stdout",
          "text": [
            "metric cluster :  1\n",
            "Counter({\"Children's Books\": 158, 'Teen & Young Adult': 65, 'Travel': 42, 'Christian Books & Bibles': 34, 'Crafts, Hobbies & Home': 24, 'Health, Fitness & Dieting': 23, 'Science & Math': 22, 'Medical Books': 10, 'Business & Money': 6, 'Cookbooks, Food & Wine': 5}) Counter({'Business & Money': 205, \"Children's Books\": 84, 'Crafts, Hobbies & Home': 48, 'Science & Math': 41, 'Travel': 8, 'Medical Books': 3})\n",
            "[('accuracy', 16.2), ('precision', 9.07), ('recall', 16.76), ('f1-macro', 7.32)]\n"
          ]
        },
        {
          "output_type": "stream",
          "name": "stderr",
          "text": [
            "/usr/local/lib/python3.7/dist-packages/sklearn/metrics/_classification.py:1318: UndefinedMetricWarning: Precision is ill-defined and being set to 0.0 in labels with no predicted samples. Use `zero_division` parameter to control this behavior.\n",
            "  _warn_prf(average, modifier, msg_start, len(result))\n"
          ]
        },
        {
          "output_type": "stream",
          "name": "stdout",
          "text": [
            "metric cluster :  6\n",
            "Counter({'Crafts, Hobbies & Home': 88, \"Children's Books\": 19, 'Travel': 9, 'Health, Fitness & Dieting': 8, 'Cookbooks, Food & Wine': 6, 'Business & Money': 4, 'Science & Math': 4, 'Teen & Young Adult': 4, 'Christian Books & Bibles': 4}) Counter({'Business & Money': 89, 'Crafts, Hobbies & Home': 40, 'Science & Math': 7, 'Medical Books': 5, 'Travel': 3, \"Children's Books\": 2})\n",
            "[('accuracy', 21.23), ('precision', 15.03), ('recall', 14.48), ('f1-macro', 7.39)]\n"
          ]
        },
        {
          "output_type": "stream",
          "name": "stderr",
          "text": [
            "/usr/local/lib/python3.7/dist-packages/sklearn/metrics/_classification.py:1318: UndefinedMetricWarning: Recall is ill-defined and being set to 0.0 in labels with no true samples. Use `zero_division` parameter to control this behavior.\n",
            "  _warn_prf(average, modifier, msg_start, len(result))\n",
            "/usr/local/lib/python3.7/dist-packages/sklearn/metrics/_classification.py:1318: UndefinedMetricWarning: Precision is ill-defined and being set to 0.0 in labels with no predicted samples. Use `zero_division` parameter to control this behavior.\n",
            "  _warn_prf(average, modifier, msg_start, len(result))\n"
          ]
        },
        {
          "output_type": "stream",
          "name": "stdout",
          "text": [
            "metric cluster :  7\n",
            "Counter({'Health, Fitness & Dieting': 78, 'Medical Books': 49, 'Teen & Young Adult': 20, 'Christian Books & Bibles': 13, 'Science & Math': 13, 'Business & Money': 10, \"Children's Books\": 7, 'Crafts, Hobbies & Home': 3, 'Cookbooks, Food & Wine': 1}) Counter({'Business & Money': 104, 'Crafts, Hobbies & Home': 84, 'Science & Math': 3, 'Medical Books': 1, 'Travel': 1, \"Children's Books\": 1})\n",
            "[('accuracy', 4.64), ('precision', 0.93), ('recall', 16.0), ('f1-macro', 1.74)]\n"
          ]
        },
        {
          "output_type": "stream",
          "name": "stderr",
          "text": [
            "/usr/local/lib/python3.7/dist-packages/sklearn/metrics/_classification.py:1318: UndefinedMetricWarning: Recall is ill-defined and being set to 0.0 in labels with no true samples. Use `zero_division` parameter to control this behavior.\n",
            "  _warn_prf(average, modifier, msg_start, len(result))\n",
            "/usr/local/lib/python3.7/dist-packages/sklearn/metrics/_classification.py:1318: UndefinedMetricWarning: Precision is ill-defined and being set to 0.0 in labels with no predicted samples. Use `zero_division` parameter to control this behavior.\n",
            "  _warn_prf(average, modifier, msg_start, len(result))\n"
          ]
        },
        {
          "output_type": "stream",
          "name": "stdout",
          "text": [
            "metric cluster :  4\n",
            "Counter({'Medical Books': 149, 'Health, Fitness & Dieting': 58, 'Crafts, Hobbies & Home': 4, 'Cookbooks, Food & Wine': 2, 'Teen & Young Adult': 2, 'Christian Books & Bibles': 2, 'Science & Math': 2, 'Business & Money': 2, 'Travel': 1}) Counter({'Crafts, Hobbies & Home': 120, 'Business & Money': 92, 'Medical Books': 7, 'Science & Math': 3})\n",
            "[('accuracy', 1.35), ('precision', 3.3), ('recall', 5.7), ('f1-macro', 0.52)]\n"
          ]
        },
        {
          "output_type": "stream",
          "name": "stderr",
          "text": [
            "/usr/local/lib/python3.7/dist-packages/sklearn/metrics/_classification.py:1318: UndefinedMetricWarning: Precision is ill-defined and being set to 0.0 in labels with no predicted samples. Use `zero_division` parameter to control this behavior.\n",
            "  _warn_prf(average, modifier, msg_start, len(result))\n"
          ]
        },
        {
          "output_type": "stream",
          "name": "stdout",
          "text": [
            "metric cluster :  9\n",
            "Counter({'Cookbooks, Food & Wine': 113, 'Health, Fitness & Dieting': 30, 'Crafts, Hobbies & Home': 7, \"Children's Books\": 4, 'Medical Books': 3, 'Science & Math': 2, 'Teen & Young Adult': 2, 'Travel': 2}) Counter({'Business & Money': 114, 'Crafts, Hobbies & Home': 40, 'Science & Math': 3, 'Travel': 3, \"Children's Books\": 2, 'Medical Books': 1})\n",
            "[('accuracy', 1.23), ('precision', 0.56), ('recall', 3.17), ('f1-macro', 0.95)]\n"
          ]
        },
        {
          "output_type": "stream",
          "name": "stderr",
          "text": [
            "/usr/local/lib/python3.7/dist-packages/sklearn/metrics/_classification.py:1318: UndefinedMetricWarning: Recall is ill-defined and being set to 0.0 in labels with no true samples. Use `zero_division` parameter to control this behavior.\n",
            "  _warn_prf(average, modifier, msg_start, len(result))\n",
            "/usr/local/lib/python3.7/dist-packages/sklearn/metrics/_classification.py:1318: UndefinedMetricWarning: Precision is ill-defined and being set to 0.0 in labels with no predicted samples. Use `zero_division` parameter to control this behavior.\n",
            "  _warn_prf(average, modifier, msg_start, len(result))\n"
          ]
        },
        {
          "output_type": "stream",
          "name": "stdout",
          "text": [
            "metric cluster :  3\n",
            "Counter({'Travel': 175, \"Children's Books\": 12, 'Crafts, Hobbies & Home': 11, 'Teen & Young Adult': 8, 'Science & Math': 5, 'Christian Books & Bibles': 2, 'Business & Money': 2, 'Cookbooks, Food & Wine': 2, 'Health, Fitness & Dieting': 1}) Counter({'Business & Money': 115, 'Science & Math': 51, 'Crafts, Hobbies & Home': 28, 'Medical Books': 11, 'Travel': 10, \"Children's Books\": 2, 'Christian Books & Bibles': 1})\n",
            "[('accuracy', 7.8), ('precision', 16.6), ('recall', 15.04), ('f1-macro', 4.9)]\n"
          ]
        },
        {
          "output_type": "stream",
          "name": "stderr",
          "text": [
            "/usr/local/lib/python3.7/dist-packages/sklearn/metrics/_classification.py:1318: UndefinedMetricWarning: Recall is ill-defined and being set to 0.0 in labels with no true samples. Use `zero_division` parameter to control this behavior.\n",
            "  _warn_prf(average, modifier, msg_start, len(result))\n",
            "/usr/local/lib/python3.7/dist-packages/sklearn/metrics/_classification.py:1318: UndefinedMetricWarning: Precision is ill-defined and being set to 0.0 in labels with no predicted samples. Use `zero_division` parameter to control this behavior.\n",
            "  _warn_prf(average, modifier, msg_start, len(result))\n"
          ]
        },
        {
          "output_type": "stream",
          "name": "stdout",
          "text": [
            "metric cluster :  8\n",
            "Counter({'Science & Math': 100, 'Crafts, Hobbies & Home': 28, \"Children's Books\": 24, 'Teen & Young Adult': 12, 'Business & Money': 12, 'Medical Books': 8, 'Health, Fitness & Dieting': 6, 'Travel': 4, 'Christian Books & Bibles': 1}) Counter({'Business & Money': 95, 'Crafts, Hobbies & Home': 78, 'Medical Books': 8, 'Science & Math': 8, \"Children's Books\": 4, 'Travel': 2})\n",
            "[('accuracy', 12.82), ('precision', 19.05), ('recall', 16.27), ('f1-macro', 11.06)]\n"
          ]
        },
        {
          "output_type": "stream",
          "name": "stderr",
          "text": [
            "/usr/local/lib/python3.7/dist-packages/sklearn/metrics/_classification.py:1318: UndefinedMetricWarning: Precision is ill-defined and being set to 0.0 in labels with no predicted samples. Use `zero_division` parameter to control this behavior.\n",
            "  _warn_prf(average, modifier, msg_start, len(result))\n"
          ]
        },
        {
          "output_type": "stream",
          "name": "stdout",
          "text": [
            "metric cluster :  2\n",
            "Counter({'Christian Books & Bibles': 111, 'Teen & Young Adult': 8, \"Children's Books\": 6, 'Travel': 6, 'Health, Fitness & Dieting': 6, 'Science & Math': 5, 'Crafts, Hobbies & Home': 4, 'Business & Money': 2, 'Medical Books': 2, 'Cookbooks, Food & Wine': 1}) Counter({'Business & Money': 93, 'Crafts, Hobbies & Home': 34, 'Christian Books & Bibles': 9, 'Science & Math': 9, 'Medical Books': 3, \"Children's Books\": 3})\n",
            "[('accuracy', 6.62), ('precision', 11.51), ('recall', 9.8), ('f1-macro', 4.13)]\n",
            "AL distribution: {0: 5, 5: 3, 1: 5, 6: 5, 7: 5, 4: 6, 9: 6, 3: 5, 8: 5, 2: 5}\n",
            "AL leftover: 0\n"
          ]
        },
        {
          "output_type": "stream",
          "name": "stderr",
          "text": [
            "/usr/local/lib/python3.7/dist-packages/sklearn/metrics/_classification.py:1318: UndefinedMetricWarning: Precision is ill-defined and being set to 0.0 in labels with no predicted samples. Use `zero_division` parameter to control this behavior.\n",
            "  _warn_prf(average, modifier, msg_start, len(result))\n"
          ]
        },
        {
          "output_type": "stream",
          "name": "stdout",
          "text": [
            "label dist after AL step: Counter({'Travel': 16, 'Business & Money': 12, 'Medical Books': 12, 'Science & Math': 11, 'Health, Fitness & Dieting': 11, 'Christian Books & Bibles': 10, 'Crafts, Hobbies & Home': 8, \"Children's Books\": 8, 'Teen & Young Adult': 6, 'Cookbooks, Food & Wine': 6})\n",
            "current data size: 100 100\n",
            "preprocessing train...\n",
            "language: en\n",
            "train sequence lengths:\n",
            "\tmean : 10\n",
            "\t95percentile : 23\n",
            "\t99percentile : 25\n"
          ]
        },
        {
          "output_type": "stream",
          "name": "stderr",
          "text": [
            "/usr/local/lib/python3.7/dist-packages/ktrain/utils.py:738: UserWarning: class_names argument was ignored, as they were extracted from string labels in dataset\n",
            "  \"class_names argument was ignored, as they were extracted from string labels in dataset\"\n"
          ]
        },
        {
          "output_type": "display_data",
          "data": {
            "text/plain": [
              "<IPython.core.display.HTML object>"
            ],
            "text/html": [
              "\n",
              "<style>\n",
              "    /* Turns off some styling */\n",
              "    progress {\n",
              "        /* gets rid of default border in Firefox and Opera. */\n",
              "        border: none;\n",
              "        /* Needs to be in here for Safari polyfill so background images work as expected. */\n",
              "        background-size: auto;\n",
              "    }\n",
              "    progress:not([value]), progress:not([value])::-webkit-progress-bar {\n",
              "        background: repeating-linear-gradient(45deg, #7e7e7e, #7e7e7e 10px, #5c5c5c 10px, #5c5c5c 20px);\n",
              "    }\n",
              "    .progress-bar-interrupted, .progress-bar-interrupted::-webkit-progress-bar {\n",
              "        background: #F44336;\n",
              "    }\n",
              "</style>\n"
            ]
          },
          "metadata": {}
        },
        {
          "output_type": "display_data",
          "data": {
            "text/plain": [
              "<IPython.core.display.HTML object>"
            ],
            "text/html": []
          },
          "metadata": {}
        },
        {
          "output_type": "stream",
          "name": "stdout",
          "text": [
            "Is Multi-Label? False\n",
            "preprocessing test...\n",
            "language: en\n",
            "test sequence lengths:\n",
            "\tmean : 9\n",
            "\t95percentile : 19\n",
            "\t99percentile : 25\n"
          ]
        },
        {
          "output_type": "display_data",
          "data": {
            "text/plain": [
              "<IPython.core.display.HTML object>"
            ],
            "text/html": [
              "\n",
              "<style>\n",
              "    /* Turns off some styling */\n",
              "    progress {\n",
              "        /* gets rid of default border in Firefox and Opera. */\n",
              "        border: none;\n",
              "        /* Needs to be in here for Safari polyfill so background images work as expected. */\n",
              "        background-size: auto;\n",
              "    }\n",
              "    progress:not([value]), progress:not([value])::-webkit-progress-bar {\n",
              "        background: repeating-linear-gradient(45deg, #7e7e7e, #7e7e7e 10px, #5c5c5c 10px, #5c5c5c 20px);\n",
              "    }\n",
              "    .progress-bar-interrupted, .progress-bar-interrupted::-webkit-progress-bar {\n",
              "        background: #F44336;\n",
              "    }\n",
              "</style>\n"
            ]
          },
          "metadata": {}
        },
        {
          "output_type": "display_data",
          "data": {
            "text/plain": [
              "<IPython.core.display.HTML object>"
            ],
            "text/html": []
          },
          "metadata": {}
        },
        {
          "output_type": "stream",
          "name": "stdout",
          "text": [
            "\n",
            "\n",
            "begin training using onecycle policy with max lr of 8e-05...\n",
            "Epoch 1/5\n",
            "7/7 [==============================] - 29s 2s/step - loss: 2.3435 - accuracy: 0.0500 - val_loss: 2.3129 - val_accuracy: 0.0945\n",
            "Epoch 2/5\n",
            "7/7 [==============================] - 12s 2s/step - loss: 2.2988 - accuracy: 0.1400 - val_loss: 2.2753 - val_accuracy: 0.1730\n",
            "Epoch 3/5\n",
            "7/7 [==============================] - 12s 2s/step - loss: 2.1546 - accuracy: 0.2500 - val_loss: 2.1666 - val_accuracy: 0.2455\n",
            "Epoch 4/5\n",
            "7/7 [==============================] - 12s 2s/step - loss: 1.9289 - accuracy: 0.4000 - val_loss: 2.0925 - val_accuracy: 0.3035\n",
            "Epoch 5/5\n",
            "7/7 [==============================] - 12s 2s/step - loss: 1.7030 - accuracy: 0.5800 - val_loss: 2.0385 - val_accuracy: 0.3290\n",
            "updating classifier\n",
            "['Business & Money', \"Children's Books\", 'Christian Books & Bibles', 'Cookbooks, Food & Wine', 'Crafts, Hobbies & Home', 'Health, Fitness & Dieting', 'Medical Books', 'Science & Math', 'Teen & Young Adult', 'Travel']\n",
            "-----------------ROUND 1DONE--------------\n"
          ]
        },
        {
          "output_type": "stream",
          "name": "stderr",
          "text": [
            "/usr/local/lib/python3.7/dist-packages/sklearn/metrics/_classification.py:1318: UndefinedMetricWarning: Precision is ill-defined and being set to 0.0 in labels with no predicted samples. Use `zero_division` parameter to control this behavior.\n",
            "  _warn_prf(average, modifier, msg_start, len(result))\n"
          ]
        },
        {
          "output_type": "stream",
          "name": "stdout",
          "text": [
            "[('accuracy', 33.78), ('precision', 23.51), ('recall', 28.88), ('f1-macro', 21.68)]\n",
            "predicted dist after ROUND 1: Counter({'Travel': 1775, 'Medical Books': 891, 'Business & Money': 557, 'Christian Books & Bibles': 524, 'Science & Math': 110, 'Teen & Young Adult': 72, 'Crafts, Hobbies & Home': 71})\n",
            "test results after ROUND 1: [('accuracy', 33.78), ('precision', 23.51), ('recall', 28.88), ('f1-macro', 21.68)]\n",
            "-------------------- DONE with RUN1--------------------\n",
            "Task: BTYPE\n",
            "N: 100\n",
            "K: 10\n",
            "----------DOING RUN: RUN2 -----------------\n",
            "-----RUNNING INITIAL CLUSTERING------\n",
            "CLUSTER DIST:\n",
            "0 971\n",
            "5 1178\n",
            "1 2634\n",
            "6 1091\n",
            "7 1259\n",
            "4 1636\n",
            "9 1363\n",
            "3 1529\n",
            "8 1286\n",
            "2 1053\n",
            "-----INITIAL CLUSTERING DONE----\n",
            "rounds: 0\n",
            "current data size: 50 50\n",
            "preprocessing train...\n",
            "language: en\n",
            "train sequence lengths:\n",
            "\tmean : 9\n",
            "\t95percentile : 16\n",
            "\t99percentile : 21\n"
          ]
        },
        {
          "output_type": "stream",
          "name": "stderr",
          "text": [
            "/usr/local/lib/python3.7/dist-packages/ktrain/utils.py:738: UserWarning: class_names argument was ignored, as they were extracted from string labels in dataset\n",
            "  \"class_names argument was ignored, as they were extracted from string labels in dataset\"\n"
          ]
        },
        {
          "output_type": "display_data",
          "data": {
            "text/plain": [
              "<IPython.core.display.HTML object>"
            ],
            "text/html": [
              "\n",
              "<style>\n",
              "    /* Turns off some styling */\n",
              "    progress {\n",
              "        /* gets rid of default border in Firefox and Opera. */\n",
              "        border: none;\n",
              "        /* Needs to be in here for Safari polyfill so background images work as expected. */\n",
              "        background-size: auto;\n",
              "    }\n",
              "    progress:not([value]), progress:not([value])::-webkit-progress-bar {\n",
              "        background: repeating-linear-gradient(45deg, #7e7e7e, #7e7e7e 10px, #5c5c5c 10px, #5c5c5c 20px);\n",
              "    }\n",
              "    .progress-bar-interrupted, .progress-bar-interrupted::-webkit-progress-bar {\n",
              "        background: #F44336;\n",
              "    }\n",
              "</style>\n"
            ]
          },
          "metadata": {}
        },
        {
          "output_type": "display_data",
          "data": {
            "text/plain": [
              "<IPython.core.display.HTML object>"
            ],
            "text/html": []
          },
          "metadata": {}
        },
        {
          "output_type": "stream",
          "name": "stdout",
          "text": [
            "Is Multi-Label? False\n",
            "preprocessing test...\n",
            "language: en\n",
            "test sequence lengths:\n",
            "\tmean : 9\n",
            "\t95percentile : 19\n",
            "\t99percentile : 25\n"
          ]
        },
        {
          "output_type": "display_data",
          "data": {
            "text/plain": [
              "<IPython.core.display.HTML object>"
            ],
            "text/html": [
              "\n",
              "<style>\n",
              "    /* Turns off some styling */\n",
              "    progress {\n",
              "        /* gets rid of default border in Firefox and Opera. */\n",
              "        border: none;\n",
              "        /* Needs to be in here for Safari polyfill so background images work as expected. */\n",
              "        background-size: auto;\n",
              "    }\n",
              "    progress:not([value]), progress:not([value])::-webkit-progress-bar {\n",
              "        background: repeating-linear-gradient(45deg, #7e7e7e, #7e7e7e 10px, #5c5c5c 10px, #5c5c5c 20px);\n",
              "    }\n",
              "    .progress-bar-interrupted, .progress-bar-interrupted::-webkit-progress-bar {\n",
              "        background: #F44336;\n",
              "    }\n",
              "</style>\n"
            ]
          },
          "metadata": {}
        },
        {
          "output_type": "display_data",
          "data": {
            "text/plain": [
              "<IPython.core.display.HTML object>"
            ],
            "text/html": []
          },
          "metadata": {}
        },
        {
          "output_type": "stream",
          "name": "stdout",
          "text": [
            "\n",
            "\n",
            "begin training using onecycle policy with max lr of 8e-05...\n",
            "Epoch 1/5\n",
            "4/4 [==============================] - 29s 5s/step - loss: 2.2849 - accuracy: 0.1800 - val_loss: 2.3346 - val_accuracy: 0.0875\n",
            "Epoch 2/5\n",
            "4/4 [==============================] - 11s 4s/step - loss: 2.1804 - accuracy: 0.2200 - val_loss: 2.2823 - val_accuracy: 0.1910\n",
            "Epoch 3/5\n",
            "4/4 [==============================] - 11s 4s/step - loss: 2.0490 - accuracy: 0.3800 - val_loss: 2.2966 - val_accuracy: 0.1630\n",
            "Epoch 4/5\n",
            "4/4 [==============================] - 11s 4s/step - loss: 1.9296 - accuracy: 0.3400 - val_loss: 2.2653 - val_accuracy: 0.1820\n",
            "Epoch 5/5\n",
            "4/4 [==============================] - 11s 4s/step - loss: 1.7324 - accuracy: 0.4000 - val_loss: 2.2324 - val_accuracy: 0.2035\n",
            "getting bootstrapped classifier\n",
            "['Business & Money', \"Children's Books\", 'Christian Books & Bibles', 'Cookbooks, Food & Wine', 'Crafts, Hobbies & Home', 'Health, Fitness & Dieting', 'Medical Books', 'Science & Math', 'Teen & Young Adult', 'Travel']\n",
            "label dist after bootstrap: Counter({'Travel': 14, 'Medical Books': 7, 'Teen & Young Adult': 6, 'Christian Books & Bibles': 6, 'Health, Fitness & Dieting': 6, 'Cookbooks, Food & Wine': 4, \"Children's Books\": 3, 'Business & Money': 2, 'Science & Math': 1, 'Crafts, Hobbies & Home': 1})\n",
            "--------------------BOOTSTRAP DONE--------------------\n",
            "50 50\n",
            "AL ROUND:  1  (RUN2) (AL STEP)\n",
            "metric cluster :  0\n",
            "Counter({'Travel': 77, 'Crafts, Hobbies & Home': 18, 'Science & Math': 17, \"Children's Books\": 13, 'Health, Fitness & Dieting': 4, 'Business & Money': 4, 'Teen & Young Adult': 3, 'Cookbooks, Food & Wine': 3, 'Christian Books & Bibles': 3, 'Medical Books': 2}) Counter({'Travel': 138, 'Health, Fitness & Dieting': 5, 'Business & Money': 1})\n",
            "[('accuracy', 54.17), ('precision', 15.58), ('recall', 12.5), ('f1-macro', 11.16)]\n"
          ]
        },
        {
          "output_type": "stream",
          "name": "stderr",
          "text": [
            "/usr/local/lib/python3.7/dist-packages/sklearn/metrics/_classification.py:1318: UndefinedMetricWarning: Precision is ill-defined and being set to 0.0 in labels with no predicted samples. Use `zero_division` parameter to control this behavior.\n",
            "  _warn_prf(average, modifier, msg_start, len(result))\n"
          ]
        },
        {
          "output_type": "stream",
          "name": "stdout",
          "text": [
            "metric cluster :  5\n",
            "Counter({'Business & Money': 143, 'Medical Books': 9, 'Christian Books & Bibles': 6, 'Science & Math': 5, 'Teen & Young Adult': 4, \"Children's Books\": 4, 'Travel': 3, 'Crafts, Hobbies & Home': 2, 'Health, Fitness & Dieting': 1, 'Cookbooks, Food & Wine': 1}) Counter({'Travel': 92, 'Health, Fitness & Dieting': 50, 'Business & Money': 33, 'Medical Books': 2, 'Christian Books & Bibles': 1})\n",
            "[('accuracy', 17.98), ('precision', 9.11), ('recall', 12.03), ('f1-macro', 3.93)]\n"
          ]
        },
        {
          "output_type": "stream",
          "name": "stderr",
          "text": [
            "/usr/local/lib/python3.7/dist-packages/sklearn/metrics/_classification.py:1318: UndefinedMetricWarning: Precision is ill-defined and being set to 0.0 in labels with no predicted samples. Use `zero_division` parameter to control this behavior.\n",
            "  _warn_prf(average, modifier, msg_start, len(result))\n"
          ]
        },
        {
          "output_type": "stream",
          "name": "stdout",
          "text": [
            "metric cluster :  1\n",
            "Counter({\"Children's Books\": 158, 'Teen & Young Adult': 65, 'Travel': 42, 'Christian Books & Bibles': 34, 'Crafts, Hobbies & Home': 24, 'Health, Fitness & Dieting': 23, 'Science & Math': 22, 'Medical Books': 10, 'Business & Money': 6, 'Cookbooks, Food & Wine': 5}) Counter({'Travel': 377, 'Health, Fitness & Dieting': 8, 'Medical Books': 2, 'Business & Money': 1, 'Christian Books & Bibles': 1})\n",
            "[('accuracy', 10.8), ('precision', 2.34), ('recall', 10.2), ('f1-macro', 2.6)]\n"
          ]
        },
        {
          "output_type": "stream",
          "name": "stderr",
          "text": [
            "/usr/local/lib/python3.7/dist-packages/sklearn/metrics/_classification.py:1318: UndefinedMetricWarning: Precision is ill-defined and being set to 0.0 in labels with no predicted samples. Use `zero_division` parameter to control this behavior.\n",
            "  _warn_prf(average, modifier, msg_start, len(result))\n"
          ]
        },
        {
          "output_type": "stream",
          "name": "stdout",
          "text": [
            "metric cluster :  6\n",
            "Counter({'Crafts, Hobbies & Home': 88, \"Children's Books\": 19, 'Travel': 9, 'Health, Fitness & Dieting': 8, 'Cookbooks, Food & Wine': 6, 'Business & Money': 4, 'Science & Math': 4, 'Teen & Young Adult': 4, 'Christian Books & Bibles': 4}) Counter({'Travel': 133, 'Health, Fitness & Dieting': 12, 'Medical Books': 1})\n",
            "[('accuracy', 6.85), ('precision', 2.27), ('recall', 11.39), ('f1-macro', 3.13)]\n"
          ]
        },
        {
          "output_type": "stream",
          "name": "stderr",
          "text": [
            "/usr/local/lib/python3.7/dist-packages/sklearn/metrics/_classification.py:1318: UndefinedMetricWarning: Recall is ill-defined and being set to 0.0 in labels with no true samples. Use `zero_division` parameter to control this behavior.\n",
            "  _warn_prf(average, modifier, msg_start, len(result))\n",
            "/usr/local/lib/python3.7/dist-packages/sklearn/metrics/_classification.py:1318: UndefinedMetricWarning: Precision is ill-defined and being set to 0.0 in labels with no predicted samples. Use `zero_division` parameter to control this behavior.\n",
            "  _warn_prf(average, modifier, msg_start, len(result))\n"
          ]
        },
        {
          "output_type": "stream",
          "name": "stdout",
          "text": [
            "metric cluster :  7\n",
            "Counter({'Health, Fitness & Dieting': 78, 'Medical Books': 49, 'Teen & Young Adult': 20, 'Christian Books & Bibles': 13, 'Science & Math': 13, 'Business & Money': 10, \"Children's Books\": 7, 'Crafts, Hobbies & Home': 3, 'Cookbooks, Food & Wine': 1}) Counter({'Travel': 120, 'Health, Fitness & Dieting': 46, 'Business & Money': 23, 'Medical Books': 3, 'Christian Books & Bibles': 2})\n",
            "[('accuracy', 11.86), ('precision', 8.12), ('recall', 3.02), ('f1-macro', 3.93)]\n"
          ]
        },
        {
          "output_type": "stream",
          "name": "stderr",
          "text": [
            "/usr/local/lib/python3.7/dist-packages/sklearn/metrics/_classification.py:1318: UndefinedMetricWarning: Recall is ill-defined and being set to 0.0 in labels with no true samples. Use `zero_division` parameter to control this behavior.\n",
            "  _warn_prf(average, modifier, msg_start, len(result))\n",
            "/usr/local/lib/python3.7/dist-packages/sklearn/metrics/_classification.py:1318: UndefinedMetricWarning: Precision is ill-defined and being set to 0.0 in labels with no predicted samples. Use `zero_division` parameter to control this behavior.\n",
            "  _warn_prf(average, modifier, msg_start, len(result))\n"
          ]
        },
        {
          "output_type": "stream",
          "name": "stdout",
          "text": [
            "metric cluster :  4\n",
            "Counter({'Medical Books': 149, 'Health, Fitness & Dieting': 58, 'Crafts, Hobbies & Home': 4, 'Cookbooks, Food & Wine': 2, 'Teen & Young Adult': 2, 'Christian Books & Bibles': 2, 'Science & Math': 2, 'Business & Money': 2, 'Travel': 1}) Counter({'Travel': 96, 'Health, Fitness & Dieting': 71, 'Business & Money': 47, 'Medical Books': 7, 'Christian Books & Bibles': 1})\n",
            "[('accuracy', 13.51), ('precision', 13.32), ('recall', 21.33), ('f1-macro', 5.33)]\n"
          ]
        },
        {
          "output_type": "stream",
          "name": "stderr",
          "text": [
            "/usr/local/lib/python3.7/dist-packages/sklearn/metrics/_classification.py:1318: UndefinedMetricWarning: Precision is ill-defined and being set to 0.0 in labels with no predicted samples. Use `zero_division` parameter to control this behavior.\n",
            "  _warn_prf(average, modifier, msg_start, len(result))\n"
          ]
        },
        {
          "output_type": "stream",
          "name": "stdout",
          "text": [
            "metric cluster :  9\n",
            "Counter({'Cookbooks, Food & Wine': 113, 'Health, Fitness & Dieting': 30, 'Crafts, Hobbies & Home': 7, \"Children's Books\": 4, 'Medical Books': 3, 'Science & Math': 2, 'Teen & Young Adult': 2, 'Travel': 2}) Counter({'Travel': 152, 'Health, Fitness & Dieting': 7, 'Medical Books': 2, 'Business & Money': 2})\n",
            "[('accuracy', 4.29), ('precision', 8.08), ('recall', 12.96), ('f1-macro', 3.29)]\n"
          ]
        },
        {
          "output_type": "stream",
          "name": "stderr",
          "text": [
            "/usr/local/lib/python3.7/dist-packages/sklearn/metrics/_classification.py:1318: UndefinedMetricWarning: Recall is ill-defined and being set to 0.0 in labels with no true samples. Use `zero_division` parameter to control this behavior.\n",
            "  _warn_prf(average, modifier, msg_start, len(result))\n",
            "/usr/local/lib/python3.7/dist-packages/sklearn/metrics/_classification.py:1318: UndefinedMetricWarning: Precision is ill-defined and being set to 0.0 in labels with no predicted samples. Use `zero_division` parameter to control this behavior.\n",
            "  _warn_prf(average, modifier, msg_start, len(result))\n"
          ]
        },
        {
          "output_type": "stream",
          "name": "stdout",
          "text": [
            "metric cluster :  3\n",
            "Counter({'Travel': 175, \"Children's Books\": 12, 'Crafts, Hobbies & Home': 11, 'Teen & Young Adult': 8, 'Science & Math': 5, 'Christian Books & Bibles': 2, 'Business & Money': 2, 'Cookbooks, Food & Wine': 2, 'Health, Fitness & Dieting': 1}) Counter({'Travel': 214, 'Health, Fitness & Dieting': 3, 'Medical Books': 1})\n",
            "[('accuracy', 78.9), ('precision', 8.04), ('recall', 9.83), ('f1-macro', 8.84)]\n"
          ]
        },
        {
          "output_type": "stream",
          "name": "stderr",
          "text": [
            "/usr/local/lib/python3.7/dist-packages/sklearn/metrics/_classification.py:1318: UndefinedMetricWarning: Recall is ill-defined and being set to 0.0 in labels with no true samples. Use `zero_division` parameter to control this behavior.\n",
            "  _warn_prf(average, modifier, msg_start, len(result))\n",
            "/usr/local/lib/python3.7/dist-packages/sklearn/metrics/_classification.py:1318: UndefinedMetricWarning: Precision is ill-defined and being set to 0.0 in labels with no predicted samples. Use `zero_division` parameter to control this behavior.\n",
            "  _warn_prf(average, modifier, msg_start, len(result))\n"
          ]
        },
        {
          "output_type": "stream",
          "name": "stdout",
          "text": [
            "metric cluster :  8\n",
            "Counter({'Science & Math': 100, 'Crafts, Hobbies & Home': 28, \"Children's Books\": 24, 'Teen & Young Adult': 12, 'Business & Money': 12, 'Medical Books': 8, 'Health, Fitness & Dieting': 6, 'Travel': 4, 'Christian Books & Bibles': 1}) Counter({'Travel': 123, 'Business & Money': 39, 'Health, Fitness & Dieting': 27, 'Medical Books': 3, 'Christian Books & Bibles': 3})\n",
            "[('accuracy', 3.08), ('precision', 1.13), ('recall', 11.11), ('f1-macro', 1.83)]\n"
          ]
        },
        {
          "output_type": "stream",
          "name": "stderr",
          "text": [
            "/usr/local/lib/python3.7/dist-packages/sklearn/metrics/_classification.py:1318: UndefinedMetricWarning: Precision is ill-defined and being set to 0.0 in labels with no predicted samples. Use `zero_division` parameter to control this behavior.\n",
            "  _warn_prf(average, modifier, msg_start, len(result))\n"
          ]
        },
        {
          "output_type": "stream",
          "name": "stdout",
          "text": [
            "metric cluster :  2\n",
            "Counter({'Christian Books & Bibles': 111, 'Teen & Young Adult': 8, \"Children's Books\": 6, 'Travel': 6, 'Health, Fitness & Dieting': 6, 'Science & Math': 5, 'Crafts, Hobbies & Home': 4, 'Business & Money': 2, 'Medical Books': 2, 'Cookbooks, Food & Wine': 1}) Counter({'Travel': 113, 'Health, Fitness & Dieting': 28, 'Medical Books': 5, 'Christian Books & Bibles': 4, 'Business & Money': 1})\n",
            "[('accuracy', 4.64), ('precision', 5.44), ('recall', 8.51), ('f1-macro', 1.19)]\n",
            "AL distribution: {0: 3, 5: 5, 1: 6, 6: 6, 7: 6, 4: 5, 9: 6, 3: 1, 8: 6, 2: 6}\n",
            "AL leftover: 0\n"
          ]
        },
        {
          "output_type": "stream",
          "name": "stderr",
          "text": [
            "/usr/local/lib/python3.7/dist-packages/sklearn/metrics/_classification.py:1318: UndefinedMetricWarning: Precision is ill-defined and being set to 0.0 in labels with no predicted samples. Use `zero_division` parameter to control this behavior.\n",
            "  _warn_prf(average, modifier, msg_start, len(result))\n"
          ]
        },
        {
          "output_type": "stream",
          "name": "stdout",
          "text": [
            "label dist after AL step: Counter({'Medical Books': 17, 'Travel': 16, 'Christian Books & Bibles': 12, 'Health, Fitness & Dieting': 11, 'Science & Math': 10, 'Cookbooks, Food & Wine': 8, 'Business & Money': 8, 'Teen & Young Adult': 6, \"Children's Books\": 6, 'Crafts, Hobbies & Home': 6})\n",
            "current data size: 100 100\n",
            "preprocessing train...\n",
            "language: en\n",
            "train sequence lengths:\n",
            "\tmean : 11\n",
            "\t95percentile : 21\n",
            "\t99percentile : 25\n"
          ]
        },
        {
          "output_type": "stream",
          "name": "stderr",
          "text": [
            "/usr/local/lib/python3.7/dist-packages/ktrain/utils.py:738: UserWarning: class_names argument was ignored, as they were extracted from string labels in dataset\n",
            "  \"class_names argument was ignored, as they were extracted from string labels in dataset\"\n"
          ]
        },
        {
          "output_type": "display_data",
          "data": {
            "text/plain": [
              "<IPython.core.display.HTML object>"
            ],
            "text/html": [
              "\n",
              "<style>\n",
              "    /* Turns off some styling */\n",
              "    progress {\n",
              "        /* gets rid of default border in Firefox and Opera. */\n",
              "        border: none;\n",
              "        /* Needs to be in here for Safari polyfill so background images work as expected. */\n",
              "        background-size: auto;\n",
              "    }\n",
              "    progress:not([value]), progress:not([value])::-webkit-progress-bar {\n",
              "        background: repeating-linear-gradient(45deg, #7e7e7e, #7e7e7e 10px, #5c5c5c 10px, #5c5c5c 20px);\n",
              "    }\n",
              "    .progress-bar-interrupted, .progress-bar-interrupted::-webkit-progress-bar {\n",
              "        background: #F44336;\n",
              "    }\n",
              "</style>\n"
            ]
          },
          "metadata": {}
        },
        {
          "output_type": "display_data",
          "data": {
            "text/plain": [
              "<IPython.core.display.HTML object>"
            ],
            "text/html": []
          },
          "metadata": {}
        },
        {
          "output_type": "stream",
          "name": "stdout",
          "text": [
            "Is Multi-Label? False\n",
            "preprocessing test...\n",
            "language: en\n",
            "test sequence lengths:\n",
            "\tmean : 9\n",
            "\t95percentile : 19\n",
            "\t99percentile : 25\n"
          ]
        },
        {
          "output_type": "display_data",
          "data": {
            "text/plain": [
              "<IPython.core.display.HTML object>"
            ],
            "text/html": [
              "\n",
              "<style>\n",
              "    /* Turns off some styling */\n",
              "    progress {\n",
              "        /* gets rid of default border in Firefox and Opera. */\n",
              "        border: none;\n",
              "        /* Needs to be in here for Safari polyfill so background images work as expected. */\n",
              "        background-size: auto;\n",
              "    }\n",
              "    progress:not([value]), progress:not([value])::-webkit-progress-bar {\n",
              "        background: repeating-linear-gradient(45deg, #7e7e7e, #7e7e7e 10px, #5c5c5c 10px, #5c5c5c 20px);\n",
              "    }\n",
              "    .progress-bar-interrupted, .progress-bar-interrupted::-webkit-progress-bar {\n",
              "        background: #F44336;\n",
              "    }\n",
              "</style>\n"
            ]
          },
          "metadata": {}
        },
        {
          "output_type": "display_data",
          "data": {
            "text/plain": [
              "<IPython.core.display.HTML object>"
            ],
            "text/html": []
          },
          "metadata": {}
        },
        {
          "output_type": "stream",
          "name": "stdout",
          "text": [
            "\n",
            "\n",
            "begin training using onecycle policy with max lr of 8e-05...\n",
            "Epoch 1/5\n",
            "7/7 [==============================] - 29s 2s/step - loss: 2.2978 - accuracy: 0.1100 - val_loss: 2.2988 - val_accuracy: 0.1185\n",
            "Epoch 2/5\n",
            "7/7 [==============================] - 12s 2s/step - loss: 2.2176 - accuracy: 0.1900 - val_loss: 2.3518 - val_accuracy: 0.0910\n",
            "Epoch 3/5\n",
            "7/7 [==============================] - 12s 2s/step - loss: 2.1275 - accuracy: 0.2200 - val_loss: 2.2998 - val_accuracy: 0.1625\n",
            "Epoch 4/5\n",
            "7/7 [==============================] - 12s 2s/step - loss: 1.9470 - accuracy: 0.4400 - val_loss: 2.2114 - val_accuracy: 0.2660\n",
            "Epoch 5/5\n",
            "7/7 [==============================] - 12s 2s/step - loss: 1.8147 - accuracy: 0.4700 - val_loss: 2.1903 - val_accuracy: 0.2730\n",
            "updating classifier\n",
            "['Business & Money', \"Children's Books\", 'Christian Books & Bibles', 'Cookbooks, Food & Wine', 'Crafts, Hobbies & Home', 'Health, Fitness & Dieting', 'Medical Books', 'Science & Math', 'Teen & Young Adult', 'Travel']\n",
            "-----------------ROUND 1DONE--------------\n"
          ]
        },
        {
          "output_type": "stream",
          "name": "stderr",
          "text": [
            "/usr/local/lib/python3.7/dist-packages/sklearn/metrics/_classification.py:1318: UndefinedMetricWarning: Precision is ill-defined and being set to 0.0 in labels with no predicted samples. Use `zero_division` parameter to control this behavior.\n",
            "  _warn_prf(average, modifier, msg_start, len(result))\n"
          ]
        },
        {
          "output_type": "stream",
          "name": "stdout",
          "text": [
            "[('accuracy', 27.7), ('precision', 16.58), ('recall', 22.87), ('f1-macro', 15.96)]\n",
            "predicted dist after ROUND 1: Counter({'Medical Books': 1755, 'Travel': 1554, 'Christian Books & Bibles': 314, 'Science & Math': 281, \"Children's Books\": 68, 'Health, Fitness & Dieting': 28})\n",
            "test results after ROUND 1: [('accuracy', 27.7), ('precision', 16.58), ('recall', 22.87), ('f1-macro', 15.96)]\n",
            "-------------------- DONE with RUN2--------------------\n",
            "Task: BTYPE\n",
            "N: 100\n",
            "K: 10\n",
            "----------DOING RUN: RUN3 -----------------\n",
            "-----RUNNING INITIAL CLUSTERING------\n",
            "CLUSTER DIST:\n",
            "0 971\n",
            "5 1178\n",
            "1 2634\n",
            "6 1091\n",
            "7 1259\n",
            "4 1636\n",
            "9 1363\n",
            "3 1529\n",
            "8 1286\n",
            "2 1053\n",
            "-----INITIAL CLUSTERING DONE----\n",
            "rounds: 0\n",
            "current data size: 50 50\n",
            "preprocessing train...\n",
            "language: en\n",
            "train sequence lengths:\n",
            "\tmean : 9\n",
            "\t95percentile : 18\n",
            "\t99percentile : 20\n"
          ]
        },
        {
          "output_type": "stream",
          "name": "stderr",
          "text": [
            "/usr/local/lib/python3.7/dist-packages/ktrain/utils.py:738: UserWarning: class_names argument was ignored, as they were extracted from string labels in dataset\n",
            "  \"class_names argument was ignored, as they were extracted from string labels in dataset\"\n"
          ]
        },
        {
          "output_type": "display_data",
          "data": {
            "text/plain": [
              "<IPython.core.display.HTML object>"
            ],
            "text/html": [
              "\n",
              "<style>\n",
              "    /* Turns off some styling */\n",
              "    progress {\n",
              "        /* gets rid of default border in Firefox and Opera. */\n",
              "        border: none;\n",
              "        /* Needs to be in here for Safari polyfill so background images work as expected. */\n",
              "        background-size: auto;\n",
              "    }\n",
              "    progress:not([value]), progress:not([value])::-webkit-progress-bar {\n",
              "        background: repeating-linear-gradient(45deg, #7e7e7e, #7e7e7e 10px, #5c5c5c 10px, #5c5c5c 20px);\n",
              "    }\n",
              "    .progress-bar-interrupted, .progress-bar-interrupted::-webkit-progress-bar {\n",
              "        background: #F44336;\n",
              "    }\n",
              "</style>\n"
            ]
          },
          "metadata": {}
        },
        {
          "output_type": "display_data",
          "data": {
            "text/plain": [
              "<IPython.core.display.HTML object>"
            ],
            "text/html": []
          },
          "metadata": {}
        },
        {
          "output_type": "stream",
          "name": "stdout",
          "text": [
            "Is Multi-Label? False\n",
            "preprocessing test...\n",
            "language: en\n",
            "test sequence lengths:\n",
            "\tmean : 9\n",
            "\t95percentile : 19\n",
            "\t99percentile : 25\n"
          ]
        },
        {
          "output_type": "display_data",
          "data": {
            "text/plain": [
              "<IPython.core.display.HTML object>"
            ],
            "text/html": [
              "\n",
              "<style>\n",
              "    /* Turns off some styling */\n",
              "    progress {\n",
              "        /* gets rid of default border in Firefox and Opera. */\n",
              "        border: none;\n",
              "        /* Needs to be in here for Safari polyfill so background images work as expected. */\n",
              "        background-size: auto;\n",
              "    }\n",
              "    progress:not([value]), progress:not([value])::-webkit-progress-bar {\n",
              "        background: repeating-linear-gradient(45deg, #7e7e7e, #7e7e7e 10px, #5c5c5c 10px, #5c5c5c 20px);\n",
              "    }\n",
              "    .progress-bar-interrupted, .progress-bar-interrupted::-webkit-progress-bar {\n",
              "        background: #F44336;\n",
              "    }\n",
              "</style>\n"
            ]
          },
          "metadata": {}
        },
        {
          "output_type": "display_data",
          "data": {
            "text/plain": [
              "<IPython.core.display.HTML object>"
            ],
            "text/html": []
          },
          "metadata": {}
        },
        {
          "output_type": "stream",
          "name": "stdout",
          "text": [
            "\n",
            "\n",
            "begin training using onecycle policy with max lr of 8e-05...\n",
            "Epoch 1/5\n",
            "4/4 [==============================] - 29s 5s/step - loss: 2.2958 - accuracy: 0.2200 - val_loss: 2.2654 - val_accuracy: 0.1675\n",
            "Epoch 2/5\n",
            "4/4 [==============================] - 11s 4s/step - loss: 2.2160 - accuracy: 0.2400 - val_loss: 2.2981 - val_accuracy: 0.1285\n",
            "Epoch 3/5\n",
            "4/4 [==============================] - 11s 4s/step - loss: 2.1141 - accuracy: 0.2600 - val_loss: 2.3402 - val_accuracy: 0.1540\n",
            "Epoch 4/5\n",
            "4/4 [==============================] - 11s 4s/step - loss: 2.1314 - accuracy: 0.3000 - val_loss: 2.2820 - val_accuracy: 0.1815\n",
            "Epoch 5/5\n",
            "4/4 [==============================] - 11s 4s/step - loss: 1.9451 - accuracy: 0.3600 - val_loss: 2.2536 - val_accuracy: 0.1910\n",
            "getting bootstrapped classifier\n",
            "['Business & Money', \"Children's Books\", 'Christian Books & Bibles', 'Cookbooks, Food & Wine', 'Crafts, Hobbies & Home', 'Health, Fitness & Dieting', 'Medical Books', 'Science & Math', 'Teen & Young Adult', 'Travel']\n",
            "label dist after bootstrap: Counter({'Travel': 11, 'Business & Money': 7, 'Science & Math': 6, 'Medical Books': 5, 'Crafts, Hobbies & Home': 5, 'Cookbooks, Food & Wine': 4, 'Teen & Young Adult': 3, 'Christian Books & Bibles': 3, 'Health, Fitness & Dieting': 3, \"Children's Books\": 3})\n",
            "--------------------BOOTSTRAP DONE--------------------\n",
            "50 50\n",
            "AL ROUND:  1  (RUN3) (AL STEP)\n",
            "metric cluster :  0\n",
            "Counter({'Travel': 77, 'Crafts, Hobbies & Home': 18, 'Science & Math': 17, \"Children's Books\": 13, 'Health, Fitness & Dieting': 4, 'Business & Money': 4, 'Teen & Young Adult': 3, 'Cookbooks, Food & Wine': 3, 'Christian Books & Bibles': 3, 'Medical Books': 2}) Counter({'Travel': 138, 'Medical Books': 5, 'Teen & Young Adult': 1})\n",
            "[('accuracy', 52.08), ('precision', 5.43), ('recall', 9.74), ('f1-macro', 6.98)]\n"
          ]
        },
        {
          "output_type": "stream",
          "name": "stderr",
          "text": [
            "/usr/local/lib/python3.7/dist-packages/sklearn/metrics/_classification.py:1318: UndefinedMetricWarning: Precision is ill-defined and being set to 0.0 in labels with no predicted samples. Use `zero_division` parameter to control this behavior.\n",
            "  _warn_prf(average, modifier, msg_start, len(result))\n"
          ]
        },
        {
          "output_type": "stream",
          "name": "stdout",
          "text": [
            "metric cluster :  5\n",
            "Counter({'Business & Money': 143, 'Medical Books': 9, 'Christian Books & Bibles': 6, 'Science & Math': 5, 'Teen & Young Adult': 4, \"Children's Books\": 4, 'Travel': 3, 'Crafts, Hobbies & Home': 2, 'Health, Fitness & Dieting': 1, 'Cookbooks, Food & Wine': 1}) Counter({'Travel': 138, 'Medical Books': 36, 'Teen & Young Adult': 2, 'Business & Money': 2})\n",
            "[('accuracy', 3.93), ('precision', 10.77), ('recall', 12.36), ('f1-macro', 1.59)]\n"
          ]
        },
        {
          "output_type": "stream",
          "name": "stderr",
          "text": [
            "/usr/local/lib/python3.7/dist-packages/sklearn/metrics/_classification.py:1318: UndefinedMetricWarning: Precision is ill-defined and being set to 0.0 in labels with no predicted samples. Use `zero_division` parameter to control this behavior.\n",
            "  _warn_prf(average, modifier, msg_start, len(result))\n"
          ]
        },
        {
          "output_type": "stream",
          "name": "stdout",
          "text": [
            "metric cluster :  1\n",
            "Counter({\"Children's Books\": 158, 'Teen & Young Adult': 65, 'Travel': 42, 'Christian Books & Bibles': 34, 'Crafts, Hobbies & Home': 24, 'Health, Fitness & Dieting': 23, 'Science & Math': 22, 'Medical Books': 10, 'Business & Money': 6, 'Cookbooks, Food & Wine': 5}) Counter({'Travel': 385, 'Medical Books': 4})\n",
            "[('accuracy', 10.8), ('precision', 3.56), ('recall', 10.76), ('f1-macro', 3.35)]\n"
          ]
        },
        {
          "output_type": "stream",
          "name": "stderr",
          "text": [
            "/usr/local/lib/python3.7/dist-packages/sklearn/metrics/_classification.py:1318: UndefinedMetricWarning: Precision is ill-defined and being set to 0.0 in labels with no predicted samples. Use `zero_division` parameter to control this behavior.\n",
            "  _warn_prf(average, modifier, msg_start, len(result))\n"
          ]
        },
        {
          "output_type": "stream",
          "name": "stdout",
          "text": [
            "metric cluster :  6\n",
            "Counter({'Crafts, Hobbies & Home': 88, \"Children's Books\": 19, 'Travel': 9, 'Health, Fitness & Dieting': 8, 'Cookbooks, Food & Wine': 6, 'Business & Money': 4, 'Science & Math': 4, 'Teen & Young Adult': 4, 'Christian Books & Bibles': 4}) Counter({'Travel': 138, 'Medical Books': 6, 'Teen & Young Adult': 1, 'Business & Money': 1})\n",
            "[('accuracy', 6.16), ('precision', 0.65), ('recall', 10.0), ('f1-macro', 1.22)]\n"
          ]
        },
        {
          "output_type": "stream",
          "name": "stderr",
          "text": [
            "/usr/local/lib/python3.7/dist-packages/sklearn/metrics/_classification.py:1318: UndefinedMetricWarning: Recall is ill-defined and being set to 0.0 in labels with no true samples. Use `zero_division` parameter to control this behavior.\n",
            "  _warn_prf(average, modifier, msg_start, len(result))\n",
            "/usr/local/lib/python3.7/dist-packages/sklearn/metrics/_classification.py:1318: UndefinedMetricWarning: Precision is ill-defined and being set to 0.0 in labels with no predicted samples. Use `zero_division` parameter to control this behavior.\n",
            "  _warn_prf(average, modifier, msg_start, len(result))\n"
          ]
        },
        {
          "output_type": "stream",
          "name": "stdout",
          "text": [
            "metric cluster :  7\n",
            "Counter({'Health, Fitness & Dieting': 78, 'Medical Books': 49, 'Teen & Young Adult': 20, 'Christian Books & Bibles': 13, 'Science & Math': 13, 'Business & Money': 10, \"Children's Books\": 7, 'Crafts, Hobbies & Home': 3, 'Cookbooks, Food & Wine': 1}) Counter({'Travel': 164, 'Medical Books': 28, 'Business & Money': 1, 'Teen & Young Adult': 1})\n",
            "[('accuracy', 6.7), ('precision', 4.64), ('recall', 2.65), ('f1-macro', 3.38)]\n"
          ]
        },
        {
          "output_type": "stream",
          "name": "stderr",
          "text": [
            "/usr/local/lib/python3.7/dist-packages/sklearn/metrics/_classification.py:1318: UndefinedMetricWarning: Recall is ill-defined and being set to 0.0 in labels with no true samples. Use `zero_division` parameter to control this behavior.\n",
            "  _warn_prf(average, modifier, msg_start, len(result))\n",
            "/usr/local/lib/python3.7/dist-packages/sklearn/metrics/_classification.py:1318: UndefinedMetricWarning: Precision is ill-defined and being set to 0.0 in labels with no predicted samples. Use `zero_division` parameter to control this behavior.\n",
            "  _warn_prf(average, modifier, msg_start, len(result))\n"
          ]
        },
        {
          "output_type": "stream",
          "name": "stdout",
          "text": [
            "metric cluster :  4\n",
            "Counter({'Medical Books': 149, 'Health, Fitness & Dieting': 58, 'Crafts, Hobbies & Home': 4, 'Cookbooks, Food & Wine': 2, 'Teen & Young Adult': 2, 'Christian Books & Bibles': 2, 'Science & Math': 2, 'Business & Money': 2, 'Travel': 1}) Counter({'Travel': 156, 'Medical Books': 62, 'Business & Money': 3, 'Teen & Young Adult': 1})\n",
            "[('accuracy', 21.62), ('precision', 8.49), ('recall', 14.62), ('f1-macro', 5.09)]\n"
          ]
        },
        {
          "output_type": "stream",
          "name": "stderr",
          "text": [
            "/usr/local/lib/python3.7/dist-packages/sklearn/metrics/_classification.py:1318: UndefinedMetricWarning: Precision is ill-defined and being set to 0.0 in labels with no predicted samples. Use `zero_division` parameter to control this behavior.\n",
            "  _warn_prf(average, modifier, msg_start, len(result))\n"
          ]
        },
        {
          "output_type": "stream",
          "name": "stdout",
          "text": [
            "metric cluster :  9\n",
            "Counter({'Cookbooks, Food & Wine': 113, 'Health, Fitness & Dieting': 30, 'Crafts, Hobbies & Home': 7, \"Children's Books\": 4, 'Medical Books': 3, 'Science & Math': 2, 'Teen & Young Adult': 2, 'Travel': 2}) Counter({'Travel': 153, 'Medical Books': 10})\n",
            "[('accuracy', 1.23), ('precision', 0.16), ('recall', 12.5), ('f1-macro', 0.32)]\n"
          ]
        },
        {
          "output_type": "stream",
          "name": "stderr",
          "text": [
            "/usr/local/lib/python3.7/dist-packages/sklearn/metrics/_classification.py:1318: UndefinedMetricWarning: Precision is ill-defined and being set to 0.0 in labels with no predicted samples. Use `zero_division` parameter to control this behavior.\n",
            "  _warn_prf(average, modifier, msg_start, len(result))\n"
          ]
        },
        {
          "output_type": "stream",
          "name": "stdout",
          "text": [
            "metric cluster :  3\n",
            "Counter({'Travel': 175, \"Children's Books\": 12, 'Crafts, Hobbies & Home': 11, 'Teen & Young Adult': 8, 'Science & Math': 5, 'Christian Books & Bibles': 2, 'Business & Money': 2, 'Cookbooks, Food & Wine': 2, 'Health, Fitness & Dieting': 1}) Counter({'Travel': 214, 'Medical Books': 4})\n",
            "[('accuracy', 79.82), ('precision', 8.13), ('recall', 9.94), ('f1-macro', 8.95)]\n"
          ]
        },
        {
          "output_type": "stream",
          "name": "stderr",
          "text": [
            "/usr/local/lib/python3.7/dist-packages/sklearn/metrics/_classification.py:1318: UndefinedMetricWarning: Recall is ill-defined and being set to 0.0 in labels with no true samples. Use `zero_division` parameter to control this behavior.\n",
            "  _warn_prf(average, modifier, msg_start, len(result))\n",
            "/usr/local/lib/python3.7/dist-packages/sklearn/metrics/_classification.py:1318: UndefinedMetricWarning: Precision is ill-defined and being set to 0.0 in labels with no predicted samples. Use `zero_division` parameter to control this behavior.\n",
            "  _warn_prf(average, modifier, msg_start, len(result))\n"
          ]
        },
        {
          "output_type": "stream",
          "name": "stdout",
          "text": [
            "metric cluster :  8\n",
            "Counter({'Science & Math': 100, 'Crafts, Hobbies & Home': 28, \"Children's Books\": 24, 'Teen & Young Adult': 12, 'Business & Money': 12, 'Medical Books': 8, 'Health, Fitness & Dieting': 6, 'Travel': 4, 'Christian Books & Bibles': 1}) Counter({'Travel': 149, 'Medical Books': 43, 'Business & Money': 2, 'Teen & Young Adult': 1})\n",
            "[('accuracy', 3.08), ('precision', 0.82), ('recall', 13.89), ('f1-macro', 1.45)]\n"
          ]
        },
        {
          "output_type": "stream",
          "name": "stderr",
          "text": [
            "/usr/local/lib/python3.7/dist-packages/sklearn/metrics/_classification.py:1318: UndefinedMetricWarning: Precision is ill-defined and being set to 0.0 in labels with no predicted samples. Use `zero_division` parameter to control this behavior.\n",
            "  _warn_prf(average, modifier, msg_start, len(result))\n"
          ]
        },
        {
          "output_type": "stream",
          "name": "stdout",
          "text": [
            "metric cluster :  2\n",
            "Counter({'Christian Books & Bibles': 111, 'Teen & Young Adult': 8, \"Children's Books\": 6, 'Travel': 6, 'Health, Fitness & Dieting': 6, 'Science & Math': 5, 'Crafts, Hobbies & Home': 4, 'Business & Money': 2, 'Medical Books': 2, 'Cookbooks, Food & Wine': 1}) Counter({'Travel': 141, 'Medical Books': 10})\n",
            "[('accuracy', 3.97), ('precision', 0.43), ('recall', 10.0), ('f1-macro', 0.82)]\n",
            "AL distribution: {0: 3, 5: 6, 1: 6, 6: 6, 7: 6, 4: 5, 9: 6, 3: 1, 8: 6, 2: 5}\n",
            "AL leftover: 0\n"
          ]
        },
        {
          "output_type": "stream",
          "name": "stderr",
          "text": [
            "/usr/local/lib/python3.7/dist-packages/sklearn/metrics/_classification.py:1318: UndefinedMetricWarning: Precision is ill-defined and being set to 0.0 in labels with no predicted samples. Use `zero_division` parameter to control this behavior.\n",
            "  _warn_prf(average, modifier, msg_start, len(result))\n"
          ]
        },
        {
          "output_type": "stream",
          "name": "stdout",
          "text": [
            "label dist after AL step: Counter({'Business & Money': 15, 'Science & Math': 15, 'Medical Books': 12, 'Travel': 12, 'Health, Fitness & Dieting': 10, 'Crafts, Hobbies & Home': 10, 'Christian Books & Bibles': 8, 'Cookbooks, Food & Wine': 7, 'Teen & Young Adult': 6, \"Children's Books\": 5})\n",
            "current data size: 100 100\n",
            "preprocessing train...\n",
            "language: en\n",
            "train sequence lengths:\n",
            "\tmean : 11\n",
            "\t95percentile : 21\n",
            "\t99percentile : 25\n"
          ]
        },
        {
          "output_type": "stream",
          "name": "stderr",
          "text": [
            "/usr/local/lib/python3.7/dist-packages/ktrain/utils.py:738: UserWarning: class_names argument was ignored, as they were extracted from string labels in dataset\n",
            "  \"class_names argument was ignored, as they were extracted from string labels in dataset\"\n"
          ]
        },
        {
          "output_type": "display_data",
          "data": {
            "text/plain": [
              "<IPython.core.display.HTML object>"
            ],
            "text/html": [
              "\n",
              "<style>\n",
              "    /* Turns off some styling */\n",
              "    progress {\n",
              "        /* gets rid of default border in Firefox and Opera. */\n",
              "        border: none;\n",
              "        /* Needs to be in here for Safari polyfill so background images work as expected. */\n",
              "        background-size: auto;\n",
              "    }\n",
              "    progress:not([value]), progress:not([value])::-webkit-progress-bar {\n",
              "        background: repeating-linear-gradient(45deg, #7e7e7e, #7e7e7e 10px, #5c5c5c 10px, #5c5c5c 20px);\n",
              "    }\n",
              "    .progress-bar-interrupted, .progress-bar-interrupted::-webkit-progress-bar {\n",
              "        background: #F44336;\n",
              "    }\n",
              "</style>\n"
            ]
          },
          "metadata": {}
        },
        {
          "output_type": "display_data",
          "data": {
            "text/plain": [
              "<IPython.core.display.HTML object>"
            ],
            "text/html": []
          },
          "metadata": {}
        },
        {
          "output_type": "stream",
          "name": "stdout",
          "text": [
            "Is Multi-Label? False\n",
            "preprocessing test...\n",
            "language: en\n",
            "test sequence lengths:\n",
            "\tmean : 9\n",
            "\t95percentile : 19\n",
            "\t99percentile : 25\n"
          ]
        },
        {
          "output_type": "display_data",
          "data": {
            "text/plain": [
              "<IPython.core.display.HTML object>"
            ],
            "text/html": [
              "\n",
              "<style>\n",
              "    /* Turns off some styling */\n",
              "    progress {\n",
              "        /* gets rid of default border in Firefox and Opera. */\n",
              "        border: none;\n",
              "        /* Needs to be in here for Safari polyfill so background images work as expected. */\n",
              "        background-size: auto;\n",
              "    }\n",
              "    progress:not([value]), progress:not([value])::-webkit-progress-bar {\n",
              "        background: repeating-linear-gradient(45deg, #7e7e7e, #7e7e7e 10px, #5c5c5c 10px, #5c5c5c 20px);\n",
              "    }\n",
              "    .progress-bar-interrupted, .progress-bar-interrupted::-webkit-progress-bar {\n",
              "        background: #F44336;\n",
              "    }\n",
              "</style>\n"
            ]
          },
          "metadata": {}
        },
        {
          "output_type": "display_data",
          "data": {
            "text/plain": [
              "<IPython.core.display.HTML object>"
            ],
            "text/html": []
          },
          "metadata": {}
        },
        {
          "output_type": "stream",
          "name": "stdout",
          "text": [
            "\n",
            "\n",
            "begin training using onecycle policy with max lr of 8e-05...\n",
            "Epoch 1/5\n",
            "7/7 [==============================] - 29s 2s/step - loss: 2.3796 - accuracy: 0.0500 - val_loss: 2.3139 - val_accuracy: 0.0940\n",
            "Epoch 2/5\n",
            "7/7 [==============================] - 12s 2s/step - loss: 2.2614 - accuracy: 0.1600 - val_loss: 2.2826 - val_accuracy: 0.1175\n",
            "Epoch 3/5\n",
            "7/7 [==============================] - 12s 2s/step - loss: 2.1288 - accuracy: 0.2500 - val_loss: 2.3008 - val_accuracy: 0.1175\n",
            "Epoch 4/5\n",
            "7/7 [==============================] - 12s 2s/step - loss: 1.9913 - accuracy: 0.4000 - val_loss: 2.1474 - val_accuracy: 0.3065\n",
            "Epoch 5/5\n",
            "7/7 [==============================] - 12s 2s/step - loss: 1.7341 - accuracy: 0.4900 - val_loss: 2.0477 - val_accuracy: 0.3315\n",
            "updating classifier\n",
            "['Business & Money', \"Children's Books\", 'Christian Books & Bibles', 'Cookbooks, Food & Wine', 'Crafts, Hobbies & Home', 'Health, Fitness & Dieting', 'Medical Books', 'Science & Math', 'Teen & Young Adult', 'Travel']\n",
            "-----------------ROUND 1DONE--------------\n"
          ]
        },
        {
          "output_type": "stream",
          "name": "stderr",
          "text": [
            "/usr/local/lib/python3.7/dist-packages/sklearn/metrics/_classification.py:1318: UndefinedMetricWarning: Precision is ill-defined and being set to 0.0 in labels with no predicted samples. Use `zero_division` parameter to control this behavior.\n",
            "  _warn_prf(average, modifier, msg_start, len(result))\n"
          ]
        },
        {
          "output_type": "stream",
          "name": "stdout",
          "text": [
            "[('accuracy', 33.83), ('precision', 32.42), ('recall', 31.52), ('f1-macro', 24.97)]\n",
            "predicted dist after ROUND 1: Counter({'Travel': 1800, 'Business & Money': 1262, 'Science & Math': 416, 'Christian Books & Bibles': 250, 'Health, Fitness & Dieting': 112, 'Cookbooks, Food & Wine': 107, 'Medical Books': 53})\n",
            "test results after ROUND 1: [('accuracy', 33.83), ('precision', 32.42), ('recall', 31.52), ('f1-macro', 24.97)]\n",
            "-------------------- DONE with RUN3--------------------\n",
            "Task: BTYPE\n",
            "N: 200\n",
            "K: 10\n",
            "----------DOING RUN: RUN1 -----------------\n",
            "-----RUNNING INITIAL CLUSTERING------\n",
            "CLUSTER DIST:\n",
            "0 971\n",
            "5 1178\n",
            "1 2634\n",
            "6 1091\n",
            "7 1259\n",
            "4 1636\n",
            "9 1363\n",
            "3 1529\n",
            "8 1286\n",
            "2 1053\n",
            "-----INITIAL CLUSTERING DONE----\n",
            "rounds: 0\n",
            "current data size: 50 50\n",
            "preprocessing train...\n",
            "language: en\n",
            "train sequence lengths:\n",
            "\tmean : 10\n",
            "\t95percentile : 23\n",
            "\t99percentile : 30\n"
          ]
        },
        {
          "output_type": "stream",
          "name": "stderr",
          "text": [
            "/usr/local/lib/python3.7/dist-packages/ktrain/utils.py:738: UserWarning: class_names argument was ignored, as they were extracted from string labels in dataset\n",
            "  \"class_names argument was ignored, as they were extracted from string labels in dataset\"\n"
          ]
        },
        {
          "output_type": "display_data",
          "data": {
            "text/plain": [
              "<IPython.core.display.HTML object>"
            ],
            "text/html": [
              "\n",
              "<style>\n",
              "    /* Turns off some styling */\n",
              "    progress {\n",
              "        /* gets rid of default border in Firefox and Opera. */\n",
              "        border: none;\n",
              "        /* Needs to be in here for Safari polyfill so background images work as expected. */\n",
              "        background-size: auto;\n",
              "    }\n",
              "    progress:not([value]), progress:not([value])::-webkit-progress-bar {\n",
              "        background: repeating-linear-gradient(45deg, #7e7e7e, #7e7e7e 10px, #5c5c5c 10px, #5c5c5c 20px);\n",
              "    }\n",
              "    .progress-bar-interrupted, .progress-bar-interrupted::-webkit-progress-bar {\n",
              "        background: #F44336;\n",
              "    }\n",
              "</style>\n"
            ]
          },
          "metadata": {}
        },
        {
          "output_type": "display_data",
          "data": {
            "text/plain": [
              "<IPython.core.display.HTML object>"
            ],
            "text/html": []
          },
          "metadata": {}
        },
        {
          "output_type": "stream",
          "name": "stdout",
          "text": [
            "Is Multi-Label? False\n",
            "preprocessing test...\n",
            "language: en\n",
            "test sequence lengths:\n",
            "\tmean : 9\n",
            "\t95percentile : 19\n",
            "\t99percentile : 25\n"
          ]
        },
        {
          "output_type": "display_data",
          "data": {
            "text/plain": [
              "<IPython.core.display.HTML object>"
            ],
            "text/html": [
              "\n",
              "<style>\n",
              "    /* Turns off some styling */\n",
              "    progress {\n",
              "        /* gets rid of default border in Firefox and Opera. */\n",
              "        border: none;\n",
              "        /* Needs to be in here for Safari polyfill so background images work as expected. */\n",
              "        background-size: auto;\n",
              "    }\n",
              "    progress:not([value]), progress:not([value])::-webkit-progress-bar {\n",
              "        background: repeating-linear-gradient(45deg, #7e7e7e, #7e7e7e 10px, #5c5c5c 10px, #5c5c5c 20px);\n",
              "    }\n",
              "    .progress-bar-interrupted, .progress-bar-interrupted::-webkit-progress-bar {\n",
              "        background: #F44336;\n",
              "    }\n",
              "</style>\n"
            ]
          },
          "metadata": {}
        },
        {
          "output_type": "display_data",
          "data": {
            "text/plain": [
              "<IPython.core.display.HTML object>"
            ],
            "text/html": []
          },
          "metadata": {}
        },
        {
          "output_type": "stream",
          "name": "stdout",
          "text": [
            "\n",
            "\n",
            "begin training using onecycle policy with max lr of 8e-05...\n",
            "Epoch 1/5\n",
            "4/4 [==============================] - 30s 5s/step - loss: 2.4190 - accuracy: 0.1200 - val_loss: 2.3327 - val_accuracy: 0.1125\n",
            "Epoch 2/5\n",
            "4/4 [==============================] - 11s 4s/step - loss: 2.2920 - accuracy: 0.0800 - val_loss: 2.2672 - val_accuracy: 0.1505\n",
            "Epoch 3/5\n",
            "4/4 [==============================] - 11s 4s/step - loss: 2.1502 - accuracy: 0.2400 - val_loss: 2.2514 - val_accuracy: 0.1800\n",
            "Epoch 4/5\n",
            "4/4 [==============================] - 11s 4s/step - loss: 2.0117 - accuracy: 0.4400 - val_loss: 2.2473 - val_accuracy: 0.1990\n",
            "Epoch 5/5\n",
            "4/4 [==============================] - 11s 4s/step - loss: 1.9461 - accuracy: 0.4000 - val_loss: 2.2468 - val_accuracy: 0.2005\n",
            "getting bootstrapped classifier\n",
            "['Business & Money', \"Children's Books\", 'Christian Books & Bibles', 'Cookbooks, Food & Wine', 'Crafts, Hobbies & Home', 'Health, Fitness & Dieting', 'Medical Books', 'Science & Math', 'Teen & Young Adult', 'Travel']\n",
            "label dist after bootstrap: Counter({'Travel': 10, \"Children's Books\": 7, 'Christian Books & Bibles': 7, 'Health, Fitness & Dieting': 5, 'Crafts, Hobbies & Home': 5, 'Medical Books': 4, 'Cookbooks, Food & Wine': 4, 'Teen & Young Adult': 3, 'Science & Math': 3, 'Business & Money': 2})\n",
            "--------------------BOOTSTRAP DONE--------------------\n",
            "150 50\n",
            "AL ROUND:  1  (RUN1) (AL STEP)\n",
            "metric cluster :  0\n",
            "Counter({'Travel': 77, 'Crafts, Hobbies & Home': 18, 'Science & Math': 17, \"Children's Books\": 13, 'Health, Fitness & Dieting': 4, 'Business & Money': 4, 'Teen & Young Adult': 3, 'Cookbooks, Food & Wine': 3, 'Christian Books & Bibles': 3, 'Medical Books': 2}) Counter({'Travel': 73, 'Cookbooks, Food & Wine': 42, \"Children's Books\": 18, 'Christian Books & Bibles': 10, 'Teen & Young Adult': 1})\n",
            "[('accuracy', 36.81), ('precision', 10.0), ('recall', 19.05), ('f1-macro', 11.14)]\n"
          ]
        },
        {
          "output_type": "stream",
          "name": "stderr",
          "text": [
            "/usr/local/lib/python3.7/dist-packages/sklearn/metrics/_classification.py:1318: UndefinedMetricWarning: Precision is ill-defined and being set to 0.0 in labels with no predicted samples. Use `zero_division` parameter to control this behavior.\n",
            "  _warn_prf(average, modifier, msg_start, len(result))\n"
          ]
        },
        {
          "output_type": "stream",
          "name": "stdout",
          "text": [
            "metric cluster :  5\n",
            "Counter({'Business & Money': 143, 'Medical Books': 9, 'Christian Books & Bibles': 6, 'Science & Math': 5, 'Teen & Young Adult': 4, \"Children's Books\": 4, 'Travel': 3, 'Crafts, Hobbies & Home': 2, 'Health, Fitness & Dieting': 1, 'Cookbooks, Food & Wine': 1}) Counter({'Cookbooks, Food & Wine': 70, 'Christian Books & Bibles': 42, 'Science & Math': 23, \"Children's Books\": 22, 'Travel': 21})\n",
            "[('accuracy', 4.49), ('precision', 3.19), ('recall', 18.5), ('f1-macro', 5.41)]\n"
          ]
        },
        {
          "output_type": "stream",
          "name": "stderr",
          "text": [
            "/usr/local/lib/python3.7/dist-packages/sklearn/metrics/_classification.py:1318: UndefinedMetricWarning: Precision is ill-defined and being set to 0.0 in labels with no predicted samples. Use `zero_division` parameter to control this behavior.\n",
            "  _warn_prf(average, modifier, msg_start, len(result))\n"
          ]
        },
        {
          "output_type": "stream",
          "name": "stdout",
          "text": [
            "metric cluster :  1\n",
            "Counter({\"Children's Books\": 158, 'Teen & Young Adult': 65, 'Travel': 42, 'Christian Books & Bibles': 34, 'Crafts, Hobbies & Home': 24, 'Health, Fitness & Dieting': 23, 'Science & Math': 22, 'Medical Books': 10, 'Business & Money': 6, 'Cookbooks, Food & Wine': 5}) Counter({\"Children's Books\": 180, 'Travel': 140, 'Cookbooks, Food & Wine': 37, 'Christian Books & Bibles': 21, 'Teen & Young Adult': 9, 'Health, Fitness & Dieting': 2})\n",
            "[('accuracy', 27.76), ('precision', 18.6), ('recall', 11.79), ('f1-macro', 10.57)]\n"
          ]
        },
        {
          "output_type": "stream",
          "name": "stderr",
          "text": [
            "/usr/local/lib/python3.7/dist-packages/sklearn/metrics/_classification.py:1318: UndefinedMetricWarning: Precision is ill-defined and being set to 0.0 in labels with no predicted samples. Use `zero_division` parameter to control this behavior.\n",
            "  _warn_prf(average, modifier, msg_start, len(result))\n"
          ]
        },
        {
          "output_type": "stream",
          "name": "stdout",
          "text": [
            "metric cluster :  6\n",
            "Counter({'Crafts, Hobbies & Home': 88, \"Children's Books\": 19, 'Travel': 9, 'Health, Fitness & Dieting': 8, 'Cookbooks, Food & Wine': 6, 'Business & Money': 4, 'Science & Math': 4, 'Teen & Young Adult': 4, 'Christian Books & Bibles': 4}) Counter({'Cookbooks, Food & Wine': 57, 'Travel': 41, \"Children's Books\": 26, 'Christian Books & Bibles': 18, 'Teen & Young Adult': 2, 'Science & Math': 2})\n",
            "[('accuracy', 5.48), ('precision', 8.39), ('recall', 7.52), ('f1-macro', 7.11)]\n"
          ]
        },
        {
          "output_type": "stream",
          "name": "stderr",
          "text": [
            "/usr/local/lib/python3.7/dist-packages/sklearn/metrics/_classification.py:1318: UndefinedMetricWarning: Precision is ill-defined and being set to 0.0 in labels with no predicted samples. Use `zero_division` parameter to control this behavior.\n",
            "  _warn_prf(average, modifier, msg_start, len(result))\n"
          ]
        },
        {
          "output_type": "stream",
          "name": "stdout",
          "text": [
            "metric cluster :  7\n",
            "Counter({'Health, Fitness & Dieting': 78, 'Medical Books': 49, 'Teen & Young Adult': 20, 'Christian Books & Bibles': 13, 'Science & Math': 13, 'Business & Money': 10, \"Children's Books\": 7, 'Crafts, Hobbies & Home': 3, 'Cookbooks, Food & Wine': 1}) Counter({'Christian Books & Bibles': 70, 'Cookbooks, Food & Wine': 49, \"Children's Books\": 41, 'Travel': 17, 'Science & Math': 13, 'Teen & Young Adult': 4})\n",
            "[('accuracy', 8.76), ('precision', 8.23), ('recall', 24.41), ('f1-macro', 6.67)]\n"
          ]
        },
        {
          "output_type": "stream",
          "name": "stderr",
          "text": [
            "/usr/local/lib/python3.7/dist-packages/sklearn/metrics/_classification.py:1318: UndefinedMetricWarning: Recall is ill-defined and being set to 0.0 in labels with no true samples. Use `zero_division` parameter to control this behavior.\n",
            "  _warn_prf(average, modifier, msg_start, len(result))\n",
            "/usr/local/lib/python3.7/dist-packages/sklearn/metrics/_classification.py:1318: UndefinedMetricWarning: Precision is ill-defined and being set to 0.0 in labels with no predicted samples. Use `zero_division` parameter to control this behavior.\n",
            "  _warn_prf(average, modifier, msg_start, len(result))\n"
          ]
        },
        {
          "output_type": "stream",
          "name": "stdout",
          "text": [
            "metric cluster :  4\n",
            "Counter({'Medical Books': 149, 'Health, Fitness & Dieting': 58, 'Crafts, Hobbies & Home': 4, 'Cookbooks, Food & Wine': 2, 'Teen & Young Adult': 2, 'Christian Books & Bibles': 2, 'Science & Math': 2, 'Business & Money': 2, 'Travel': 1}) Counter({'Cookbooks, Food & Wine': 84, 'Christian Books & Bibles': 47, 'Travel': 44, 'Science & Math': 31, \"Children's Books\": 16})\n",
            "[('accuracy', 0.9), ('precision', 0.35), ('recall', 15.0), ('f1-macro', 0.68)]\n"
          ]
        },
        {
          "output_type": "stream",
          "name": "stderr",
          "text": [
            "/usr/local/lib/python3.7/dist-packages/sklearn/metrics/_classification.py:1318: UndefinedMetricWarning: Recall is ill-defined and being set to 0.0 in labels with no true samples. Use `zero_division` parameter to control this behavior.\n",
            "  _warn_prf(average, modifier, msg_start, len(result))\n",
            "/usr/local/lib/python3.7/dist-packages/sklearn/metrics/_classification.py:1318: UndefinedMetricWarning: Precision is ill-defined and being set to 0.0 in labels with no predicted samples. Use `zero_division` parameter to control this behavior.\n",
            "  _warn_prf(average, modifier, msg_start, len(result))\n"
          ]
        },
        {
          "output_type": "stream",
          "name": "stdout",
          "text": [
            "metric cluster :  9\n",
            "Counter({'Cookbooks, Food & Wine': 113, 'Health, Fitness & Dieting': 30, 'Crafts, Hobbies & Home': 7, \"Children's Books\": 4, 'Medical Books': 3, 'Science & Math': 2, 'Teen & Young Adult': 2, 'Travel': 2}) Counter({'Cookbooks, Food & Wine': 52, 'Travel': 40, \"Children's Books\": 37, 'Christian Books & Bibles': 33, 'Science & Math': 1})\n",
            "[('accuracy', 19.63), ('precision', 6.99), ('recall', 11.28), ('f1-macro', 5.11)]\n"
          ]
        },
        {
          "output_type": "stream",
          "name": "stderr",
          "text": [
            "/usr/local/lib/python3.7/dist-packages/sklearn/metrics/_classification.py:1318: UndefinedMetricWarning: Recall is ill-defined and being set to 0.0 in labels with no true samples. Use `zero_division` parameter to control this behavior.\n",
            "  _warn_prf(average, modifier, msg_start, len(result))\n",
            "/usr/local/lib/python3.7/dist-packages/sklearn/metrics/_classification.py:1318: UndefinedMetricWarning: Precision is ill-defined and being set to 0.0 in labels with no predicted samples. Use `zero_division` parameter to control this behavior.\n",
            "  _warn_prf(average, modifier, msg_start, len(result))\n"
          ]
        },
        {
          "output_type": "stream",
          "name": "stdout",
          "text": [
            "metric cluster :  3\n",
            "Counter({'Travel': 175, \"Children's Books\": 12, 'Crafts, Hobbies & Home': 11, 'Teen & Young Adult': 8, 'Science & Math': 5, 'Christian Books & Bibles': 2, 'Business & Money': 2, 'Cookbooks, Food & Wine': 2, 'Health, Fitness & Dieting': 1}) Counter({'Travel': 117, 'Cookbooks, Food & Wine': 50, \"Children's Books\": 40, 'Christian Books & Bibles': 10, 'Teen & Young Adult': 1})\n",
            "[('accuracy', 44.95), ('precision', 11.52), ('recall', 18.07), ('f1-macro', 11.36)]\n"
          ]
        },
        {
          "output_type": "stream",
          "name": "stderr",
          "text": [
            "/usr/local/lib/python3.7/dist-packages/sklearn/metrics/_classification.py:1318: UndefinedMetricWarning: Precision is ill-defined and being set to 0.0 in labels with no predicted samples. Use `zero_division` parameter to control this behavior.\n",
            "  _warn_prf(average, modifier, msg_start, len(result))\n"
          ]
        },
        {
          "output_type": "stream",
          "name": "stdout",
          "text": [
            "metric cluster :  8\n",
            "Counter({'Science & Math': 100, 'Crafts, Hobbies & Home': 28, \"Children's Books\": 24, 'Teen & Young Adult': 12, 'Business & Money': 12, 'Medical Books': 8, 'Health, Fitness & Dieting': 6, 'Travel': 4, 'Christian Books & Bibles': 1}) Counter({'Cookbooks, Food & Wine': 74, 'Travel': 45, 'Science & Math': 26, 'Christian Books & Bibles': 25, \"Children's Books\": 24, 'Teen & Young Adult': 1})\n",
            "[('accuracy', 12.31), ('precision', 9.21), ('recall', 15.97), ('f1-macro', 5.7)]\n"
          ]
        },
        {
          "output_type": "stream",
          "name": "stderr",
          "text": [
            "/usr/local/lib/python3.7/dist-packages/sklearn/metrics/_classification.py:1318: UndefinedMetricWarning: Recall is ill-defined and being set to 0.0 in labels with no true samples. Use `zero_division` parameter to control this behavior.\n",
            "  _warn_prf(average, modifier, msg_start, len(result))\n",
            "/usr/local/lib/python3.7/dist-packages/sklearn/metrics/_classification.py:1318: UndefinedMetricWarning: Precision is ill-defined and being set to 0.0 in labels with no predicted samples. Use `zero_division` parameter to control this behavior.\n",
            "  _warn_prf(average, modifier, msg_start, len(result))\n"
          ]
        },
        {
          "output_type": "stream",
          "name": "stdout",
          "text": [
            "metric cluster :  2\n",
            "Counter({'Christian Books & Bibles': 111, 'Teen & Young Adult': 8, \"Children's Books\": 6, 'Travel': 6, 'Health, Fitness & Dieting': 6, 'Science & Math': 5, 'Crafts, Hobbies & Home': 4, 'Business & Money': 2, 'Medical Books': 2, 'Cookbooks, Food & Wine': 1}) Counter({'Christian Books & Bibles': 59, 'Cookbooks, Food & Wine': 40, 'Travel': 34, \"Children's Books\": 16, 'Science & Math': 2})\n",
            "[('accuracy', 33.77), ('precision', 9.47), ('recall', 10.9), ('f1-macro', 7.94)]\n",
            "AL distribution: {0: 4, 5: 6, 1: 4, 6: 6, 7: 6, 4: 6, 9: 5, 3: 3, 8: 5, 2: 4}\n",
            "AL leftover: 1\n"
          ]
        },
        {
          "output_type": "stream",
          "name": "stderr",
          "text": [
            "/usr/local/lib/python3.7/dist-packages/sklearn/metrics/_classification.py:1318: UndefinedMetricWarning: Precision is ill-defined and being set to 0.0 in labels with no predicted samples. Use `zero_division` parameter to control this behavior.\n",
            "  _warn_prf(average, modifier, msg_start, len(result))\n"
          ]
        },
        {
          "output_type": "stream",
          "name": "stdout",
          "text": [
            "label dist after AL step: Counter({'Christian Books & Bibles': 14, 'Travel': 13, 'Crafts, Hobbies & Home': 13, 'Medical Books': 12, 'Health, Fitness & Dieting': 11, \"Children's Books\": 10, 'Cookbooks, Food & Wine': 8, 'Business & Money': 7, 'Science & Math': 7, 'Teen & Young Adult': 5})\n",
            "current data size: 100 100\n",
            "preprocessing train...\n",
            "language: en\n",
            "train sequence lengths:\n",
            "\tmean : 11\n",
            "\t95percentile : 25\n",
            "\t99percentile : 31\n"
          ]
        },
        {
          "output_type": "stream",
          "name": "stderr",
          "text": [
            "/usr/local/lib/python3.7/dist-packages/ktrain/utils.py:738: UserWarning: class_names argument was ignored, as they were extracted from string labels in dataset\n",
            "  \"class_names argument was ignored, as they were extracted from string labels in dataset\"\n"
          ]
        },
        {
          "output_type": "display_data",
          "data": {
            "text/plain": [
              "<IPython.core.display.HTML object>"
            ],
            "text/html": [
              "\n",
              "<style>\n",
              "    /* Turns off some styling */\n",
              "    progress {\n",
              "        /* gets rid of default border in Firefox and Opera. */\n",
              "        border: none;\n",
              "        /* Needs to be in here for Safari polyfill so background images work as expected. */\n",
              "        background-size: auto;\n",
              "    }\n",
              "    progress:not([value]), progress:not([value])::-webkit-progress-bar {\n",
              "        background: repeating-linear-gradient(45deg, #7e7e7e, #7e7e7e 10px, #5c5c5c 10px, #5c5c5c 20px);\n",
              "    }\n",
              "    .progress-bar-interrupted, .progress-bar-interrupted::-webkit-progress-bar {\n",
              "        background: #F44336;\n",
              "    }\n",
              "</style>\n"
            ]
          },
          "metadata": {}
        },
        {
          "output_type": "display_data",
          "data": {
            "text/plain": [
              "<IPython.core.display.HTML object>"
            ],
            "text/html": []
          },
          "metadata": {}
        },
        {
          "output_type": "stream",
          "name": "stdout",
          "text": [
            "Is Multi-Label? False\n",
            "preprocessing test...\n",
            "language: en\n",
            "test sequence lengths:\n",
            "\tmean : 9\n",
            "\t95percentile : 19\n",
            "\t99percentile : 25\n"
          ]
        },
        {
          "output_type": "display_data",
          "data": {
            "text/plain": [
              "<IPython.core.display.HTML object>"
            ],
            "text/html": [
              "\n",
              "<style>\n",
              "    /* Turns off some styling */\n",
              "    progress {\n",
              "        /* gets rid of default border in Firefox and Opera. */\n",
              "        border: none;\n",
              "        /* Needs to be in here for Safari polyfill so background images work as expected. */\n",
              "        background-size: auto;\n",
              "    }\n",
              "    progress:not([value]), progress:not([value])::-webkit-progress-bar {\n",
              "        background: repeating-linear-gradient(45deg, #7e7e7e, #7e7e7e 10px, #5c5c5c 10px, #5c5c5c 20px);\n",
              "    }\n",
              "    .progress-bar-interrupted, .progress-bar-interrupted::-webkit-progress-bar {\n",
              "        background: #F44336;\n",
              "    }\n",
              "</style>\n"
            ]
          },
          "metadata": {}
        },
        {
          "output_type": "display_data",
          "data": {
            "text/plain": [
              "<IPython.core.display.HTML object>"
            ],
            "text/html": []
          },
          "metadata": {}
        },
        {
          "output_type": "stream",
          "name": "stdout",
          "text": [
            "\n",
            "\n",
            "begin training using onecycle policy with max lr of 8e-05...\n",
            "Epoch 1/5\n",
            "7/7 [==============================] - 29s 2s/step - loss: 2.3645 - accuracy: 0.1500 - val_loss: 2.3713 - val_accuracy: 0.0880\n",
            "Epoch 2/5\n",
            "7/7 [==============================] - 12s 2s/step - loss: 2.2150 - accuracy: 0.2300 - val_loss: 2.2774 - val_accuracy: 0.1635\n",
            "Epoch 3/5\n",
            "7/7 [==============================] - 12s 2s/step - loss: 2.1294 - accuracy: 0.2000 - val_loss: 2.2139 - val_accuracy: 0.2115\n",
            "Epoch 4/5\n",
            "7/7 [==============================] - 12s 2s/step - loss: 1.9621 - accuracy: 0.4100 - val_loss: 2.2866 - val_accuracy: 0.1870\n",
            "Epoch 5/5\n",
            "7/7 [==============================] - 12s 2s/step - loss: 1.7989 - accuracy: 0.5100 - val_loss: 2.0864 - val_accuracy: 0.2920\n",
            "updating classifier\n",
            "['Business & Money', \"Children's Books\", 'Christian Books & Bibles', 'Cookbooks, Food & Wine', 'Crafts, Hobbies & Home', 'Health, Fitness & Dieting', 'Medical Books', 'Science & Math', 'Teen & Young Adult', 'Travel']\n",
            "-----------------ROUND 1DONE--------------\n",
            "100 50\n",
            "AL ROUND:  2  (RUN1) (AL STEP)\n",
            "metric cluster :  0\n",
            "Counter({'Travel': 77, 'Crafts, Hobbies & Home': 18, 'Science & Math': 17, \"Children's Books\": 13, 'Health, Fitness & Dieting': 4, 'Business & Money': 4, 'Teen & Young Adult': 3, 'Cookbooks, Food & Wine': 3, 'Christian Books & Bibles': 3, 'Medical Books': 2}) Counter({'Travel': 49, \"Children's Books\": 43, 'Christian Books & Bibles': 24, 'Crafts, Hobbies & Home': 21, 'Health, Fitness & Dieting': 7})\n",
            "[('accuracy', 36.81), ('precision', 13.26), ('recall', 22.88), ('f1-macro', 13.47)]\n"
          ]
        },
        {
          "output_type": "stream",
          "name": "stderr",
          "text": [
            "/usr/local/lib/python3.7/dist-packages/sklearn/metrics/_classification.py:1318: UndefinedMetricWarning: Precision is ill-defined and being set to 0.0 in labels with no predicted samples. Use `zero_division` parameter to control this behavior.\n",
            "  _warn_prf(average, modifier, msg_start, len(result))\n"
          ]
        },
        {
          "output_type": "stream",
          "name": "stdout",
          "text": [
            "metric cluster :  5\n",
            "Counter({'Business & Money': 143, 'Medical Books': 9, 'Christian Books & Bibles': 6, 'Science & Math': 5, 'Teen & Young Adult': 4, \"Children's Books\": 4, 'Travel': 3, 'Crafts, Hobbies & Home': 2, 'Health, Fitness & Dieting': 1, 'Cookbooks, Food & Wine': 1}) Counter({'Health, Fitness & Dieting': 42, 'Crafts, Hobbies & Home': 40, 'Christian Books & Bibles': 39, \"Children's Books\": 32, 'Travel': 14, 'Medical Books': 11})\n",
            "[('accuracy', 3.93), ('precision', 2.25), ('recall', 16.67), ('f1-macro', 3.87)]\n"
          ]
        },
        {
          "output_type": "stream",
          "name": "stderr",
          "text": [
            "/usr/local/lib/python3.7/dist-packages/sklearn/metrics/_classification.py:1318: UndefinedMetricWarning: Precision is ill-defined and being set to 0.0 in labels with no predicted samples. Use `zero_division` parameter to control this behavior.\n",
            "  _warn_prf(average, modifier, msg_start, len(result))\n"
          ]
        },
        {
          "output_type": "stream",
          "name": "stdout",
          "text": [
            "metric cluster :  1\n",
            "Counter({\"Children's Books\": 158, 'Teen & Young Adult': 65, 'Travel': 42, 'Christian Books & Bibles': 34, 'Crafts, Hobbies & Home': 24, 'Health, Fitness & Dieting': 23, 'Science & Math': 22, 'Medical Books': 10, 'Business & Money': 6, 'Cookbooks, Food & Wine': 5}) Counter({\"Children's Books\": 210, 'Travel': 99, 'Christian Books & Bibles': 66, 'Crafts, Hobbies & Home': 8, 'Health, Fitness & Dieting': 5, 'Medical Books': 1})\n",
            "[('accuracy', 33.93), ('precision', 13.23), ('recall', 14.26), ('f1-macro', 11.8)]\n"
          ]
        },
        {
          "output_type": "stream",
          "name": "stderr",
          "text": [
            "/usr/local/lib/python3.7/dist-packages/sklearn/metrics/_classification.py:1318: UndefinedMetricWarning: Precision is ill-defined and being set to 0.0 in labels with no predicted samples. Use `zero_division` parameter to control this behavior.\n",
            "  _warn_prf(average, modifier, msg_start, len(result))\n"
          ]
        },
        {
          "output_type": "stream",
          "name": "stdout",
          "text": [
            "metric cluster :  6\n",
            "Counter({'Crafts, Hobbies & Home': 88, \"Children's Books\": 19, 'Travel': 9, 'Health, Fitness & Dieting': 8, 'Cookbooks, Food & Wine': 6, 'Business & Money': 4, 'Science & Math': 4, 'Teen & Young Adult': 4, 'Christian Books & Bibles': 4}) Counter({\"Children's Books\": 64, 'Crafts, Hobbies & Home': 34, 'Travel': 22, 'Christian Books & Bibles': 18, 'Health, Fitness & Dieting': 6, 'Medical Books': 2})\n",
            "[('accuracy', 32.19), ('precision', 15.3), ('recall', 18.79), ('f1-macro', 13.8)]\n"
          ]
        },
        {
          "output_type": "stream",
          "name": "stderr",
          "text": [
            "/usr/local/lib/python3.7/dist-packages/sklearn/metrics/_classification.py:1318: UndefinedMetricWarning: Recall is ill-defined and being set to 0.0 in labels with no true samples. Use `zero_division` parameter to control this behavior.\n",
            "  _warn_prf(average, modifier, msg_start, len(result))\n",
            "/usr/local/lib/python3.7/dist-packages/sklearn/metrics/_classification.py:1318: UndefinedMetricWarning: Precision is ill-defined and being set to 0.0 in labels with no predicted samples. Use `zero_division` parameter to control this behavior.\n",
            "  _warn_prf(average, modifier, msg_start, len(result))\n"
          ]
        },
        {
          "output_type": "stream",
          "name": "stdout",
          "text": [
            "metric cluster :  7\n",
            "Counter({'Health, Fitness & Dieting': 78, 'Medical Books': 49, 'Teen & Young Adult': 20, 'Christian Books & Bibles': 13, 'Science & Math': 13, 'Business & Money': 10, \"Children's Books\": 7, 'Crafts, Hobbies & Home': 3, 'Cookbooks, Food & Wine': 1}) Counter({'Health, Fitness & Dieting': 97, 'Christian Books & Bibles': 49, \"Children's Books\": 20, 'Crafts, Hobbies & Home': 18, 'Travel': 7, 'Medical Books': 3})\n",
            "[('accuracy', 29.9), ('precision', 14.29), ('recall', 17.24), ('f1-macro', 10.51)]\n"
          ]
        },
        {
          "output_type": "stream",
          "name": "stderr",
          "text": [
            "/usr/local/lib/python3.7/dist-packages/sklearn/metrics/_classification.py:1318: UndefinedMetricWarning: Recall is ill-defined and being set to 0.0 in labels with no true samples. Use `zero_division` parameter to control this behavior.\n",
            "  _warn_prf(average, modifier, msg_start, len(result))\n",
            "/usr/local/lib/python3.7/dist-packages/sklearn/metrics/_classification.py:1318: UndefinedMetricWarning: Precision is ill-defined and being set to 0.0 in labels with no predicted samples. Use `zero_division` parameter to control this behavior.\n",
            "  _warn_prf(average, modifier, msg_start, len(result))\n"
          ]
        },
        {
          "output_type": "stream",
          "name": "stdout",
          "text": [
            "metric cluster :  4\n",
            "Counter({'Medical Books': 149, 'Health, Fitness & Dieting': 58, 'Crafts, Hobbies & Home': 4, 'Cookbooks, Food & Wine': 2, 'Teen & Young Adult': 2, 'Christian Books & Bibles': 2, 'Science & Math': 2, 'Business & Money': 2, 'Travel': 1}) Counter({'Health, Fitness & Dieting': 168, 'Christian Books & Bibles': 26, 'Medical Books': 11, 'Crafts, Hobbies & Home': 6, 'Travel': 6, \"Children's Books\": 5})\n",
            "[('accuracy', 26.58), ('precision', 17.15), ('recall', 28.43), ('f1-macro', 12.8)]\n"
          ]
        },
        {
          "output_type": "stream",
          "name": "stderr",
          "text": [
            "/usr/local/lib/python3.7/dist-packages/sklearn/metrics/_classification.py:1318: UndefinedMetricWarning: Recall is ill-defined and being set to 0.0 in labels with no true samples. Use `zero_division` parameter to control this behavior.\n",
            "  _warn_prf(average, modifier, msg_start, len(result))\n",
            "/usr/local/lib/python3.7/dist-packages/sklearn/metrics/_classification.py:1318: UndefinedMetricWarning: Precision is ill-defined and being set to 0.0 in labels with no predicted samples. Use `zero_division` parameter to control this behavior.\n",
            "  _warn_prf(average, modifier, msg_start, len(result))\n"
          ]
        },
        {
          "output_type": "stream",
          "name": "stdout",
          "text": [
            "metric cluster :  9\n",
            "Counter({'Cookbooks, Food & Wine': 113, 'Health, Fitness & Dieting': 30, 'Crafts, Hobbies & Home': 7, \"Children's Books\": 4, 'Medical Books': 3, 'Science & Math': 2, 'Teen & Young Adult': 2, 'Travel': 2}) Counter({'Crafts, Hobbies & Home': 46, 'Health, Fitness & Dieting': 35, \"Children's Books\": 35, 'Christian Books & Bibles': 24, 'Travel': 19, 'Medical Books': 4})\n",
            "[('accuracy', 12.27), ('precision', 8.73), ('recall', 16.77), ('f1-macro', 10.2)]\n"
          ]
        },
        {
          "output_type": "stream",
          "name": "stderr",
          "text": [
            "/usr/local/lib/python3.7/dist-packages/sklearn/metrics/_classification.py:1318: UndefinedMetricWarning: Recall is ill-defined and being set to 0.0 in labels with no true samples. Use `zero_division` parameter to control this behavior.\n",
            "  _warn_prf(average, modifier, msg_start, len(result))\n",
            "/usr/local/lib/python3.7/dist-packages/sklearn/metrics/_classification.py:1318: UndefinedMetricWarning: Precision is ill-defined and being set to 0.0 in labels with no predicted samples. Use `zero_division` parameter to control this behavior.\n",
            "  _warn_prf(average, modifier, msg_start, len(result))\n"
          ]
        },
        {
          "output_type": "stream",
          "name": "stdout",
          "text": [
            "metric cluster :  3\n",
            "Counter({'Travel': 175, \"Children's Books\": 12, 'Crafts, Hobbies & Home': 11, 'Teen & Young Adult': 8, 'Science & Math': 5, 'Christian Books & Bibles': 2, 'Business & Money': 2, 'Cookbooks, Food & Wine': 2, 'Health, Fitness & Dieting': 1}) Counter({'Travel': 103, \"Children's Books\": 84, 'Christian Books & Bibles': 19, 'Crafts, Hobbies & Home': 9, 'Health, Fitness & Dieting': 2, 'Medical Books': 1})\n",
            "[('accuracy', 43.12), ('precision', 11.09), ('recall', 19.21), ('f1-macro', 10.0)]\n"
          ]
        },
        {
          "output_type": "stream",
          "name": "stderr",
          "text": [
            "/usr/local/lib/python3.7/dist-packages/sklearn/metrics/_classification.py:1318: UndefinedMetricWarning: Recall is ill-defined and being set to 0.0 in labels with no true samples. Use `zero_division` parameter to control this behavior.\n",
            "  _warn_prf(average, modifier, msg_start, len(result))\n",
            "/usr/local/lib/python3.7/dist-packages/sklearn/metrics/_classification.py:1318: UndefinedMetricWarning: Precision is ill-defined and being set to 0.0 in labels with no predicted samples. Use `zero_division` parameter to control this behavior.\n",
            "  _warn_prf(average, modifier, msg_start, len(result))\n"
          ]
        },
        {
          "output_type": "stream",
          "name": "stdout",
          "text": [
            "metric cluster :  8\n",
            "Counter({'Science & Math': 100, 'Crafts, Hobbies & Home': 28, \"Children's Books\": 24, 'Teen & Young Adult': 12, 'Business & Money': 12, 'Medical Books': 8, 'Health, Fitness & Dieting': 6, 'Travel': 4, 'Christian Books & Bibles': 1}) Counter({'Health, Fitness & Dieting': 70, \"Children's Books\": 42, 'Christian Books & Bibles': 34, 'Crafts, Hobbies & Home': 21, 'Travel': 15, 'Medical Books': 12, 'Science & Math': 1})\n",
            "[('accuracy', 11.28), ('precision', 18.94), ('recall', 10.63), ('f1-macro', 8.3)]\n"
          ]
        },
        {
          "output_type": "stream",
          "name": "stderr",
          "text": [
            "/usr/local/lib/python3.7/dist-packages/sklearn/metrics/_classification.py:1318: UndefinedMetricWarning: Precision is ill-defined and being set to 0.0 in labels with no predicted samples. Use `zero_division` parameter to control this behavior.\n",
            "  _warn_prf(average, modifier, msg_start, len(result))\n"
          ]
        },
        {
          "output_type": "stream",
          "name": "stdout",
          "text": [
            "metric cluster :  2\n",
            "Counter({'Christian Books & Bibles': 111, 'Teen & Young Adult': 8, \"Children's Books\": 6, 'Travel': 6, 'Health, Fitness & Dieting': 6, 'Science & Math': 5, 'Crafts, Hobbies & Home': 4, 'Business & Money': 2, 'Medical Books': 2, 'Cookbooks, Food & Wine': 1}) Counter({'Christian Books & Bibles': 111, 'Travel': 22, 'Health, Fitness & Dieting': 10, \"Children's Books\": 7, 'Crafts, Hobbies & Home': 1})\n",
            "[('accuracy', 60.93), ('precision', 20.27), ('recall', 15.43), ('f1-macro', 14.89)]\n",
            "AL distribution: {0: 4, 5: 7, 1: 5, 6: 5, 7: 5, 4: 5, 9: 6, 3: 4, 8: 6, 2: 3}\n",
            "AL leftover: 0\n"
          ]
        },
        {
          "output_type": "stream",
          "name": "stderr",
          "text": [
            "/usr/local/lib/python3.7/dist-packages/sklearn/metrics/_classification.py:1318: UndefinedMetricWarning: Precision is ill-defined and being set to 0.0 in labels with no predicted samples. Use `zero_division` parameter to control this behavior.\n",
            "  _warn_prf(average, modifier, msg_start, len(result))\n"
          ]
        },
        {
          "output_type": "stream",
          "name": "stdout",
          "text": [
            "label dist after AL step: Counter({'Travel': 20, 'Crafts, Hobbies & Home': 20, 'Health, Fitness & Dieting': 17, 'Christian Books & Bibles': 17, \"Children's Books\": 15, 'Medical Books': 15, 'Business & Money': 15, 'Science & Math': 12, 'Cookbooks, Food & Wine': 12, 'Teen & Young Adult': 7})\n",
            "current data size: 150 150\n",
            "preprocessing train...\n",
            "language: en\n",
            "train sequence lengths:\n",
            "\tmean : 11\n",
            "\t95percentile : 25\n",
            "\t99percentile : 33\n"
          ]
        },
        {
          "output_type": "stream",
          "name": "stderr",
          "text": [
            "/usr/local/lib/python3.7/dist-packages/ktrain/utils.py:738: UserWarning: class_names argument was ignored, as they were extracted from string labels in dataset\n",
            "  \"class_names argument was ignored, as they were extracted from string labels in dataset\"\n"
          ]
        },
        {
          "output_type": "display_data",
          "data": {
            "text/plain": [
              "<IPython.core.display.HTML object>"
            ],
            "text/html": [
              "\n",
              "<style>\n",
              "    /* Turns off some styling */\n",
              "    progress {\n",
              "        /* gets rid of default border in Firefox and Opera. */\n",
              "        border: none;\n",
              "        /* Needs to be in here for Safari polyfill so background images work as expected. */\n",
              "        background-size: auto;\n",
              "    }\n",
              "    progress:not([value]), progress:not([value])::-webkit-progress-bar {\n",
              "        background: repeating-linear-gradient(45deg, #7e7e7e, #7e7e7e 10px, #5c5c5c 10px, #5c5c5c 20px);\n",
              "    }\n",
              "    .progress-bar-interrupted, .progress-bar-interrupted::-webkit-progress-bar {\n",
              "        background: #F44336;\n",
              "    }\n",
              "</style>\n"
            ]
          },
          "metadata": {}
        },
        {
          "output_type": "display_data",
          "data": {
            "text/plain": [
              "<IPython.core.display.HTML object>"
            ],
            "text/html": []
          },
          "metadata": {}
        },
        {
          "output_type": "stream",
          "name": "stdout",
          "text": [
            "Is Multi-Label? False\n",
            "preprocessing test...\n",
            "language: en\n",
            "test sequence lengths:\n",
            "\tmean : 9\n",
            "\t95percentile : 19\n",
            "\t99percentile : 25\n"
          ]
        },
        {
          "output_type": "display_data",
          "data": {
            "text/plain": [
              "<IPython.core.display.HTML object>"
            ],
            "text/html": [
              "\n",
              "<style>\n",
              "    /* Turns off some styling */\n",
              "    progress {\n",
              "        /* gets rid of default border in Firefox and Opera. */\n",
              "        border: none;\n",
              "        /* Needs to be in here for Safari polyfill so background images work as expected. */\n",
              "        background-size: auto;\n",
              "    }\n",
              "    progress:not([value]), progress:not([value])::-webkit-progress-bar {\n",
              "        background: repeating-linear-gradient(45deg, #7e7e7e, #7e7e7e 10px, #5c5c5c 10px, #5c5c5c 20px);\n",
              "    }\n",
              "    .progress-bar-interrupted, .progress-bar-interrupted::-webkit-progress-bar {\n",
              "        background: #F44336;\n",
              "    }\n",
              "</style>\n"
            ]
          },
          "metadata": {}
        },
        {
          "output_type": "display_data",
          "data": {
            "text/plain": [
              "<IPython.core.display.HTML object>"
            ],
            "text/html": []
          },
          "metadata": {}
        },
        {
          "output_type": "stream",
          "name": "stdout",
          "text": [
            "\n",
            "\n",
            "begin training using onecycle policy with max lr of 8e-05...\n",
            "Epoch 1/5\n",
            "10/10 [==============================] - 31s 2s/step - loss: 2.3010 - accuracy: 0.1200 - val_loss: 2.2841 - val_accuracy: 0.0995\n",
            "Epoch 2/5\n",
            "10/10 [==============================] - 13s 1s/step - loss: 2.1843 - accuracy: 0.1733 - val_loss: 2.2028 - val_accuracy: 0.2320\n",
            "Epoch 3/5\n",
            "10/10 [==============================] - 13s 1s/step - loss: 1.9998 - accuracy: 0.3133 - val_loss: 2.0611 - val_accuracy: 0.3410\n",
            "Epoch 4/5\n",
            "10/10 [==============================] - 13s 1s/step - loss: 1.6297 - accuracy: 0.6067 - val_loss: 1.9174 - val_accuracy: 0.4235\n",
            "Epoch 5/5\n",
            "10/10 [==============================] - 13s 1s/step - loss: 1.3723 - accuracy: 0.7800 - val_loss: 1.8224 - val_accuracy: 0.4595\n",
            "updating classifier\n",
            "['Business & Money', \"Children's Books\", 'Christian Books & Bibles', 'Cookbooks, Food & Wine', 'Crafts, Hobbies & Home', 'Health, Fitness & Dieting', 'Medical Books', 'Science & Math', 'Teen & Young Adult', 'Travel']\n",
            "-----------------ROUND 2DONE--------------\n",
            "50 50\n",
            "AL ROUND:  3  (RUN1) (AL STEP)\n",
            "metric cluster :  0\n",
            "Counter({'Travel': 77, 'Crafts, Hobbies & Home': 18, 'Science & Math': 17, \"Children's Books\": 13, 'Health, Fitness & Dieting': 4, 'Business & Money': 4, 'Teen & Young Adult': 3, 'Cookbooks, Food & Wine': 3, 'Christian Books & Bibles': 3, 'Medical Books': 2}) Counter({'Travel': 86, 'Crafts, Hobbies & Home': 13, \"Children's Books\": 13, 'Business & Money': 11, 'Medical Books': 7, 'Christian Books & Bibles': 7, 'Cookbooks, Food & Wine': 5, 'Health, Fitness & Dieting': 2})\n",
            "[('accuracy', 55.56), ('precision', 21.73), ('recall', 29.94), ('f1-macro', 23.3)]\n"
          ]
        },
        {
          "output_type": "stream",
          "name": "stderr",
          "text": [
            "/usr/local/lib/python3.7/dist-packages/sklearn/metrics/_classification.py:1318: UndefinedMetricWarning: Precision is ill-defined and being set to 0.0 in labels with no predicted samples. Use `zero_division` parameter to control this behavior.\n",
            "  _warn_prf(average, modifier, msg_start, len(result))\n"
          ]
        },
        {
          "output_type": "stream",
          "name": "stdout",
          "text": [
            "metric cluster :  5\n",
            "Counter({'Business & Money': 143, 'Medical Books': 9, 'Christian Books & Bibles': 6, 'Science & Math': 5, 'Teen & Young Adult': 4, \"Children's Books\": 4, 'Travel': 3, 'Crafts, Hobbies & Home': 2, 'Health, Fitness & Dieting': 1, 'Cookbooks, Food & Wine': 1}) Counter({'Business & Money': 145, 'Medical Books': 14, 'Christian Books & Bibles': 6, 'Travel': 6, 'Cookbooks, Food & Wine': 2, 'Crafts, Hobbies & Home': 2, \"Children's Books\": 2, 'Science & Math': 1})\n",
            "[('accuracy', 74.72), ('precision', 33.96), ('recall', 30.6), ('f1-macro', 28.93)]\n"
          ]
        },
        {
          "output_type": "stream",
          "name": "stderr",
          "text": [
            "/usr/local/lib/python3.7/dist-packages/sklearn/metrics/_classification.py:1318: UndefinedMetricWarning: Precision is ill-defined and being set to 0.0 in labels with no predicted samples. Use `zero_division` parameter to control this behavior.\n",
            "  _warn_prf(average, modifier, msg_start, len(result))\n"
          ]
        },
        {
          "output_type": "stream",
          "name": "stdout",
          "text": [
            "metric cluster :  1\n",
            "Counter({\"Children's Books\": 158, 'Teen & Young Adult': 65, 'Travel': 42, 'Christian Books & Bibles': 34, 'Crafts, Hobbies & Home': 24, 'Health, Fitness & Dieting': 23, 'Science & Math': 22, 'Medical Books': 10, 'Business & Money': 6, 'Cookbooks, Food & Wine': 5}) Counter({\"Children's Books\": 183, 'Christian Books & Bibles': 65, 'Business & Money': 54, 'Travel': 52, 'Health, Fitness & Dieting': 12, 'Crafts, Hobbies & Home': 12, 'Medical Books': 6, 'Cookbooks, Food & Wine': 3, 'Teen & Young Adult': 2})\n",
            "[('accuracy', 34.19), ('precision', 26.11), ('recall', 23.12), ('f1-macro', 20.07)]\n"
          ]
        },
        {
          "output_type": "stream",
          "name": "stderr",
          "text": [
            "/usr/local/lib/python3.7/dist-packages/sklearn/metrics/_classification.py:1318: UndefinedMetricWarning: Precision is ill-defined and being set to 0.0 in labels with no predicted samples. Use `zero_division` parameter to control this behavior.\n",
            "  _warn_prf(average, modifier, msg_start, len(result))\n"
          ]
        },
        {
          "output_type": "stream",
          "name": "stdout",
          "text": [
            "metric cluster :  6\n",
            "Counter({'Crafts, Hobbies & Home': 88, \"Children's Books\": 19, 'Travel': 9, 'Health, Fitness & Dieting': 8, 'Cookbooks, Food & Wine': 6, 'Business & Money': 4, 'Science & Math': 4, 'Teen & Young Adult': 4, 'Christian Books & Bibles': 4}) Counter({'Crafts, Hobbies & Home': 54, \"Children's Books\": 44, 'Business & Money': 15, 'Travel': 15, 'Christian Books & Bibles': 8, 'Medical Books': 6, 'Health, Fitness & Dieting': 2, 'Teen & Young Adult': 1, 'Cookbooks, Food & Wine': 1})\n",
            "[('accuracy', 38.36), ('precision', 14.31), ('recall', 18.28), ('f1-macro', 14.82)]\n"
          ]
        },
        {
          "output_type": "stream",
          "name": "stderr",
          "text": [
            "/usr/local/lib/python3.7/dist-packages/sklearn/metrics/_classification.py:1318: UndefinedMetricWarning: Recall is ill-defined and being set to 0.0 in labels with no true samples. Use `zero_division` parameter to control this behavior.\n",
            "  _warn_prf(average, modifier, msg_start, len(result))\n",
            "/usr/local/lib/python3.7/dist-packages/sklearn/metrics/_classification.py:1318: UndefinedMetricWarning: Precision is ill-defined and being set to 0.0 in labels with no predicted samples. Use `zero_division` parameter to control this behavior.\n",
            "  _warn_prf(average, modifier, msg_start, len(result))\n"
          ]
        },
        {
          "output_type": "stream",
          "name": "stdout",
          "text": [
            "metric cluster :  7\n",
            "Counter({'Health, Fitness & Dieting': 78, 'Medical Books': 49, 'Teen & Young Adult': 20, 'Christian Books & Bibles': 13, 'Science & Math': 13, 'Business & Money': 10, \"Children's Books\": 7, 'Crafts, Hobbies & Home': 3, 'Cookbooks, Food & Wine': 1}) Counter({'Medical Books': 66, 'Christian Books & Bibles': 42, 'Business & Money': 37, 'Health, Fitness & Dieting': 26, \"Children's Books\": 17, 'Crafts, Hobbies & Home': 3, 'Travel': 3})\n",
            "[('accuracy', 31.96), ('precision', 18.52), ('recall', 27.46), ('f1-macro', 19.14)]\n"
          ]
        },
        {
          "output_type": "stream",
          "name": "stderr",
          "text": [
            "/usr/local/lib/python3.7/dist-packages/sklearn/metrics/_classification.py:1318: UndefinedMetricWarning: Recall is ill-defined and being set to 0.0 in labels with no true samples. Use `zero_division` parameter to control this behavior.\n",
            "  _warn_prf(average, modifier, msg_start, len(result))\n",
            "/usr/local/lib/python3.7/dist-packages/sklearn/metrics/_classification.py:1318: UndefinedMetricWarning: Precision is ill-defined and being set to 0.0 in labels with no predicted samples. Use `zero_division` parameter to control this behavior.\n",
            "  _warn_prf(average, modifier, msg_start, len(result))\n"
          ]
        },
        {
          "output_type": "stream",
          "name": "stdout",
          "text": [
            "metric cluster :  4\n",
            "Counter({'Medical Books': 149, 'Health, Fitness & Dieting': 58, 'Crafts, Hobbies & Home': 4, 'Cookbooks, Food & Wine': 2, 'Teen & Young Adult': 2, 'Christian Books & Bibles': 2, 'Science & Math': 2, 'Business & Money': 2, 'Travel': 1}) Counter({'Medical Books': 147, 'Business & Money': 32, 'Science & Math': 12, 'Christian Books & Bibles': 10, \"Children's Books\": 8, 'Health, Fitness & Dieting': 6, 'Crafts, Hobbies & Home': 4, 'Travel': 3})\n",
            "[('accuracy', 49.55), ('precision', 18.84), ('recall', 27.6), ('f1-macro', 16.3)]\n"
          ]
        },
        {
          "output_type": "stream",
          "name": "stderr",
          "text": [
            "/usr/local/lib/python3.7/dist-packages/sklearn/metrics/_classification.py:1318: UndefinedMetricWarning: Recall is ill-defined and being set to 0.0 in labels with no true samples. Use `zero_division` parameter to control this behavior.\n",
            "  _warn_prf(average, modifier, msg_start, len(result))\n",
            "/usr/local/lib/python3.7/dist-packages/sklearn/metrics/_classification.py:1318: UndefinedMetricWarning: Precision is ill-defined and being set to 0.0 in labels with no predicted samples. Use `zero_division` parameter to control this behavior.\n",
            "  _warn_prf(average, modifier, msg_start, len(result))\n"
          ]
        },
        {
          "output_type": "stream",
          "name": "stdout",
          "text": [
            "metric cluster :  9\n",
            "Counter({'Cookbooks, Food & Wine': 113, 'Health, Fitness & Dieting': 30, 'Crafts, Hobbies & Home': 7, \"Children's Books\": 4, 'Medical Books': 3, 'Science & Math': 2, 'Teen & Young Adult': 2, 'Travel': 2}) Counter({\"Children's Books\": 41, 'Crafts, Hobbies & Home': 28, 'Business & Money': 20, 'Medical Books': 20, 'Travel': 19, 'Cookbooks, Food & Wine': 19, 'Christian Books & Bibles': 12, 'Health, Fitness & Dieting': 4})\n",
            "[('accuracy', 15.34), ('precision', 13.61), ('recall', 26.18), ('f1-macro', 8.47)]\n"
          ]
        },
        {
          "output_type": "stream",
          "name": "stderr",
          "text": [
            "/usr/local/lib/python3.7/dist-packages/sklearn/metrics/_classification.py:1318: UndefinedMetricWarning: Recall is ill-defined and being set to 0.0 in labels with no true samples. Use `zero_division` parameter to control this behavior.\n",
            "  _warn_prf(average, modifier, msg_start, len(result))\n",
            "/usr/local/lib/python3.7/dist-packages/sklearn/metrics/_classification.py:1318: UndefinedMetricWarning: Precision is ill-defined and being set to 0.0 in labels with no predicted samples. Use `zero_division` parameter to control this behavior.\n",
            "  _warn_prf(average, modifier, msg_start, len(result))\n"
          ]
        },
        {
          "output_type": "stream",
          "name": "stdout",
          "text": [
            "metric cluster :  3\n",
            "Counter({'Travel': 175, \"Children's Books\": 12, 'Crafts, Hobbies & Home': 11, 'Teen & Young Adult': 8, 'Science & Math': 5, 'Christian Books & Bibles': 2, 'Business & Money': 2, 'Cookbooks, Food & Wine': 2, 'Health, Fitness & Dieting': 1}) Counter({'Travel': 159, 'Business & Money': 22, 'Christian Books & Bibles': 15, \"Children's Books\": 15, 'Cookbooks, Food & Wine': 3, 'Crafts, Hobbies & Home': 2, 'Health, Fitness & Dieting': 1, 'Medical Books': 1})\n",
            "[('accuracy', 68.35), ('precision', 21.66), ('recall', 21.66), ('f1-macro', 15.47)]\n"
          ]
        },
        {
          "output_type": "stream",
          "name": "stderr",
          "text": [
            "/usr/local/lib/python3.7/dist-packages/sklearn/metrics/_classification.py:1318: UndefinedMetricWarning: Recall is ill-defined and being set to 0.0 in labels with no true samples. Use `zero_division` parameter to control this behavior.\n",
            "  _warn_prf(average, modifier, msg_start, len(result))\n",
            "/usr/local/lib/python3.7/dist-packages/sklearn/metrics/_classification.py:1318: UndefinedMetricWarning: Precision is ill-defined and being set to 0.0 in labels with no predicted samples. Use `zero_division` parameter to control this behavior.\n",
            "  _warn_prf(average, modifier, msg_start, len(result))\n"
          ]
        },
        {
          "output_type": "stream",
          "name": "stdout",
          "text": [
            "metric cluster :  8\n",
            "Counter({'Science & Math': 100, 'Crafts, Hobbies & Home': 28, \"Children's Books\": 24, 'Teen & Young Adult': 12, 'Business & Money': 12, 'Medical Books': 8, 'Health, Fitness & Dieting': 6, 'Travel': 4, 'Christian Books & Bibles': 1}) Counter({'Business & Money': 88, 'Science & Math': 46, 'Medical Books': 24, 'Travel': 15, \"Children's Books\": 11, 'Crafts, Hobbies & Home': 6, 'Christian Books & Bibles': 3, 'Cookbooks, Food & Wine': 2})\n",
            "[('accuracy', 31.79), ('precision', 24.91), ('recall', 20.41), ('f1-macro', 15.34)]\n"
          ]
        },
        {
          "output_type": "stream",
          "name": "stderr",
          "text": [
            "/usr/local/lib/python3.7/dist-packages/sklearn/metrics/_classification.py:1318: UndefinedMetricWarning: Recall is ill-defined and being set to 0.0 in labels with no true samples. Use `zero_division` parameter to control this behavior.\n",
            "  _warn_prf(average, modifier, msg_start, len(result))\n",
            "/usr/local/lib/python3.7/dist-packages/sklearn/metrics/_classification.py:1318: UndefinedMetricWarning: Precision is ill-defined and being set to 0.0 in labels with no predicted samples. Use `zero_division` parameter to control this behavior.\n",
            "  _warn_prf(average, modifier, msg_start, len(result))\n"
          ]
        },
        {
          "output_type": "stream",
          "name": "stdout",
          "text": [
            "metric cluster :  2\n",
            "Counter({'Christian Books & Bibles': 111, 'Teen & Young Adult': 8, \"Children's Books\": 6, 'Travel': 6, 'Health, Fitness & Dieting': 6, 'Science & Math': 5, 'Crafts, Hobbies & Home': 4, 'Business & Money': 2, 'Medical Books': 2, 'Cookbooks, Food & Wine': 1}) Counter({'Christian Books & Bibles': 136, 'Business & Money': 5, 'Medical Books': 3, \"Children's Books\": 3, 'Travel': 3, 'Crafts, Hobbies & Home': 1})\n",
            "[('accuracy', 72.19), ('precision', 29.65), ('recall', 25.2), ('f1-macro', 23.72)]\n",
            "AL distribution: {0: 4, 5: 2, 1: 6, 6: 6, 7: 6, 4: 5, 9: 8, 3: 3, 8: 6, 2: 3}\n",
            "AL leftover: 1\n"
          ]
        },
        {
          "output_type": "stream",
          "name": "stderr",
          "text": [
            "/usr/local/lib/python3.7/dist-packages/sklearn/metrics/_classification.py:1318: UndefinedMetricWarning: Precision is ill-defined and being set to 0.0 in labels with no predicted samples. Use `zero_division` parameter to control this behavior.\n",
            "  _warn_prf(average, modifier, msg_start, len(result))\n"
          ]
        },
        {
          "output_type": "stream",
          "name": "stdout",
          "text": [
            "label dist after AL step: Counter({'Crafts, Hobbies & Home': 27, 'Travel': 26, 'Health, Fitness & Dieting': 23, 'Medical Books': 23, \"Children's Books\": 19, 'Christian Books & Bibles': 19, 'Cookbooks, Food & Wine': 18, 'Business & Money': 17, 'Science & Math': 17, 'Teen & Young Adult': 11})\n",
            "current data size: 200 200\n",
            "preprocessing train...\n",
            "language: en\n",
            "train sequence lengths:\n",
            "\tmean : 11\n",
            "\t95percentile : 25\n",
            "\t99percentile : 31\n"
          ]
        },
        {
          "output_type": "stream",
          "name": "stderr",
          "text": [
            "/usr/local/lib/python3.7/dist-packages/ktrain/utils.py:738: UserWarning: class_names argument was ignored, as they were extracted from string labels in dataset\n",
            "  \"class_names argument was ignored, as they were extracted from string labels in dataset\"\n"
          ]
        },
        {
          "output_type": "display_data",
          "data": {
            "text/plain": [
              "<IPython.core.display.HTML object>"
            ],
            "text/html": [
              "\n",
              "<style>\n",
              "    /* Turns off some styling */\n",
              "    progress {\n",
              "        /* gets rid of default border in Firefox and Opera. */\n",
              "        border: none;\n",
              "        /* Needs to be in here for Safari polyfill so background images work as expected. */\n",
              "        background-size: auto;\n",
              "    }\n",
              "    progress:not([value]), progress:not([value])::-webkit-progress-bar {\n",
              "        background: repeating-linear-gradient(45deg, #7e7e7e, #7e7e7e 10px, #5c5c5c 10px, #5c5c5c 20px);\n",
              "    }\n",
              "    .progress-bar-interrupted, .progress-bar-interrupted::-webkit-progress-bar {\n",
              "        background: #F44336;\n",
              "    }\n",
              "</style>\n"
            ]
          },
          "metadata": {}
        },
        {
          "output_type": "display_data",
          "data": {
            "text/plain": [
              "<IPython.core.display.HTML object>"
            ],
            "text/html": []
          },
          "metadata": {}
        },
        {
          "output_type": "stream",
          "name": "stdout",
          "text": [
            "Is Multi-Label? False\n",
            "preprocessing test...\n",
            "language: en\n",
            "test sequence lengths:\n",
            "\tmean : 9\n",
            "\t95percentile : 19\n",
            "\t99percentile : 25\n"
          ]
        },
        {
          "output_type": "display_data",
          "data": {
            "text/plain": [
              "<IPython.core.display.HTML object>"
            ],
            "text/html": [
              "\n",
              "<style>\n",
              "    /* Turns off some styling */\n",
              "    progress {\n",
              "        /* gets rid of default border in Firefox and Opera. */\n",
              "        border: none;\n",
              "        /* Needs to be in here for Safari polyfill so background images work as expected. */\n",
              "        background-size: auto;\n",
              "    }\n",
              "    progress:not([value]), progress:not([value])::-webkit-progress-bar {\n",
              "        background: repeating-linear-gradient(45deg, #7e7e7e, #7e7e7e 10px, #5c5c5c 10px, #5c5c5c 20px);\n",
              "    }\n",
              "    .progress-bar-interrupted, .progress-bar-interrupted::-webkit-progress-bar {\n",
              "        background: #F44336;\n",
              "    }\n",
              "</style>\n"
            ]
          },
          "metadata": {}
        },
        {
          "output_type": "display_data",
          "data": {
            "text/plain": [
              "<IPython.core.display.HTML object>"
            ],
            "text/html": []
          },
          "metadata": {}
        },
        {
          "output_type": "stream",
          "name": "stdout",
          "text": [
            "\n",
            "\n",
            "begin training using onecycle policy with max lr of 8e-05...\n",
            "Epoch 1/5\n",
            "13/13 [==============================] - 32s 1s/step - loss: 2.3105 - accuracy: 0.1100 - val_loss: 2.2806 - val_accuracy: 0.1150\n",
            "Epoch 2/5\n",
            "13/13 [==============================] - 14s 1s/step - loss: 2.1844 - accuracy: 0.1800 - val_loss: 2.2465 - val_accuracy: 0.1455\n",
            "Epoch 3/5\n",
            "13/13 [==============================] - 14s 1s/step - loss: 1.9416 - accuracy: 0.4050 - val_loss: 1.8185 - val_accuracy: 0.4575\n",
            "Epoch 4/5\n",
            "13/13 [==============================] - 14s 1s/step - loss: 1.4433 - accuracy: 0.6950 - val_loss: 1.6455 - val_accuracy: 0.4935\n",
            "Epoch 5/5\n",
            "13/13 [==============================] - 14s 1s/step - loss: 1.0574 - accuracy: 0.8050 - val_loss: 1.4934 - val_accuracy: 0.5460\n",
            "updating classifier\n",
            "['Business & Money', \"Children's Books\", 'Christian Books & Bibles', 'Cookbooks, Food & Wine', 'Crafts, Hobbies & Home', 'Health, Fitness & Dieting', 'Medical Books', 'Science & Math', 'Teen & Young Adult', 'Travel']\n",
            "-----------------ROUND 3DONE--------------\n"
          ]
        },
        {
          "output_type": "stream",
          "name": "stderr",
          "text": [
            "/usr/local/lib/python3.7/dist-packages/sklearn/metrics/_classification.py:1318: UndefinedMetricWarning: Precision is ill-defined and being set to 0.0 in labels with no predicted samples. Use `zero_division` parameter to control this behavior.\n",
            "  _warn_prf(average, modifier, msg_start, len(result))\n"
          ]
        },
        {
          "output_type": "stream",
          "name": "stdout",
          "text": [
            "[('accuracy', 54.72), ('precision', 54.06), ('recall', 53.2), ('f1-macro', 49.39)]\n",
            "predicted dist after ROUND 3: Counter({'Crafts, Hobbies & Home': 852, 'Travel': 775, 'Christian Books & Bibles': 647, 'Health, Fitness & Dieting': 485, 'Medical Books': 444, 'Business & Money': 313, 'Cookbooks, Food & Wine': 245, 'Science & Math': 180, \"Children's Books\": 59})\n",
            "test results after ROUND 3: [('accuracy', 54.72), ('precision', 54.06), ('recall', 53.2), ('f1-macro', 49.39)]\n",
            "-------------------- DONE with RUN1--------------------\n",
            "Task: BTYPE\n",
            "N: 200\n",
            "K: 10\n",
            "----------DOING RUN: RUN2 -----------------\n",
            "-----RUNNING INITIAL CLUSTERING------\n",
            "CLUSTER DIST:\n",
            "0 971\n",
            "5 1178\n",
            "1 2634\n",
            "6 1091\n",
            "7 1259\n",
            "4 1636\n",
            "9 1363\n",
            "3 1529\n",
            "8 1286\n",
            "2 1053\n",
            "-----INITIAL CLUSTERING DONE----\n",
            "rounds: 0\n",
            "current data size: 50 50\n",
            "preprocessing train...\n",
            "language: en\n",
            "train sequence lengths:\n",
            "\tmean : 9\n",
            "\t95percentile : 19\n",
            "\t99percentile : 22\n"
          ]
        },
        {
          "output_type": "stream",
          "name": "stderr",
          "text": [
            "/usr/local/lib/python3.7/dist-packages/ktrain/utils.py:738: UserWarning: class_names argument was ignored, as they were extracted from string labels in dataset\n",
            "  \"class_names argument was ignored, as they were extracted from string labels in dataset\"\n"
          ]
        },
        {
          "output_type": "display_data",
          "data": {
            "text/plain": [
              "<IPython.core.display.HTML object>"
            ],
            "text/html": [
              "\n",
              "<style>\n",
              "    /* Turns off some styling */\n",
              "    progress {\n",
              "        /* gets rid of default border in Firefox and Opera. */\n",
              "        border: none;\n",
              "        /* Needs to be in here for Safari polyfill so background images work as expected. */\n",
              "        background-size: auto;\n",
              "    }\n",
              "    progress:not([value]), progress:not([value])::-webkit-progress-bar {\n",
              "        background: repeating-linear-gradient(45deg, #7e7e7e, #7e7e7e 10px, #5c5c5c 10px, #5c5c5c 20px);\n",
              "    }\n",
              "    .progress-bar-interrupted, .progress-bar-interrupted::-webkit-progress-bar {\n",
              "        background: #F44336;\n",
              "    }\n",
              "</style>\n"
            ]
          },
          "metadata": {}
        },
        {
          "output_type": "display_data",
          "data": {
            "text/plain": [
              "<IPython.core.display.HTML object>"
            ],
            "text/html": []
          },
          "metadata": {}
        },
        {
          "output_type": "stream",
          "name": "stdout",
          "text": [
            "Is Multi-Label? False\n",
            "preprocessing test...\n",
            "language: en\n",
            "test sequence lengths:\n",
            "\tmean : 9\n",
            "\t95percentile : 19\n",
            "\t99percentile : 25\n"
          ]
        },
        {
          "output_type": "display_data",
          "data": {
            "text/plain": [
              "<IPython.core.display.HTML object>"
            ],
            "text/html": [
              "\n",
              "<style>\n",
              "    /* Turns off some styling */\n",
              "    progress {\n",
              "        /* gets rid of default border in Firefox and Opera. */\n",
              "        border: none;\n",
              "        /* Needs to be in here for Safari polyfill so background images work as expected. */\n",
              "        background-size: auto;\n",
              "    }\n",
              "    progress:not([value]), progress:not([value])::-webkit-progress-bar {\n",
              "        background: repeating-linear-gradient(45deg, #7e7e7e, #7e7e7e 10px, #5c5c5c 10px, #5c5c5c 20px);\n",
              "    }\n",
              "    .progress-bar-interrupted, .progress-bar-interrupted::-webkit-progress-bar {\n",
              "        background: #F44336;\n",
              "    }\n",
              "</style>\n"
            ]
          },
          "metadata": {}
        },
        {
          "output_type": "display_data",
          "data": {
            "text/plain": [
              "<IPython.core.display.HTML object>"
            ],
            "text/html": []
          },
          "metadata": {}
        },
        {
          "output_type": "stream",
          "name": "stdout",
          "text": [
            "\n",
            "\n",
            "begin training using onecycle policy with max lr of 8e-05...\n",
            "Epoch 1/5\n",
            "4/4 [==============================] - 31s 5s/step - loss: 2.3368 - accuracy: 0.0600 - val_loss: 2.3266 - val_accuracy: 0.0940\n",
            "Epoch 2/5\n",
            "4/4 [==============================] - 11s 4s/step - loss: 2.2644 - accuracy: 0.1200 - val_loss: 2.2708 - val_accuracy: 0.0815\n",
            "Epoch 3/5\n",
            "4/4 [==============================] - 11s 4s/step - loss: 2.1386 - accuracy: 0.2000 - val_loss: 2.2142 - val_accuracy: 0.2105\n",
            "Epoch 4/5\n",
            "4/4 [==============================] - 11s 4s/step - loss: 1.9178 - accuracy: 0.3800 - val_loss: 2.1814 - val_accuracy: 0.2255\n",
            "Epoch 5/5\n",
            "4/4 [==============================] - 11s 4s/step - loss: 1.8009 - accuracy: 0.4200 - val_loss: 2.1450 - val_accuracy: 0.2490\n",
            "getting bootstrapped classifier\n",
            "['Business & Money', \"Children's Books\", 'Christian Books & Bibles', 'Cookbooks, Food & Wine', 'Crafts, Hobbies & Home', 'Health, Fitness & Dieting', 'Medical Books', 'Science & Math', 'Teen & Young Adult', 'Travel']\n",
            "label dist after bootstrap: Counter({'Travel': 12, 'Crafts, Hobbies & Home': 7, \"Children's Books\": 6, 'Medical Books': 5, 'Teen & Young Adult': 4, 'Health, Fitness & Dieting': 4, 'Cookbooks, Food & Wine': 4, 'Business & Money': 4, 'Christian Books & Bibles': 2, 'Science & Math': 2})\n",
            "--------------------BOOTSTRAP DONE--------------------\n",
            "150 50\n",
            "AL ROUND:  1  (RUN2) (AL STEP)\n",
            "metric cluster :  0\n",
            "Counter({'Travel': 77, 'Crafts, Hobbies & Home': 18, 'Science & Math': 17, \"Children's Books\": 13, 'Health, Fitness & Dieting': 4, 'Business & Money': 4, 'Teen & Young Adult': 3, 'Cookbooks, Food & Wine': 3, 'Christian Books & Bibles': 3, 'Medical Books': 2}) Counter({'Travel': 128, 'Business & Money': 10, 'Medical Books': 5, 'Crafts, Hobbies & Home': 1})\n",
            "[('accuracy', 52.78), ('precision', 7.78), ('recall', 14.61), ('f1-macro', 10.08)]\n"
          ]
        },
        {
          "output_type": "stream",
          "name": "stderr",
          "text": [
            "/usr/local/lib/python3.7/dist-packages/sklearn/metrics/_classification.py:1318: UndefinedMetricWarning: Precision is ill-defined and being set to 0.0 in labels with no predicted samples. Use `zero_division` parameter to control this behavior.\n",
            "  _warn_prf(average, modifier, msg_start, len(result))\n"
          ]
        },
        {
          "output_type": "stream",
          "name": "stdout",
          "text": [
            "metric cluster :  5\n",
            "Counter({'Business & Money': 143, 'Medical Books': 9, 'Christian Books & Bibles': 6, 'Science & Math': 5, 'Teen & Young Adult': 4, \"Children's Books\": 4, 'Travel': 3, 'Crafts, Hobbies & Home': 2, 'Health, Fitness & Dieting': 1, 'Cookbooks, Food & Wine': 1}) Counter({'Business & Money': 79, 'Travel': 51, 'Medical Books': 40, 'Crafts, Hobbies & Home': 8})\n",
            "[('accuracy', 42.7), ('precision', 10.45), ('recall', 20.31), ('f1-macro', 9.28)]\n"
          ]
        },
        {
          "output_type": "stream",
          "name": "stderr",
          "text": [
            "/usr/local/lib/python3.7/dist-packages/sklearn/metrics/_classification.py:1318: UndefinedMetricWarning: Precision is ill-defined and being set to 0.0 in labels with no predicted samples. Use `zero_division` parameter to control this behavior.\n",
            "  _warn_prf(average, modifier, msg_start, len(result))\n"
          ]
        },
        {
          "output_type": "stream",
          "name": "stdout",
          "text": [
            "metric cluster :  1\n",
            "Counter({\"Children's Books\": 158, 'Teen & Young Adult': 65, 'Travel': 42, 'Christian Books & Bibles': 34, 'Crafts, Hobbies & Home': 24, 'Health, Fitness & Dieting': 23, 'Science & Math': 22, 'Medical Books': 10, 'Business & Money': 6, 'Cookbooks, Food & Wine': 5}) Counter({'Travel': 336, 'Business & Money': 26, 'Crafts, Hobbies & Home': 22, 'Medical Books': 5})\n",
            "[('accuracy', 11.83), ('precision', 8.77), ('recall', 17.7), ('f1-macro', 8.37)]\n"
          ]
        },
        {
          "output_type": "stream",
          "name": "stderr",
          "text": [
            "/usr/local/lib/python3.7/dist-packages/sklearn/metrics/_classification.py:1318: UndefinedMetricWarning: Precision is ill-defined and being set to 0.0 in labels with no predicted samples. Use `zero_division` parameter to control this behavior.\n",
            "  _warn_prf(average, modifier, msg_start, len(result))\n"
          ]
        },
        {
          "output_type": "stream",
          "name": "stdout",
          "text": [
            "metric cluster :  6\n",
            "Counter({'Crafts, Hobbies & Home': 88, \"Children's Books\": 19, 'Travel': 9, 'Health, Fitness & Dieting': 8, 'Cookbooks, Food & Wine': 6, 'Business & Money': 4, 'Science & Math': 4, 'Teen & Young Adult': 4, 'Christian Books & Bibles': 4}) Counter({'Travel': 95, 'Business & Money': 28, 'Crafts, Hobbies & Home': 16, 'Medical Books': 7})\n",
            "[('accuracy', 13.7), ('precision', 7.55), ('recall', 13.64), ('f1-macro', 4.28)]\n"
          ]
        },
        {
          "output_type": "stream",
          "name": "stderr",
          "text": [
            "/usr/local/lib/python3.7/dist-packages/sklearn/metrics/_classification.py:1318: UndefinedMetricWarning: Recall is ill-defined and being set to 0.0 in labels with no true samples. Use `zero_division` parameter to control this behavior.\n",
            "  _warn_prf(average, modifier, msg_start, len(result))\n",
            "/usr/local/lib/python3.7/dist-packages/sklearn/metrics/_classification.py:1318: UndefinedMetricWarning: Precision is ill-defined and being set to 0.0 in labels with no predicted samples. Use `zero_division` parameter to control this behavior.\n",
            "  _warn_prf(average, modifier, msg_start, len(result))\n"
          ]
        },
        {
          "output_type": "stream",
          "name": "stdout",
          "text": [
            "metric cluster :  7\n",
            "Counter({'Health, Fitness & Dieting': 78, 'Medical Books': 49, 'Teen & Young Adult': 20, 'Christian Books & Bibles': 13, 'Science & Math': 13, 'Business & Money': 10, \"Children's Books\": 7, 'Crafts, Hobbies & Home': 3, 'Cookbooks, Food & Wine': 1}) Counter({'Business & Money': 86, 'Travel': 52, 'Medical Books': 41, 'Crafts, Hobbies & Home': 15})\n",
            "[('accuracy', 12.89), ('precision', 5.33), ('recall', 9.88), ('f1-macro', 5.47)]\n"
          ]
        },
        {
          "output_type": "stream",
          "name": "stderr",
          "text": [
            "/usr/local/lib/python3.7/dist-packages/sklearn/metrics/_classification.py:1318: UndefinedMetricWarning: Recall is ill-defined and being set to 0.0 in labels with no true samples. Use `zero_division` parameter to control this behavior.\n",
            "  _warn_prf(average, modifier, msg_start, len(result))\n",
            "/usr/local/lib/python3.7/dist-packages/sklearn/metrics/_classification.py:1318: UndefinedMetricWarning: Precision is ill-defined and being set to 0.0 in labels with no predicted samples. Use `zero_division` parameter to control this behavior.\n",
            "  _warn_prf(average, modifier, msg_start, len(result))\n"
          ]
        },
        {
          "output_type": "stream",
          "name": "stdout",
          "text": [
            "metric cluster :  4\n",
            "Counter({'Medical Books': 149, 'Health, Fitness & Dieting': 58, 'Crafts, Hobbies & Home': 4, 'Cookbooks, Food & Wine': 2, 'Teen & Young Adult': 2, 'Christian Books & Bibles': 2, 'Science & Math': 2, 'Business & Money': 2, 'Travel': 1}) Counter({'Medical Books': 88, 'Travel': 84, 'Business & Money': 39, 'Crafts, Hobbies & Home': 11})\n",
            "[('accuracy', 29.73), ('precision', 9.22), ('recall', 18.66), ('f1-macro', 7.74)]\n"
          ]
        },
        {
          "output_type": "stream",
          "name": "stderr",
          "text": [
            "/usr/local/lib/python3.7/dist-packages/sklearn/metrics/_classification.py:1318: UndefinedMetricWarning: Precision is ill-defined and being set to 0.0 in labels with no predicted samples. Use `zero_division` parameter to control this behavior.\n",
            "  _warn_prf(average, modifier, msg_start, len(result))\n"
          ]
        },
        {
          "output_type": "stream",
          "name": "stdout",
          "text": [
            "metric cluster :  9\n",
            "Counter({'Cookbooks, Food & Wine': 113, 'Health, Fitness & Dieting': 30, 'Crafts, Hobbies & Home': 7, \"Children's Books\": 4, 'Medical Books': 3, 'Science & Math': 2, 'Teen & Young Adult': 2, 'Travel': 2}) Counter({'Travel': 106, 'Business & Money': 40, 'Crafts, Hobbies & Home': 11, 'Cookbooks, Food & Wine': 3, 'Medical Books': 3})\n",
            "[('accuracy', 1.84), ('precision', 7.51), ('recall', 5.75), ('f1-macro', 0.59)]\n"
          ]
        },
        {
          "output_type": "stream",
          "name": "stderr",
          "text": [
            "/usr/local/lib/python3.7/dist-packages/sklearn/metrics/_classification.py:1318: UndefinedMetricWarning: Recall is ill-defined and being set to 0.0 in labels with no true samples. Use `zero_division` parameter to control this behavior.\n",
            "  _warn_prf(average, modifier, msg_start, len(result))\n",
            "/usr/local/lib/python3.7/dist-packages/sklearn/metrics/_classification.py:1318: UndefinedMetricWarning: Precision is ill-defined and being set to 0.0 in labels with no predicted samples. Use `zero_division` parameter to control this behavior.\n",
            "  _warn_prf(average, modifier, msg_start, len(result))\n"
          ]
        },
        {
          "output_type": "stream",
          "name": "stdout",
          "text": [
            "metric cluster :  3\n",
            "Counter({'Travel': 175, \"Children's Books\": 12, 'Crafts, Hobbies & Home': 11, 'Teen & Young Adult': 8, 'Science & Math': 5, 'Christian Books & Bibles': 2, 'Business & Money': 2, 'Cookbooks, Food & Wine': 2, 'Health, Fitness & Dieting': 1}) Counter({'Travel': 212, 'Business & Money': 4, 'Crafts, Hobbies & Home': 2})\n",
            "[('accuracy', 78.44), ('precision', 8.96), ('recall', 10.86), ('f1-macro', 9.82)]\n"
          ]
        },
        {
          "output_type": "stream",
          "name": "stderr",
          "text": [
            "/usr/local/lib/python3.7/dist-packages/sklearn/metrics/_classification.py:1318: UndefinedMetricWarning: Precision is ill-defined and being set to 0.0 in labels with no predicted samples. Use `zero_division` parameter to control this behavior.\n",
            "  _warn_prf(average, modifier, msg_start, len(result))\n"
          ]
        },
        {
          "output_type": "stream",
          "name": "stdout",
          "text": [
            "metric cluster :  8\n",
            "Counter({'Science & Math': 100, 'Crafts, Hobbies & Home': 28, \"Children's Books\": 24, 'Teen & Young Adult': 12, 'Business & Money': 12, 'Medical Books': 8, 'Health, Fitness & Dieting': 6, 'Travel': 4, 'Christian Books & Bibles': 1}) Counter({'Travel': 122, 'Medical Books': 42, 'Business & Money': 26, 'Crafts, Hobbies & Home': 5})\n",
            "[('accuracy', 3.59), ('precision', 3.44), ('recall', 13.36), ('f1-macro', 2.55)]\n"
          ]
        },
        {
          "output_type": "stream",
          "name": "stderr",
          "text": [
            "/usr/local/lib/python3.7/dist-packages/sklearn/metrics/_classification.py:1318: UndefinedMetricWarning: Precision is ill-defined and being set to 0.0 in labels with no predicted samples. Use `zero_division` parameter to control this behavior.\n",
            "  _warn_prf(average, modifier, msg_start, len(result))\n"
          ]
        },
        {
          "output_type": "stream",
          "name": "stdout",
          "text": [
            "metric cluster :  2\n",
            "Counter({'Christian Books & Bibles': 111, 'Teen & Young Adult': 8, \"Children's Books\": 6, 'Travel': 6, 'Health, Fitness & Dieting': 6, 'Science & Math': 5, 'Crafts, Hobbies & Home': 4, 'Business & Money': 2, 'Medical Books': 2, 'Cookbooks, Food & Wine': 1}) Counter({'Travel': 84, 'Business & Money': 44, 'Crafts, Hobbies & Home': 12, 'Medical Books': 11})\n",
            "[('accuracy', 5.3), ('precision', 1.88), ('recall', 20.83), ('f1-macro', 3.23)]\n",
            "AL distribution: {0: 3, 5: 4, 1: 6, 6: 6, 7: 6, 4: 5, 9: 7, 3: 1, 8: 6, 2: 6}\n",
            "AL leftover: 0\n"
          ]
        },
        {
          "output_type": "stream",
          "name": "stderr",
          "text": [
            "/usr/local/lib/python3.7/dist-packages/sklearn/metrics/_classification.py:1318: UndefinedMetricWarning: Precision is ill-defined and being set to 0.0 in labels with no predicted samples. Use `zero_division` parameter to control this behavior.\n",
            "  _warn_prf(average, modifier, msg_start, len(result))\n"
          ]
        },
        {
          "output_type": "stream",
          "name": "stdout",
          "text": [
            "label dist after AL step: Counter({'Travel': 14, 'Medical Books': 13, 'Crafts, Hobbies & Home': 12, 'Science & Math': 12, 'Health, Fitness & Dieting': 11, \"Children's Books\": 9, 'Cookbooks, Food & Wine': 9, 'Christian Books & Bibles': 9, 'Business & Money': 6, 'Teen & Young Adult': 5})\n",
            "current data size: 100 100\n",
            "preprocessing train...\n",
            "language: en\n",
            "train sequence lengths:\n",
            "\tmean : 11\n",
            "\t95percentile : 21\n",
            "\t99percentile : 27\n"
          ]
        },
        {
          "output_type": "stream",
          "name": "stderr",
          "text": [
            "/usr/local/lib/python3.7/dist-packages/ktrain/utils.py:738: UserWarning: class_names argument was ignored, as they were extracted from string labels in dataset\n",
            "  \"class_names argument was ignored, as they were extracted from string labels in dataset\"\n"
          ]
        },
        {
          "output_type": "display_data",
          "data": {
            "text/plain": [
              "<IPython.core.display.HTML object>"
            ],
            "text/html": [
              "\n",
              "<style>\n",
              "    /* Turns off some styling */\n",
              "    progress {\n",
              "        /* gets rid of default border in Firefox and Opera. */\n",
              "        border: none;\n",
              "        /* Needs to be in here for Safari polyfill so background images work as expected. */\n",
              "        background-size: auto;\n",
              "    }\n",
              "    progress:not([value]), progress:not([value])::-webkit-progress-bar {\n",
              "        background: repeating-linear-gradient(45deg, #7e7e7e, #7e7e7e 10px, #5c5c5c 10px, #5c5c5c 20px);\n",
              "    }\n",
              "    .progress-bar-interrupted, .progress-bar-interrupted::-webkit-progress-bar {\n",
              "        background: #F44336;\n",
              "    }\n",
              "</style>\n"
            ]
          },
          "metadata": {}
        },
        {
          "output_type": "display_data",
          "data": {
            "text/plain": [
              "<IPython.core.display.HTML object>"
            ],
            "text/html": []
          },
          "metadata": {}
        },
        {
          "output_type": "stream",
          "name": "stdout",
          "text": [
            "Is Multi-Label? False\n",
            "preprocessing test...\n",
            "language: en\n",
            "test sequence lengths:\n",
            "\tmean : 9\n",
            "\t95percentile : 19\n",
            "\t99percentile : 25\n"
          ]
        },
        {
          "output_type": "display_data",
          "data": {
            "text/plain": [
              "<IPython.core.display.HTML object>"
            ],
            "text/html": [
              "\n",
              "<style>\n",
              "    /* Turns off some styling */\n",
              "    progress {\n",
              "        /* gets rid of default border in Firefox and Opera. */\n",
              "        border: none;\n",
              "        /* Needs to be in here for Safari polyfill so background images work as expected. */\n",
              "        background-size: auto;\n",
              "    }\n",
              "    progress:not([value]), progress:not([value])::-webkit-progress-bar {\n",
              "        background: repeating-linear-gradient(45deg, #7e7e7e, #7e7e7e 10px, #5c5c5c 10px, #5c5c5c 20px);\n",
              "    }\n",
              "    .progress-bar-interrupted, .progress-bar-interrupted::-webkit-progress-bar {\n",
              "        background: #F44336;\n",
              "    }\n",
              "</style>\n"
            ]
          },
          "metadata": {}
        },
        {
          "output_type": "display_data",
          "data": {
            "text/plain": [
              "<IPython.core.display.HTML object>"
            ],
            "text/html": []
          },
          "metadata": {}
        },
        {
          "output_type": "stream",
          "name": "stdout",
          "text": [
            "\n",
            "\n",
            "begin training using onecycle policy with max lr of 8e-05...\n",
            "Epoch 1/5\n",
            "7/7 [==============================] - 29s 2s/step - loss: 2.3370 - accuracy: 0.1100 - val_loss: 2.3093 - val_accuracy: 0.1170\n",
            "Epoch 2/5\n",
            "7/7 [==============================] - 12s 2s/step - loss: 2.2151 - accuracy: 0.1700 - val_loss: 2.2597 - val_accuracy: 0.1325\n",
            "Epoch 3/5\n",
            "7/7 [==============================] - 12s 2s/step - loss: 2.0412 - accuracy: 0.3200 - val_loss: 2.2489 - val_accuracy: 0.1895\n",
            "Epoch 4/5\n",
            "7/7 [==============================] - 12s 2s/step - loss: 1.8811 - accuracy: 0.4300 - val_loss: 2.1934 - val_accuracy: 0.2810\n",
            "Epoch 5/5\n",
            "7/7 [==============================] - 12s 2s/step - loss: 1.6644 - accuracy: 0.5800 - val_loss: 2.0979 - val_accuracy: 0.2970\n",
            "updating classifier\n",
            "['Business & Money', \"Children's Books\", 'Christian Books & Bibles', 'Cookbooks, Food & Wine', 'Crafts, Hobbies & Home', 'Health, Fitness & Dieting', 'Medical Books', 'Science & Math', 'Teen & Young Adult', 'Travel']\n",
            "-----------------ROUND 1DONE--------------\n",
            "100 50\n",
            "AL ROUND:  2  (RUN2) (AL STEP)\n",
            "metric cluster :  0\n",
            "Counter({'Travel': 77, 'Crafts, Hobbies & Home': 18, 'Science & Math': 17, \"Children's Books\": 13, 'Health, Fitness & Dieting': 4, 'Business & Money': 4, 'Teen & Young Adult': 3, 'Cookbooks, Food & Wine': 3, 'Christian Books & Bibles': 3, 'Medical Books': 2}) Counter({'Travel': 89, 'Science & Math': 28, 'Medical Books': 12, 'Crafts, Hobbies & Home': 7, 'Health, Fitness & Dieting': 7, 'Cookbooks, Food & Wine': 1})\n",
            "[('accuracy', 48.61), ('precision', 15.32), ('recall', 20.36), ('f1-macro', 15.42)]\n"
          ]
        },
        {
          "output_type": "stream",
          "name": "stderr",
          "text": [
            "/usr/local/lib/python3.7/dist-packages/sklearn/metrics/_classification.py:1318: UndefinedMetricWarning: Precision is ill-defined and being set to 0.0 in labels with no predicted samples. Use `zero_division` parameter to control this behavior.\n",
            "  _warn_prf(average, modifier, msg_start, len(result))\n"
          ]
        },
        {
          "output_type": "stream",
          "name": "stdout",
          "text": [
            "metric cluster :  5\n",
            "Counter({'Business & Money': 143, 'Medical Books': 9, 'Christian Books & Bibles': 6, 'Science & Math': 5, 'Teen & Young Adult': 4, \"Children's Books\": 4, 'Travel': 3, 'Crafts, Hobbies & Home': 2, 'Health, Fitness & Dieting': 1, 'Cookbooks, Food & Wine': 1}) Counter({'Science & Math': 71, 'Medical Books': 56, 'Travel': 28, 'Health, Fitness & Dieting': 16, 'Crafts, Hobbies & Home': 7})\n",
            "[('accuracy', 7.3), ('precision', 2.71), ('recall', 24.67), ('f1-macro', 4.83)]\n"
          ]
        },
        {
          "output_type": "stream",
          "name": "stderr",
          "text": [
            "/usr/local/lib/python3.7/dist-packages/sklearn/metrics/_classification.py:1318: UndefinedMetricWarning: Precision is ill-defined and being set to 0.0 in labels with no predicted samples. Use `zero_division` parameter to control this behavior.\n",
            "  _warn_prf(average, modifier, msg_start, len(result))\n"
          ]
        },
        {
          "output_type": "stream",
          "name": "stdout",
          "text": [
            "metric cluster :  1\n",
            "Counter({\"Children's Books\": 158, 'Teen & Young Adult': 65, 'Travel': 42, 'Christian Books & Bibles': 34, 'Crafts, Hobbies & Home': 24, 'Health, Fitness & Dieting': 23, 'Science & Math': 22, 'Medical Books': 10, 'Business & Money': 6, 'Cookbooks, Food & Wine': 5}) Counter({'Travel': 139, 'Science & Math': 82, 'Medical Books': 61, 'Crafts, Hobbies & Home': 57, 'Health, Fitness & Dieting': 47, \"Children's Books\": 2, 'Christian Books & Bibles': 1})\n",
            "[('accuracy', 10.03), ('precision', 14.3), ('recall', 13.27), ('f1-macro', 6.64)]\n"
          ]
        },
        {
          "output_type": "stream",
          "name": "stderr",
          "text": [
            "/usr/local/lib/python3.7/dist-packages/sklearn/metrics/_classification.py:1318: UndefinedMetricWarning: Precision is ill-defined and being set to 0.0 in labels with no predicted samples. Use `zero_division` parameter to control this behavior.\n",
            "  _warn_prf(average, modifier, msg_start, len(result))\n"
          ]
        },
        {
          "output_type": "stream",
          "name": "stdout",
          "text": [
            "metric cluster :  6\n",
            "Counter({'Crafts, Hobbies & Home': 88, \"Children's Books\": 19, 'Travel': 9, 'Health, Fitness & Dieting': 8, 'Cookbooks, Food & Wine': 6, 'Business & Money': 4, 'Science & Math': 4, 'Teen & Young Adult': 4, 'Christian Books & Bibles': 4}) Counter({'Crafts, Hobbies & Home': 40, 'Science & Math': 34, 'Medical Books': 32, 'Travel': 24, 'Health, Fitness & Dieting': 12, 'Cookbooks, Food & Wine': 2, 'Christian Books & Bibles': 1, \"Children's Books\": 1})\n",
            "[('accuracy', 23.97), ('precision', 19.13), ('recall', 14.54), ('f1-macro', 8.77)]\n"
          ]
        },
        {
          "output_type": "stream",
          "name": "stderr",
          "text": [
            "/usr/local/lib/python3.7/dist-packages/sklearn/metrics/_classification.py:1318: UndefinedMetricWarning: Recall is ill-defined and being set to 0.0 in labels with no true samples. Use `zero_division` parameter to control this behavior.\n",
            "  _warn_prf(average, modifier, msg_start, len(result))\n",
            "/usr/local/lib/python3.7/dist-packages/sklearn/metrics/_classification.py:1318: UndefinedMetricWarning: Precision is ill-defined and being set to 0.0 in labels with no predicted samples. Use `zero_division` parameter to control this behavior.\n",
            "  _warn_prf(average, modifier, msg_start, len(result))\n"
          ]
        },
        {
          "output_type": "stream",
          "name": "stdout",
          "text": [
            "metric cluster :  7\n",
            "Counter({'Health, Fitness & Dieting': 78, 'Medical Books': 49, 'Teen & Young Adult': 20, 'Christian Books & Bibles': 13, 'Science & Math': 13, 'Business & Money': 10, \"Children's Books\": 7, 'Crafts, Hobbies & Home': 3, 'Cookbooks, Food & Wine': 1}) Counter({'Medical Books': 81, 'Science & Math': 43, 'Health, Fitness & Dieting': 33, 'Travel': 21, 'Crafts, Hobbies & Home': 16})\n",
            "[('accuracy', 24.74), ('precision', 9.16), ('recall', 12.99), ('f1-macro', 9.06)]\n"
          ]
        },
        {
          "output_type": "stream",
          "name": "stderr",
          "text": [
            "/usr/local/lib/python3.7/dist-packages/sklearn/metrics/_classification.py:1318: UndefinedMetricWarning: Recall is ill-defined and being set to 0.0 in labels with no true samples. Use `zero_division` parameter to control this behavior.\n",
            "  _warn_prf(average, modifier, msg_start, len(result))\n",
            "/usr/local/lib/python3.7/dist-packages/sklearn/metrics/_classification.py:1318: UndefinedMetricWarning: Precision is ill-defined and being set to 0.0 in labels with no predicted samples. Use `zero_division` parameter to control this behavior.\n",
            "  _warn_prf(average, modifier, msg_start, len(result))\n"
          ]
        },
        {
          "output_type": "stream",
          "name": "stdout",
          "text": [
            "metric cluster :  4\n",
            "Counter({'Medical Books': 149, 'Health, Fitness & Dieting': 58, 'Crafts, Hobbies & Home': 4, 'Cookbooks, Food & Wine': 2, 'Teen & Young Adult': 2, 'Christian Books & Bibles': 2, 'Science & Math': 2, 'Business & Money': 2, 'Travel': 1}) Counter({'Medical Books': 132, 'Science & Math': 50, 'Travel': 34, 'Health, Fitness & Dieting': 4, 'Crafts, Hobbies & Home': 2})\n",
            "[('accuracy', 45.05), ('precision', 16.88), ('recall', 24.33), ('f1-macro', 9.65)]\n"
          ]
        },
        {
          "output_type": "stream",
          "name": "stderr",
          "text": [
            "/usr/local/lib/python3.7/dist-packages/sklearn/metrics/_classification.py:1318: UndefinedMetricWarning: Precision is ill-defined and being set to 0.0 in labels with no predicted samples. Use `zero_division` parameter to control this behavior.\n",
            "  _warn_prf(average, modifier, msg_start, len(result))\n"
          ]
        },
        {
          "output_type": "stream",
          "name": "stdout",
          "text": [
            "metric cluster :  9\n",
            "Counter({'Cookbooks, Food & Wine': 113, 'Health, Fitness & Dieting': 30, 'Crafts, Hobbies & Home': 7, \"Children's Books\": 4, 'Medical Books': 3, 'Science & Math': 2, 'Teen & Young Adult': 2, 'Travel': 2}) Counter({'Cookbooks, Food & Wine': 39, 'Crafts, Hobbies & Home': 36, 'Travel': 32, 'Medical Books': 27, 'Science & Math': 14, 'Health, Fitness & Dieting': 12, \"Children's Books\": 2, 'Christian Books & Bibles': 1})\n",
            "[('accuracy', 25.77), ('precision', 14.61), ('recall', 20.95), ('f1-macro', 10.0)]\n"
          ]
        },
        {
          "output_type": "stream",
          "name": "stderr",
          "text": [
            "/usr/local/lib/python3.7/dist-packages/sklearn/metrics/_classification.py:1318: UndefinedMetricWarning: Recall is ill-defined and being set to 0.0 in labels with no true samples. Use `zero_division` parameter to control this behavior.\n",
            "  _warn_prf(average, modifier, msg_start, len(result))\n",
            "/usr/local/lib/python3.7/dist-packages/sklearn/metrics/_classification.py:1318: UndefinedMetricWarning: Precision is ill-defined and being set to 0.0 in labels with no predicted samples. Use `zero_division` parameter to control this behavior.\n",
            "  _warn_prf(average, modifier, msg_start, len(result))\n"
          ]
        },
        {
          "output_type": "stream",
          "name": "stdout",
          "text": [
            "metric cluster :  3\n",
            "Counter({'Travel': 175, \"Children's Books\": 12, 'Crafts, Hobbies & Home': 11, 'Teen & Young Adult': 8, 'Science & Math': 5, 'Christian Books & Bibles': 2, 'Business & Money': 2, 'Cookbooks, Food & Wine': 2, 'Health, Fitness & Dieting': 1}) Counter({'Travel': 180, 'Science & Math': 18, 'Medical Books': 11, 'Crafts, Hobbies & Home': 6, 'Health, Fitness & Dieting': 3})\n",
            "[('accuracy', 72.48), ('precision', 14.61), ('recall', 15.47), ('f1-macro', 13.89)]\n"
          ]
        },
        {
          "output_type": "stream",
          "name": "stderr",
          "text": [
            "/usr/local/lib/python3.7/dist-packages/sklearn/metrics/_classification.py:1318: UndefinedMetricWarning: Recall is ill-defined and being set to 0.0 in labels with no true samples. Use `zero_division` parameter to control this behavior.\n",
            "  _warn_prf(average, modifier, msg_start, len(result))\n",
            "/usr/local/lib/python3.7/dist-packages/sklearn/metrics/_classification.py:1318: UndefinedMetricWarning: Precision is ill-defined and being set to 0.0 in labels with no predicted samples. Use `zero_division` parameter to control this behavior.\n",
            "  _warn_prf(average, modifier, msg_start, len(result))\n"
          ]
        },
        {
          "output_type": "stream",
          "name": "stdout",
          "text": [
            "metric cluster :  8\n",
            "Counter({'Science & Math': 100, 'Crafts, Hobbies & Home': 28, \"Children's Books\": 24, 'Teen & Young Adult': 12, 'Business & Money': 12, 'Medical Books': 8, 'Health, Fitness & Dieting': 6, 'Travel': 4, 'Christian Books & Bibles': 1}) Counter({'Science & Math': 96, 'Medical Books': 56, 'Travel': 35, 'Crafts, Hobbies & Home': 8})\n",
            "[('accuracy', 37.44), ('precision', 11.85), ('recall', 20.52), ('f1-macro', 11.36)]\n"
          ]
        },
        {
          "output_type": "stream",
          "name": "stderr",
          "text": [
            "/usr/local/lib/python3.7/dist-packages/sklearn/metrics/_classification.py:1318: UndefinedMetricWarning: Precision is ill-defined and being set to 0.0 in labels with no predicted samples. Use `zero_division` parameter to control this behavior.\n",
            "  _warn_prf(average, modifier, msg_start, len(result))\n"
          ]
        },
        {
          "output_type": "stream",
          "name": "stdout",
          "text": [
            "metric cluster :  2\n",
            "Counter({'Christian Books & Bibles': 111, 'Teen & Young Adult': 8, \"Children's Books\": 6, 'Travel': 6, 'Health, Fitness & Dieting': 6, 'Science & Math': 5, 'Crafts, Hobbies & Home': 4, 'Business & Money': 2, 'Medical Books': 2, 'Cookbooks, Food & Wine': 1}) Counter({'Medical Books': 66, 'Science & Math': 35, 'Crafts, Hobbies & Home': 19, 'Christian Books & Bibles': 13, 'Travel': 11, 'Health, Fitness & Dieting': 7})\n",
            "[('accuracy', 10.6), ('precision', 10.86), ('recall', 14.66), ('f1-macro', 5.48)]\n",
            "AL distribution: {0: 4, 5: 7, 1: 6, 6: 5, 7: 5, 4: 4, 9: 5, 3: 2, 8: 5, 2: 6}\n",
            "AL leftover: 1\n"
          ]
        },
        {
          "output_type": "stream",
          "name": "stderr",
          "text": [
            "/usr/local/lib/python3.7/dist-packages/sklearn/metrics/_classification.py:1318: UndefinedMetricWarning: Precision is ill-defined and being set to 0.0 in labels with no predicted samples. Use `zero_division` parameter to control this behavior.\n",
            "  _warn_prf(average, modifier, msg_start, len(result))\n"
          ]
        },
        {
          "output_type": "stream",
          "name": "stdout",
          "text": [
            "label dist after AL step: Counter({\"Children's Books\": 18, 'Travel': 18, 'Medical Books': 17, 'Christian Books & Bibles': 16, 'Science & Math': 16, 'Crafts, Hobbies & Home': 15, 'Health, Fitness & Dieting': 14, 'Cookbooks, Food & Wine': 14, 'Teen & Young Adult': 11, 'Business & Money': 11})\n",
            "current data size: 150 150\n",
            "preprocessing train...\n",
            "language: en\n",
            "train sequence lengths:\n",
            "\tmean : 11\n",
            "\t95percentile : 22\n",
            "\t99percentile : 32\n"
          ]
        },
        {
          "output_type": "stream",
          "name": "stderr",
          "text": [
            "/usr/local/lib/python3.7/dist-packages/ktrain/utils.py:738: UserWarning: class_names argument was ignored, as they were extracted from string labels in dataset\n",
            "  \"class_names argument was ignored, as they were extracted from string labels in dataset\"\n"
          ]
        },
        {
          "output_type": "display_data",
          "data": {
            "text/plain": [
              "<IPython.core.display.HTML object>"
            ],
            "text/html": [
              "\n",
              "<style>\n",
              "    /* Turns off some styling */\n",
              "    progress {\n",
              "        /* gets rid of default border in Firefox and Opera. */\n",
              "        border: none;\n",
              "        /* Needs to be in here for Safari polyfill so background images work as expected. */\n",
              "        background-size: auto;\n",
              "    }\n",
              "    progress:not([value]), progress:not([value])::-webkit-progress-bar {\n",
              "        background: repeating-linear-gradient(45deg, #7e7e7e, #7e7e7e 10px, #5c5c5c 10px, #5c5c5c 20px);\n",
              "    }\n",
              "    .progress-bar-interrupted, .progress-bar-interrupted::-webkit-progress-bar {\n",
              "        background: #F44336;\n",
              "    }\n",
              "</style>\n"
            ]
          },
          "metadata": {}
        },
        {
          "output_type": "display_data",
          "data": {
            "text/plain": [
              "<IPython.core.display.HTML object>"
            ],
            "text/html": []
          },
          "metadata": {}
        },
        {
          "output_type": "stream",
          "name": "stdout",
          "text": [
            "Is Multi-Label? False\n",
            "preprocessing test...\n",
            "language: en\n",
            "test sequence lengths:\n",
            "\tmean : 9\n",
            "\t95percentile : 19\n",
            "\t99percentile : 25\n"
          ]
        },
        {
          "output_type": "display_data",
          "data": {
            "text/plain": [
              "<IPython.core.display.HTML object>"
            ],
            "text/html": [
              "\n",
              "<style>\n",
              "    /* Turns off some styling */\n",
              "    progress {\n",
              "        /* gets rid of default border in Firefox and Opera. */\n",
              "        border: none;\n",
              "        /* Needs to be in here for Safari polyfill so background images work as expected. */\n",
              "        background-size: auto;\n",
              "    }\n",
              "    progress:not([value]), progress:not([value])::-webkit-progress-bar {\n",
              "        background: repeating-linear-gradient(45deg, #7e7e7e, #7e7e7e 10px, #5c5c5c 10px, #5c5c5c 20px);\n",
              "    }\n",
              "    .progress-bar-interrupted, .progress-bar-interrupted::-webkit-progress-bar {\n",
              "        background: #F44336;\n",
              "    }\n",
              "</style>\n"
            ]
          },
          "metadata": {}
        },
        {
          "output_type": "display_data",
          "data": {
            "text/plain": [
              "<IPython.core.display.HTML object>"
            ],
            "text/html": []
          },
          "metadata": {}
        },
        {
          "output_type": "stream",
          "name": "stdout",
          "text": [
            "\n",
            "\n",
            "begin training using onecycle policy with max lr of 8e-05...\n",
            "Epoch 1/5\n",
            "10/10 [==============================] - 31s 2s/step - loss: 2.3051 - accuracy: 0.1333 - val_loss: 2.2941 - val_accuracy: 0.1000\n",
            "Epoch 2/5\n",
            "10/10 [==============================] - 13s 1s/step - loss: 2.2128 - accuracy: 0.1467 - val_loss: 2.2752 - val_accuracy: 0.1445\n",
            "Epoch 3/5\n",
            "10/10 [==============================] - 13s 1s/step - loss: 2.0958 - accuracy: 0.2933 - val_loss: 2.1084 - val_accuracy: 0.2505\n",
            "Epoch 4/5\n",
            "10/10 [==============================] - 13s 1s/step - loss: 1.7449 - accuracy: 0.5333 - val_loss: 1.8736 - val_accuracy: 0.4385\n",
            "Epoch 5/5\n",
            "10/10 [==============================] - 13s 1s/step - loss: 1.4267 - accuracy: 0.7400 - val_loss: 1.7729 - val_accuracy: 0.4555\n",
            "updating classifier\n",
            "['Business & Money', \"Children's Books\", 'Christian Books & Bibles', 'Cookbooks, Food & Wine', 'Crafts, Hobbies & Home', 'Health, Fitness & Dieting', 'Medical Books', 'Science & Math', 'Teen & Young Adult', 'Travel']\n",
            "-----------------ROUND 2DONE--------------\n",
            "50 50\n",
            "AL ROUND:  3  (RUN2) (AL STEP)\n",
            "metric cluster :  0\n",
            "Counter({'Travel': 77, 'Crafts, Hobbies & Home': 18, 'Science & Math': 17, \"Children's Books\": 13, 'Health, Fitness & Dieting': 4, 'Business & Money': 4, 'Teen & Young Adult': 3, 'Cookbooks, Food & Wine': 3, 'Christian Books & Bibles': 3, 'Medical Books': 2}) Counter({'Travel': 88, \"Children's Books\": 15, 'Christian Books & Bibles': 15, 'Medical Books': 15, 'Science & Math': 6, 'Health, Fitness & Dieting': 3, 'Cookbooks, Food & Wine': 1, 'Crafts, Hobbies & Home': 1})\n",
            "[('accuracy', 52.08), ('precision', 28.05), ('recall', 32.0), ('f1-macro', 23.21)]\n"
          ]
        },
        {
          "output_type": "stream",
          "name": "stderr",
          "text": [
            "/usr/local/lib/python3.7/dist-packages/sklearn/metrics/_classification.py:1318: UndefinedMetricWarning: Precision is ill-defined and being set to 0.0 in labels with no predicted samples. Use `zero_division` parameter to control this behavior.\n",
            "  _warn_prf(average, modifier, msg_start, len(result))\n"
          ]
        },
        {
          "output_type": "stream",
          "name": "stdout",
          "text": [
            "metric cluster :  5\n",
            "Counter({'Business & Money': 143, 'Medical Books': 9, 'Christian Books & Bibles': 6, 'Science & Math': 5, 'Teen & Young Adult': 4, \"Children's Books\": 4, 'Travel': 3, 'Crafts, Hobbies & Home': 2, 'Health, Fitness & Dieting': 1, 'Cookbooks, Food & Wine': 1}) Counter({'Medical Books': 83, 'Science & Math': 64, 'Christian Books & Bibles': 14, 'Travel': 7, 'Crafts, Hobbies & Home': 4, \"Children's Books\": 3, 'Cookbooks, Food & Wine': 2, 'Health, Fitness & Dieting': 1})\n",
            "[('accuracy', 7.87), ('precision', 6.91), ('recall', 26.0), ('f1-macro', 10.17)]\n"
          ]
        },
        {
          "output_type": "stream",
          "name": "stderr",
          "text": [
            "/usr/local/lib/python3.7/dist-packages/sklearn/metrics/_classification.py:1318: UndefinedMetricWarning: Precision is ill-defined and being set to 0.0 in labels with no predicted samples. Use `zero_division` parameter to control this behavior.\n",
            "  _warn_prf(average, modifier, msg_start, len(result))\n"
          ]
        },
        {
          "output_type": "stream",
          "name": "stdout",
          "text": [
            "metric cluster :  1\n",
            "Counter({\"Children's Books\": 158, 'Teen & Young Adult': 65, 'Travel': 42, 'Christian Books & Bibles': 34, 'Crafts, Hobbies & Home': 24, 'Health, Fitness & Dieting': 23, 'Science & Math': 22, 'Medical Books': 10, 'Business & Money': 6, 'Cookbooks, Food & Wine': 5}) Counter({\"Children's Books\": 166, 'Christian Books & Bibles': 127, 'Travel': 32, 'Crafts, Hobbies & Home': 23, 'Medical Books': 18, 'Science & Math': 10, 'Cookbooks, Food & Wine': 8, 'Teen & Young Adult': 3, 'Health, Fitness & Dieting': 2})\n",
            "[('accuracy', 37.79), ('precision', 31.19), ('recall', 24.4), ('f1-macro', 21.24)]\n"
          ]
        },
        {
          "output_type": "stream",
          "name": "stderr",
          "text": [
            "/usr/local/lib/python3.7/dist-packages/sklearn/metrics/_classification.py:1318: UndefinedMetricWarning: Precision is ill-defined and being set to 0.0 in labels with no predicted samples. Use `zero_division` parameter to control this behavior.\n",
            "  _warn_prf(average, modifier, msg_start, len(result))\n"
          ]
        },
        {
          "output_type": "stream",
          "name": "stdout",
          "text": [
            "metric cluster :  6\n",
            "Counter({'Crafts, Hobbies & Home': 88, \"Children's Books\": 19, 'Travel': 9, 'Health, Fitness & Dieting': 8, 'Cookbooks, Food & Wine': 6, 'Business & Money': 4, 'Science & Math': 4, 'Teen & Young Adult': 4, 'Christian Books & Bibles': 4}) Counter({'Crafts, Hobbies & Home': 40, \"Children's Books\": 34, 'Medical Books': 25, 'Christian Books & Bibles': 13, 'Travel': 11, 'Cookbooks, Food & Wine': 8, 'Health, Fitness & Dieting': 8, 'Science & Math': 7})\n",
            "[('accuracy', 32.88), ('precision', 20.15), ('recall', 25.94), ('f1-macro', 20.42)]\n"
          ]
        },
        {
          "output_type": "stream",
          "name": "stderr",
          "text": [
            "/usr/local/lib/python3.7/dist-packages/sklearn/metrics/_classification.py:1318: UndefinedMetricWarning: Recall is ill-defined and being set to 0.0 in labels with no true samples. Use `zero_division` parameter to control this behavior.\n",
            "  _warn_prf(average, modifier, msg_start, len(result))\n",
            "/usr/local/lib/python3.7/dist-packages/sklearn/metrics/_classification.py:1318: UndefinedMetricWarning: Precision is ill-defined and being set to 0.0 in labels with no predicted samples. Use `zero_division` parameter to control this behavior.\n",
            "  _warn_prf(average, modifier, msg_start, len(result))\n"
          ]
        },
        {
          "output_type": "stream",
          "name": "stdout",
          "text": [
            "metric cluster :  7\n",
            "Counter({'Health, Fitness & Dieting': 78, 'Medical Books': 49, 'Teen & Young Adult': 20, 'Christian Books & Bibles': 13, 'Science & Math': 13, 'Business & Money': 10, \"Children's Books\": 7, 'Crafts, Hobbies & Home': 3, 'Cookbooks, Food & Wine': 1}) Counter({'Medical Books': 132, 'Health, Fitness & Dieting': 25, 'Christian Books & Bibles': 18, \"Children's Books\": 10, 'Crafts, Hobbies & Home': 4, 'Science & Math': 2, 'Teen & Young Adult': 2, 'Travel': 1})\n",
            "[('accuracy', 34.02), ('precision', 20.08), ('recall', 20.13), ('f1-macro', 16.09)]\n"
          ]
        },
        {
          "output_type": "stream",
          "name": "stderr",
          "text": [
            "/usr/local/lib/python3.7/dist-packages/sklearn/metrics/_classification.py:1318: UndefinedMetricWarning: Recall is ill-defined and being set to 0.0 in labels with no true samples. Use `zero_division` parameter to control this behavior.\n",
            "  _warn_prf(average, modifier, msg_start, len(result))\n",
            "/usr/local/lib/python3.7/dist-packages/sklearn/metrics/_classification.py:1318: UndefinedMetricWarning: Precision is ill-defined and being set to 0.0 in labels with no predicted samples. Use `zero_division` parameter to control this behavior.\n",
            "  _warn_prf(average, modifier, msg_start, len(result))\n"
          ]
        },
        {
          "output_type": "stream",
          "name": "stdout",
          "text": [
            "metric cluster :  4\n",
            "Counter({'Medical Books': 149, 'Health, Fitness & Dieting': 58, 'Crafts, Hobbies & Home': 4, 'Cookbooks, Food & Wine': 2, 'Teen & Young Adult': 2, 'Christian Books & Bibles': 2, 'Science & Math': 2, 'Business & Money': 2, 'Travel': 1}) Counter({'Medical Books': 187, 'Science & Math': 18, 'Health, Fitness & Dieting': 5, 'Crafts, Hobbies & Home': 4, 'Travel': 3, \"Children's Books\": 3, 'Christian Books & Bibles': 1, 'Cookbooks, Food & Wine': 1})\n",
            "[('accuracy', 59.91), ('precision', 21.12), ('recall', 24.04), ('f1-macro', 18.51)]\n"
          ]
        },
        {
          "output_type": "stream",
          "name": "stderr",
          "text": [
            "/usr/local/lib/python3.7/dist-packages/sklearn/metrics/_classification.py:1318: UndefinedMetricWarning: Recall is ill-defined and being set to 0.0 in labels with no true samples. Use `zero_division` parameter to control this behavior.\n",
            "  _warn_prf(average, modifier, msg_start, len(result))\n",
            "/usr/local/lib/python3.7/dist-packages/sklearn/metrics/_classification.py:1318: UndefinedMetricWarning: Precision is ill-defined and being set to 0.0 in labels with no predicted samples. Use `zero_division` parameter to control this behavior.\n",
            "  _warn_prf(average, modifier, msg_start, len(result))\n"
          ]
        },
        {
          "output_type": "stream",
          "name": "stdout",
          "text": [
            "metric cluster :  9\n",
            "Counter({'Cookbooks, Food & Wine': 113, 'Health, Fitness & Dieting': 30, 'Crafts, Hobbies & Home': 7, \"Children's Books\": 4, 'Medical Books': 3, 'Science & Math': 2, 'Teen & Young Adult': 2, 'Travel': 2}) Counter({'Cookbooks, Food & Wine': 99, 'Health, Fitness & Dieting': 25, 'Medical Books': 20, 'Crafts, Hobbies & Home': 8, \"Children's Books\": 5, 'Christian Books & Bibles': 3, 'Travel': 2, 'Science & Math': 1})\n",
            "[('accuracy', 60.74), ('precision', 28.65), ('recall', 24.74), ('f1-macro', 24.5)]\n"
          ]
        },
        {
          "output_type": "stream",
          "name": "stderr",
          "text": [
            "/usr/local/lib/python3.7/dist-packages/sklearn/metrics/_classification.py:1318: UndefinedMetricWarning: Recall is ill-defined and being set to 0.0 in labels with no true samples. Use `zero_division` parameter to control this behavior.\n",
            "  _warn_prf(average, modifier, msg_start, len(result))\n",
            "/usr/local/lib/python3.7/dist-packages/sklearn/metrics/_classification.py:1318: UndefinedMetricWarning: Precision is ill-defined and being set to 0.0 in labels with no predicted samples. Use `zero_division` parameter to control this behavior.\n",
            "  _warn_prf(average, modifier, msg_start, len(result))\n"
          ]
        },
        {
          "output_type": "stream",
          "name": "stdout",
          "text": [
            "metric cluster :  3\n",
            "Counter({'Travel': 175, \"Children's Books\": 12, 'Crafts, Hobbies & Home': 11, 'Teen & Young Adult': 8, 'Science & Math': 5, 'Christian Books & Bibles': 2, 'Business & Money': 2, 'Cookbooks, Food & Wine': 2, 'Health, Fitness & Dieting': 1}) Counter({'Travel': 163, 'Christian Books & Bibles': 23, \"Children's Books\": 16, 'Science & Math': 8, 'Medical Books': 6, 'Cookbooks, Food & Wine': 1, 'Business & Money': 1})\n",
            "[('accuracy', 69.27), ('precision', 15.08), ('recall', 17.56), ('f1-macro', 15.99)]\n"
          ]
        },
        {
          "output_type": "stream",
          "name": "stderr",
          "text": [
            "/usr/local/lib/python3.7/dist-packages/sklearn/metrics/_classification.py:1318: UndefinedMetricWarning: Recall is ill-defined and being set to 0.0 in labels with no true samples. Use `zero_division` parameter to control this behavior.\n",
            "  _warn_prf(average, modifier, msg_start, len(result))\n",
            "/usr/local/lib/python3.7/dist-packages/sklearn/metrics/_classification.py:1318: UndefinedMetricWarning: Precision is ill-defined and being set to 0.0 in labels with no predicted samples. Use `zero_division` parameter to control this behavior.\n",
            "  _warn_prf(average, modifier, msg_start, len(result))\n"
          ]
        },
        {
          "output_type": "stream",
          "name": "stdout",
          "text": [
            "metric cluster :  8\n",
            "Counter({'Science & Math': 100, 'Crafts, Hobbies & Home': 28, \"Children's Books\": 24, 'Teen & Young Adult': 12, 'Business & Money': 12, 'Medical Books': 8, 'Health, Fitness & Dieting': 6, 'Travel': 4, 'Christian Books & Bibles': 1}) Counter({'Science & Math': 117, 'Medical Books': 35, \"Children's Books\": 17, 'Travel': 11, 'Christian Books & Bibles': 7, 'Crafts, Hobbies & Home': 7, 'Health, Fitness & Dieting': 1})\n",
            "[('accuracy', 49.23), ('precision', 20.45), ('recall', 20.02), ('f1-macro', 18.14)]\n"
          ]
        },
        {
          "output_type": "stream",
          "name": "stderr",
          "text": [
            "/usr/local/lib/python3.7/dist-packages/sklearn/metrics/_classification.py:1318: UndefinedMetricWarning: Precision is ill-defined and being set to 0.0 in labels with no predicted samples. Use `zero_division` parameter to control this behavior.\n",
            "  _warn_prf(average, modifier, msg_start, len(result))\n"
          ]
        },
        {
          "output_type": "stream",
          "name": "stdout",
          "text": [
            "metric cluster :  2\n",
            "Counter({'Christian Books & Bibles': 111, 'Teen & Young Adult': 8, \"Children's Books\": 6, 'Travel': 6, 'Health, Fitness & Dieting': 6, 'Science & Math': 5, 'Crafts, Hobbies & Home': 4, 'Business & Money': 2, 'Medical Books': 2, 'Cookbooks, Food & Wine': 1}) Counter({'Christian Books & Bibles': 108, 'Medical Books': 22, 'Travel': 11, \"Children's Books\": 5, 'Science & Math': 4, 'Health, Fitness & Dieting': 1})\n",
            "[('accuracy', 54.3), ('precision', 11.49), ('recall', 17.03), ('f1-macro', 12.13)]\n",
            "AL distribution: {0: 4, 5: 9, 1: 6, 6: 6, 7: 6, 4: 4, 9: 4, 3: 3, 8: 5, 2: 3}\n",
            "AL leftover: 0\n"
          ]
        },
        {
          "output_type": "stream",
          "name": "stderr",
          "text": [
            "/usr/local/lib/python3.7/dist-packages/sklearn/metrics/_classification.py:1318: UndefinedMetricWarning: Precision is ill-defined and being set to 0.0 in labels with no predicted samples. Use `zero_division` parameter to control this behavior.\n",
            "  _warn_prf(average, modifier, msg_start, len(result))\n"
          ]
        },
        {
          "output_type": "stream",
          "name": "stdout",
          "text": [
            "label dist after AL step: Counter({'Medical Books': 23, 'Crafts, Hobbies & Home': 23, 'Travel': 23, \"Children's Books\": 21, 'Science & Math': 21, 'Health, Fitness & Dieting': 19, 'Business & Money': 19, 'Christian Books & Bibles': 19, 'Cookbooks, Food & Wine': 17, 'Teen & Young Adult': 15})\n",
            "current data size: 200 200\n",
            "preprocessing train...\n",
            "language: en\n",
            "train sequence lengths:\n",
            "\tmean : 10\n",
            "\t95percentile : 21\n",
            "\t99percentile : 29\n"
          ]
        },
        {
          "output_type": "stream",
          "name": "stderr",
          "text": [
            "/usr/local/lib/python3.7/dist-packages/ktrain/utils.py:738: UserWarning: class_names argument was ignored, as they were extracted from string labels in dataset\n",
            "  \"class_names argument was ignored, as they were extracted from string labels in dataset\"\n"
          ]
        },
        {
          "output_type": "display_data",
          "data": {
            "text/plain": [
              "<IPython.core.display.HTML object>"
            ],
            "text/html": [
              "\n",
              "<style>\n",
              "    /* Turns off some styling */\n",
              "    progress {\n",
              "        /* gets rid of default border in Firefox and Opera. */\n",
              "        border: none;\n",
              "        /* Needs to be in here for Safari polyfill so background images work as expected. */\n",
              "        background-size: auto;\n",
              "    }\n",
              "    progress:not([value]), progress:not([value])::-webkit-progress-bar {\n",
              "        background: repeating-linear-gradient(45deg, #7e7e7e, #7e7e7e 10px, #5c5c5c 10px, #5c5c5c 20px);\n",
              "    }\n",
              "    .progress-bar-interrupted, .progress-bar-interrupted::-webkit-progress-bar {\n",
              "        background: #F44336;\n",
              "    }\n",
              "</style>\n"
            ]
          },
          "metadata": {}
        },
        {
          "output_type": "display_data",
          "data": {
            "text/plain": [
              "<IPython.core.display.HTML object>"
            ],
            "text/html": []
          },
          "metadata": {}
        },
        {
          "output_type": "stream",
          "name": "stdout",
          "text": [
            "Is Multi-Label? False\n",
            "preprocessing test...\n",
            "language: en\n",
            "test sequence lengths:\n",
            "\tmean : 9\n",
            "\t95percentile : 19\n",
            "\t99percentile : 25\n"
          ]
        },
        {
          "output_type": "display_data",
          "data": {
            "text/plain": [
              "<IPython.core.display.HTML object>"
            ],
            "text/html": [
              "\n",
              "<style>\n",
              "    /* Turns off some styling */\n",
              "    progress {\n",
              "        /* gets rid of default border in Firefox and Opera. */\n",
              "        border: none;\n",
              "        /* Needs to be in here for Safari polyfill so background images work as expected. */\n",
              "        background-size: auto;\n",
              "    }\n",
              "    progress:not([value]), progress:not([value])::-webkit-progress-bar {\n",
              "        background: repeating-linear-gradient(45deg, #7e7e7e, #7e7e7e 10px, #5c5c5c 10px, #5c5c5c 20px);\n",
              "    }\n",
              "    .progress-bar-interrupted, .progress-bar-interrupted::-webkit-progress-bar {\n",
              "        background: #F44336;\n",
              "    }\n",
              "</style>\n"
            ]
          },
          "metadata": {}
        },
        {
          "output_type": "display_data",
          "data": {
            "text/plain": [
              "<IPython.core.display.HTML object>"
            ],
            "text/html": []
          },
          "metadata": {}
        },
        {
          "output_type": "stream",
          "name": "stdout",
          "text": [
            "\n",
            "\n",
            "begin training using onecycle policy with max lr of 8e-05...\n",
            "Epoch 1/5\n",
            "13/13 [==============================] - 32s 1s/step - loss: 2.3239 - accuracy: 0.1500 - val_loss: 2.2484 - val_accuracy: 0.2050\n",
            "Epoch 2/5\n",
            "13/13 [==============================] - 14s 1s/step - loss: 2.1774 - accuracy: 0.2650 - val_loss: 2.0718 - val_accuracy: 0.3255\n",
            "Epoch 3/5\n",
            "13/13 [==============================] - 14s 1s/step - loss: 1.8780 - accuracy: 0.4300 - val_loss: 1.8213 - val_accuracy: 0.4325\n",
            "Epoch 4/5\n",
            "13/13 [==============================] - 14s 1s/step - loss: 1.4252 - accuracy: 0.6700 - val_loss: 1.5702 - val_accuracy: 0.5305\n",
            "Epoch 5/5\n",
            "13/13 [==============================] - 14s 1s/step - loss: 0.9698 - accuracy: 0.8550 - val_loss: 1.4519 - val_accuracy: 0.5485\n",
            "updating classifier\n",
            "['Business & Money', \"Children's Books\", 'Christian Books & Bibles', 'Cookbooks, Food & Wine', 'Crafts, Hobbies & Home', 'Health, Fitness & Dieting', 'Medical Books', 'Science & Math', 'Teen & Young Adult', 'Travel']\n",
            "-----------------ROUND 3DONE--------------\n",
            "[('accuracy', 56.32), ('precision', 54.23), ('recall', 54.99), ('f1-macro', 51.15)]\n",
            "predicted dist after ROUND 3: Counter({'Medical Books': 752, 'Christian Books & Bibles': 664, 'Travel': 573, 'Science & Math': 422, 'Cookbooks, Food & Wine': 380, \"Children's Books\": 375, 'Crafts, Hobbies & Home': 336, 'Business & Money': 317, 'Health, Fitness & Dieting': 171, 'Teen & Young Adult': 10})\n",
            "test results after ROUND 3: [('accuracy', 56.32), ('precision', 54.23), ('recall', 54.99), ('f1-macro', 51.15)]\n",
            "-------------------- DONE with RUN2--------------------\n",
            "Task: BTYPE\n",
            "N: 200\n",
            "K: 10\n",
            "----------DOING RUN: RUN3 -----------------\n",
            "-----RUNNING INITIAL CLUSTERING------\n",
            "CLUSTER DIST:\n",
            "0 971\n",
            "5 1178\n",
            "1 2634\n",
            "6 1091\n",
            "7 1259\n",
            "4 1636\n",
            "9 1363\n",
            "3 1529\n",
            "8 1286\n",
            "2 1053\n",
            "-----INITIAL CLUSTERING DONE----\n",
            "rounds: 0\n",
            "current data size: 50 50\n",
            "preprocessing train...\n",
            "language: en\n",
            "train sequence lengths:\n",
            "\tmean : 10\n",
            "\t95percentile : 20\n",
            "\t99percentile : 25\n"
          ]
        },
        {
          "output_type": "stream",
          "name": "stderr",
          "text": [
            "/usr/local/lib/python3.7/dist-packages/ktrain/utils.py:738: UserWarning: class_names argument was ignored, as they were extracted from string labels in dataset\n",
            "  \"class_names argument was ignored, as they were extracted from string labels in dataset\"\n"
          ]
        },
        {
          "output_type": "display_data",
          "data": {
            "text/plain": [
              "<IPython.core.display.HTML object>"
            ],
            "text/html": [
              "\n",
              "<style>\n",
              "    /* Turns off some styling */\n",
              "    progress {\n",
              "        /* gets rid of default border in Firefox and Opera. */\n",
              "        border: none;\n",
              "        /* Needs to be in here for Safari polyfill so background images work as expected. */\n",
              "        background-size: auto;\n",
              "    }\n",
              "    progress:not([value]), progress:not([value])::-webkit-progress-bar {\n",
              "        background: repeating-linear-gradient(45deg, #7e7e7e, #7e7e7e 10px, #5c5c5c 10px, #5c5c5c 20px);\n",
              "    }\n",
              "    .progress-bar-interrupted, .progress-bar-interrupted::-webkit-progress-bar {\n",
              "        background: #F44336;\n",
              "    }\n",
              "</style>\n"
            ]
          },
          "metadata": {}
        },
        {
          "output_type": "display_data",
          "data": {
            "text/plain": [
              "<IPython.core.display.HTML object>"
            ],
            "text/html": []
          },
          "metadata": {}
        },
        {
          "output_type": "stream",
          "name": "stdout",
          "text": [
            "Is Multi-Label? False\n",
            "preprocessing test...\n",
            "language: en\n",
            "test sequence lengths:\n",
            "\tmean : 9\n",
            "\t95percentile : 19\n",
            "\t99percentile : 25\n"
          ]
        },
        {
          "output_type": "display_data",
          "data": {
            "text/plain": [
              "<IPython.core.display.HTML object>"
            ],
            "text/html": [
              "\n",
              "<style>\n",
              "    /* Turns off some styling */\n",
              "    progress {\n",
              "        /* gets rid of default border in Firefox and Opera. */\n",
              "        border: none;\n",
              "        /* Needs to be in here for Safari polyfill so background images work as expected. */\n",
              "        background-size: auto;\n",
              "    }\n",
              "    progress:not([value]), progress:not([value])::-webkit-progress-bar {\n",
              "        background: repeating-linear-gradient(45deg, #7e7e7e, #7e7e7e 10px, #5c5c5c 10px, #5c5c5c 20px);\n",
              "    }\n",
              "    .progress-bar-interrupted, .progress-bar-interrupted::-webkit-progress-bar {\n",
              "        background: #F44336;\n",
              "    }\n",
              "</style>\n"
            ]
          },
          "metadata": {}
        },
        {
          "output_type": "display_data",
          "data": {
            "text/plain": [
              "<IPython.core.display.HTML object>"
            ],
            "text/html": []
          },
          "metadata": {}
        },
        {
          "output_type": "stream",
          "name": "stdout",
          "text": [
            "\n",
            "\n",
            "begin training using onecycle policy with max lr of 8e-05...\n",
            "Epoch 1/5\n",
            "4/4 [==============================] - 29s 4s/step - loss: 2.2809 - accuracy: 0.1200 - val_loss: 2.3191 - val_accuracy: 0.0980\n",
            "Epoch 2/5\n",
            "4/4 [==============================] - 11s 4s/step - loss: 2.1682 - accuracy: 0.2800 - val_loss: 2.2769 - val_accuracy: 0.1800\n",
            "Epoch 3/5\n",
            "4/4 [==============================] - 11s 4s/step - loss: 2.0852 - accuracy: 0.3400 - val_loss: 2.2776 - val_accuracy: 0.1370\n",
            "Epoch 4/5\n",
            "4/4 [==============================] - 11s 4s/step - loss: 2.0467 - accuracy: 0.3000 - val_loss: 2.2517 - val_accuracy: 0.1970\n",
            "Epoch 5/5\n",
            "4/4 [==============================] - 11s 4s/step - loss: 1.9307 - accuracy: 0.3600 - val_loss: 2.2387 - val_accuracy: 0.1755\n",
            "getting bootstrapped classifier\n",
            "['Business & Money', \"Children's Books\", 'Christian Books & Bibles', 'Cookbooks, Food & Wine', 'Crafts, Hobbies & Home', 'Health, Fitness & Dieting', 'Medical Books', 'Science & Math', 'Teen & Young Adult', 'Travel']\n",
            "label dist after bootstrap: Counter({\"Children's Books\": 9, 'Business & Money': 8, 'Medical Books': 6, 'Crafts, Hobbies & Home': 5, 'Travel': 5, 'Cookbooks, Food & Wine': 4, 'Science & Math': 4, 'Christian Books & Bibles': 4, 'Teen & Young Adult': 3, 'Health, Fitness & Dieting': 2})\n",
            "--------------------BOOTSTRAP DONE--------------------\n",
            "150 50\n",
            "AL ROUND:  1  (RUN3) (AL STEP)\n",
            "metric cluster :  0\n",
            "Counter({'Travel': 77, 'Crafts, Hobbies & Home': 18, 'Science & Math': 17, \"Children's Books\": 13, 'Health, Fitness & Dieting': 4, 'Business & Money': 4, 'Teen & Young Adult': 3, 'Cookbooks, Food & Wine': 3, 'Christian Books & Bibles': 3, 'Medical Books': 2}) Counter({\"Children's Books\": 117, 'Business & Money': 20, 'Travel': 6, 'Science & Math': 1})\n",
            "[('accuracy', 13.19), ('precision', 19.86), ('recall', 12.97), ('f1-macro', 5.0)]\n"
          ]
        },
        {
          "output_type": "stream",
          "name": "stderr",
          "text": [
            "/usr/local/lib/python3.7/dist-packages/sklearn/metrics/_classification.py:1318: UndefinedMetricWarning: Precision is ill-defined and being set to 0.0 in labels with no predicted samples. Use `zero_division` parameter to control this behavior.\n",
            "  _warn_prf(average, modifier, msg_start, len(result))\n"
          ]
        },
        {
          "output_type": "stream",
          "name": "stdout",
          "text": [
            "metric cluster :  5\n",
            "Counter({'Business & Money': 143, 'Medical Books': 9, 'Christian Books & Bibles': 6, 'Science & Math': 5, 'Teen & Young Adult': 4, \"Children's Books\": 4, 'Travel': 3, 'Crafts, Hobbies & Home': 2, 'Health, Fitness & Dieting': 1, 'Cookbooks, Food & Wine': 1}) Counter({\"Children's Books\": 112, 'Business & Money': 58, 'Medical Books': 8})\n",
            "[('accuracy', 32.02), ('precision', 9.5), ('recall', 13.71), ('f1-macro', 5.96)]\n"
          ]
        },
        {
          "output_type": "stream",
          "name": "stderr",
          "text": [
            "/usr/local/lib/python3.7/dist-packages/sklearn/metrics/_classification.py:1318: UndefinedMetricWarning: Precision is ill-defined and being set to 0.0 in labels with no predicted samples. Use `zero_division` parameter to control this behavior.\n",
            "  _warn_prf(average, modifier, msg_start, len(result))\n"
          ]
        },
        {
          "output_type": "stream",
          "name": "stdout",
          "text": [
            "metric cluster :  1\n",
            "Counter({\"Children's Books\": 158, 'Teen & Young Adult': 65, 'Travel': 42, 'Christian Books & Bibles': 34, 'Crafts, Hobbies & Home': 24, 'Health, Fitness & Dieting': 23, 'Science & Math': 22, 'Medical Books': 10, 'Business & Money': 6, 'Cookbooks, Food & Wine': 5}) Counter({\"Children's Books\": 378, 'Business & Money': 11})\n",
            "[('accuracy', 40.1), ('precision', 4.13), ('recall', 9.87), ('f1-macro', 5.82)]\n"
          ]
        },
        {
          "output_type": "stream",
          "name": "stderr",
          "text": [
            "/usr/local/lib/python3.7/dist-packages/sklearn/metrics/_classification.py:1318: UndefinedMetricWarning: Precision is ill-defined and being set to 0.0 in labels with no predicted samples. Use `zero_division` parameter to control this behavior.\n",
            "  _warn_prf(average, modifier, msg_start, len(result))\n"
          ]
        },
        {
          "output_type": "stream",
          "name": "stdout",
          "text": [
            "metric cluster :  6\n",
            "Counter({'Crafts, Hobbies & Home': 88, \"Children's Books\": 19, 'Travel': 9, 'Health, Fitness & Dieting': 8, 'Cookbooks, Food & Wine': 6, 'Business & Money': 4, 'Science & Math': 4, 'Teen & Young Adult': 4, 'Christian Books & Bibles': 4}) Counter({\"Children's Books\": 138, 'Business & Money': 6, 'Medical Books': 1, 'Travel': 1})\n",
            "[('accuracy', 14.38), ('precision', 13.04), ('recall', 13.61), ('f1-macro', 6.42)]\n"
          ]
        },
        {
          "output_type": "stream",
          "name": "stderr",
          "text": [
            "/usr/local/lib/python3.7/dist-packages/sklearn/metrics/_classification.py:1318: UndefinedMetricWarning: Recall is ill-defined and being set to 0.0 in labels with no true samples. Use `zero_division` parameter to control this behavior.\n",
            "  _warn_prf(average, modifier, msg_start, len(result))\n",
            "/usr/local/lib/python3.7/dist-packages/sklearn/metrics/_classification.py:1318: UndefinedMetricWarning: Precision is ill-defined and being set to 0.0 in labels with no predicted samples. Use `zero_division` parameter to control this behavior.\n",
            "  _warn_prf(average, modifier, msg_start, len(result))\n"
          ]
        },
        {
          "output_type": "stream",
          "name": "stdout",
          "text": [
            "metric cluster :  7\n",
            "Counter({'Health, Fitness & Dieting': 78, 'Medical Books': 49, 'Teen & Young Adult': 20, 'Christian Books & Bibles': 13, 'Science & Math': 13, 'Business & Money': 10, \"Children's Books\": 7, 'Crafts, Hobbies & Home': 3, 'Cookbooks, Food & Wine': 1}) Counter({\"Children's Books\": 168, 'Business & Money': 17, 'Medical Books': 9})\n",
            "[('accuracy', 6.19), ('precision', 6.64), ('recall', 12.24), ('f1-macro', 2.8)]\n"
          ]
        },
        {
          "output_type": "stream",
          "name": "stderr",
          "text": [
            "/usr/local/lib/python3.7/dist-packages/sklearn/metrics/_classification.py:1318: UndefinedMetricWarning: Precision is ill-defined and being set to 0.0 in labels with no predicted samples. Use `zero_division` parameter to control this behavior.\n",
            "  _warn_prf(average, modifier, msg_start, len(result))\n"
          ]
        },
        {
          "output_type": "stream",
          "name": "stdout",
          "text": [
            "metric cluster :  4\n",
            "Counter({'Medical Books': 149, 'Health, Fitness & Dieting': 58, 'Crafts, Hobbies & Home': 4, 'Cookbooks, Food & Wine': 2, 'Teen & Young Adult': 2, 'Christian Books & Bibles': 2, 'Science & Math': 2, 'Business & Money': 2, 'Travel': 1}) Counter({\"Children's Books\": 194, 'Business & Money': 14, 'Medical Books': 14})\n",
            "[('accuracy', 4.95), ('precision', 7.86), ('recall', 0.74), ('f1-macro', 1.35)]\n"
          ]
        },
        {
          "output_type": "stream",
          "name": "stderr",
          "text": [
            "/usr/local/lib/python3.7/dist-packages/sklearn/metrics/_classification.py:1318: UndefinedMetricWarning: Recall is ill-defined and being set to 0.0 in labels with no true samples. Use `zero_division` parameter to control this behavior.\n",
            "  _warn_prf(average, modifier, msg_start, len(result))\n",
            "/usr/local/lib/python3.7/dist-packages/sklearn/metrics/_classification.py:1318: UndefinedMetricWarning: Precision is ill-defined and being set to 0.0 in labels with no predicted samples. Use `zero_division` parameter to control this behavior.\n",
            "  _warn_prf(average, modifier, msg_start, len(result))\n"
          ]
        },
        {
          "output_type": "stream",
          "name": "stdout",
          "text": [
            "metric cluster :  9\n",
            "Counter({'Cookbooks, Food & Wine': 113, 'Health, Fitness & Dieting': 30, 'Crafts, Hobbies & Home': 7, \"Children's Books\": 4, 'Medical Books': 3, 'Science & Math': 2, 'Teen & Young Adult': 2, 'Travel': 2}) Counter({\"Children's Books\": 144, 'Business & Money': 18, 'Medical Books': 1})\n",
            "[('accuracy', 2.45), ('precision', 0.31), ('recall', 11.11), ('f1-macro', 0.6)]\n"
          ]
        },
        {
          "output_type": "stream",
          "name": "stderr",
          "text": [
            "/usr/local/lib/python3.7/dist-packages/sklearn/metrics/_classification.py:1318: UndefinedMetricWarning: Recall is ill-defined and being set to 0.0 in labels with no true samples. Use `zero_division` parameter to control this behavior.\n",
            "  _warn_prf(average, modifier, msg_start, len(result))\n",
            "/usr/local/lib/python3.7/dist-packages/sklearn/metrics/_classification.py:1318: UndefinedMetricWarning: Precision is ill-defined and being set to 0.0 in labels with no predicted samples. Use `zero_division` parameter to control this behavior.\n",
            "  _warn_prf(average, modifier, msg_start, len(result))\n"
          ]
        },
        {
          "output_type": "stream",
          "name": "stdout",
          "text": [
            "metric cluster :  3\n",
            "Counter({'Travel': 175, \"Children's Books\": 12, 'Crafts, Hobbies & Home': 11, 'Teen & Young Adult': 8, 'Science & Math': 5, 'Christian Books & Bibles': 2, 'Business & Money': 2, 'Cookbooks, Food & Wine': 2, 'Health, Fitness & Dieting': 1}) Counter({\"Children's Books\": 181, 'Travel': 29, 'Business & Money': 6, 'Medical Books': 1, 'Christian Books & Bibles': 1})\n",
            "[('accuracy', 18.81), ('precision', 10.66), ('recall', 11.66), ('f1-macro', 4.09)]\n"
          ]
        },
        {
          "output_type": "stream",
          "name": "stderr",
          "text": [
            "/usr/local/lib/python3.7/dist-packages/sklearn/metrics/_classification.py:1318: UndefinedMetricWarning: Recall is ill-defined and being set to 0.0 in labels with no true samples. Use `zero_division` parameter to control this behavior.\n",
            "  _warn_prf(average, modifier, msg_start, len(result))\n",
            "/usr/local/lib/python3.7/dist-packages/sklearn/metrics/_classification.py:1318: UndefinedMetricWarning: Precision is ill-defined and being set to 0.0 in labels with no predicted samples. Use `zero_division` parameter to control this behavior.\n",
            "  _warn_prf(average, modifier, msg_start, len(result))\n"
          ]
        },
        {
          "output_type": "stream",
          "name": "stdout",
          "text": [
            "metric cluster :  8\n",
            "Counter({'Science & Math': 100, 'Crafts, Hobbies & Home': 28, \"Children's Books\": 24, 'Teen & Young Adult': 12, 'Business & Money': 12, 'Medical Books': 8, 'Health, Fitness & Dieting': 6, 'Travel': 4, 'Christian Books & Bibles': 1}) Counter({\"Children's Books\": 185, 'Business & Money': 6, 'Medical Books': 3, 'Science & Math': 1})\n",
            "[('accuracy', 12.31), ('precision', 1.44), ('recall', 11.11), ('f1-macro', 2.55)]\n"
          ]
        },
        {
          "output_type": "stream",
          "name": "stderr",
          "text": [
            "/usr/local/lib/python3.7/dist-packages/sklearn/metrics/_classification.py:1318: UndefinedMetricWarning: Precision is ill-defined and being set to 0.0 in labels with no predicted samples. Use `zero_division` parameter to control this behavior.\n",
            "  _warn_prf(average, modifier, msg_start, len(result))\n"
          ]
        },
        {
          "output_type": "stream",
          "name": "stdout",
          "text": [
            "metric cluster :  2\n",
            "Counter({'Christian Books & Bibles': 111, 'Teen & Young Adult': 8, \"Children's Books\": 6, 'Travel': 6, 'Health, Fitness & Dieting': 6, 'Science & Math': 5, 'Crafts, Hobbies & Home': 4, 'Business & Money': 2, 'Medical Books': 2, 'Cookbooks, Food & Wine': 1}) Counter({\"Children's Books\": 145, 'Business & Money': 5, 'Medical Books': 1})\n",
            "[('accuracy', 3.97), ('precision', 0.41), ('recall', 10.0), ('f1-macro', 0.79)]\n",
            "AL distribution: {0: 5, 5: 4, 1: 4, 6: 5, 7: 6, 4: 6, 9: 6, 3: 5, 8: 5, 2: 4}\n",
            "AL leftover: 0\n"
          ]
        },
        {
          "output_type": "stream",
          "name": "stderr",
          "text": [
            "/usr/local/lib/python3.7/dist-packages/sklearn/metrics/_classification.py:1318: UndefinedMetricWarning: Precision is ill-defined and being set to 0.0 in labels with no predicted samples. Use `zero_division` parameter to control this behavior.\n",
            "  _warn_prf(average, modifier, msg_start, len(result))\n"
          ]
        },
        {
          "output_type": "stream",
          "name": "stdout",
          "text": [
            "label dist after AL step: Counter({'Medical Books': 17, 'Travel': 14, 'Business & Money': 13, \"Children's Books\": 10, 'Crafts, Hobbies & Home': 10, 'Science & Math': 10, 'Christian Books & Bibles': 9, 'Cookbooks, Food & Wine': 8, 'Health, Fitness & Dieting': 6, 'Teen & Young Adult': 3})\n",
            "current data size: 100 100\n",
            "preprocessing train...\n",
            "language: en\n",
            "train sequence lengths:\n",
            "\tmean : 11\n",
            "\t95percentile : 22\n",
            "\t99percentile : 26\n"
          ]
        },
        {
          "output_type": "stream",
          "name": "stderr",
          "text": [
            "/usr/local/lib/python3.7/dist-packages/ktrain/utils.py:738: UserWarning: class_names argument was ignored, as they were extracted from string labels in dataset\n",
            "  \"class_names argument was ignored, as they were extracted from string labels in dataset\"\n"
          ]
        },
        {
          "output_type": "display_data",
          "data": {
            "text/plain": [
              "<IPython.core.display.HTML object>"
            ],
            "text/html": [
              "\n",
              "<style>\n",
              "    /* Turns off some styling */\n",
              "    progress {\n",
              "        /* gets rid of default border in Firefox and Opera. */\n",
              "        border: none;\n",
              "        /* Needs to be in here for Safari polyfill so background images work as expected. */\n",
              "        background-size: auto;\n",
              "    }\n",
              "    progress:not([value]), progress:not([value])::-webkit-progress-bar {\n",
              "        background: repeating-linear-gradient(45deg, #7e7e7e, #7e7e7e 10px, #5c5c5c 10px, #5c5c5c 20px);\n",
              "    }\n",
              "    .progress-bar-interrupted, .progress-bar-interrupted::-webkit-progress-bar {\n",
              "        background: #F44336;\n",
              "    }\n",
              "</style>\n"
            ]
          },
          "metadata": {}
        },
        {
          "output_type": "display_data",
          "data": {
            "text/plain": [
              "<IPython.core.display.HTML object>"
            ],
            "text/html": []
          },
          "metadata": {}
        },
        {
          "output_type": "stream",
          "name": "stdout",
          "text": [
            "Is Multi-Label? False\n",
            "preprocessing test...\n",
            "language: en\n",
            "test sequence lengths:\n",
            "\tmean : 9\n",
            "\t95percentile : 19\n",
            "\t99percentile : 25\n"
          ]
        },
        {
          "output_type": "display_data",
          "data": {
            "text/plain": [
              "<IPython.core.display.HTML object>"
            ],
            "text/html": [
              "\n",
              "<style>\n",
              "    /* Turns off some styling */\n",
              "    progress {\n",
              "        /* gets rid of default border in Firefox and Opera. */\n",
              "        border: none;\n",
              "        /* Needs to be in here for Safari polyfill so background images work as expected. */\n",
              "        background-size: auto;\n",
              "    }\n",
              "    progress:not([value]), progress:not([value])::-webkit-progress-bar {\n",
              "        background: repeating-linear-gradient(45deg, #7e7e7e, #7e7e7e 10px, #5c5c5c 10px, #5c5c5c 20px);\n",
              "    }\n",
              "    .progress-bar-interrupted, .progress-bar-interrupted::-webkit-progress-bar {\n",
              "        background: #F44336;\n",
              "    }\n",
              "</style>\n"
            ]
          },
          "metadata": {}
        },
        {
          "output_type": "display_data",
          "data": {
            "text/plain": [
              "<IPython.core.display.HTML object>"
            ],
            "text/html": []
          },
          "metadata": {}
        },
        {
          "output_type": "stream",
          "name": "stdout",
          "text": [
            "\n",
            "\n",
            "begin training using onecycle policy with max lr of 8e-05...\n",
            "Epoch 1/5\n",
            "7/7 [==============================] - 29s 2s/step - loss: 2.3351 - accuracy: 0.1400 - val_loss: 2.2971 - val_accuracy: 0.0915\n",
            "Epoch 2/5\n",
            "7/7 [==============================] - 12s 2s/step - loss: 2.1869 - accuracy: 0.2900 - val_loss: 2.2476 - val_accuracy: 0.1580\n",
            "Epoch 3/5\n",
            "7/7 [==============================] - 12s 2s/step - loss: 1.9860 - accuracy: 0.3700 - val_loss: 2.1747 - val_accuracy: 0.2140\n",
            "Epoch 4/5\n",
            "7/7 [==============================] - 12s 2s/step - loss: 1.7276 - accuracy: 0.5100 - val_loss: 1.9745 - val_accuracy: 0.3655\n",
            "Epoch 5/5\n",
            "7/7 [==============================] - 12s 2s/step - loss: 1.4784 - accuracy: 0.6700 - val_loss: 1.9947 - val_accuracy: 0.3530\n",
            "updating classifier\n",
            "['Business & Money', \"Children's Books\", 'Christian Books & Bibles', 'Cookbooks, Food & Wine', 'Crafts, Hobbies & Home', 'Health, Fitness & Dieting', 'Medical Books', 'Science & Math', 'Teen & Young Adult', 'Travel']\n",
            "-----------------ROUND 1DONE--------------\n",
            "100 50\n",
            "AL ROUND:  2  (RUN3) (AL STEP)\n",
            "metric cluster :  0\n",
            "Counter({'Travel': 77, 'Crafts, Hobbies & Home': 18, 'Science & Math': 17, \"Children's Books\": 13, 'Health, Fitness & Dieting': 4, 'Business & Money': 4, 'Teen & Young Adult': 3, 'Cookbooks, Food & Wine': 3, 'Christian Books & Bibles': 3, 'Medical Books': 2}) Counter({'Travel': 42, 'Medical Books': 42, 'Business & Money': 27, 'Science & Math': 16, 'Cookbooks, Food & Wine': 9, 'Crafts, Hobbies & Home': 3, 'Christian Books & Bibles': 3, \"Children's Books\": 2})\n",
            "[('accuracy', 34.72), ('precision', 30.12), ('recall', 35.15), ('f1-macro', 23.5)]\n"
          ]
        },
        {
          "output_type": "stream",
          "name": "stderr",
          "text": [
            "/usr/local/lib/python3.7/dist-packages/sklearn/metrics/_classification.py:1318: UndefinedMetricWarning: Precision is ill-defined and being set to 0.0 in labels with no predicted samples. Use `zero_division` parameter to control this behavior.\n",
            "  _warn_prf(average, modifier, msg_start, len(result))\n"
          ]
        },
        {
          "output_type": "stream",
          "name": "stdout",
          "text": [
            "metric cluster :  5\n",
            "Counter({'Business & Money': 143, 'Medical Books': 9, 'Christian Books & Bibles': 6, 'Science & Math': 5, 'Teen & Young Adult': 4, \"Children's Books\": 4, 'Travel': 3, 'Crafts, Hobbies & Home': 2, 'Health, Fitness & Dieting': 1, 'Cookbooks, Food & Wine': 1}) Counter({'Medical Books': 84, 'Business & Money': 77, 'Science & Math': 12, 'Cookbooks, Food & Wine': 2, \"Children's Books\": 2, 'Travel': 1})\n",
            "[('accuracy', 41.57), ('precision', 10.94), ('recall', 16.32), ('f1-macro', 9.77)]\n"
          ]
        },
        {
          "output_type": "stream",
          "name": "stderr",
          "text": [
            "/usr/local/lib/python3.7/dist-packages/sklearn/metrics/_classification.py:1318: UndefinedMetricWarning: Precision is ill-defined and being set to 0.0 in labels with no predicted samples. Use `zero_division` parameter to control this behavior.\n",
            "  _warn_prf(average, modifier, msg_start, len(result))\n"
          ]
        },
        {
          "output_type": "stream",
          "name": "stdout",
          "text": [
            "metric cluster :  1\n",
            "Counter({\"Children's Books\": 158, 'Teen & Young Adult': 65, 'Travel': 42, 'Christian Books & Bibles': 34, 'Crafts, Hobbies & Home': 24, 'Health, Fitness & Dieting': 23, 'Science & Math': 22, 'Medical Books': 10, 'Business & Money': 6, 'Cookbooks, Food & Wine': 5}) Counter({'Business & Money': 145, 'Medical Books': 86, \"Children's Books\": 86, 'Science & Math': 27, 'Travel': 18, 'Christian Books & Bibles': 17, 'Cookbooks, Food & Wine': 8, 'Crafts, Hobbies & Home': 2})\n",
            "[('accuracy', 17.22), ('precision', 14.63), ('recall', 17.78), ('f1-macro', 11.54)]\n"
          ]
        },
        {
          "output_type": "stream",
          "name": "stderr",
          "text": [
            "/usr/local/lib/python3.7/dist-packages/sklearn/metrics/_classification.py:1318: UndefinedMetricWarning: Precision is ill-defined and being set to 0.0 in labels with no predicted samples. Use `zero_division` parameter to control this behavior.\n",
            "  _warn_prf(average, modifier, msg_start, len(result))\n"
          ]
        },
        {
          "output_type": "stream",
          "name": "stdout",
          "text": [
            "metric cluster :  6\n",
            "Counter({'Crafts, Hobbies & Home': 88, \"Children's Books\": 19, 'Travel': 9, 'Health, Fitness & Dieting': 8, 'Cookbooks, Food & Wine': 6, 'Business & Money': 4, 'Science & Math': 4, 'Teen & Young Adult': 4, 'Christian Books & Bibles': 4}) Counter({'Medical Books': 64, 'Business & Money': 46, 'Science & Math': 11, \"Children's Books\": 9, 'Crafts, Hobbies & Home': 6, 'Cookbooks, Food & Wine': 6, 'Travel': 3, 'Christian Books & Bibles': 1})\n",
            "[('accuracy', 8.22), ('precision', 28.35), ('recall', 11.34), ('f1-macro', 11.56)]\n"
          ]
        },
        {
          "output_type": "stream",
          "name": "stderr",
          "text": [
            "/usr/local/lib/python3.7/dist-packages/sklearn/metrics/_classification.py:1318: UndefinedMetricWarning: Recall is ill-defined and being set to 0.0 in labels with no true samples. Use `zero_division` parameter to control this behavior.\n",
            "  _warn_prf(average, modifier, msg_start, len(result))\n",
            "/usr/local/lib/python3.7/dist-packages/sklearn/metrics/_classification.py:1318: UndefinedMetricWarning: Precision is ill-defined and being set to 0.0 in labels with no predicted samples. Use `zero_division` parameter to control this behavior.\n",
            "  _warn_prf(average, modifier, msg_start, len(result))\n"
          ]
        },
        {
          "output_type": "stream",
          "name": "stdout",
          "text": [
            "metric cluster :  7\n",
            "Counter({'Health, Fitness & Dieting': 78, 'Medical Books': 49, 'Teen & Young Adult': 20, 'Christian Books & Bibles': 13, 'Science & Math': 13, 'Business & Money': 10, \"Children's Books\": 7, 'Crafts, Hobbies & Home': 3, 'Cookbooks, Food & Wine': 1}) Counter({'Medical Books': 129, 'Business & Money': 41, 'Christian Books & Bibles': 9, \"Children's Books\": 8, 'Science & Math': 3, 'Cookbooks, Food & Wine': 2, 'Travel': 2})\n",
            "[('accuracy', 24.74), ('precision', 11.75), ('recall', 15.67), ('f1-macro', 10.98)]\n"
          ]
        },
        {
          "output_type": "stream",
          "name": "stderr",
          "text": [
            "/usr/local/lib/python3.7/dist-packages/sklearn/metrics/_classification.py:1318: UndefinedMetricWarning: Recall is ill-defined and being set to 0.0 in labels with no true samples. Use `zero_division` parameter to control this behavior.\n",
            "  _warn_prf(average, modifier, msg_start, len(result))\n",
            "/usr/local/lib/python3.7/dist-packages/sklearn/metrics/_classification.py:1318: UndefinedMetricWarning: Precision is ill-defined and being set to 0.0 in labels with no predicted samples. Use `zero_division` parameter to control this behavior.\n",
            "  _warn_prf(average, modifier, msg_start, len(result))\n"
          ]
        },
        {
          "output_type": "stream",
          "name": "stdout",
          "text": [
            "metric cluster :  4\n",
            "Counter({'Medical Books': 149, 'Health, Fitness & Dieting': 58, 'Crafts, Hobbies & Home': 4, 'Cookbooks, Food & Wine': 2, 'Teen & Young Adult': 2, 'Christian Books & Bibles': 2, 'Science & Math': 2, 'Business & Money': 2, 'Travel': 1}) Counter({'Medical Books': 207, 'Business & Money': 6, \"Children's Books\": 3, 'Travel': 2, 'Science & Math': 2, 'Christian Books & Bibles': 1, 'Cookbooks, Food & Wine': 1})\n",
            "[('accuracy', 65.77), ('precision', 12.0), ('recall', 19.73), ('f1-macro', 14.81)]\n"
          ]
        },
        {
          "output_type": "stream",
          "name": "stderr",
          "text": [
            "/usr/local/lib/python3.7/dist-packages/sklearn/metrics/_classification.py:1318: UndefinedMetricWarning: Recall is ill-defined and being set to 0.0 in labels with no true samples. Use `zero_division` parameter to control this behavior.\n",
            "  _warn_prf(average, modifier, msg_start, len(result))\n",
            "/usr/local/lib/python3.7/dist-packages/sklearn/metrics/_classification.py:1318: UndefinedMetricWarning: Precision is ill-defined and being set to 0.0 in labels with no predicted samples. Use `zero_division` parameter to control this behavior.\n",
            "  _warn_prf(average, modifier, msg_start, len(result))\n"
          ]
        },
        {
          "output_type": "stream",
          "name": "stdout",
          "text": [
            "metric cluster :  9\n",
            "Counter({'Cookbooks, Food & Wine': 113, 'Health, Fitness & Dieting': 30, 'Crafts, Hobbies & Home': 7, \"Children's Books\": 4, 'Medical Books': 3, 'Science & Math': 2, 'Teen & Young Adult': 2, 'Travel': 2}) Counter({'Cookbooks, Food & Wine': 89, 'Medical Books': 50, \"Children's Books\": 16, 'Business & Money': 6, 'Health, Fitness & Dieting': 1, 'Crafts, Hobbies & Home': 1})\n",
            "[('accuracy', 46.63), ('precision', 20.77), ('recall', 19.78), ('f1-macro', 11.96)]\n"
          ]
        },
        {
          "output_type": "stream",
          "name": "stderr",
          "text": [
            "/usr/local/lib/python3.7/dist-packages/sklearn/metrics/_classification.py:1318: UndefinedMetricWarning: Recall is ill-defined and being set to 0.0 in labels with no true samples. Use `zero_division` parameter to control this behavior.\n",
            "  _warn_prf(average, modifier, msg_start, len(result))\n",
            "/usr/local/lib/python3.7/dist-packages/sklearn/metrics/_classification.py:1318: UndefinedMetricWarning: Precision is ill-defined and being set to 0.0 in labels with no predicted samples. Use `zero_division` parameter to control this behavior.\n",
            "  _warn_prf(average, modifier, msg_start, len(result))\n"
          ]
        },
        {
          "output_type": "stream",
          "name": "stdout",
          "text": [
            "metric cluster :  3\n",
            "Counter({'Travel': 175, \"Children's Books\": 12, 'Crafts, Hobbies & Home': 11, 'Teen & Young Adult': 8, 'Science & Math': 5, 'Christian Books & Bibles': 2, 'Business & Money': 2, 'Cookbooks, Food & Wine': 2, 'Health, Fitness & Dieting': 1}) Counter({'Travel': 119, 'Medical Books': 33, 'Business & Money': 24, 'Cookbooks, Food & Wine': 19, 'Science & Math': 15, \"Children's Books\": 7, 'Christian Books & Bibles': 1})\n",
            "[('accuracy', 49.08), ('precision', 10.6), ('recall', 14.94), ('f1-macro', 10.03)]\n"
          ]
        },
        {
          "output_type": "stream",
          "name": "stderr",
          "text": [
            "/usr/local/lib/python3.7/dist-packages/sklearn/metrics/_classification.py:1318: UndefinedMetricWarning: Recall is ill-defined and being set to 0.0 in labels with no true samples. Use `zero_division` parameter to control this behavior.\n",
            "  _warn_prf(average, modifier, msg_start, len(result))\n",
            "/usr/local/lib/python3.7/dist-packages/sklearn/metrics/_classification.py:1318: UndefinedMetricWarning: Precision is ill-defined and being set to 0.0 in labels with no predicted samples. Use `zero_division` parameter to control this behavior.\n",
            "  _warn_prf(average, modifier, msg_start, len(result))\n"
          ]
        },
        {
          "output_type": "stream",
          "name": "stdout",
          "text": [
            "metric cluster :  8\n",
            "Counter({'Science & Math': 100, 'Crafts, Hobbies & Home': 28, \"Children's Books\": 24, 'Teen & Young Adult': 12, 'Business & Money': 12, 'Medical Books': 8, 'Health, Fitness & Dieting': 6, 'Travel': 4, 'Christian Books & Bibles': 1}) Counter({'Medical Books': 119, 'Science & Math': 40, 'Business & Money': 34, 'Travel': 1, \"Children's Books\": 1})\n",
            "[('accuracy', 20.0), ('precision', 9.96), ('recall', 11.54), ('f1-macro', 6.6)]\n"
          ]
        },
        {
          "output_type": "stream",
          "name": "stderr",
          "text": [
            "/usr/local/lib/python3.7/dist-packages/sklearn/metrics/_classification.py:1318: UndefinedMetricWarning: Precision is ill-defined and being set to 0.0 in labels with no predicted samples. Use `zero_division` parameter to control this behavior.\n",
            "  _warn_prf(average, modifier, msg_start, len(result))\n"
          ]
        },
        {
          "output_type": "stream",
          "name": "stdout",
          "text": [
            "metric cluster :  2\n",
            "Counter({'Christian Books & Bibles': 111, 'Teen & Young Adult': 8, \"Children's Books\": 6, 'Travel': 6, 'Health, Fitness & Dieting': 6, 'Science & Math': 5, 'Crafts, Hobbies & Home': 4, 'Business & Money': 2, 'Medical Books': 2, 'Cookbooks, Food & Wine': 1}) Counter({'Christian Books & Bibles': 105, 'Business & Money': 23, 'Medical Books': 16, 'Science & Math': 3, 'Travel': 2, \"Children's Books\": 1, 'Crafts, Hobbies & Home': 1})\n",
            "[('accuracy', 57.62), ('precision', 9.49), ('recall', 22.57), ('f1-macro', 10.49)]\n",
            "AL distribution: {0: 5, 5: 5, 1: 7, 6: 7, 7: 6, 4: 3, 9: 4, 3: 4, 8: 6, 2: 3}\n",
            "AL leftover: 0\n"
          ]
        },
        {
          "output_type": "stream",
          "name": "stderr",
          "text": [
            "/usr/local/lib/python3.7/dist-packages/sklearn/metrics/_classification.py:1318: UndefinedMetricWarning: Precision is ill-defined and being set to 0.0 in labels with no predicted samples. Use `zero_division` parameter to control this behavior.\n",
            "  _warn_prf(average, modifier, msg_start, len(result))\n"
          ]
        },
        {
          "output_type": "stream",
          "name": "stdout",
          "text": [
            "label dist after AL step: Counter({'Travel': 20, \"Children's Books\": 19, 'Medical Books': 19, 'Business & Money': 17, 'Crafts, Hobbies & Home': 16, 'Science & Math': 16, 'Health, Fitness & Dieting': 13, 'Cookbooks, Food & Wine': 12, 'Christian Books & Bibles': 12, 'Teen & Young Adult': 6})\n",
            "current data size: 150 150\n",
            "preprocessing train...\n",
            "language: en\n",
            "train sequence lengths:\n",
            "\tmean : 11\n",
            "\t95percentile : 22\n",
            "\t99percentile : 26\n"
          ]
        },
        {
          "output_type": "stream",
          "name": "stderr",
          "text": [
            "/usr/local/lib/python3.7/dist-packages/ktrain/utils.py:738: UserWarning: class_names argument was ignored, as they were extracted from string labels in dataset\n",
            "  \"class_names argument was ignored, as they were extracted from string labels in dataset\"\n"
          ]
        },
        {
          "output_type": "display_data",
          "data": {
            "text/plain": [
              "<IPython.core.display.HTML object>"
            ],
            "text/html": [
              "\n",
              "<style>\n",
              "    /* Turns off some styling */\n",
              "    progress {\n",
              "        /* gets rid of default border in Firefox and Opera. */\n",
              "        border: none;\n",
              "        /* Needs to be in here for Safari polyfill so background images work as expected. */\n",
              "        background-size: auto;\n",
              "    }\n",
              "    progress:not([value]), progress:not([value])::-webkit-progress-bar {\n",
              "        background: repeating-linear-gradient(45deg, #7e7e7e, #7e7e7e 10px, #5c5c5c 10px, #5c5c5c 20px);\n",
              "    }\n",
              "    .progress-bar-interrupted, .progress-bar-interrupted::-webkit-progress-bar {\n",
              "        background: #F44336;\n",
              "    }\n",
              "</style>\n"
            ]
          },
          "metadata": {}
        },
        {
          "output_type": "display_data",
          "data": {
            "text/plain": [
              "<IPython.core.display.HTML object>"
            ],
            "text/html": []
          },
          "metadata": {}
        },
        {
          "output_type": "stream",
          "name": "stdout",
          "text": [
            "Is Multi-Label? False\n",
            "preprocessing test...\n",
            "language: en\n",
            "test sequence lengths:\n",
            "\tmean : 9\n",
            "\t95percentile : 19\n",
            "\t99percentile : 25\n"
          ]
        },
        {
          "output_type": "display_data",
          "data": {
            "text/plain": [
              "<IPython.core.display.HTML object>"
            ],
            "text/html": [
              "\n",
              "<style>\n",
              "    /* Turns off some styling */\n",
              "    progress {\n",
              "        /* gets rid of default border in Firefox and Opera. */\n",
              "        border: none;\n",
              "        /* Needs to be in here for Safari polyfill so background images work as expected. */\n",
              "        background-size: auto;\n",
              "    }\n",
              "    progress:not([value]), progress:not([value])::-webkit-progress-bar {\n",
              "        background: repeating-linear-gradient(45deg, #7e7e7e, #7e7e7e 10px, #5c5c5c 10px, #5c5c5c 20px);\n",
              "    }\n",
              "    .progress-bar-interrupted, .progress-bar-interrupted::-webkit-progress-bar {\n",
              "        background: #F44336;\n",
              "    }\n",
              "</style>\n"
            ]
          },
          "metadata": {}
        },
        {
          "output_type": "display_data",
          "data": {
            "text/plain": [
              "<IPython.core.display.HTML object>"
            ],
            "text/html": []
          },
          "metadata": {}
        },
        {
          "output_type": "stream",
          "name": "stdout",
          "text": [
            "\n",
            "\n",
            "begin training using onecycle policy with max lr of 8e-05...\n",
            "Epoch 1/5\n",
            "10/10 [==============================] - 31s 2s/step - loss: 2.3985 - accuracy: 0.0800 - val_loss: 2.2956 - val_accuracy: 0.0940\n",
            "Epoch 2/5\n",
            "10/10 [==============================] - 13s 1s/step - loss: 2.2219 - accuracy: 0.2067 - val_loss: 2.1913 - val_accuracy: 0.2120\n",
            "Epoch 3/5\n",
            "10/10 [==============================] - 13s 1s/step - loss: 2.0133 - accuracy: 0.3600 - val_loss: 2.0249 - val_accuracy: 0.3450\n",
            "Epoch 4/5\n",
            "10/10 [==============================] - 13s 1s/step - loss: 1.6510 - accuracy: 0.6133 - val_loss: 1.8324 - val_accuracy: 0.4305\n",
            "Epoch 5/5\n",
            "10/10 [==============================] - 13s 1s/step - loss: 1.2869 - accuracy: 0.7600 - val_loss: 1.7259 - val_accuracy: 0.4825\n",
            "updating classifier\n",
            "['Business & Money', \"Children's Books\", 'Christian Books & Bibles', 'Cookbooks, Food & Wine', 'Crafts, Hobbies & Home', 'Health, Fitness & Dieting', 'Medical Books', 'Science & Math', 'Teen & Young Adult', 'Travel']\n",
            "-----------------ROUND 2DONE--------------\n",
            "50 50\n",
            "AL ROUND:  3  (RUN3) (AL STEP)\n",
            "metric cluster :  0\n",
            "Counter({'Travel': 77, 'Crafts, Hobbies & Home': 18, 'Science & Math': 17, \"Children's Books\": 13, 'Health, Fitness & Dieting': 4, 'Business & Money': 4, 'Teen & Young Adult': 3, 'Cookbooks, Food & Wine': 3, 'Christian Books & Bibles': 3, 'Medical Books': 2}) Counter({'Travel': 93, 'Cookbooks, Food & Wine': 18, \"Children's Books\": 12, 'Medical Books': 9, 'Crafts, Hobbies & Home': 4, 'Health, Fitness & Dieting': 3, 'Business & Money': 2, 'Christian Books & Bibles': 2, 'Science & Math': 1})\n",
            "[('accuracy', 56.25), ('precision', 34.32), ('recall', 40.54), ('f1-macro', 29.09)]\n"
          ]
        },
        {
          "output_type": "stream",
          "name": "stderr",
          "text": [
            "/usr/local/lib/python3.7/dist-packages/sklearn/metrics/_classification.py:1318: UndefinedMetricWarning: Precision is ill-defined and being set to 0.0 in labels with no predicted samples. Use `zero_division` parameter to control this behavior.\n",
            "  _warn_prf(average, modifier, msg_start, len(result))\n"
          ]
        },
        {
          "output_type": "stream",
          "name": "stdout",
          "text": [
            "metric cluster :  5\n",
            "Counter({'Business & Money': 143, 'Medical Books': 9, 'Christian Books & Bibles': 6, 'Science & Math': 5, 'Teen & Young Adult': 4, \"Children's Books\": 4, 'Travel': 3, 'Crafts, Hobbies & Home': 2, 'Health, Fitness & Dieting': 1, 'Cookbooks, Food & Wine': 1}) Counter({'Business & Money': 98, 'Medical Books': 52, 'Travel': 7, \"Children's Books\": 6, 'Health, Fitness & Dieting': 6, 'Crafts, Hobbies & Home': 4, 'Cookbooks, Food & Wine': 2, 'Science & Math': 2, 'Christian Books & Bibles': 1})\n",
            "[('accuracy', 57.87), ('precision', 20.0), ('recall', 23.78), ('f1-macro', 18.2)]\n"
          ]
        },
        {
          "output_type": "stream",
          "name": "stderr",
          "text": [
            "/usr/local/lib/python3.7/dist-packages/sklearn/metrics/_classification.py:1318: UndefinedMetricWarning: Precision is ill-defined and being set to 0.0 in labels with no predicted samples. Use `zero_division` parameter to control this behavior.\n",
            "  _warn_prf(average, modifier, msg_start, len(result))\n"
          ]
        },
        {
          "output_type": "stream",
          "name": "stdout",
          "text": [
            "metric cluster :  1\n",
            "Counter({\"Children's Books\": 158, 'Teen & Young Adult': 65, 'Travel': 42, 'Christian Books & Bibles': 34, 'Crafts, Hobbies & Home': 24, 'Health, Fitness & Dieting': 23, 'Science & Math': 22, 'Medical Books': 10, 'Business & Money': 6, 'Cookbooks, Food & Wine': 5}) Counter({\"Children's Books\": 205, 'Travel': 109, 'Cookbooks, Food & Wine': 26, 'Medical Books': 22, 'Health, Fitness & Dieting': 10, 'Christian Books & Bibles': 7, 'Business & Money': 4, 'Crafts, Hobbies & Home': 4, 'Science & Math': 2})\n",
            "[('accuracy', 35.48), ('precision', 23.04), ('recall', 21.52), ('f1-macro', 17.22)]\n"
          ]
        },
        {
          "output_type": "stream",
          "name": "stderr",
          "text": [
            "/usr/local/lib/python3.7/dist-packages/sklearn/metrics/_classification.py:1318: UndefinedMetricWarning: Precision is ill-defined and being set to 0.0 in labels with no predicted samples. Use `zero_division` parameter to control this behavior.\n",
            "  _warn_prf(average, modifier, msg_start, len(result))\n"
          ]
        },
        {
          "output_type": "stream",
          "name": "stdout",
          "text": [
            "metric cluster :  6\n",
            "Counter({'Crafts, Hobbies & Home': 88, \"Children's Books\": 19, 'Travel': 9, 'Health, Fitness & Dieting': 8, 'Cookbooks, Food & Wine': 6, 'Business & Money': 4, 'Science & Math': 4, 'Teen & Young Adult': 4, 'Christian Books & Bibles': 4}) Counter({'Travel': 46, 'Cookbooks, Food & Wine': 34, 'Crafts, Hobbies & Home': 29, \"Children's Books\": 21, 'Medical Books': 9, 'Business & Money': 5, 'Science & Math': 2})\n",
            "[('accuracy', 29.45), ('precision', 21.59), ('recall', 22.88), ('f1-macro', 17.67)]\n"
          ]
        },
        {
          "output_type": "stream",
          "name": "stderr",
          "text": [
            "/usr/local/lib/python3.7/dist-packages/sklearn/metrics/_classification.py:1318: UndefinedMetricWarning: Recall is ill-defined and being set to 0.0 in labels with no true samples. Use `zero_division` parameter to control this behavior.\n",
            "  _warn_prf(average, modifier, msg_start, len(result))\n",
            "/usr/local/lib/python3.7/dist-packages/sklearn/metrics/_classification.py:1318: UndefinedMetricWarning: Precision is ill-defined and being set to 0.0 in labels with no predicted samples. Use `zero_division` parameter to control this behavior.\n",
            "  _warn_prf(average, modifier, msg_start, len(result))\n"
          ]
        },
        {
          "output_type": "stream",
          "name": "stdout",
          "text": [
            "metric cluster :  7\n",
            "Counter({'Health, Fitness & Dieting': 78, 'Medical Books': 49, 'Teen & Young Adult': 20, 'Christian Books & Bibles': 13, 'Science & Math': 13, 'Business & Money': 10, \"Children's Books\": 7, 'Crafts, Hobbies & Home': 3, 'Cookbooks, Food & Wine': 1}) Counter({'Medical Books': 96, 'Health, Fitness & Dieting': 35, 'Business & Money': 23, \"Children's Books\": 12, 'Travel': 11, 'Christian Books & Bibles': 10, 'Cookbooks, Food & Wine': 4, 'Crafts, Hobbies & Home': 2, 'Science & Math': 1})\n",
            "[('accuracy', 35.05), ('precision', 29.37), ('recall', 20.06), ('f1-macro', 18.95)]\n"
          ]
        },
        {
          "output_type": "stream",
          "name": "stderr",
          "text": [
            "/usr/local/lib/python3.7/dist-packages/sklearn/metrics/_classification.py:1318: UndefinedMetricWarning: Recall is ill-defined and being set to 0.0 in labels with no true samples. Use `zero_division` parameter to control this behavior.\n",
            "  _warn_prf(average, modifier, msg_start, len(result))\n",
            "/usr/local/lib/python3.7/dist-packages/sklearn/metrics/_classification.py:1318: UndefinedMetricWarning: Precision is ill-defined and being set to 0.0 in labels with no predicted samples. Use `zero_division` parameter to control this behavior.\n",
            "  _warn_prf(average, modifier, msg_start, len(result))\n"
          ]
        },
        {
          "output_type": "stream",
          "name": "stdout",
          "text": [
            "metric cluster :  4\n",
            "Counter({'Medical Books': 149, 'Health, Fitness & Dieting': 58, 'Crafts, Hobbies & Home': 4, 'Cookbooks, Food & Wine': 2, 'Teen & Young Adult': 2, 'Christian Books & Bibles': 2, 'Science & Math': 2, 'Business & Money': 2, 'Travel': 1}) Counter({'Medical Books': 179, 'Health, Fitness & Dieting': 17, 'Business & Money': 11, \"Children's Books\": 6, 'Travel': 5, 'Cookbooks, Food & Wine': 3, 'Crafts, Hobbies & Home': 1})\n",
            "[('accuracy', 68.02), ('precision', 16.77), ('recall', 21.33), ('f1-macro', 14.95)]\n"
          ]
        },
        {
          "output_type": "stream",
          "name": "stderr",
          "text": [
            "/usr/local/lib/python3.7/dist-packages/sklearn/metrics/_classification.py:1318: UndefinedMetricWarning: Recall is ill-defined and being set to 0.0 in labels with no true samples. Use `zero_division` parameter to control this behavior.\n",
            "  _warn_prf(average, modifier, msg_start, len(result))\n",
            "/usr/local/lib/python3.7/dist-packages/sklearn/metrics/_classification.py:1318: UndefinedMetricWarning: Precision is ill-defined and being set to 0.0 in labels with no predicted samples. Use `zero_division` parameter to control this behavior.\n",
            "  _warn_prf(average, modifier, msg_start, len(result))\n"
          ]
        },
        {
          "output_type": "stream",
          "name": "stdout",
          "text": [
            "metric cluster :  9\n",
            "Counter({'Cookbooks, Food & Wine': 113, 'Health, Fitness & Dieting': 30, 'Crafts, Hobbies & Home': 7, \"Children's Books\": 4, 'Medical Books': 3, 'Science & Math': 2, 'Teen & Young Adult': 2, 'Travel': 2}) Counter({'Cookbooks, Food & Wine': 114, 'Medical Books': 12, 'Health, Fitness & Dieting': 10, \"Children's Books\": 9, 'Travel': 7, 'Business & Money': 6, 'Crafts, Hobbies & Home': 5})\n",
            "[('accuracy', 61.96), ('precision', 19.83), ('recall', 22.67), ('f1-macro', 18.31)]\n"
          ]
        },
        {
          "output_type": "stream",
          "name": "stderr",
          "text": [
            "/usr/local/lib/python3.7/dist-packages/sklearn/metrics/_classification.py:1318: UndefinedMetricWarning: Recall is ill-defined and being set to 0.0 in labels with no true samples. Use `zero_division` parameter to control this behavior.\n",
            "  _warn_prf(average, modifier, msg_start, len(result))\n",
            "/usr/local/lib/python3.7/dist-packages/sklearn/metrics/_classification.py:1318: UndefinedMetricWarning: Precision is ill-defined and being set to 0.0 in labels with no predicted samples. Use `zero_division` parameter to control this behavior.\n",
            "  _warn_prf(average, modifier, msg_start, len(result))\n"
          ]
        },
        {
          "output_type": "stream",
          "name": "stdout",
          "text": [
            "metric cluster :  3\n",
            "Counter({'Travel': 175, \"Children's Books\": 12, 'Crafts, Hobbies & Home': 11, 'Teen & Young Adult': 8, 'Science & Math': 5, 'Christian Books & Bibles': 2, 'Business & Money': 2, 'Cookbooks, Food & Wine': 2, 'Health, Fitness & Dieting': 1}) Counter({'Travel': 153, \"Children's Books\": 41, 'Medical Books': 16, 'Cookbooks, Food & Wine': 6, 'Crafts, Hobbies & Home': 1, 'Business & Money': 1})\n",
            "[('accuracy', 63.3), ('precision', 21.27), ('recall', 16.79), ('f1-macro', 13.72)]\n"
          ]
        },
        {
          "output_type": "stream",
          "name": "stderr",
          "text": [
            "/usr/local/lib/python3.7/dist-packages/sklearn/metrics/_classification.py:1318: UndefinedMetricWarning: Recall is ill-defined and being set to 0.0 in labels with no true samples. Use `zero_division` parameter to control this behavior.\n",
            "  _warn_prf(average, modifier, msg_start, len(result))\n",
            "/usr/local/lib/python3.7/dist-packages/sklearn/metrics/_classification.py:1318: UndefinedMetricWarning: Precision is ill-defined and being set to 0.0 in labels with no predicted samples. Use `zero_division` parameter to control this behavior.\n",
            "  _warn_prf(average, modifier, msg_start, len(result))\n"
          ]
        },
        {
          "output_type": "stream",
          "name": "stdout",
          "text": [
            "metric cluster :  8\n",
            "Counter({'Science & Math': 100, 'Crafts, Hobbies & Home': 28, \"Children's Books\": 24, 'Teen & Young Adult': 12, 'Business & Money': 12, 'Medical Books': 8, 'Health, Fitness & Dieting': 6, 'Travel': 4, 'Christian Books & Bibles': 1}) Counter({'Medical Books': 94, 'Science & Math': 44, 'Travel': 22, 'Business & Money': 18, \"Children's Books\": 11, 'Crafts, Hobbies & Home': 4, 'Cookbooks, Food & Wine': 1, 'Health, Fitness & Dieting': 1})\n",
            "[('accuracy', 28.72), ('precision', 17.18), ('recall', 20.15), ('f1-macro', 12.99)]\n"
          ]
        },
        {
          "output_type": "stream",
          "name": "stderr",
          "text": [
            "/usr/local/lib/python3.7/dist-packages/sklearn/metrics/_classification.py:1318: UndefinedMetricWarning: Recall is ill-defined and being set to 0.0 in labels with no true samples. Use `zero_division` parameter to control this behavior.\n",
            "  _warn_prf(average, modifier, msg_start, len(result))\n",
            "/usr/local/lib/python3.7/dist-packages/sklearn/metrics/_classification.py:1318: UndefinedMetricWarning: Precision is ill-defined and being set to 0.0 in labels with no predicted samples. Use `zero_division` parameter to control this behavior.\n",
            "  _warn_prf(average, modifier, msg_start, len(result))\n"
          ]
        },
        {
          "output_type": "stream",
          "name": "stdout",
          "text": [
            "metric cluster :  2\n",
            "Counter({'Christian Books & Bibles': 111, 'Teen & Young Adult': 8, \"Children's Books\": 6, 'Travel': 6, 'Health, Fitness & Dieting': 6, 'Science & Math': 5, 'Crafts, Hobbies & Home': 4, 'Business & Money': 2, 'Medical Books': 2, 'Cookbooks, Food & Wine': 1}) Counter({'Christian Books & Bibles': 96, 'Medical Books': 26, 'Travel': 15, 'Health, Fitness & Dieting': 6, \"Children's Books\": 5, 'Cookbooks, Food & Wine': 1, 'Science & Math': 1, 'Crafts, Hobbies & Home': 1})\n",
            "[('accuracy', 56.95), ('precision', 22.72), ('recall', 21.37), ('f1-macro', 17.12)]\n",
            "AL distribution: {0: 4, 5: 4, 1: 6, 6: 7, 7: 6, 4: 3, 9: 4, 3: 4, 8: 7, 2: 4}\n",
            "AL leftover: 1\n"
          ]
        },
        {
          "output_type": "stream",
          "name": "stderr",
          "text": [
            "/usr/local/lib/python3.7/dist-packages/sklearn/metrics/_classification.py:1318: UndefinedMetricWarning: Precision is ill-defined and being set to 0.0 in labels with no predicted samples. Use `zero_division` parameter to control this behavior.\n",
            "  _warn_prf(average, modifier, msg_start, len(result))\n"
          ]
        },
        {
          "output_type": "stream",
          "name": "stdout",
          "text": [
            "label dist after AL step: Counter({\"Children's Books\": 25, 'Travel': 25, 'Science & Math': 25, 'Crafts, Hobbies & Home': 22, 'Business & Money': 21, 'Medical Books': 21, 'Health, Fitness & Dieting': 20, 'Cookbooks, Food & Wine': 18, 'Christian Books & Bibles': 15, 'Teen & Young Adult': 8})\n",
            "current data size: 200 200\n",
            "preprocessing train...\n",
            "language: en\n",
            "train sequence lengths:\n",
            "\tmean : 11\n",
            "\t95percentile : 21\n",
            "\t99percentile : 26\n"
          ]
        },
        {
          "output_type": "stream",
          "name": "stderr",
          "text": [
            "/usr/local/lib/python3.7/dist-packages/ktrain/utils.py:738: UserWarning: class_names argument was ignored, as they were extracted from string labels in dataset\n",
            "  \"class_names argument was ignored, as they were extracted from string labels in dataset\"\n"
          ]
        },
        {
          "output_type": "display_data",
          "data": {
            "text/plain": [
              "<IPython.core.display.HTML object>"
            ],
            "text/html": [
              "\n",
              "<style>\n",
              "    /* Turns off some styling */\n",
              "    progress {\n",
              "        /* gets rid of default border in Firefox and Opera. */\n",
              "        border: none;\n",
              "        /* Needs to be in here for Safari polyfill so background images work as expected. */\n",
              "        background-size: auto;\n",
              "    }\n",
              "    progress:not([value]), progress:not([value])::-webkit-progress-bar {\n",
              "        background: repeating-linear-gradient(45deg, #7e7e7e, #7e7e7e 10px, #5c5c5c 10px, #5c5c5c 20px);\n",
              "    }\n",
              "    .progress-bar-interrupted, .progress-bar-interrupted::-webkit-progress-bar {\n",
              "        background: #F44336;\n",
              "    }\n",
              "</style>\n"
            ]
          },
          "metadata": {}
        },
        {
          "output_type": "display_data",
          "data": {
            "text/plain": [
              "<IPython.core.display.HTML object>"
            ],
            "text/html": []
          },
          "metadata": {}
        },
        {
          "output_type": "stream",
          "name": "stdout",
          "text": [
            "Is Multi-Label? False\n",
            "preprocessing test...\n",
            "language: en\n",
            "test sequence lengths:\n",
            "\tmean : 9\n",
            "\t95percentile : 19\n",
            "\t99percentile : 25\n"
          ]
        },
        {
          "output_type": "display_data",
          "data": {
            "text/plain": [
              "<IPython.core.display.HTML object>"
            ],
            "text/html": [
              "\n",
              "<style>\n",
              "    /* Turns off some styling */\n",
              "    progress {\n",
              "        /* gets rid of default border in Firefox and Opera. */\n",
              "        border: none;\n",
              "        /* Needs to be in here for Safari polyfill so background images work as expected. */\n",
              "        background-size: auto;\n",
              "    }\n",
              "    progress:not([value]), progress:not([value])::-webkit-progress-bar {\n",
              "        background: repeating-linear-gradient(45deg, #7e7e7e, #7e7e7e 10px, #5c5c5c 10px, #5c5c5c 20px);\n",
              "    }\n",
              "    .progress-bar-interrupted, .progress-bar-interrupted::-webkit-progress-bar {\n",
              "        background: #F44336;\n",
              "    }\n",
              "</style>\n"
            ]
          },
          "metadata": {}
        },
        {
          "output_type": "display_data",
          "data": {
            "text/plain": [
              "<IPython.core.display.HTML object>"
            ],
            "text/html": []
          },
          "metadata": {}
        },
        {
          "output_type": "stream",
          "name": "stdout",
          "text": [
            "\n",
            "\n",
            "begin training using onecycle policy with max lr of 8e-05...\n",
            "Epoch 1/5\n",
            "13/13 [==============================] - 32s 1s/step - loss: 2.3032 - accuracy: 0.1450 - val_loss: 2.2700 - val_accuracy: 0.1960\n",
            "Epoch 2/5\n",
            "13/13 [==============================] - 14s 1s/step - loss: 2.2094 - accuracy: 0.1500 - val_loss: 2.2462 - val_accuracy: 0.2315\n",
            "Epoch 3/5\n",
            "13/13 [==============================] - 14s 1s/step - loss: 1.9889 - accuracy: 0.4100 - val_loss: 1.9255 - val_accuracy: 0.3950\n",
            "Epoch 4/5\n",
            "13/13 [==============================] - 14s 1s/step - loss: 1.3763 - accuracy: 0.7700 - val_loss: 1.6613 - val_accuracy: 0.5420\n",
            "Epoch 5/5\n",
            "13/13 [==============================] - 14s 1s/step - loss: 0.9900 - accuracy: 0.8700 - val_loss: 1.5019 - val_accuracy: 0.5785\n",
            "updating classifier\n",
            "['Business & Money', \"Children's Books\", 'Christian Books & Bibles', 'Cookbooks, Food & Wine', 'Crafts, Hobbies & Home', 'Health, Fitness & Dieting', 'Medical Books', 'Science & Math', 'Teen & Young Adult', 'Travel']\n",
            "-----------------ROUND 3DONE--------------\n"
          ]
        },
        {
          "output_type": "stream",
          "name": "stderr",
          "text": [
            "/usr/local/lib/python3.7/dist-packages/sklearn/metrics/_classification.py:1318: UndefinedMetricWarning: Precision is ill-defined and being set to 0.0 in labels with no predicted samples. Use `zero_division` parameter to control this behavior.\n",
            "  _warn_prf(average, modifier, msg_start, len(result))\n"
          ]
        },
        {
          "output_type": "stream",
          "name": "stdout",
          "text": [
            "[('accuracy', 59.6), ('precision', 53.87), ('recall', 56.73), ('f1-macro', 54.89)]\n",
            "predicted dist after ROUND 3: Counter({\"Children's Books\": 693, 'Travel': 622, 'Medical Books': 574, 'Health, Fitness & Dieting': 430, 'Science & Math': 403, 'Christian Books & Bibles': 401, 'Cookbooks, Food & Wine': 318, 'Crafts, Hobbies & Home': 295, 'Business & Money': 264})\n",
            "test results after ROUND 3: [('accuracy', 59.6), ('precision', 53.87), ('recall', 56.73), ('f1-macro', 54.89)]\n",
            "-------------------- DONE with RUN3--------------------\n",
            "Task: BTYPE\n",
            "N: 300\n",
            "K: 10\n",
            "----------DOING RUN: RUN1 -----------------\n",
            "-----RUNNING INITIAL CLUSTERING------\n",
            "CLUSTER DIST:\n",
            "0 971\n",
            "5 1178\n",
            "1 2634\n",
            "6 1091\n",
            "7 1259\n",
            "4 1636\n",
            "9 1363\n",
            "3 1529\n",
            "8 1286\n",
            "2 1053\n",
            "-----INITIAL CLUSTERING DONE----\n",
            "rounds: 0\n",
            "current data size: 50 50\n",
            "preprocessing train...\n",
            "language: en\n",
            "train sequence lengths:\n",
            "\tmean : 9\n",
            "\t95percentile : 18\n",
            "\t99percentile : 24\n"
          ]
        },
        {
          "output_type": "stream",
          "name": "stderr",
          "text": [
            "/usr/local/lib/python3.7/dist-packages/ktrain/utils.py:738: UserWarning: class_names argument was ignored, as they were extracted from string labels in dataset\n",
            "  \"class_names argument was ignored, as they were extracted from string labels in dataset\"\n"
          ]
        },
        {
          "output_type": "display_data",
          "data": {
            "text/plain": [
              "<IPython.core.display.HTML object>"
            ],
            "text/html": [
              "\n",
              "<style>\n",
              "    /* Turns off some styling */\n",
              "    progress {\n",
              "        /* gets rid of default border in Firefox and Opera. */\n",
              "        border: none;\n",
              "        /* Needs to be in here for Safari polyfill so background images work as expected. */\n",
              "        background-size: auto;\n",
              "    }\n",
              "    progress:not([value]), progress:not([value])::-webkit-progress-bar {\n",
              "        background: repeating-linear-gradient(45deg, #7e7e7e, #7e7e7e 10px, #5c5c5c 10px, #5c5c5c 20px);\n",
              "    }\n",
              "    .progress-bar-interrupted, .progress-bar-interrupted::-webkit-progress-bar {\n",
              "        background: #F44336;\n",
              "    }\n",
              "</style>\n"
            ]
          },
          "metadata": {}
        },
        {
          "output_type": "display_data",
          "data": {
            "text/plain": [
              "<IPython.core.display.HTML object>"
            ],
            "text/html": []
          },
          "metadata": {}
        },
        {
          "output_type": "stream",
          "name": "stdout",
          "text": [
            "Is Multi-Label? False\n",
            "preprocessing test...\n",
            "language: en\n",
            "test sequence lengths:\n",
            "\tmean : 9\n",
            "\t95percentile : 19\n",
            "\t99percentile : 25\n"
          ]
        },
        {
          "output_type": "display_data",
          "data": {
            "text/plain": [
              "<IPython.core.display.HTML object>"
            ],
            "text/html": [
              "\n",
              "<style>\n",
              "    /* Turns off some styling */\n",
              "    progress {\n",
              "        /* gets rid of default border in Firefox and Opera. */\n",
              "        border: none;\n",
              "        /* Needs to be in here for Safari polyfill so background images work as expected. */\n",
              "        background-size: auto;\n",
              "    }\n",
              "    progress:not([value]), progress:not([value])::-webkit-progress-bar {\n",
              "        background: repeating-linear-gradient(45deg, #7e7e7e, #7e7e7e 10px, #5c5c5c 10px, #5c5c5c 20px);\n",
              "    }\n",
              "    .progress-bar-interrupted, .progress-bar-interrupted::-webkit-progress-bar {\n",
              "        background: #F44336;\n",
              "    }\n",
              "</style>\n"
            ]
          },
          "metadata": {}
        },
        {
          "output_type": "display_data",
          "data": {
            "text/plain": [
              "<IPython.core.display.HTML object>"
            ],
            "text/html": []
          },
          "metadata": {}
        },
        {
          "output_type": "stream",
          "name": "stdout",
          "text": [
            "\n",
            "\n",
            "begin training using onecycle policy with max lr of 8e-05...\n",
            "Epoch 1/5\n",
            "4/4 [==============================] - 29s 4s/step - loss: 2.3570 - accuracy: 0.1000 - val_loss: 2.3180 - val_accuracy: 0.1240\n",
            "Epoch 2/5\n",
            "4/4 [==============================] - 11s 4s/step - loss: 2.2191 - accuracy: 0.2200 - val_loss: 2.2879 - val_accuracy: 0.1280\n",
            "Epoch 3/5\n",
            "4/4 [==============================] - 11s 4s/step - loss: 2.1071 - accuracy: 0.3000 - val_loss: 2.2444 - val_accuracy: 0.1935\n",
            "Epoch 4/5\n",
            "4/4 [==============================] - 11s 4s/step - loss: 1.9052 - accuracy: 0.4200 - val_loss: 2.2400 - val_accuracy: 0.2085\n",
            "Epoch 5/5\n",
            "4/4 [==============================] - 11s 4s/step - loss: 1.8055 - accuracy: 0.4800 - val_loss: 2.2447 - val_accuracy: 0.1840\n",
            "getting bootstrapped classifier\n",
            "['Business & Money', \"Children's Books\", 'Christian Books & Bibles', 'Cookbooks, Food & Wine', 'Crafts, Hobbies & Home', 'Health, Fitness & Dieting', 'Medical Books', 'Science & Math', 'Teen & Young Adult', 'Travel']\n",
            "label dist after bootstrap: Counter({'Travel': 10, \"Children's Books\": 9, 'Cookbooks, Food & Wine': 6, 'Medical Books': 5, 'Science & Math': 4, 'Health, Fitness & Dieting': 4, 'Crafts, Hobbies & Home': 3, 'Christian Books & Bibles': 3, 'Teen & Young Adult': 3, 'Business & Money': 3})\n",
            "--------------------BOOTSTRAP DONE--------------------\n",
            "250 50\n",
            "AL ROUND:  1  (RUN1) (AL STEP)\n",
            "metric cluster :  0\n",
            "Counter({'Travel': 77, 'Crafts, Hobbies & Home': 18, 'Science & Math': 17, \"Children's Books\": 13, 'Health, Fitness & Dieting': 4, 'Business & Money': 4, 'Teen & Young Adult': 3, 'Cookbooks, Food & Wine': 3, 'Christian Books & Bibles': 3, 'Medical Books': 2}) Counter({'Travel': 125, 'Business & Money': 14, \"Children's Books\": 3, 'Teen & Young Adult': 1, 'Medical Books': 1})\n",
            "[('accuracy', 49.31), ('precision', 12.19), ('recall', 10.5), ('f1-macro', 9.33)]\n"
          ]
        },
        {
          "output_type": "stream",
          "name": "stderr",
          "text": [
            "/usr/local/lib/python3.7/dist-packages/sklearn/metrics/_classification.py:1318: UndefinedMetricWarning: Precision is ill-defined and being set to 0.0 in labels with no predicted samples. Use `zero_division` parameter to control this behavior.\n",
            "  _warn_prf(average, modifier, msg_start, len(result))\n"
          ]
        },
        {
          "output_type": "stream",
          "name": "stdout",
          "text": [
            "metric cluster :  5\n",
            "Counter({'Business & Money': 143, 'Medical Books': 9, 'Christian Books & Bibles': 6, 'Science & Math': 5, 'Teen & Young Adult': 4, \"Children's Books\": 4, 'Travel': 3, 'Crafts, Hobbies & Home': 2, 'Health, Fitness & Dieting': 1, 'Cookbooks, Food & Wine': 1}) Counter({'Travel': 140, 'Teen & Young Adult': 17, 'Medical Books': 14, 'Business & Money': 5, \"Children's Books\": 2})\n",
            "[('accuracy', 4.49), ('precision', 9.57), ('recall', 9.17), ('f1-macro', 2.56)]\n"
          ]
        },
        {
          "output_type": "stream",
          "name": "stderr",
          "text": [
            "/usr/local/lib/python3.7/dist-packages/sklearn/metrics/_classification.py:1318: UndefinedMetricWarning: Precision is ill-defined and being set to 0.0 in labels with no predicted samples. Use `zero_division` parameter to control this behavior.\n",
            "  _warn_prf(average, modifier, msg_start, len(result))\n"
          ]
        },
        {
          "output_type": "stream",
          "name": "stdout",
          "text": [
            "metric cluster :  1\n",
            "Counter({\"Children's Books\": 158, 'Teen & Young Adult': 65, 'Travel': 42, 'Christian Books & Bibles': 34, 'Crafts, Hobbies & Home': 24, 'Health, Fitness & Dieting': 23, 'Science & Math': 22, 'Medical Books': 10, 'Business & Money': 6, 'Cookbooks, Food & Wine': 5}) Counter({'Travel': 250, \"Children's Books\": 117, 'Teen & Young Adult': 14, 'Business & Money': 7, 'Medical Books': 1})\n",
            "[('accuracy', 24.42), ('precision', 8.73), ('recall', 11.18), ('f1-macro', 7.33)]\n"
          ]
        },
        {
          "output_type": "stream",
          "name": "stderr",
          "text": [
            "/usr/local/lib/python3.7/dist-packages/sklearn/metrics/_classification.py:1318: UndefinedMetricWarning: Precision is ill-defined and being set to 0.0 in labels with no predicted samples. Use `zero_division` parameter to control this behavior.\n",
            "  _warn_prf(average, modifier, msg_start, len(result))\n"
          ]
        },
        {
          "output_type": "stream",
          "name": "stdout",
          "text": [
            "metric cluster :  6\n",
            "Counter({'Crafts, Hobbies & Home': 88, \"Children's Books\": 19, 'Travel': 9, 'Health, Fitness & Dieting': 8, 'Cookbooks, Food & Wine': 6, 'Business & Money': 4, 'Science & Math': 4, 'Teen & Young Adult': 4, 'Christian Books & Bibles': 4}) Counter({'Travel': 120, \"Children's Books\": 15, 'Business & Money': 7, 'Teen & Young Adult': 4})\n",
            "[('accuracy', 9.59), ('precision', 6.03), ('recall', 15.58), ('f1-macro', 6.67)]\n"
          ]
        },
        {
          "output_type": "stream",
          "name": "stderr",
          "text": [
            "/usr/local/lib/python3.7/dist-packages/sklearn/metrics/_classification.py:1318: UndefinedMetricWarning: Precision is ill-defined and being set to 0.0 in labels with no predicted samples. Use `zero_division` parameter to control this behavior.\n",
            "  _warn_prf(average, modifier, msg_start, len(result))\n"
          ]
        },
        {
          "output_type": "stream",
          "name": "stdout",
          "text": [
            "metric cluster :  7\n",
            "Counter({'Health, Fitness & Dieting': 78, 'Medical Books': 49, 'Teen & Young Adult': 20, 'Christian Books & Bibles': 13, 'Science & Math': 13, 'Business & Money': 10, \"Children's Books\": 7, 'Crafts, Hobbies & Home': 3, 'Cookbooks, Food & Wine': 1}) Counter({'Travel': 122, 'Teen & Young Adult': 30, \"Children's Books\": 18, 'Medical Books': 16, 'Business & Money': 8})\n",
            "[('accuracy', 5.67), ('precision', 7.36), ('recall', 5.49), ('f1-macro', 5.17)]\n"
          ]
        },
        {
          "output_type": "stream",
          "name": "stderr",
          "text": [
            "/usr/local/lib/python3.7/dist-packages/sklearn/metrics/_classification.py:1318: UndefinedMetricWarning: Recall is ill-defined and being set to 0.0 in labels with no true samples. Use `zero_division` parameter to control this behavior.\n",
            "  _warn_prf(average, modifier, msg_start, len(result))\n",
            "/usr/local/lib/python3.7/dist-packages/sklearn/metrics/_classification.py:1318: UndefinedMetricWarning: Precision is ill-defined and being set to 0.0 in labels with no predicted samples. Use `zero_division` parameter to control this behavior.\n",
            "  _warn_prf(average, modifier, msg_start, len(result))\n"
          ]
        },
        {
          "output_type": "stream",
          "name": "stdout",
          "text": [
            "metric cluster :  4\n",
            "Counter({'Medical Books': 149, 'Health, Fitness & Dieting': 58, 'Crafts, Hobbies & Home': 4, 'Cookbooks, Food & Wine': 2, 'Teen & Young Adult': 2, 'Christian Books & Bibles': 2, 'Science & Math': 2, 'Business & Money': 2, 'Travel': 1}) Counter({'Travel': 144, 'Medical Books': 37, \"Children's Books\": 19, 'Teen & Young Adult': 13, 'Business & Money': 8, 'Science & Math': 1})\n",
            "[('accuracy', 12.16), ('precision', 7.1), ('recall', 11.74), ('f1-macro', 2.93)]\n"
          ]
        },
        {
          "output_type": "stream",
          "name": "stderr",
          "text": [
            "/usr/local/lib/python3.7/dist-packages/sklearn/metrics/_classification.py:1318: UndefinedMetricWarning: Recall is ill-defined and being set to 0.0 in labels with no true samples. Use `zero_division` parameter to control this behavior.\n",
            "  _warn_prf(average, modifier, msg_start, len(result))\n",
            "/usr/local/lib/python3.7/dist-packages/sklearn/metrics/_classification.py:1318: UndefinedMetricWarning: Precision is ill-defined and being set to 0.0 in labels with no predicted samples. Use `zero_division` parameter to control this behavior.\n",
            "  _warn_prf(average, modifier, msg_start, len(result))\n"
          ]
        },
        {
          "output_type": "stream",
          "name": "stdout",
          "text": [
            "metric cluster :  9\n",
            "Counter({'Cookbooks, Food & Wine': 113, 'Health, Fitness & Dieting': 30, 'Crafts, Hobbies & Home': 7, \"Children's Books\": 4, 'Medical Books': 3, 'Science & Math': 2, 'Teen & Young Adult': 2, 'Travel': 2}) Counter({'Travel': 145, \"Children's Books\": 11, 'Business & Money': 4, 'Teen & Young Adult': 3})\n",
            "[('accuracy', 1.84), ('precision', 1.16), ('recall', 13.89), ('f1-macro', 1.78)]\n"
          ]
        },
        {
          "output_type": "stream",
          "name": "stderr",
          "text": [
            "/usr/local/lib/python3.7/dist-packages/sklearn/metrics/_classification.py:1318: UndefinedMetricWarning: Recall is ill-defined and being set to 0.0 in labels with no true samples. Use `zero_division` parameter to control this behavior.\n",
            "  _warn_prf(average, modifier, msg_start, len(result))\n",
            "/usr/local/lib/python3.7/dist-packages/sklearn/metrics/_classification.py:1318: UndefinedMetricWarning: Precision is ill-defined and being set to 0.0 in labels with no predicted samples. Use `zero_division` parameter to control this behavior.\n",
            "  _warn_prf(average, modifier, msg_start, len(result))\n"
          ]
        },
        {
          "output_type": "stream",
          "name": "stdout",
          "text": [
            "metric cluster :  3\n",
            "Counter({'Travel': 175, \"Children's Books\": 12, 'Crafts, Hobbies & Home': 11, 'Teen & Young Adult': 8, 'Science & Math': 5, 'Christian Books & Bibles': 2, 'Business & Money': 2, 'Cookbooks, Food & Wine': 2, 'Health, Fitness & Dieting': 1}) Counter({'Travel': 165, 'Business & Money': 49, \"Children's Books\": 3, 'Medical Books': 1})\n",
            "[('accuracy', 59.17), ('precision', 11.09), ('recall', 8.15), ('f1-macro', 8.86)]\n"
          ]
        },
        {
          "output_type": "stream",
          "name": "stderr",
          "text": [
            "/usr/local/lib/python3.7/dist-packages/sklearn/metrics/_classification.py:1318: UndefinedMetricWarning: Recall is ill-defined and being set to 0.0 in labels with no true samples. Use `zero_division` parameter to control this behavior.\n",
            "  _warn_prf(average, modifier, msg_start, len(result))\n",
            "/usr/local/lib/python3.7/dist-packages/sklearn/metrics/_classification.py:1318: UndefinedMetricWarning: Precision is ill-defined and being set to 0.0 in labels with no predicted samples. Use `zero_division` parameter to control this behavior.\n",
            "  _warn_prf(average, modifier, msg_start, len(result))\n"
          ]
        },
        {
          "output_type": "stream",
          "name": "stdout",
          "text": [
            "metric cluster :  8\n",
            "Counter({'Science & Math': 100, 'Crafts, Hobbies & Home': 28, \"Children's Books\": 24, 'Teen & Young Adult': 12, 'Business & Money': 12, 'Medical Books': 8, 'Health, Fitness & Dieting': 6, 'Travel': 4, 'Christian Books & Bibles': 1}) Counter({'Travel': 152, 'Medical Books': 22, \"Children's Books\": 9, 'Business & Money': 9, 'Teen & Young Adult': 3})\n",
            "[('accuracy', 2.05), ('precision', 1.45), ('recall', 8.8), ('f1-macro', 1.1)]\n"
          ]
        },
        {
          "output_type": "stream",
          "name": "stderr",
          "text": [
            "/usr/local/lib/python3.7/dist-packages/sklearn/metrics/_classification.py:1318: UndefinedMetricWarning: Precision is ill-defined and being set to 0.0 in labels with no predicted samples. Use `zero_division` parameter to control this behavior.\n",
            "  _warn_prf(average, modifier, msg_start, len(result))\n"
          ]
        },
        {
          "output_type": "stream",
          "name": "stdout",
          "text": [
            "metric cluster :  2\n",
            "Counter({'Christian Books & Bibles': 111, 'Teen & Young Adult': 8, \"Children's Books\": 6, 'Travel': 6, 'Health, Fitness & Dieting': 6, 'Science & Math': 5, 'Crafts, Hobbies & Home': 4, 'Business & Money': 2, 'Medical Books': 2, 'Cookbooks, Food & Wine': 1}) Counter({'Travel': 112, 'Teen & Young Adult': 22, \"Children's Books\": 12, 'Medical Books': 3, 'Business & Money': 2})\n",
            "[('accuracy', 3.97), ('precision', 1.28), ('recall', 10.0), ('f1-macro', 1.96)]\n",
            "AL distribution: {0: 3, 5: 6, 1: 5, 6: 5, 7: 6, 4: 5, 9: 6, 3: 2, 8: 6, 2: 6}\n",
            "AL leftover: 0\n"
          ]
        },
        {
          "output_type": "stream",
          "name": "stderr",
          "text": [
            "/usr/local/lib/python3.7/dist-packages/sklearn/metrics/_classification.py:1318: UndefinedMetricWarning: Precision is ill-defined and being set to 0.0 in labels with no predicted samples. Use `zero_division` parameter to control this behavior.\n",
            "  _warn_prf(average, modifier, msg_start, len(result))\n"
          ]
        },
        {
          "output_type": "stream",
          "name": "stdout",
          "text": [
            "label dist after AL step: Counter({'Travel': 15, \"Children's Books\": 14, 'Medical Books': 12, 'Crafts, Hobbies & Home': 10, 'Cookbooks, Food & Wine': 10, 'Health, Fitness & Dieting': 10, 'Christian Books & Bibles': 9, 'Business & Money': 9, 'Science & Math': 7, 'Teen & Young Adult': 4})\n",
            "current data size: 100 100\n",
            "preprocessing train...\n",
            "language: en\n",
            "train sequence lengths:\n",
            "\tmean : 9\n",
            "\t95percentile : 19\n",
            "\t99percentile : 24\n"
          ]
        },
        {
          "output_type": "stream",
          "name": "stderr",
          "text": [
            "/usr/local/lib/python3.7/dist-packages/ktrain/utils.py:738: UserWarning: class_names argument was ignored, as they were extracted from string labels in dataset\n",
            "  \"class_names argument was ignored, as they were extracted from string labels in dataset\"\n"
          ]
        },
        {
          "output_type": "display_data",
          "data": {
            "text/plain": [
              "<IPython.core.display.HTML object>"
            ],
            "text/html": [
              "\n",
              "<style>\n",
              "    /* Turns off some styling */\n",
              "    progress {\n",
              "        /* gets rid of default border in Firefox and Opera. */\n",
              "        border: none;\n",
              "        /* Needs to be in here for Safari polyfill so background images work as expected. */\n",
              "        background-size: auto;\n",
              "    }\n",
              "    progress:not([value]), progress:not([value])::-webkit-progress-bar {\n",
              "        background: repeating-linear-gradient(45deg, #7e7e7e, #7e7e7e 10px, #5c5c5c 10px, #5c5c5c 20px);\n",
              "    }\n",
              "    .progress-bar-interrupted, .progress-bar-interrupted::-webkit-progress-bar {\n",
              "        background: #F44336;\n",
              "    }\n",
              "</style>\n"
            ]
          },
          "metadata": {}
        },
        {
          "output_type": "display_data",
          "data": {
            "text/plain": [
              "<IPython.core.display.HTML object>"
            ],
            "text/html": []
          },
          "metadata": {}
        },
        {
          "output_type": "stream",
          "name": "stdout",
          "text": [
            "Is Multi-Label? False\n",
            "preprocessing test...\n",
            "language: en\n",
            "test sequence lengths:\n",
            "\tmean : 9\n",
            "\t95percentile : 19\n",
            "\t99percentile : 25\n"
          ]
        },
        {
          "output_type": "display_data",
          "data": {
            "text/plain": [
              "<IPython.core.display.HTML object>"
            ],
            "text/html": [
              "\n",
              "<style>\n",
              "    /* Turns off some styling */\n",
              "    progress {\n",
              "        /* gets rid of default border in Firefox and Opera. */\n",
              "        border: none;\n",
              "        /* Needs to be in here for Safari polyfill so background images work as expected. */\n",
              "        background-size: auto;\n",
              "    }\n",
              "    progress:not([value]), progress:not([value])::-webkit-progress-bar {\n",
              "        background: repeating-linear-gradient(45deg, #7e7e7e, #7e7e7e 10px, #5c5c5c 10px, #5c5c5c 20px);\n",
              "    }\n",
              "    .progress-bar-interrupted, .progress-bar-interrupted::-webkit-progress-bar {\n",
              "        background: #F44336;\n",
              "    }\n",
              "</style>\n"
            ]
          },
          "metadata": {}
        },
        {
          "output_type": "display_data",
          "data": {
            "text/plain": [
              "<IPython.core.display.HTML object>"
            ],
            "text/html": []
          },
          "metadata": {}
        },
        {
          "output_type": "stream",
          "name": "stdout",
          "text": [
            "\n",
            "\n",
            "begin training using onecycle policy with max lr of 8e-05...\n",
            "Epoch 1/5\n",
            "7/7 [==============================] - 30s 2s/step - loss: 2.3454 - accuracy: 0.0600 - val_loss: 2.3037 - val_accuracy: 0.0860\n",
            "Epoch 2/5\n",
            "7/7 [==============================] - 12s 2s/step - loss: 2.2564 - accuracy: 0.1500 - val_loss: 2.2479 - val_accuracy: 0.2495\n",
            "Epoch 3/5\n",
            "7/7 [==============================] - 12s 2s/step - loss: 2.1386 - accuracy: 0.2700 - val_loss: 2.1094 - val_accuracy: 0.3475\n",
            "Epoch 4/5\n",
            "7/7 [==============================] - 12s 2s/step - loss: 1.8249 - accuracy: 0.5600 - val_loss: 1.9536 - val_accuracy: 0.4360\n",
            "Epoch 5/5\n",
            "7/7 [==============================] - 12s 2s/step - loss: 1.5249 - accuracy: 0.7100 - val_loss: 1.8689 - val_accuracy: 0.4685\n",
            "updating classifier\n",
            "['Business & Money', \"Children's Books\", 'Christian Books & Bibles', 'Cookbooks, Food & Wine', 'Crafts, Hobbies & Home', 'Health, Fitness & Dieting', 'Medical Books', 'Science & Math', 'Teen & Young Adult', 'Travel']\n",
            "-----------------ROUND 1DONE--------------\n",
            "200 50\n",
            "AL ROUND:  2  (RUN1) (AL STEP)\n",
            "metric cluster :  0\n",
            "Counter({'Travel': 77, 'Crafts, Hobbies & Home': 18, 'Science & Math': 17, \"Children's Books\": 13, 'Health, Fitness & Dieting': 4, 'Business & Money': 4, 'Teen & Young Adult': 3, 'Cookbooks, Food & Wine': 3, 'Christian Books & Bibles': 3, 'Medical Books': 2}) Counter({'Travel': 99, \"Children's Books\": 19, 'Medical Books': 13, 'Business & Money': 5, 'Cookbooks, Food & Wine': 4, 'Christian Books & Bibles': 2, 'Science & Math': 1, 'Crafts, Hobbies & Home': 1})\n",
            "[('accuracy', 56.94), ('precision', 30.84), ('recall', 32.82), ('f1-macro', 24.05)]\n"
          ]
        },
        {
          "output_type": "stream",
          "name": "stderr",
          "text": [
            "/usr/local/lib/python3.7/dist-packages/sklearn/metrics/_classification.py:1318: UndefinedMetricWarning: Precision is ill-defined and being set to 0.0 in labels with no predicted samples. Use `zero_division` parameter to control this behavior.\n",
            "  _warn_prf(average, modifier, msg_start, len(result))\n"
          ]
        },
        {
          "output_type": "stream",
          "name": "stdout",
          "text": [
            "metric cluster :  5\n",
            "Counter({'Business & Money': 143, 'Medical Books': 9, 'Christian Books & Bibles': 6, 'Science & Math': 5, 'Teen & Young Adult': 4, \"Children's Books\": 4, 'Travel': 3, 'Crafts, Hobbies & Home': 2, 'Health, Fitness & Dieting': 1, 'Cookbooks, Food & Wine': 1}) Counter({'Business & Money': 113, 'Medical Books': 27, \"Children's Books\": 11, 'Science & Math': 9, 'Cookbooks, Food & Wine': 8, 'Christian Books & Bibles': 5, 'Travel': 4, 'Health, Fitness & Dieting': 1})\n",
            "[('accuracy', 60.11), ('precision', 13.18), ('recall', 16.9), ('f1-macro', 13.75)]\n"
          ]
        },
        {
          "output_type": "stream",
          "name": "stderr",
          "text": [
            "/usr/local/lib/python3.7/dist-packages/sklearn/metrics/_classification.py:1318: UndefinedMetricWarning: Precision is ill-defined and being set to 0.0 in labels with no predicted samples. Use `zero_division` parameter to control this behavior.\n",
            "  _warn_prf(average, modifier, msg_start, len(result))\n"
          ]
        },
        {
          "output_type": "stream",
          "name": "stdout",
          "text": [
            "metric cluster :  1\n",
            "Counter({\"Children's Books\": 158, 'Teen & Young Adult': 65, 'Travel': 42, 'Christian Books & Bibles': 34, 'Crafts, Hobbies & Home': 24, 'Health, Fitness & Dieting': 23, 'Science & Math': 22, 'Medical Books': 10, 'Business & Money': 6, 'Cookbooks, Food & Wine': 5}) Counter({\"Children's Books\": 258, 'Travel': 73, 'Christian Books & Bibles': 21, 'Medical Books': 15, 'Cookbooks, Food & Wine': 13, 'Business & Money': 7, 'Science & Math': 2})\n",
            "[('accuracy', 39.59), ('precision', 11.38), ('recall', 16.27), ('f1-macro', 13.0)]\n"
          ]
        },
        {
          "output_type": "stream",
          "name": "stderr",
          "text": [
            "/usr/local/lib/python3.7/dist-packages/sklearn/metrics/_classification.py:1318: UndefinedMetricWarning: Precision is ill-defined and being set to 0.0 in labels with no predicted samples. Use `zero_division` parameter to control this behavior.\n",
            "  _warn_prf(average, modifier, msg_start, len(result))\n"
          ]
        },
        {
          "output_type": "stream",
          "name": "stdout",
          "text": [
            "metric cluster :  6\n",
            "Counter({'Crafts, Hobbies & Home': 88, \"Children's Books\": 19, 'Travel': 9, 'Health, Fitness & Dieting': 8, 'Cookbooks, Food & Wine': 6, 'Business & Money': 4, 'Science & Math': 4, 'Teen & Young Adult': 4, 'Christian Books & Bibles': 4}) Counter({'Travel': 44, \"Children's Books\": 36, 'Medical Books': 36, 'Cookbooks, Food & Wine': 17, 'Business & Money': 5, 'Crafts, Hobbies & Home': 5, 'Science & Math': 2, 'Christian Books & Bibles': 1})\n",
            "[('accuracy', 19.18), ('precision', 19.79), ('recall', 21.85), ('f1-macro', 13.76)]\n"
          ]
        },
        {
          "output_type": "stream",
          "name": "stderr",
          "text": [
            "/usr/local/lib/python3.7/dist-packages/sklearn/metrics/_classification.py:1318: UndefinedMetricWarning: Recall is ill-defined and being set to 0.0 in labels with no true samples. Use `zero_division` parameter to control this behavior.\n",
            "  _warn_prf(average, modifier, msg_start, len(result))\n",
            "/usr/local/lib/python3.7/dist-packages/sklearn/metrics/_classification.py:1318: UndefinedMetricWarning: Precision is ill-defined and being set to 0.0 in labels with no predicted samples. Use `zero_division` parameter to control this behavior.\n",
            "  _warn_prf(average, modifier, msg_start, len(result))\n"
          ]
        },
        {
          "output_type": "stream",
          "name": "stdout",
          "text": [
            "metric cluster :  7\n",
            "Counter({'Health, Fitness & Dieting': 78, 'Medical Books': 49, 'Teen & Young Adult': 20, 'Christian Books & Bibles': 13, 'Science & Math': 13, 'Business & Money': 10, \"Children's Books\": 7, 'Crafts, Hobbies & Home': 3, 'Cookbooks, Food & Wine': 1}) Counter({'Medical Books': 110, 'Christian Books & Bibles': 25, \"Children's Books\": 25, 'Business & Money': 15, 'Health, Fitness & Dieting': 7, 'Cookbooks, Food & Wine': 6, 'Travel': 4, 'Science & Math': 2})\n",
            "[('accuracy', 28.87), ('precision', 21.51), ('recall', 22.29), ('f1-macro', 15.22)]\n"
          ]
        },
        {
          "output_type": "stream",
          "name": "stderr",
          "text": [
            "/usr/local/lib/python3.7/dist-packages/sklearn/metrics/_classification.py:1318: UndefinedMetricWarning: Recall is ill-defined and being set to 0.0 in labels with no true samples. Use `zero_division` parameter to control this behavior.\n",
            "  _warn_prf(average, modifier, msg_start, len(result))\n",
            "/usr/local/lib/python3.7/dist-packages/sklearn/metrics/_classification.py:1318: UndefinedMetricWarning: Precision is ill-defined and being set to 0.0 in labels with no predicted samples. Use `zero_division` parameter to control this behavior.\n",
            "  _warn_prf(average, modifier, msg_start, len(result))\n"
          ]
        },
        {
          "output_type": "stream",
          "name": "stdout",
          "text": [
            "metric cluster :  4\n",
            "Counter({'Medical Books': 149, 'Health, Fitness & Dieting': 58, 'Crafts, Hobbies & Home': 4, 'Cookbooks, Food & Wine': 2, 'Teen & Young Adult': 2, 'Christian Books & Bibles': 2, 'Science & Math': 2, 'Business & Money': 2, 'Travel': 1}) Counter({'Medical Books': 194, 'Business & Money': 10, \"Children's Books\": 5, 'Science & Math': 4, 'Health, Fitness & Dieting': 3, 'Cookbooks, Food & Wine': 3, 'Christian Books & Bibles': 1, 'Travel': 1, 'Crafts, Hobbies & Home': 1})\n",
            "[('accuracy', 61.71), ('precision', 23.57), ('recall', 19.34), ('f1-macro', 18.47)]\n"
          ]
        },
        {
          "output_type": "stream",
          "name": "stderr",
          "text": [
            "/usr/local/lib/python3.7/dist-packages/sklearn/metrics/_classification.py:1318: UndefinedMetricWarning: Recall is ill-defined and being set to 0.0 in labels with no true samples. Use `zero_division` parameter to control this behavior.\n",
            "  _warn_prf(average, modifier, msg_start, len(result))\n",
            "/usr/local/lib/python3.7/dist-packages/sklearn/metrics/_classification.py:1318: UndefinedMetricWarning: Precision is ill-defined and being set to 0.0 in labels with no predicted samples. Use `zero_division` parameter to control this behavior.\n",
            "  _warn_prf(average, modifier, msg_start, len(result))\n"
          ]
        },
        {
          "output_type": "stream",
          "name": "stdout",
          "text": [
            "metric cluster :  9\n",
            "Counter({'Cookbooks, Food & Wine': 113, 'Health, Fitness & Dieting': 30, 'Crafts, Hobbies & Home': 7, \"Children's Books\": 4, 'Medical Books': 3, 'Science & Math': 2, 'Teen & Young Adult': 2, 'Travel': 2}) Counter({'Cookbooks, Food & Wine': 93, 'Medical Books': 42, \"Children's Books\": 16, 'Travel': 9, 'Health, Fitness & Dieting': 2, 'Christian Books & Bibles': 1})\n",
            "[('accuracy', 49.69), ('precision', 11.66), ('recall', 23.31), ('f1-macro', 12.43)]\n"
          ]
        },
        {
          "output_type": "stream",
          "name": "stderr",
          "text": [
            "/usr/local/lib/python3.7/dist-packages/sklearn/metrics/_classification.py:1318: UndefinedMetricWarning: Recall is ill-defined and being set to 0.0 in labels with no true samples. Use `zero_division` parameter to control this behavior.\n",
            "  _warn_prf(average, modifier, msg_start, len(result))\n",
            "/usr/local/lib/python3.7/dist-packages/sklearn/metrics/_classification.py:1318: UndefinedMetricWarning: Precision is ill-defined and being set to 0.0 in labels with no predicted samples. Use `zero_division` parameter to control this behavior.\n",
            "  _warn_prf(average, modifier, msg_start, len(result))\n"
          ]
        },
        {
          "output_type": "stream",
          "name": "stdout",
          "text": [
            "metric cluster :  3\n",
            "Counter({'Travel': 175, \"Children's Books\": 12, 'Crafts, Hobbies & Home': 11, 'Teen & Young Adult': 8, 'Science & Math': 5, 'Christian Books & Bibles': 2, 'Business & Money': 2, 'Cookbooks, Food & Wine': 2, 'Health, Fitness & Dieting': 1}) Counter({'Travel': 175, \"Children's Books\": 26, 'Medical Books': 7, 'Business & Money': 7, 'Cookbooks, Food & Wine': 3})\n",
            "[('accuracy', 70.18), ('precision', 10.05), ('recall', 11.85), ('f1-macro', 10.62)]\n"
          ]
        },
        {
          "output_type": "stream",
          "name": "stderr",
          "text": [
            "/usr/local/lib/python3.7/dist-packages/sklearn/metrics/_classification.py:1318: UndefinedMetricWarning: Recall is ill-defined and being set to 0.0 in labels with no true samples. Use `zero_division` parameter to control this behavior.\n",
            "  _warn_prf(average, modifier, msg_start, len(result))\n",
            "/usr/local/lib/python3.7/dist-packages/sklearn/metrics/_classification.py:1318: UndefinedMetricWarning: Precision is ill-defined and being set to 0.0 in labels with no predicted samples. Use `zero_division` parameter to control this behavior.\n",
            "  _warn_prf(average, modifier, msg_start, len(result))\n"
          ]
        },
        {
          "output_type": "stream",
          "name": "stdout",
          "text": [
            "metric cluster :  8\n",
            "Counter({'Science & Math': 100, 'Crafts, Hobbies & Home': 28, \"Children's Books\": 24, 'Teen & Young Adult': 12, 'Business & Money': 12, 'Medical Books': 8, 'Health, Fitness & Dieting': 6, 'Travel': 4, 'Christian Books & Bibles': 1}) Counter({'Science & Math': 63, 'Medical Books': 48, 'Business & Money': 29, 'Travel': 24, \"Children's Books\": 20, 'Cookbooks, Food & Wine': 8, 'Christian Books & Bibles': 2, 'Crafts, Hobbies & Home': 1})\n",
            "[('accuracy', 35.38), ('precision', 24.63), ('recall', 24.94), ('f1-macro', 15.27)]\n"
          ]
        },
        {
          "output_type": "stream",
          "name": "stderr",
          "text": [
            "/usr/local/lib/python3.7/dist-packages/sklearn/metrics/_classification.py:1318: UndefinedMetricWarning: Recall is ill-defined and being set to 0.0 in labels with no true samples. Use `zero_division` parameter to control this behavior.\n",
            "  _warn_prf(average, modifier, msg_start, len(result))\n",
            "/usr/local/lib/python3.7/dist-packages/sklearn/metrics/_classification.py:1318: UndefinedMetricWarning: Precision is ill-defined and being set to 0.0 in labels with no predicted samples. Use `zero_division` parameter to control this behavior.\n",
            "  _warn_prf(average, modifier, msg_start, len(result))\n"
          ]
        },
        {
          "output_type": "stream",
          "name": "stdout",
          "text": [
            "metric cluster :  2\n",
            "Counter({'Christian Books & Bibles': 111, 'Teen & Young Adult': 8, \"Children's Books\": 6, 'Travel': 6, 'Health, Fitness & Dieting': 6, 'Science & Math': 5, 'Crafts, Hobbies & Home': 4, 'Business & Money': 2, 'Medical Books': 2, 'Cookbooks, Food & Wine': 1}) Counter({'Christian Books & Bibles': 79, \"Children's Books\": 19, 'Travel': 16, 'Medical Books': 14, 'Business & Money': 12, 'Science & Math': 5, 'Cookbooks, Food & Wine': 4, 'Teen & Young Adult': 2})\n",
            "[('accuracy', 46.36), ('precision', 12.95), ('recall', 25.59), ('f1-macro', 14.44)]\n",
            "AL distribution: {0: 4, 5: 4, 1: 6, 6: 8, 7: 7, 4: 4, 9: 5, 3: 3, 8: 6, 2: 3}\n",
            "AL leftover: 0\n"
          ]
        },
        {
          "output_type": "stream",
          "name": "stderr",
          "text": [
            "/usr/local/lib/python3.7/dist-packages/sklearn/metrics/_classification.py:1318: UndefinedMetricWarning: Precision is ill-defined and being set to 0.0 in labels with no predicted samples. Use `zero_division` parameter to control this behavior.\n",
            "  _warn_prf(average, modifier, msg_start, len(result))\n"
          ]
        },
        {
          "output_type": "stream",
          "name": "stdout",
          "text": [
            "label dist after AL step: Counter({\"Children's Books\": 22, 'Travel': 20, 'Crafts, Hobbies & Home': 19, 'Health, Fitness & Dieting': 18, 'Medical Books': 16, 'Business & Money': 13, 'Science & Math': 12, 'Cookbooks, Food & Wine': 12, 'Christian Books & Bibles': 12, 'Teen & Young Adult': 6})\n",
            "current data size: 150 150\n",
            "preprocessing train...\n",
            "language: en\n",
            "train sequence lengths:\n",
            "\tmean : 9\n",
            "\t95percentile : 19\n",
            "\t99percentile : 26\n"
          ]
        },
        {
          "output_type": "stream",
          "name": "stderr",
          "text": [
            "/usr/local/lib/python3.7/dist-packages/ktrain/utils.py:738: UserWarning: class_names argument was ignored, as they were extracted from string labels in dataset\n",
            "  \"class_names argument was ignored, as they were extracted from string labels in dataset\"\n"
          ]
        },
        {
          "output_type": "display_data",
          "data": {
            "text/plain": [
              "<IPython.core.display.HTML object>"
            ],
            "text/html": [
              "\n",
              "<style>\n",
              "    /* Turns off some styling */\n",
              "    progress {\n",
              "        /* gets rid of default border in Firefox and Opera. */\n",
              "        border: none;\n",
              "        /* Needs to be in here for Safari polyfill so background images work as expected. */\n",
              "        background-size: auto;\n",
              "    }\n",
              "    progress:not([value]), progress:not([value])::-webkit-progress-bar {\n",
              "        background: repeating-linear-gradient(45deg, #7e7e7e, #7e7e7e 10px, #5c5c5c 10px, #5c5c5c 20px);\n",
              "    }\n",
              "    .progress-bar-interrupted, .progress-bar-interrupted::-webkit-progress-bar {\n",
              "        background: #F44336;\n",
              "    }\n",
              "</style>\n"
            ]
          },
          "metadata": {}
        },
        {
          "output_type": "display_data",
          "data": {
            "text/plain": [
              "<IPython.core.display.HTML object>"
            ],
            "text/html": []
          },
          "metadata": {}
        },
        {
          "output_type": "stream",
          "name": "stdout",
          "text": [
            "Is Multi-Label? False\n",
            "preprocessing test...\n",
            "language: en\n",
            "test sequence lengths:\n",
            "\tmean : 9\n",
            "\t95percentile : 19\n",
            "\t99percentile : 25\n"
          ]
        },
        {
          "output_type": "display_data",
          "data": {
            "text/plain": [
              "<IPython.core.display.HTML object>"
            ],
            "text/html": [
              "\n",
              "<style>\n",
              "    /* Turns off some styling */\n",
              "    progress {\n",
              "        /* gets rid of default border in Firefox and Opera. */\n",
              "        border: none;\n",
              "        /* Needs to be in here for Safari polyfill so background images work as expected. */\n",
              "        background-size: auto;\n",
              "    }\n",
              "    progress:not([value]), progress:not([value])::-webkit-progress-bar {\n",
              "        background: repeating-linear-gradient(45deg, #7e7e7e, #7e7e7e 10px, #5c5c5c 10px, #5c5c5c 20px);\n",
              "    }\n",
              "    .progress-bar-interrupted, .progress-bar-interrupted::-webkit-progress-bar {\n",
              "        background: #F44336;\n",
              "    }\n",
              "</style>\n"
            ]
          },
          "metadata": {}
        },
        {
          "output_type": "display_data",
          "data": {
            "text/plain": [
              "<IPython.core.display.HTML object>"
            ],
            "text/html": []
          },
          "metadata": {}
        },
        {
          "output_type": "stream",
          "name": "stdout",
          "text": [
            "\n",
            "\n",
            "begin training using onecycle policy with max lr of 8e-05...\n",
            "Epoch 1/5\n",
            "10/10 [==============================] - 31s 2s/step - loss: 2.2983 - accuracy: 0.1533 - val_loss: 2.2415 - val_accuracy: 0.2060\n",
            "Epoch 2/5\n",
            "10/10 [==============================] - 13s 1s/step - loss: 2.1245 - accuracy: 0.2800 - val_loss: 2.1092 - val_accuracy: 0.2590\n",
            "Epoch 3/5\n",
            "10/10 [==============================] - 13s 1s/step - loss: 1.8548 - accuracy: 0.3800 - val_loss: 1.9263 - val_accuracy: 0.3350\n",
            "Epoch 4/5\n",
            "10/10 [==============================] - 13s 1s/step - loss: 1.4893 - accuracy: 0.6333 - val_loss: 1.7562 - val_accuracy: 0.4310\n",
            "Epoch 5/5\n",
            "10/10 [==============================] - 13s 1s/step - loss: 1.2215 - accuracy: 0.7600 - val_loss: 1.6625 - val_accuracy: 0.4865\n",
            "updating classifier\n",
            "['Business & Money', \"Children's Books\", 'Christian Books & Bibles', 'Cookbooks, Food & Wine', 'Crafts, Hobbies & Home', 'Health, Fitness & Dieting', 'Medical Books', 'Science & Math', 'Teen & Young Adult', 'Travel']\n",
            "-----------------ROUND 2DONE--------------\n",
            "150 50\n",
            "AL ROUND:  3  (RUN1) (AL STEP)\n",
            "metric cluster :  0\n",
            "Counter({'Travel': 77, 'Crafts, Hobbies & Home': 18, 'Science & Math': 17, \"Children's Books\": 13, 'Health, Fitness & Dieting': 4, 'Business & Money': 4, 'Teen & Young Adult': 3, 'Cookbooks, Food & Wine': 3, 'Christian Books & Bibles': 3, 'Medical Books': 2}) Counter({'Travel': 99, 'Crafts, Hobbies & Home': 24, \"Children's Books\": 10, 'Science & Math': 5, 'Business & Money': 3, 'Health, Fitness & Dieting': 2, 'Medical Books': 1})\n",
            "[('accuracy', 59.72), ('precision', 32.05), ('recall', 25.71), ('f1-macro', 26.95)]\n"
          ]
        },
        {
          "output_type": "stream",
          "name": "stderr",
          "text": [
            "/usr/local/lib/python3.7/dist-packages/sklearn/metrics/_classification.py:1318: UndefinedMetricWarning: Precision is ill-defined and being set to 0.0 in labels with no predicted samples. Use `zero_division` parameter to control this behavior.\n",
            "  _warn_prf(average, modifier, msg_start, len(result))\n"
          ]
        },
        {
          "output_type": "stream",
          "name": "stdout",
          "text": [
            "metric cluster :  5\n",
            "Counter({'Business & Money': 143, 'Medical Books': 9, 'Christian Books & Bibles': 6, 'Science & Math': 5, 'Teen & Young Adult': 4, \"Children's Books\": 4, 'Travel': 3, 'Crafts, Hobbies & Home': 2, 'Health, Fitness & Dieting': 1, 'Cookbooks, Food & Wine': 1}) Counter({'Business & Money': 99, 'Health, Fitness & Dieting': 19, 'Crafts, Hobbies & Home': 15, 'Medical Books': 14, 'Science & Math': 13, \"Children's Books\": 9, 'Travel': 7, 'Cookbooks, Food & Wine': 1, 'Christian Books & Bibles': 1})\n",
            "[('accuracy', 54.49), ('precision', 16.07), ('recall', 27.6), ('f1-macro', 17.29)]\n"
          ]
        },
        {
          "output_type": "stream",
          "name": "stderr",
          "text": [
            "/usr/local/lib/python3.7/dist-packages/sklearn/metrics/_classification.py:1318: UndefinedMetricWarning: Precision is ill-defined and being set to 0.0 in labels with no predicted samples. Use `zero_division` parameter to control this behavior.\n",
            "  _warn_prf(average, modifier, msg_start, len(result))\n"
          ]
        },
        {
          "output_type": "stream",
          "name": "stdout",
          "text": [
            "metric cluster :  1\n",
            "Counter({\"Children's Books\": 158, 'Teen & Young Adult': 65, 'Travel': 42, 'Christian Books & Bibles': 34, 'Crafts, Hobbies & Home': 24, 'Health, Fitness & Dieting': 23, 'Science & Math': 22, 'Medical Books': 10, 'Business & Money': 6, 'Cookbooks, Food & Wine': 5}) Counter({\"Children's Books\": 174, 'Travel': 109, 'Crafts, Hobbies & Home': 58, 'Science & Math': 27, 'Health, Fitness & Dieting': 17, 'Medical Books': 3, 'Cookbooks, Food & Wine': 1})\n",
            "[('accuracy', 31.36), ('precision', 16.87), ('recall', 20.16), ('f1-macro', 16.7)]\n"
          ]
        },
        {
          "output_type": "stream",
          "name": "stderr",
          "text": [
            "/usr/local/lib/python3.7/dist-packages/sklearn/metrics/_classification.py:1318: UndefinedMetricWarning: Precision is ill-defined and being set to 0.0 in labels with no predicted samples. Use `zero_division` parameter to control this behavior.\n",
            "  _warn_prf(average, modifier, msg_start, len(result))\n"
          ]
        },
        {
          "output_type": "stream",
          "name": "stdout",
          "text": [
            "metric cluster :  6\n",
            "Counter({'Crafts, Hobbies & Home': 88, \"Children's Books\": 19, 'Travel': 9, 'Health, Fitness & Dieting': 8, 'Cookbooks, Food & Wine': 6, 'Business & Money': 4, 'Science & Math': 4, 'Teen & Young Adult': 4, 'Christian Books & Bibles': 4}) Counter({'Crafts, Hobbies & Home': 93, 'Travel': 19, \"Children's Books\": 18, 'Health, Fitness & Dieting': 9, 'Science & Math': 5, 'Business & Money': 2})\n",
            "[('accuracy', 55.48), ('precision', 24.26), ('recall', 25.89), ('f1-macro', 23.98)]\n"
          ]
        },
        {
          "output_type": "stream",
          "name": "stderr",
          "text": [
            "/usr/local/lib/python3.7/dist-packages/sklearn/metrics/_classification.py:1318: UndefinedMetricWarning: Precision is ill-defined and being set to 0.0 in labels with no predicted samples. Use `zero_division` parameter to control this behavior.\n",
            "  _warn_prf(average, modifier, msg_start, len(result))\n"
          ]
        },
        {
          "output_type": "stream",
          "name": "stdout",
          "text": [
            "metric cluster :  7\n",
            "Counter({'Health, Fitness & Dieting': 78, 'Medical Books': 49, 'Teen & Young Adult': 20, 'Christian Books & Bibles': 13, 'Science & Math': 13, 'Business & Money': 10, \"Children's Books\": 7, 'Crafts, Hobbies & Home': 3, 'Cookbooks, Food & Wine': 1}) Counter({'Health, Fitness & Dieting': 78, 'Medical Books': 61, 'Crafts, Hobbies & Home': 24, 'Travel': 13, \"Children's Books\": 7, 'Science & Math': 6, 'Business & Money': 4, 'Christian Books & Bibles': 1})\n",
            "[('accuracy', 43.81), ('precision', 31.61), ('recall', 24.7), ('f1-macro', 20.89)]\n"
          ]
        },
        {
          "output_type": "stream",
          "name": "stderr",
          "text": [
            "/usr/local/lib/python3.7/dist-packages/sklearn/metrics/_classification.py:1318: UndefinedMetricWarning: Recall is ill-defined and being set to 0.0 in labels with no true samples. Use `zero_division` parameter to control this behavior.\n",
            "  _warn_prf(average, modifier, msg_start, len(result))\n",
            "/usr/local/lib/python3.7/dist-packages/sklearn/metrics/_classification.py:1318: UndefinedMetricWarning: Precision is ill-defined and being set to 0.0 in labels with no predicted samples. Use `zero_division` parameter to control this behavior.\n",
            "  _warn_prf(average, modifier, msg_start, len(result))\n"
          ]
        },
        {
          "output_type": "stream",
          "name": "stdout",
          "text": [
            "metric cluster :  4\n",
            "Counter({'Medical Books': 149, 'Health, Fitness & Dieting': 58, 'Crafts, Hobbies & Home': 4, 'Cookbooks, Food & Wine': 2, 'Teen & Young Adult': 2, 'Christian Books & Bibles': 2, 'Science & Math': 2, 'Business & Money': 2, 'Travel': 1}) Counter({'Medical Books': 143, 'Health, Fitness & Dieting': 59, 'Science & Math': 6, 'Crafts, Hobbies & Home': 5, 'Travel': 5, 'Business & Money': 3, \"Children's Books\": 1})\n",
            "[('accuracy', 65.32), ('precision', 16.89), ('recall', 25.15), ('f1-macro', 18.32)]\n"
          ]
        },
        {
          "output_type": "stream",
          "name": "stderr",
          "text": [
            "/usr/local/lib/python3.7/dist-packages/sklearn/metrics/_classification.py:1318: UndefinedMetricWarning: Recall is ill-defined and being set to 0.0 in labels with no true samples. Use `zero_division` parameter to control this behavior.\n",
            "  _warn_prf(average, modifier, msg_start, len(result))\n",
            "/usr/local/lib/python3.7/dist-packages/sklearn/metrics/_classification.py:1318: UndefinedMetricWarning: Precision is ill-defined and being set to 0.0 in labels with no predicted samples. Use `zero_division` parameter to control this behavior.\n",
            "  _warn_prf(average, modifier, msg_start, len(result))\n"
          ]
        },
        {
          "output_type": "stream",
          "name": "stdout",
          "text": [
            "metric cluster :  9\n",
            "Counter({'Cookbooks, Food & Wine': 113, 'Health, Fitness & Dieting': 30, 'Crafts, Hobbies & Home': 7, \"Children's Books\": 4, 'Medical Books': 3, 'Science & Math': 2, 'Teen & Young Adult': 2, 'Travel': 2}) Counter({'Crafts, Hobbies & Home': 51, 'Health, Fitness & Dieting': 51, 'Cookbooks, Food & Wine': 45, 'Travel': 12, 'Business & Money': 2, \"Children's Books\": 1, 'Medical Books': 1})\n",
            "[('accuracy', 42.33), ('precision', 16.25), ('recall', 17.78), ('f1-macro', 13.64)]\n"
          ]
        },
        {
          "output_type": "stream",
          "name": "stderr",
          "text": [
            "/usr/local/lib/python3.7/dist-packages/sklearn/metrics/_classification.py:1318: UndefinedMetricWarning: Recall is ill-defined and being set to 0.0 in labels with no true samples. Use `zero_division` parameter to control this behavior.\n",
            "  _warn_prf(average, modifier, msg_start, len(result))\n",
            "/usr/local/lib/python3.7/dist-packages/sklearn/metrics/_classification.py:1318: UndefinedMetricWarning: Precision is ill-defined and being set to 0.0 in labels with no predicted samples. Use `zero_division` parameter to control this behavior.\n",
            "  _warn_prf(average, modifier, msg_start, len(result))\n"
          ]
        },
        {
          "output_type": "stream",
          "name": "stdout",
          "text": [
            "metric cluster :  3\n",
            "Counter({'Travel': 175, \"Children's Books\": 12, 'Crafts, Hobbies & Home': 11, 'Teen & Young Adult': 8, 'Science & Math': 5, 'Christian Books & Bibles': 2, 'Business & Money': 2, 'Cookbooks, Food & Wine': 2, 'Health, Fitness & Dieting': 1}) Counter({'Travel': 171, 'Crafts, Hobbies & Home': 26, \"Children's Books\": 11, 'Business & Money': 4, 'Science & Math': 4, 'Cookbooks, Food & Wine': 1, 'Health, Fitness & Dieting': 1})\n",
            "[('accuracy', 74.31), ('precision', 22.05), ('recall', 25.71), ('f1-macro', 22.75)]\n"
          ]
        },
        {
          "output_type": "stream",
          "name": "stderr",
          "text": [
            "/usr/local/lib/python3.7/dist-packages/sklearn/metrics/_classification.py:1318: UndefinedMetricWarning: Precision is ill-defined and being set to 0.0 in labels with no predicted samples. Use `zero_division` parameter to control this behavior.\n",
            "  _warn_prf(average, modifier, msg_start, len(result))\n"
          ]
        },
        {
          "output_type": "stream",
          "name": "stdout",
          "text": [
            "metric cluster :  8\n",
            "Counter({'Science & Math': 100, 'Crafts, Hobbies & Home': 28, \"Children's Books\": 24, 'Teen & Young Adult': 12, 'Business & Money': 12, 'Medical Books': 8, 'Health, Fitness & Dieting': 6, 'Travel': 4, 'Christian Books & Bibles': 1}) Counter({'Science & Math': 85, 'Crafts, Hobbies & Home': 33, \"Children's Books\": 32, 'Medical Books': 20, 'Business & Money': 12, 'Travel': 10, 'Health, Fitness & Dieting': 2, 'Cookbooks, Food & Wine': 1})\n",
            "[('accuracy', 55.9), ('precision', 25.23), ('recall', 33.13), ('f1-macro', 27.55)]\n"
          ]
        },
        {
          "output_type": "stream",
          "name": "stderr",
          "text": [
            "/usr/local/lib/python3.7/dist-packages/sklearn/metrics/_classification.py:1318: UndefinedMetricWarning: Recall is ill-defined and being set to 0.0 in labels with no true samples. Use `zero_division` parameter to control this behavior.\n",
            "  _warn_prf(average, modifier, msg_start, len(result))\n",
            "/usr/local/lib/python3.7/dist-packages/sklearn/metrics/_classification.py:1318: UndefinedMetricWarning: Precision is ill-defined and being set to 0.0 in labels with no predicted samples. Use `zero_division` parameter to control this behavior.\n",
            "  _warn_prf(average, modifier, msg_start, len(result))\n"
          ]
        },
        {
          "output_type": "stream",
          "name": "stdout",
          "text": [
            "metric cluster :  2\n",
            "Counter({'Christian Books & Bibles': 111, 'Teen & Young Adult': 8, \"Children's Books\": 6, 'Travel': 6, 'Health, Fitness & Dieting': 6, 'Science & Math': 5, 'Crafts, Hobbies & Home': 4, 'Business & Money': 2, 'Medical Books': 2, 'Cookbooks, Food & Wine': 1}) Counter({\"Children's Books\": 52, 'Science & Math': 32, 'Travel': 31, 'Health, Fitness & Dieting': 18, 'Christian Books & Bibles': 8, 'Crafts, Hobbies & Home': 7, 'Medical Books': 3})\n",
            "[('accuracy', 11.26), ('precision', 13.01), ('recall', 18.8), ('f1-macro', 7.66)]\n",
            "AL distribution: {0: 4, 5: 4, 1: 7, 6: 4, 7: 6, 4: 3, 9: 6, 3: 3, 8: 4, 2: 9}\n",
            "AL leftover: 0\n"
          ]
        },
        {
          "output_type": "stream",
          "name": "stderr",
          "text": [
            "/usr/local/lib/python3.7/dist-packages/sklearn/metrics/_classification.py:1318: UndefinedMetricWarning: Precision is ill-defined and being set to 0.0 in labels with no predicted samples. Use `zero_division` parameter to control this behavior.\n",
            "  _warn_prf(average, modifier, msg_start, len(result))\n"
          ]
        },
        {
          "output_type": "stream",
          "name": "stdout",
          "text": [
            "label dist after AL step: Counter({'Travel': 27, \"Children's Books\": 24, 'Health, Fitness & Dieting': 24, 'Crafts, Hobbies & Home': 23, 'Medical Books': 20, 'Christian Books & Bibles': 20, 'Business & Money': 20, 'Science & Math': 17, 'Cookbooks, Food & Wine': 15, 'Teen & Young Adult': 10})\n",
            "current data size: 200 200\n",
            "preprocessing train...\n",
            "language: en\n",
            "train sequence lengths:\n",
            "\tmean : 9\n",
            "\t95percentile : 19\n",
            "\t99percentile : 24\n"
          ]
        },
        {
          "output_type": "stream",
          "name": "stderr",
          "text": [
            "/usr/local/lib/python3.7/dist-packages/ktrain/utils.py:738: UserWarning: class_names argument was ignored, as they were extracted from string labels in dataset\n",
            "  \"class_names argument was ignored, as they were extracted from string labels in dataset\"\n"
          ]
        },
        {
          "output_type": "display_data",
          "data": {
            "text/plain": [
              "<IPython.core.display.HTML object>"
            ],
            "text/html": [
              "\n",
              "<style>\n",
              "    /* Turns off some styling */\n",
              "    progress {\n",
              "        /* gets rid of default border in Firefox and Opera. */\n",
              "        border: none;\n",
              "        /* Needs to be in here for Safari polyfill so background images work as expected. */\n",
              "        background-size: auto;\n",
              "    }\n",
              "    progress:not([value]), progress:not([value])::-webkit-progress-bar {\n",
              "        background: repeating-linear-gradient(45deg, #7e7e7e, #7e7e7e 10px, #5c5c5c 10px, #5c5c5c 20px);\n",
              "    }\n",
              "    .progress-bar-interrupted, .progress-bar-interrupted::-webkit-progress-bar {\n",
              "        background: #F44336;\n",
              "    }\n",
              "</style>\n"
            ]
          },
          "metadata": {}
        },
        {
          "output_type": "display_data",
          "data": {
            "text/plain": [
              "<IPython.core.display.HTML object>"
            ],
            "text/html": []
          },
          "metadata": {}
        },
        {
          "output_type": "stream",
          "name": "stdout",
          "text": [
            "Is Multi-Label? False\n",
            "preprocessing test...\n",
            "language: en\n",
            "test sequence lengths:\n",
            "\tmean : 9\n",
            "\t95percentile : 19\n",
            "\t99percentile : 25\n"
          ]
        },
        {
          "output_type": "display_data",
          "data": {
            "text/plain": [
              "<IPython.core.display.HTML object>"
            ],
            "text/html": [
              "\n",
              "<style>\n",
              "    /* Turns off some styling */\n",
              "    progress {\n",
              "        /* gets rid of default border in Firefox and Opera. */\n",
              "        border: none;\n",
              "        /* Needs to be in here for Safari polyfill so background images work as expected. */\n",
              "        background-size: auto;\n",
              "    }\n",
              "    progress:not([value]), progress:not([value])::-webkit-progress-bar {\n",
              "        background: repeating-linear-gradient(45deg, #7e7e7e, #7e7e7e 10px, #5c5c5c 10px, #5c5c5c 20px);\n",
              "    }\n",
              "    .progress-bar-interrupted, .progress-bar-interrupted::-webkit-progress-bar {\n",
              "        background: #F44336;\n",
              "    }\n",
              "</style>\n"
            ]
          },
          "metadata": {}
        },
        {
          "output_type": "display_data",
          "data": {
            "text/plain": [
              "<IPython.core.display.HTML object>"
            ],
            "text/html": []
          },
          "metadata": {}
        },
        {
          "output_type": "stream",
          "name": "stdout",
          "text": [
            "\n",
            "\n",
            "begin training using onecycle policy with max lr of 8e-05...\n",
            "Epoch 1/5\n",
            "13/13 [==============================] - 32s 1s/step - loss: 2.4428 - accuracy: 0.0950 - val_loss: 2.2887 - val_accuracy: 0.1440\n",
            "Epoch 2/5\n",
            "13/13 [==============================] - 14s 1s/step - loss: 2.2304 - accuracy: 0.1800 - val_loss: 2.2752 - val_accuracy: 0.1705\n",
            "Epoch 3/5\n",
            "13/13 [==============================] - 14s 1s/step - loss: 2.0593 - accuracy: 0.3450 - val_loss: 1.9654 - val_accuracy: 0.3750\n",
            "Epoch 4/5\n",
            "13/13 [==============================] - 14s 1s/step - loss: 1.6791 - accuracy: 0.5650 - val_loss: 1.7365 - val_accuracy: 0.5105\n",
            "Epoch 5/5\n",
            "13/13 [==============================] - 14s 1s/step - loss: 1.2822 - accuracy: 0.8400 - val_loss: 1.6032 - val_accuracy: 0.5645\n",
            "updating classifier\n",
            "['Business & Money', \"Children's Books\", 'Christian Books & Bibles', 'Cookbooks, Food & Wine', 'Crafts, Hobbies & Home', 'Health, Fitness & Dieting', 'Medical Books', 'Science & Math', 'Teen & Young Adult', 'Travel']\n",
            "-----------------ROUND 3DONE--------------\n",
            "100 50\n",
            "AL ROUND:  4  (RUN1) (AL STEP)\n",
            "metric cluster :  0\n",
            "Counter({'Travel': 77, 'Crafts, Hobbies & Home': 18, 'Science & Math': 17, \"Children's Books\": 13, 'Health, Fitness & Dieting': 4, 'Business & Money': 4, 'Teen & Young Adult': 3, 'Cookbooks, Food & Wine': 3, 'Christian Books & Bibles': 3, 'Medical Books': 2}) Counter({'Travel': 92, 'Crafts, Hobbies & Home': 17, \"Children's Books\": 16, 'Christian Books & Bibles': 7, 'Medical Books': 5, 'Cookbooks, Food & Wine': 3, 'Business & Money': 3, 'Science & Math': 1})\n",
            "[('accuracy', 64.58), ('precision', 45.61), ('recall', 42.8), ('f1-macro', 38.49)]\n"
          ]
        },
        {
          "output_type": "stream",
          "name": "stderr",
          "text": [
            "/usr/local/lib/python3.7/dist-packages/sklearn/metrics/_classification.py:1318: UndefinedMetricWarning: Precision is ill-defined and being set to 0.0 in labels with no predicted samples. Use `zero_division` parameter to control this behavior.\n",
            "  _warn_prf(average, modifier, msg_start, len(result))\n"
          ]
        },
        {
          "output_type": "stream",
          "name": "stdout",
          "text": [
            "metric cluster :  5\n",
            "Counter({'Business & Money': 143, 'Medical Books': 9, 'Christian Books & Bibles': 6, 'Science & Math': 5, 'Teen & Young Adult': 4, \"Children's Books\": 4, 'Travel': 3, 'Crafts, Hobbies & Home': 2, 'Health, Fitness & Dieting': 1, 'Cookbooks, Food & Wine': 1}) Counter({'Business & Money': 153, 'Health, Fitness & Dieting': 6, 'Cookbooks, Food & Wine': 5, 'Christian Books & Bibles': 4, 'Crafts, Hobbies & Home': 3, \"Children's Books\": 3, 'Medical Books': 2, 'Science & Math': 1, 'Travel': 1})\n",
            "[('accuracy', 76.4), ('precision', 32.1), ('recall', 32.08), ('f1-macro', 26.54)]\n"
          ]
        },
        {
          "output_type": "stream",
          "name": "stderr",
          "text": [
            "/usr/local/lib/python3.7/dist-packages/sklearn/metrics/_classification.py:1318: UndefinedMetricWarning: Precision is ill-defined and being set to 0.0 in labels with no predicted samples. Use `zero_division` parameter to control this behavior.\n",
            "  _warn_prf(average, modifier, msg_start, len(result))\n"
          ]
        },
        {
          "output_type": "stream",
          "name": "stdout",
          "text": [
            "metric cluster :  1\n",
            "Counter({\"Children's Books\": 158, 'Teen & Young Adult': 65, 'Travel': 42, 'Christian Books & Bibles': 34, 'Crafts, Hobbies & Home': 24, 'Health, Fitness & Dieting': 23, 'Science & Math': 22, 'Medical Books': 10, 'Business & Money': 6, 'Cookbooks, Food & Wine': 5}) Counter({\"Children's Books\": 221, 'Christian Books & Bibles': 70, 'Travel': 37, 'Crafts, Hobbies & Home': 30, 'Business & Money': 9, 'Health, Fitness & Dieting': 8, 'Medical Books': 7, 'Science & Math': 3, 'Cookbooks, Food & Wine': 3, 'Teen & Young Adult': 1})\n",
            "[('accuracy', 42.67), ('precision', 21.31), ('recall', 24.46), ('f1-macro', 21.89)]\n",
            "metric cluster :  6\n",
            "Counter({'Crafts, Hobbies & Home': 88, \"Children's Books\": 19, 'Travel': 9, 'Health, Fitness & Dieting': 8, 'Cookbooks, Food & Wine': 6, 'Business & Money': 4, 'Science & Math': 4, 'Teen & Young Adult': 4, 'Christian Books & Bibles': 4}) Counter({'Crafts, Hobbies & Home': 63, \"Children's Books\": 33, 'Christian Books & Bibles': 18, 'Travel': 14, 'Health, Fitness & Dieting': 7, 'Science & Math': 4, 'Business & Money': 3, 'Medical Books': 2, 'Cookbooks, Food & Wine': 2})\n",
            "[('accuracy', 48.63), ('precision', 23.11), ('recall', 26.72), ('f1-macro', 23.44)]\n"
          ]
        },
        {
          "output_type": "stream",
          "name": "stderr",
          "text": [
            "/usr/local/lib/python3.7/dist-packages/sklearn/metrics/_classification.py:1318: UndefinedMetricWarning: Recall is ill-defined and being set to 0.0 in labels with no true samples. Use `zero_division` parameter to control this behavior.\n",
            "  _warn_prf(average, modifier, msg_start, len(result))\n",
            "/usr/local/lib/python3.7/dist-packages/sklearn/metrics/_classification.py:1318: UndefinedMetricWarning: Precision is ill-defined and being set to 0.0 in labels with no predicted samples. Use `zero_division` parameter to control this behavior.\n",
            "  _warn_prf(average, modifier, msg_start, len(result))\n"
          ]
        },
        {
          "output_type": "stream",
          "name": "stdout",
          "text": [
            "metric cluster :  7\n",
            "Counter({'Health, Fitness & Dieting': 78, 'Medical Books': 49, 'Teen & Young Adult': 20, 'Christian Books & Bibles': 13, 'Science & Math': 13, 'Business & Money': 10, \"Children's Books\": 7, 'Crafts, Hobbies & Home': 3, 'Cookbooks, Food & Wine': 1}) Counter({'Health, Fitness & Dieting': 63, 'Medical Books': 48, 'Business & Money': 32, 'Christian Books & Bibles': 28, \"Children's Books\": 13, 'Crafts, Hobbies & Home': 6, 'Travel': 4})\n",
            "[('accuracy', 43.81), ('precision', 22.51), ('recall', 34.31), ('f1-macro', 25.8)]\n"
          ]
        },
        {
          "output_type": "stream",
          "name": "stderr",
          "text": [
            "/usr/local/lib/python3.7/dist-packages/sklearn/metrics/_classification.py:1318: UndefinedMetricWarning: Recall is ill-defined and being set to 0.0 in labels with no true samples. Use `zero_division` parameter to control this behavior.\n",
            "  _warn_prf(average, modifier, msg_start, len(result))\n",
            "/usr/local/lib/python3.7/dist-packages/sklearn/metrics/_classification.py:1318: UndefinedMetricWarning: Precision is ill-defined and being set to 0.0 in labels with no predicted samples. Use `zero_division` parameter to control this behavior.\n",
            "  _warn_prf(average, modifier, msg_start, len(result))\n"
          ]
        },
        {
          "output_type": "stream",
          "name": "stdout",
          "text": [
            "metric cluster :  4\n",
            "Counter({'Medical Books': 149, 'Health, Fitness & Dieting': 58, 'Crafts, Hobbies & Home': 4, 'Cookbooks, Food & Wine': 2, 'Teen & Young Adult': 2, 'Christian Books & Bibles': 2, 'Science & Math': 2, 'Business & Money': 2, 'Travel': 1}) Counter({'Medical Books': 116, 'Health, Fitness & Dieting': 58, 'Science & Math': 16, 'Business & Money': 15, 'Christian Books & Bibles': 5, 'Crafts, Hobbies & Home': 5, 'Travel': 4, 'Cookbooks, Food & Wine': 2, \"Children's Books\": 1})\n",
            "[('accuracy', 59.01), ('precision', 19.41), ('recall', 34.29), ('f1-macro', 21.1)]\n"
          ]
        },
        {
          "output_type": "stream",
          "name": "stderr",
          "text": [
            "/usr/local/lib/python3.7/dist-packages/sklearn/metrics/_classification.py:1318: UndefinedMetricWarning: Recall is ill-defined and being set to 0.0 in labels with no true samples. Use `zero_division` parameter to control this behavior.\n",
            "  _warn_prf(average, modifier, msg_start, len(result))\n",
            "/usr/local/lib/python3.7/dist-packages/sklearn/metrics/_classification.py:1318: UndefinedMetricWarning: Precision is ill-defined and being set to 0.0 in labels with no predicted samples. Use `zero_division` parameter to control this behavior.\n",
            "  _warn_prf(average, modifier, msg_start, len(result))\n"
          ]
        },
        {
          "output_type": "stream",
          "name": "stdout",
          "text": [
            "metric cluster :  9\n",
            "Counter({'Cookbooks, Food & Wine': 113, 'Health, Fitness & Dieting': 30, 'Crafts, Hobbies & Home': 7, \"Children's Books\": 4, 'Medical Books': 3, 'Science & Math': 2, 'Teen & Young Adult': 2, 'Travel': 2}) Counter({'Cookbooks, Food & Wine': 93, 'Health, Fitness & Dieting': 51, 'Crafts, Hobbies & Home': 10, 'Business & Money': 3, 'Travel': 3, \"Children's Books\": 3})\n",
            "[('accuracy', 61.35), ('precision', 14.91), ('recall', 16.76), ('f1-macro', 15.32)]\n"
          ]
        },
        {
          "output_type": "stream",
          "name": "stderr",
          "text": [
            "/usr/local/lib/python3.7/dist-packages/sklearn/metrics/_classification.py:1318: UndefinedMetricWarning: Recall is ill-defined and being set to 0.0 in labels with no true samples. Use `zero_division` parameter to control this behavior.\n",
            "  _warn_prf(average, modifier, msg_start, len(result))\n",
            "/usr/local/lib/python3.7/dist-packages/sklearn/metrics/_classification.py:1318: UndefinedMetricWarning: Precision is ill-defined and being set to 0.0 in labels with no predicted samples. Use `zero_division` parameter to control this behavior.\n",
            "  _warn_prf(average, modifier, msg_start, len(result))\n"
          ]
        },
        {
          "output_type": "stream",
          "name": "stdout",
          "text": [
            "metric cluster :  3\n",
            "Counter({'Travel': 175, \"Children's Books\": 12, 'Crafts, Hobbies & Home': 11, 'Teen & Young Adult': 8, 'Science & Math': 5, 'Christian Books & Bibles': 2, 'Business & Money': 2, 'Cookbooks, Food & Wine': 2, 'Health, Fitness & Dieting': 1}) Counter({'Travel': 160, \"Children's Books\": 14, 'Crafts, Hobbies & Home': 13, 'Christian Books & Bibles': 12, 'Business & Money': 11, 'Health, Fitness & Dieting': 4, 'Medical Books': 2, 'Science & Math': 1, 'Cookbooks, Food & Wine': 1})\n",
            "[('accuracy', 68.81), ('precision', 25.45), ('recall', 17.88), ('f1-macro', 18.94)]\n"
          ]
        },
        {
          "output_type": "stream",
          "name": "stderr",
          "text": [
            "/usr/local/lib/python3.7/dist-packages/sklearn/metrics/_classification.py:1318: UndefinedMetricWarning: Recall is ill-defined and being set to 0.0 in labels with no true samples. Use `zero_division` parameter to control this behavior.\n",
            "  _warn_prf(average, modifier, msg_start, len(result))\n",
            "/usr/local/lib/python3.7/dist-packages/sklearn/metrics/_classification.py:1318: UndefinedMetricWarning: Precision is ill-defined and being set to 0.0 in labels with no predicted samples. Use `zero_division` parameter to control this behavior.\n",
            "  _warn_prf(average, modifier, msg_start, len(result))\n"
          ]
        },
        {
          "output_type": "stream",
          "name": "stdout",
          "text": [
            "metric cluster :  8\n",
            "Counter({'Science & Math': 100, 'Crafts, Hobbies & Home': 28, \"Children's Books\": 24, 'Teen & Young Adult': 12, 'Business & Money': 12, 'Medical Books': 8, 'Health, Fitness & Dieting': 6, 'Travel': 4, 'Christian Books & Bibles': 1}) Counter({'Science & Math': 83, 'Medical Books': 26, 'Business & Money': 25, 'Crafts, Hobbies & Home': 18, 'Travel': 13, 'Health, Fitness & Dieting': 12, \"Children's Books\": 10, 'Christian Books & Bibles': 7, 'Cookbooks, Food & Wine': 1})\n",
            "[('accuracy', 52.31), ('precision', 29.13), ('recall', 31.66), ('f1-macro', 26.63)]\n"
          ]
        },
        {
          "output_type": "stream",
          "name": "stderr",
          "text": [
            "/usr/local/lib/python3.7/dist-packages/sklearn/metrics/_classification.py:1318: UndefinedMetricWarning: Recall is ill-defined and being set to 0.0 in labels with no true samples. Use `zero_division` parameter to control this behavior.\n",
            "  _warn_prf(average, modifier, msg_start, len(result))\n",
            "/usr/local/lib/python3.7/dist-packages/sklearn/metrics/_classification.py:1318: UndefinedMetricWarning: Precision is ill-defined and being set to 0.0 in labels with no predicted samples. Use `zero_division` parameter to control this behavior.\n",
            "  _warn_prf(average, modifier, msg_start, len(result))\n"
          ]
        },
        {
          "output_type": "stream",
          "name": "stdout",
          "text": [
            "metric cluster :  2\n",
            "Counter({'Christian Books & Bibles': 111, 'Teen & Young Adult': 8, \"Children's Books\": 6, 'Travel': 6, 'Health, Fitness & Dieting': 6, 'Science & Math': 5, 'Crafts, Hobbies & Home': 4, 'Business & Money': 2, 'Medical Books': 2, 'Cookbooks, Food & Wine': 1}) Counter({'Christian Books & Bibles': 110, \"Children's Books\": 18, 'Medical Books': 8, 'Business & Money': 8, 'Travel': 3, 'Crafts, Hobbies & Home': 2, 'Health, Fitness & Dieting': 1, 'Science & Math': 1})\n",
            "[('accuracy', 62.91), ('precision', 18.83), ('recall', 26.26), ('f1-macro', 18.91)]\n",
            "AL distribution: {0: 4, 5: 3, 1: 7, 6: 6, 7: 7, 4: 5, 9: 5, 3: 4, 8: 6, 2: 3}\n",
            "AL leftover: 0\n"
          ]
        },
        {
          "output_type": "stream",
          "name": "stderr",
          "text": [
            "/usr/local/lib/python3.7/dist-packages/sklearn/metrics/_classification.py:1318: UndefinedMetricWarning: Precision is ill-defined and being set to 0.0 in labels with no predicted samples. Use `zero_division` parameter to control this behavior.\n",
            "  _warn_prf(average, modifier, msg_start, len(result))\n"
          ]
        },
        {
          "output_type": "stream",
          "name": "stdout",
          "text": [
            "label dist after AL step: Counter({'Crafts, Hobbies & Home': 34, 'Travel': 33, 'Medical Books': 32, 'Health, Fitness & Dieting': 29, \"Children's Books\": 26, 'Christian Books & Bibles': 23, 'Science & Math': 22, 'Business & Money': 22, 'Cookbooks, Food & Wine': 18, 'Teen & Young Adult': 11})\n",
            "current data size: 250 250\n",
            "preprocessing train...\n",
            "language: en\n",
            "train sequence lengths:\n",
            "\tmean : 9\n",
            "\t95percentile : 19\n",
            "\t99percentile : 23\n"
          ]
        },
        {
          "output_type": "stream",
          "name": "stderr",
          "text": [
            "/usr/local/lib/python3.7/dist-packages/ktrain/utils.py:738: UserWarning: class_names argument was ignored, as they were extracted from string labels in dataset\n",
            "  \"class_names argument was ignored, as they were extracted from string labels in dataset\"\n"
          ]
        },
        {
          "output_type": "display_data",
          "data": {
            "text/plain": [
              "<IPython.core.display.HTML object>"
            ],
            "text/html": [
              "\n",
              "<style>\n",
              "    /* Turns off some styling */\n",
              "    progress {\n",
              "        /* gets rid of default border in Firefox and Opera. */\n",
              "        border: none;\n",
              "        /* Needs to be in here for Safari polyfill so background images work as expected. */\n",
              "        background-size: auto;\n",
              "    }\n",
              "    progress:not([value]), progress:not([value])::-webkit-progress-bar {\n",
              "        background: repeating-linear-gradient(45deg, #7e7e7e, #7e7e7e 10px, #5c5c5c 10px, #5c5c5c 20px);\n",
              "    }\n",
              "    .progress-bar-interrupted, .progress-bar-interrupted::-webkit-progress-bar {\n",
              "        background: #F44336;\n",
              "    }\n",
              "</style>\n"
            ]
          },
          "metadata": {}
        },
        {
          "output_type": "display_data",
          "data": {
            "text/plain": [
              "<IPython.core.display.HTML object>"
            ],
            "text/html": []
          },
          "metadata": {}
        },
        {
          "output_type": "stream",
          "name": "stdout",
          "text": [
            "Is Multi-Label? False\n",
            "preprocessing test...\n",
            "language: en\n",
            "test sequence lengths:\n",
            "\tmean : 9\n",
            "\t95percentile : 19\n",
            "\t99percentile : 25\n"
          ]
        },
        {
          "output_type": "display_data",
          "data": {
            "text/plain": [
              "<IPython.core.display.HTML object>"
            ],
            "text/html": [
              "\n",
              "<style>\n",
              "    /* Turns off some styling */\n",
              "    progress {\n",
              "        /* gets rid of default border in Firefox and Opera. */\n",
              "        border: none;\n",
              "        /* Needs to be in here for Safari polyfill so background images work as expected. */\n",
              "        background-size: auto;\n",
              "    }\n",
              "    progress:not([value]), progress:not([value])::-webkit-progress-bar {\n",
              "        background: repeating-linear-gradient(45deg, #7e7e7e, #7e7e7e 10px, #5c5c5c 10px, #5c5c5c 20px);\n",
              "    }\n",
              "    .progress-bar-interrupted, .progress-bar-interrupted::-webkit-progress-bar {\n",
              "        background: #F44336;\n",
              "    }\n",
              "</style>\n"
            ]
          },
          "metadata": {}
        },
        {
          "output_type": "display_data",
          "data": {
            "text/plain": [
              "<IPython.core.display.HTML object>"
            ],
            "text/html": []
          },
          "metadata": {}
        },
        {
          "output_type": "stream",
          "name": "stdout",
          "text": [
            "\n",
            "\n",
            "begin training using onecycle policy with max lr of 8e-05...\n",
            "Epoch 1/5\n",
            "16/16 [==============================] - 34s 1s/step - loss: 2.3035 - accuracy: 0.1040 - val_loss: 2.2454 - val_accuracy: 0.2120\n",
            "Epoch 2/5\n",
            "16/16 [==============================] - 16s 1s/step - loss: 2.1664 - accuracy: 0.2280 - val_loss: 2.0545 - val_accuracy: 0.3100\n",
            "Epoch 3/5\n",
            "16/16 [==============================] - 15s 990ms/step - loss: 1.7778 - accuracy: 0.4480 - val_loss: 1.6511 - val_accuracy: 0.5035\n",
            "Epoch 4/5\n",
            "16/16 [==============================] - 15s 974ms/step - loss: 1.1570 - accuracy: 0.7520 - val_loss: 1.4020 - val_accuracy: 0.5950\n",
            "Epoch 5/5\n",
            "16/16 [==============================] - 15s 971ms/step - loss: 0.6914 - accuracy: 0.9200 - val_loss: 1.3217 - val_accuracy: 0.6010\n",
            "updating classifier\n",
            "['Business & Money', \"Children's Books\", 'Christian Books & Bibles', 'Cookbooks, Food & Wine', 'Crafts, Hobbies & Home', 'Health, Fitness & Dieting', 'Medical Books', 'Science & Math', 'Teen & Young Adult', 'Travel']\n",
            "-----------------ROUND 4DONE--------------\n",
            "50 50\n",
            "AL ROUND:  5  (RUN1) (AL STEP)\n",
            "metric cluster :  0\n",
            "Counter({'Travel': 77, 'Crafts, Hobbies & Home': 18, 'Science & Math': 17, \"Children's Books\": 13, 'Health, Fitness & Dieting': 4, 'Business & Money': 4, 'Teen & Young Adult': 3, 'Cookbooks, Food & Wine': 3, 'Christian Books & Bibles': 3, 'Medical Books': 2}) Counter({'Travel': 110, 'Crafts, Hobbies & Home': 13, \"Children's Books\": 10, 'Medical Books': 3, 'Christian Books & Bibles': 3, 'Cookbooks, Food & Wine': 2, 'Business & Money': 2, 'Science & Math': 1})\n",
            "[('accuracy', 65.97), ('precision', 55.07), ('recall', 43.47), ('f1-macro', 43.55)]\n"
          ]
        },
        {
          "output_type": "stream",
          "name": "stderr",
          "text": [
            "/usr/local/lib/python3.7/dist-packages/sklearn/metrics/_classification.py:1318: UndefinedMetricWarning: Precision is ill-defined and being set to 0.0 in labels with no predicted samples. Use `zero_division` parameter to control this behavior.\n",
            "  _warn_prf(average, modifier, msg_start, len(result))\n"
          ]
        },
        {
          "output_type": "stream",
          "name": "stdout",
          "text": [
            "metric cluster :  5\n",
            "Counter({'Business & Money': 143, 'Medical Books': 9, 'Christian Books & Bibles': 6, 'Science & Math': 5, 'Teen & Young Adult': 4, \"Children's Books\": 4, 'Travel': 3, 'Crafts, Hobbies & Home': 2, 'Health, Fitness & Dieting': 1, 'Cookbooks, Food & Wine': 1}) Counter({'Business & Money': 114, 'Medical Books': 23, 'Crafts, Hobbies & Home': 15, \"Children's Books\": 10, 'Science & Math': 6, 'Christian Books & Bibles': 4, 'Health, Fitness & Dieting': 3, 'Travel': 3})\n",
            "[('accuracy', 65.73), ('precision', 25.38), ('recall', 38.76), ('f1-macro', 27.14)]\n"
          ]
        },
        {
          "output_type": "stream",
          "name": "stderr",
          "text": [
            "/usr/local/lib/python3.7/dist-packages/sklearn/metrics/_classification.py:1318: UndefinedMetricWarning: Precision is ill-defined and being set to 0.0 in labels with no predicted samples. Use `zero_division` parameter to control this behavior.\n",
            "  _warn_prf(average, modifier, msg_start, len(result))\n"
          ]
        },
        {
          "output_type": "stream",
          "name": "stdout",
          "text": [
            "metric cluster :  1\n",
            "Counter({\"Children's Books\": 158, 'Teen & Young Adult': 65, 'Travel': 42, 'Christian Books & Bibles': 34, 'Crafts, Hobbies & Home': 24, 'Health, Fitness & Dieting': 23, 'Science & Math': 22, 'Medical Books': 10, 'Business & Money': 6, 'Cookbooks, Food & Wine': 5}) Counter({\"Children's Books\": 238, 'Travel': 64, 'Crafts, Hobbies & Home': 47, 'Christian Books & Bibles': 15, 'Medical Books': 13, 'Health, Fitness & Dieting': 7, 'Business & Money': 3, 'Science & Math': 1, 'Cookbooks, Food & Wine': 1})\n",
            "[('accuracy', 43.96), ('precision', 21.67), ('recall', 23.68), ('f1-macro', 20.62)]\n"
          ]
        },
        {
          "output_type": "stream",
          "name": "stderr",
          "text": [
            "/usr/local/lib/python3.7/dist-packages/sklearn/metrics/_classification.py:1318: UndefinedMetricWarning: Precision is ill-defined and being set to 0.0 in labels with no predicted samples. Use `zero_division` parameter to control this behavior.\n",
            "  _warn_prf(average, modifier, msg_start, len(result))\n"
          ]
        },
        {
          "output_type": "stream",
          "name": "stdout",
          "text": [
            "metric cluster :  6\n",
            "Counter({'Crafts, Hobbies & Home': 88, \"Children's Books\": 19, 'Travel': 9, 'Health, Fitness & Dieting': 8, 'Cookbooks, Food & Wine': 6, 'Business & Money': 4, 'Science & Math': 4, 'Teen & Young Adult': 4, 'Christian Books & Bibles': 4}) Counter({'Crafts, Hobbies & Home': 102, \"Children's Books\": 25, 'Travel': 13, 'Science & Math': 3, 'Medical Books': 1, 'Health, Fitness & Dieting': 1, 'Business & Money': 1})\n",
            "[('accuracy', 62.33), ('precision', 29.04), ('recall', 25.05), ('f1-macro', 24.44)]\n"
          ]
        },
        {
          "output_type": "stream",
          "name": "stderr",
          "text": [
            "/usr/local/lib/python3.7/dist-packages/sklearn/metrics/_classification.py:1318: UndefinedMetricWarning: Recall is ill-defined and being set to 0.0 in labels with no true samples. Use `zero_division` parameter to control this behavior.\n",
            "  _warn_prf(average, modifier, msg_start, len(result))\n",
            "/usr/local/lib/python3.7/dist-packages/sklearn/metrics/_classification.py:1318: UndefinedMetricWarning: Precision is ill-defined and being set to 0.0 in labels with no predicted samples. Use `zero_division` parameter to control this behavior.\n",
            "  _warn_prf(average, modifier, msg_start, len(result))\n"
          ]
        },
        {
          "output_type": "stream",
          "name": "stdout",
          "text": [
            "metric cluster :  7\n",
            "Counter({'Health, Fitness & Dieting': 78, 'Medical Books': 49, 'Teen & Young Adult': 20, 'Christian Books & Bibles': 13, 'Science & Math': 13, 'Business & Money': 10, \"Children's Books\": 7, 'Crafts, Hobbies & Home': 3, 'Cookbooks, Food & Wine': 1}) Counter({'Medical Books': 73, 'Health, Fitness & Dieting': 64, \"Children's Books\": 21, 'Crafts, Hobbies & Home': 16, 'Christian Books & Bibles': 13, 'Business & Money': 3, 'Science & Math': 2, 'Travel': 2})\n",
            "[('accuracy', 51.55), ('precision', 36.52), ('recall', 34.92), ('f1-macro', 28.0)]\n"
          ]
        },
        {
          "output_type": "stream",
          "name": "stderr",
          "text": [
            "/usr/local/lib/python3.7/dist-packages/sklearn/metrics/_classification.py:1318: UndefinedMetricWarning: Recall is ill-defined and being set to 0.0 in labels with no true samples. Use `zero_division` parameter to control this behavior.\n",
            "  _warn_prf(average, modifier, msg_start, len(result))\n",
            "/usr/local/lib/python3.7/dist-packages/sklearn/metrics/_classification.py:1318: UndefinedMetricWarning: Precision is ill-defined and being set to 0.0 in labels with no predicted samples. Use `zero_division` parameter to control this behavior.\n",
            "  _warn_prf(average, modifier, msg_start, len(result))\n"
          ]
        },
        {
          "output_type": "stream",
          "name": "stdout",
          "text": [
            "metric cluster :  4\n",
            "Counter({'Medical Books': 149, 'Health, Fitness & Dieting': 58, 'Crafts, Hobbies & Home': 4, 'Cookbooks, Food & Wine': 2, 'Teen & Young Adult': 2, 'Christian Books & Bibles': 2, 'Science & Math': 2, 'Business & Money': 2, 'Travel': 1}) Counter({'Medical Books': 127, 'Health, Fitness & Dieting': 79, 'Crafts, Hobbies & Home': 9, 'Travel': 4, 'Science & Math': 3})\n",
            "[('accuracy', 69.82), ('precision', 21.92), ('recall', 35.62), ('f1-macro', 25.16)]\n"
          ]
        },
        {
          "output_type": "stream",
          "name": "stderr",
          "text": [
            "/usr/local/lib/python3.7/dist-packages/sklearn/metrics/_classification.py:1318: UndefinedMetricWarning: Precision is ill-defined and being set to 0.0 in labels with no predicted samples. Use `zero_division` parameter to control this behavior.\n",
            "  _warn_prf(average, modifier, msg_start, len(result))\n"
          ]
        },
        {
          "output_type": "stream",
          "name": "stdout",
          "text": [
            "metric cluster :  9\n",
            "Counter({'Cookbooks, Food & Wine': 113, 'Health, Fitness & Dieting': 30, 'Crafts, Hobbies & Home': 7, \"Children's Books\": 4, 'Medical Books': 3, 'Science & Math': 2, 'Teen & Young Adult': 2, 'Travel': 2}) Counter({'Cookbooks, Food & Wine': 50, 'Crafts, Hobbies & Home': 50, 'Health, Fitness & Dieting': 45, 'Travel': 13, \"Children's Books\": 2, 'Science & Math': 2, 'Medical Books': 1})\n",
            "[('accuracy', 49.69), ('precision', 33.66), ('recall', 40.28), ('f1-macro', 29.97)]\n"
          ]
        },
        {
          "output_type": "stream",
          "name": "stderr",
          "text": [
            "/usr/local/lib/python3.7/dist-packages/sklearn/metrics/_classification.py:1318: UndefinedMetricWarning: Precision is ill-defined and being set to 0.0 in labels with no predicted samples. Use `zero_division` parameter to control this behavior.\n",
            "  _warn_prf(average, modifier, msg_start, len(result))\n"
          ]
        },
        {
          "output_type": "stream",
          "name": "stdout",
          "text": [
            "metric cluster :  3\n",
            "Counter({'Travel': 175, \"Children's Books\": 12, 'Crafts, Hobbies & Home': 11, 'Teen & Young Adult': 8, 'Science & Math': 5, 'Christian Books & Bibles': 2, 'Business & Money': 2, 'Cookbooks, Food & Wine': 2, 'Health, Fitness & Dieting': 1}) Counter({'Travel': 188, \"Children's Books\": 16, 'Crafts, Hobbies & Home': 9, 'Business & Money': 3, 'Science & Math': 2})\n",
            "[('accuracy', 80.73), ('precision', 25.49), ('recall', 22.46), ('f1-macro', 23.12)]\n"
          ]
        },
        {
          "output_type": "stream",
          "name": "stderr",
          "text": [
            "/usr/local/lib/python3.7/dist-packages/sklearn/metrics/_classification.py:1318: UndefinedMetricWarning: Precision is ill-defined and being set to 0.0 in labels with no predicted samples. Use `zero_division` parameter to control this behavior.\n",
            "  _warn_prf(average, modifier, msg_start, len(result))\n"
          ]
        },
        {
          "output_type": "stream",
          "name": "stdout",
          "text": [
            "metric cluster :  8\n",
            "Counter({'Science & Math': 100, 'Crafts, Hobbies & Home': 28, \"Children's Books\": 24, 'Teen & Young Adult': 12, 'Business & Money': 12, 'Medical Books': 8, 'Health, Fitness & Dieting': 6, 'Travel': 4, 'Christian Books & Bibles': 1}) Counter({'Science & Math': 92, 'Crafts, Hobbies & Home': 31, 'Medical Books': 28, \"Children's Books\": 21, 'Travel': 13, 'Business & Money': 7, 'Health, Fitness & Dieting': 3})\n",
            "[('accuracy', 58.97), ('precision', 33.12), ('recall', 38.34), ('f1-macro', 32.43)]\n"
          ]
        },
        {
          "output_type": "stream",
          "name": "stderr",
          "text": [
            "/usr/local/lib/python3.7/dist-packages/sklearn/metrics/_classification.py:1318: UndefinedMetricWarning: Precision is ill-defined and being set to 0.0 in labels with no predicted samples. Use `zero_division` parameter to control this behavior.\n",
            "  _warn_prf(average, modifier, msg_start, len(result))\n"
          ]
        },
        {
          "output_type": "stream",
          "name": "stdout",
          "text": [
            "metric cluster :  2\n",
            "Counter({'Christian Books & Bibles': 111, 'Teen & Young Adult': 8, \"Children's Books\": 6, 'Travel': 6, 'Health, Fitness & Dieting': 6, 'Science & Math': 5, 'Crafts, Hobbies & Home': 4, 'Business & Money': 2, 'Medical Books': 2, 'Cookbooks, Food & Wine': 1}) Counter({'Christian Books & Bibles': 112, \"Children's Books\": 14, 'Medical Books': 12, 'Travel': 4, 'Health, Fitness & Dieting': 3, 'Crafts, Hobbies & Home': 3, 'Teen & Young Adult': 1, 'Cookbooks, Food & Wine': 1, 'Business & Money': 1})\n",
            "[('accuracy', 66.89), ('precision', 36.1), ('recall', 38.2), ('f1-macro', 34.53)]\n",
            "AL distribution: {0: 4, 5: 4, 1: 7, 6: 5, 7: 6, 4: 4, 9: 7, 3: 3, 8: 5, 2: 4}\n",
            "AL leftover: 1\n"
          ]
        },
        {
          "output_type": "stream",
          "name": "stderr",
          "text": [
            "/usr/local/lib/python3.7/dist-packages/sklearn/metrics/_classification.py:1318: UndefinedMetricWarning: Precision is ill-defined and being set to 0.0 in labels with no predicted samples. Use `zero_division` parameter to control this behavior.\n",
            "  _warn_prf(average, modifier, msg_start, len(result))\n"
          ]
        },
        {
          "output_type": "stream",
          "name": "stdout",
          "text": [
            "label dist after AL step: Counter({'Crafts, Hobbies & Home': 41, 'Medical Books': 37, 'Travel': 36, 'Health, Fitness & Dieting': 34, \"Children's Books\": 32, 'Christian Books & Bibles': 31, 'Business & Money': 27, 'Science & Math': 26, 'Cookbooks, Food & Wine': 24, 'Teen & Young Adult': 12})\n",
            "current data size: 300 300\n",
            "preprocessing train...\n",
            "language: en\n",
            "train sequence lengths:\n",
            "\tmean : 9\n",
            "\t95percentile : 19\n",
            "\t99percentile : 27\n"
          ]
        },
        {
          "output_type": "stream",
          "name": "stderr",
          "text": [
            "/usr/local/lib/python3.7/dist-packages/ktrain/utils.py:738: UserWarning: class_names argument was ignored, as they were extracted from string labels in dataset\n",
            "  \"class_names argument was ignored, as they were extracted from string labels in dataset\"\n"
          ]
        },
        {
          "output_type": "display_data",
          "data": {
            "text/plain": [
              "<IPython.core.display.HTML object>"
            ],
            "text/html": [
              "\n",
              "<style>\n",
              "    /* Turns off some styling */\n",
              "    progress {\n",
              "        /* gets rid of default border in Firefox and Opera. */\n",
              "        border: none;\n",
              "        /* Needs to be in here for Safari polyfill so background images work as expected. */\n",
              "        background-size: auto;\n",
              "    }\n",
              "    progress:not([value]), progress:not([value])::-webkit-progress-bar {\n",
              "        background: repeating-linear-gradient(45deg, #7e7e7e, #7e7e7e 10px, #5c5c5c 10px, #5c5c5c 20px);\n",
              "    }\n",
              "    .progress-bar-interrupted, .progress-bar-interrupted::-webkit-progress-bar {\n",
              "        background: #F44336;\n",
              "    }\n",
              "</style>\n"
            ]
          },
          "metadata": {}
        },
        {
          "output_type": "display_data",
          "data": {
            "text/plain": [
              "<IPython.core.display.HTML object>"
            ],
            "text/html": []
          },
          "metadata": {}
        },
        {
          "output_type": "stream",
          "name": "stdout",
          "text": [
            "Is Multi-Label? False\n",
            "preprocessing test...\n",
            "language: en\n",
            "test sequence lengths:\n",
            "\tmean : 9\n",
            "\t95percentile : 19\n",
            "\t99percentile : 25\n"
          ]
        },
        {
          "output_type": "display_data",
          "data": {
            "text/plain": [
              "<IPython.core.display.HTML object>"
            ],
            "text/html": [
              "\n",
              "<style>\n",
              "    /* Turns off some styling */\n",
              "    progress {\n",
              "        /* gets rid of default border in Firefox and Opera. */\n",
              "        border: none;\n",
              "        /* Needs to be in here for Safari polyfill so background images work as expected. */\n",
              "        background-size: auto;\n",
              "    }\n",
              "    progress:not([value]), progress:not([value])::-webkit-progress-bar {\n",
              "        background: repeating-linear-gradient(45deg, #7e7e7e, #7e7e7e 10px, #5c5c5c 10px, #5c5c5c 20px);\n",
              "    }\n",
              "    .progress-bar-interrupted, .progress-bar-interrupted::-webkit-progress-bar {\n",
              "        background: #F44336;\n",
              "    }\n",
              "</style>\n"
            ]
          },
          "metadata": {}
        },
        {
          "output_type": "display_data",
          "data": {
            "text/plain": [
              "<IPython.core.display.HTML object>"
            ],
            "text/html": []
          },
          "metadata": {}
        },
        {
          "output_type": "stream",
          "name": "stdout",
          "text": [
            "\n",
            "\n",
            "begin training using onecycle policy with max lr of 8e-05...\n",
            "Epoch 1/5\n",
            "19/19 [==============================] - 34s 1s/step - loss: 2.2981 - accuracy: 0.1500 - val_loss: 2.2617 - val_accuracy: 0.1250\n",
            "Epoch 2/5\n",
            "19/19 [==============================] - 17s 896ms/step - loss: 2.1695 - accuracy: 0.2300 - val_loss: 2.1586 - val_accuracy: 0.2120\n",
            "Epoch 3/5\n",
            "19/19 [==============================] - 16s 877ms/step - loss: 1.7237 - accuracy: 0.5267 - val_loss: 1.5651 - val_accuracy: 0.5390\n",
            "Epoch 4/5\n",
            "19/19 [==============================] - 16s 869ms/step - loss: 0.9841 - accuracy: 0.7933 - val_loss: 1.3093 - val_accuracy: 0.6230\n",
            "Epoch 5/5\n",
            "19/19 [==============================] - 16s 875ms/step - loss: 0.5524 - accuracy: 0.9200 - val_loss: 1.2131 - val_accuracy: 0.6340\n",
            "updating classifier\n",
            "['Business & Money', \"Children's Books\", 'Christian Books & Bibles', 'Cookbooks, Food & Wine', 'Crafts, Hobbies & Home', 'Health, Fitness & Dieting', 'Medical Books', 'Science & Math', 'Teen & Young Adult', 'Travel']\n",
            "-----------------ROUND 5DONE--------------\n",
            "[('accuracy', 64.5), ('precision', 64.82), ('recall', 62.42), ('f1-macro', 60.75)]\n",
            "predicted dist after ROUND 5: Counter({\"Children's Books\": 676, 'Travel': 651, 'Medical Books': 579, 'Crafts, Hobbies & Home': 446, 'Christian Books & Bibles': 404, 'Science & Math': 365, 'Business & Money': 356, 'Cookbooks, Food & Wine': 267, 'Health, Fitness & Dieting': 213, 'Teen & Young Adult': 43})\n",
            "test results after ROUND 5: [('accuracy', 64.5), ('precision', 64.82), ('recall', 62.42), ('f1-macro', 60.75)]\n",
            "-------------------- DONE with RUN1--------------------\n",
            "Task: BTYPE\n",
            "N: 300\n",
            "K: 10\n",
            "----------DOING RUN: RUN2 -----------------\n",
            "-----RUNNING INITIAL CLUSTERING------\n",
            "CLUSTER DIST:\n",
            "0 971\n",
            "5 1178\n",
            "1 2634\n",
            "6 1091\n",
            "7 1259\n",
            "4 1636\n",
            "9 1363\n",
            "3 1529\n",
            "8 1286\n",
            "2 1053\n",
            "-----INITIAL CLUSTERING DONE----\n",
            "rounds: 0\n",
            "current data size: 50 50\n",
            "preprocessing train...\n",
            "language: en\n",
            "train sequence lengths:\n",
            "\tmean : 9\n",
            "\t95percentile : 16\n",
            "\t99percentile : 16\n"
          ]
        },
        {
          "output_type": "stream",
          "name": "stderr",
          "text": [
            "/usr/local/lib/python3.7/dist-packages/ktrain/utils.py:738: UserWarning: class_names argument was ignored, as they were extracted from string labels in dataset\n",
            "  \"class_names argument was ignored, as they were extracted from string labels in dataset\"\n"
          ]
        },
        {
          "output_type": "display_data",
          "data": {
            "text/plain": [
              "<IPython.core.display.HTML object>"
            ],
            "text/html": [
              "\n",
              "<style>\n",
              "    /* Turns off some styling */\n",
              "    progress {\n",
              "        /* gets rid of default border in Firefox and Opera. */\n",
              "        border: none;\n",
              "        /* Needs to be in here for Safari polyfill so background images work as expected. */\n",
              "        background-size: auto;\n",
              "    }\n",
              "    progress:not([value]), progress:not([value])::-webkit-progress-bar {\n",
              "        background: repeating-linear-gradient(45deg, #7e7e7e, #7e7e7e 10px, #5c5c5c 10px, #5c5c5c 20px);\n",
              "    }\n",
              "    .progress-bar-interrupted, .progress-bar-interrupted::-webkit-progress-bar {\n",
              "        background: #F44336;\n",
              "    }\n",
              "</style>\n"
            ]
          },
          "metadata": {}
        },
        {
          "output_type": "display_data",
          "data": {
            "text/plain": [
              "<IPython.core.display.HTML object>"
            ],
            "text/html": []
          },
          "metadata": {}
        },
        {
          "output_type": "stream",
          "name": "stdout",
          "text": [
            "Is Multi-Label? False\n",
            "preprocessing test...\n",
            "language: en\n",
            "test sequence lengths:\n",
            "\tmean : 9\n",
            "\t95percentile : 19\n",
            "\t99percentile : 25\n"
          ]
        },
        {
          "output_type": "display_data",
          "data": {
            "text/plain": [
              "<IPython.core.display.HTML object>"
            ],
            "text/html": [
              "\n",
              "<style>\n",
              "    /* Turns off some styling */\n",
              "    progress {\n",
              "        /* gets rid of default border in Firefox and Opera. */\n",
              "        border: none;\n",
              "        /* Needs to be in here for Safari polyfill so background images work as expected. */\n",
              "        background-size: auto;\n",
              "    }\n",
              "    progress:not([value]), progress:not([value])::-webkit-progress-bar {\n",
              "        background: repeating-linear-gradient(45deg, #7e7e7e, #7e7e7e 10px, #5c5c5c 10px, #5c5c5c 20px);\n",
              "    }\n",
              "    .progress-bar-interrupted, .progress-bar-interrupted::-webkit-progress-bar {\n",
              "        background: #F44336;\n",
              "    }\n",
              "</style>\n"
            ]
          },
          "metadata": {}
        },
        {
          "output_type": "display_data",
          "data": {
            "text/plain": [
              "<IPython.core.display.HTML object>"
            ],
            "text/html": []
          },
          "metadata": {}
        },
        {
          "output_type": "stream",
          "name": "stdout",
          "text": [
            "\n",
            "\n",
            "begin training using onecycle policy with max lr of 8e-05...\n",
            "Epoch 1/5\n",
            "4/4 [==============================] - 30s 5s/step - loss: 2.4675 - accuracy: 0.0400 - val_loss: 2.3715 - val_accuracy: 0.1020\n",
            "Epoch 2/5\n",
            "4/4 [==============================] - 11s 4s/step - loss: 2.3698 - accuracy: 0.0800 - val_loss: 2.2969 - val_accuracy: 0.0865\n",
            "Epoch 3/5\n",
            "4/4 [==============================] - 11s 4s/step - loss: 2.2167 - accuracy: 0.2000 - val_loss: 2.2297 - val_accuracy: 0.1860\n",
            "Epoch 4/5\n",
            "4/4 [==============================] - 11s 4s/step - loss: 2.0319 - accuracy: 0.3200 - val_loss: 2.2082 - val_accuracy: 0.1930\n",
            "Epoch 5/5\n",
            "4/4 [==============================] - 11s 4s/step - loss: 1.9101 - accuracy: 0.4200 - val_loss: 2.1772 - val_accuracy: 0.2415\n",
            "getting bootstrapped classifier\n",
            "['Business & Money', \"Children's Books\", 'Christian Books & Bibles', 'Cookbooks, Food & Wine', 'Crafts, Hobbies & Home', 'Health, Fitness & Dieting', 'Medical Books', 'Science & Math', 'Teen & Young Adult', 'Travel']\n",
            "label dist after bootstrap: Counter({'Travel': 10, 'Medical Books': 7, \"Children's Books\": 7, 'Christian Books & Bibles': 6, 'Crafts, Hobbies & Home': 5, 'Business & Money': 5, 'Health, Fitness & Dieting': 3, 'Science & Math': 3, 'Teen & Young Adult': 2, 'Cookbooks, Food & Wine': 2})\n",
            "--------------------BOOTSTRAP DONE--------------------\n",
            "250 50\n",
            "AL ROUND:  1  (RUN2) (AL STEP)\n",
            "metric cluster :  0\n",
            "Counter({'Travel': 77, 'Crafts, Hobbies & Home': 18, 'Science & Math': 17, \"Children's Books\": 13, 'Health, Fitness & Dieting': 4, 'Business & Money': 4, 'Teen & Young Adult': 3, 'Cookbooks, Food & Wine': 3, 'Christian Books & Bibles': 3, 'Medical Books': 2}) Counter({'Travel': 100, 'Medical Books': 28, \"Children's Books\": 14, 'Science & Math': 2})\n",
            "[('accuracy', 45.14), ('precision', 7.99), ('recall', 14.59), ('f1-macro', 9.15)]\n"
          ]
        },
        {
          "output_type": "stream",
          "name": "stderr",
          "text": [
            "/usr/local/lib/python3.7/dist-packages/sklearn/metrics/_classification.py:1318: UndefinedMetricWarning: Precision is ill-defined and being set to 0.0 in labels with no predicted samples. Use `zero_division` parameter to control this behavior.\n",
            "  _warn_prf(average, modifier, msg_start, len(result))\n"
          ]
        },
        {
          "output_type": "stream",
          "name": "stdout",
          "text": [
            "metric cluster :  5\n",
            "Counter({'Business & Money': 143, 'Medical Books': 9, 'Christian Books & Bibles': 6, 'Science & Math': 5, 'Teen & Young Adult': 4, \"Children's Books\": 4, 'Travel': 3, 'Crafts, Hobbies & Home': 2, 'Health, Fitness & Dieting': 1, 'Cookbooks, Food & Wine': 1}) Counter({'Medical Books': 89, 'Travel': 69, \"Children's Books\": 18, 'Science & Math': 2})\n",
            "[('accuracy', 3.93), ('precision', 1.29), ('recall', 13.61), ('f1-macro', 2.28)]\n"
          ]
        },
        {
          "output_type": "stream",
          "name": "stderr",
          "text": [
            "/usr/local/lib/python3.7/dist-packages/sklearn/metrics/_classification.py:1318: UndefinedMetricWarning: Precision is ill-defined and being set to 0.0 in labels with no predicted samples. Use `zero_division` parameter to control this behavior.\n",
            "  _warn_prf(average, modifier, msg_start, len(result))\n"
          ]
        },
        {
          "output_type": "stream",
          "name": "stdout",
          "text": [
            "metric cluster :  1\n",
            "Counter({\"Children's Books\": 158, 'Teen & Young Adult': 65, 'Travel': 42, 'Christian Books & Bibles': 34, 'Crafts, Hobbies & Home': 24, 'Health, Fitness & Dieting': 23, 'Science & Math': 22, 'Medical Books': 10, 'Business & Money': 6, 'Cookbooks, Food & Wine': 5}) Counter({'Travel': 253, 'Medical Books': 73, \"Children's Books\": 58, 'Science & Math': 2, 'Teen & Young Adult': 2, 'Christian Books & Bibles': 1})\n",
            "[('accuracy', 15.68), ('precision', 10.98), ('recall', 15.93), ('f1-macro', 6.12)]\n"
          ]
        },
        {
          "output_type": "stream",
          "name": "stderr",
          "text": [
            "/usr/local/lib/python3.7/dist-packages/sklearn/metrics/_classification.py:1318: UndefinedMetricWarning: Precision is ill-defined and being set to 0.0 in labels with no predicted samples. Use `zero_division` parameter to control this behavior.\n",
            "  _warn_prf(average, modifier, msg_start, len(result))\n"
          ]
        },
        {
          "output_type": "stream",
          "name": "stdout",
          "text": [
            "metric cluster :  6\n",
            "Counter({'Crafts, Hobbies & Home': 88, \"Children's Books\": 19, 'Travel': 9, 'Health, Fitness & Dieting': 8, 'Cookbooks, Food & Wine': 6, 'Business & Money': 4, 'Science & Math': 4, 'Teen & Young Adult': 4, 'Christian Books & Bibles': 4}) Counter({'Travel': 87, 'Medical Books': 40, \"Children's Books\": 16, 'Science & Math': 3})\n",
            "[('accuracy', 7.53), ('precision', 3.3), ('recall', 9.88), ('f1-macro', 3.74)]\n"
          ]
        },
        {
          "output_type": "stream",
          "name": "stderr",
          "text": [
            "/usr/local/lib/python3.7/dist-packages/sklearn/metrics/_classification.py:1318: UndefinedMetricWarning: Recall is ill-defined and being set to 0.0 in labels with no true samples. Use `zero_division` parameter to control this behavior.\n",
            "  _warn_prf(average, modifier, msg_start, len(result))\n",
            "/usr/local/lib/python3.7/dist-packages/sklearn/metrics/_classification.py:1318: UndefinedMetricWarning: Precision is ill-defined and being set to 0.0 in labels with no predicted samples. Use `zero_division` parameter to control this behavior.\n",
            "  _warn_prf(average, modifier, msg_start, len(result))\n"
          ]
        },
        {
          "output_type": "stream",
          "name": "stdout",
          "text": [
            "metric cluster :  7\n",
            "Counter({'Health, Fitness & Dieting': 78, 'Medical Books': 49, 'Teen & Young Adult': 20, 'Christian Books & Bibles': 13, 'Science & Math': 13, 'Business & Money': 10, \"Children's Books\": 7, 'Crafts, Hobbies & Home': 3, 'Cookbooks, Food & Wine': 1}) Counter({'Medical Books': 97, 'Travel': 69, \"Children's Books\": 24, 'Health, Fitness & Dieting': 2, 'Science & Math': 2})\n",
            "[('accuracy', 20.1), ('precision', 8.92), ('recall', 7.88), ('f1-macro', 5.46)]\n"
          ]
        },
        {
          "output_type": "stream",
          "name": "stderr",
          "text": [
            "/usr/local/lib/python3.7/dist-packages/sklearn/metrics/_classification.py:1318: UndefinedMetricWarning: Recall is ill-defined and being set to 0.0 in labels with no true samples. Use `zero_division` parameter to control this behavior.\n",
            "  _warn_prf(average, modifier, msg_start, len(result))\n",
            "/usr/local/lib/python3.7/dist-packages/sklearn/metrics/_classification.py:1318: UndefinedMetricWarning: Precision is ill-defined and being set to 0.0 in labels with no predicted samples. Use `zero_division` parameter to control this behavior.\n",
            "  _warn_prf(average, modifier, msg_start, len(result))\n"
          ]
        },
        {
          "output_type": "stream",
          "name": "stdout",
          "text": [
            "metric cluster :  4\n",
            "Counter({'Medical Books': 149, 'Health, Fitness & Dieting': 58, 'Crafts, Hobbies & Home': 4, 'Cookbooks, Food & Wine': 2, 'Teen & Young Adult': 2, 'Christian Books & Bibles': 2, 'Science & Math': 2, 'Business & Money': 2, 'Travel': 1}) Counter({'Medical Books': 137, 'Travel': 70, 'Science & Math': 9, \"Children's Books\": 4, 'Health, Fitness & Dieting': 1, 'Teen & Young Adult': 1})\n",
            "[('accuracy', 44.59), ('precision', 8.33), ('recall', 21.51), ('f1-macro', 8.88)]\n"
          ]
        },
        {
          "output_type": "stream",
          "name": "stderr",
          "text": [
            "/usr/local/lib/python3.7/dist-packages/sklearn/metrics/_classification.py:1318: UndefinedMetricWarning: Recall is ill-defined and being set to 0.0 in labels with no true samples. Use `zero_division` parameter to control this behavior.\n",
            "  _warn_prf(average, modifier, msg_start, len(result))\n",
            "/usr/local/lib/python3.7/dist-packages/sklearn/metrics/_classification.py:1318: UndefinedMetricWarning: Precision is ill-defined and being set to 0.0 in labels with no predicted samples. Use `zero_division` parameter to control this behavior.\n",
            "  _warn_prf(average, modifier, msg_start, len(result))\n"
          ]
        },
        {
          "output_type": "stream",
          "name": "stdout",
          "text": [
            "metric cluster :  9\n",
            "Counter({'Cookbooks, Food & Wine': 113, 'Health, Fitness & Dieting': 30, 'Crafts, Hobbies & Home': 7, \"Children's Books\": 4, 'Medical Books': 3, 'Science & Math': 2, 'Teen & Young Adult': 2, 'Travel': 2}) Counter({'Travel': 125, 'Medical Books': 24, \"Children's Books\": 13, 'Science & Math': 1})\n",
            "[('accuracy', 2.45), ('precision', 1.68), ('recall', 19.79), ('f1-macro', 2.79)]\n"
          ]
        },
        {
          "output_type": "stream",
          "name": "stderr",
          "text": [
            "/usr/local/lib/python3.7/dist-packages/sklearn/metrics/_classification.py:1318: UndefinedMetricWarning: Precision is ill-defined and being set to 0.0 in labels with no predicted samples. Use `zero_division` parameter to control this behavior.\n",
            "  _warn_prf(average, modifier, msg_start, len(result))\n"
          ]
        },
        {
          "output_type": "stream",
          "name": "stdout",
          "text": [
            "metric cluster :  3\n",
            "Counter({'Travel': 175, \"Children's Books\": 12, 'Crafts, Hobbies & Home': 11, 'Teen & Young Adult': 8, 'Science & Math': 5, 'Christian Books & Bibles': 2, 'Business & Money': 2, 'Cookbooks, Food & Wine': 2, 'Health, Fitness & Dieting': 1}) Counter({'Travel': 196, 'Medical Books': 13, \"Children's Books\": 5, 'Science & Math': 4})\n",
            "[('accuracy', 77.52), ('precision', 12.52), ('recall', 11.21), ('f1-macro', 11.36)]\n"
          ]
        },
        {
          "output_type": "stream",
          "name": "stderr",
          "text": [
            "/usr/local/lib/python3.7/dist-packages/sklearn/metrics/_classification.py:1318: UndefinedMetricWarning: Recall is ill-defined and being set to 0.0 in labels with no true samples. Use `zero_division` parameter to control this behavior.\n",
            "  _warn_prf(average, modifier, msg_start, len(result))\n",
            "/usr/local/lib/python3.7/dist-packages/sklearn/metrics/_classification.py:1318: UndefinedMetricWarning: Precision is ill-defined and being set to 0.0 in labels with no predicted samples. Use `zero_division` parameter to control this behavior.\n",
            "  _warn_prf(average, modifier, msg_start, len(result))\n"
          ]
        },
        {
          "output_type": "stream",
          "name": "stdout",
          "text": [
            "metric cluster :  8\n",
            "Counter({'Science & Math': 100, 'Crafts, Hobbies & Home': 28, \"Children's Books\": 24, 'Teen & Young Adult': 12, 'Business & Money': 12, 'Medical Books': 8, 'Health, Fitness & Dieting': 6, 'Travel': 4, 'Christian Books & Bibles': 1}) Counter({'Medical Books': 106, 'Travel': 71, \"Children's Books\": 9, 'Science & Math': 9})\n",
            "[('accuracy', 10.26), ('precision', 14.68), ('recall', 19.3), ('f1-macro', 6.18)]\n"
          ]
        },
        {
          "output_type": "stream",
          "name": "stderr",
          "text": [
            "/usr/local/lib/python3.7/dist-packages/sklearn/metrics/_classification.py:1318: UndefinedMetricWarning: Precision is ill-defined and being set to 0.0 in labels with no predicted samples. Use `zero_division` parameter to control this behavior.\n",
            "  _warn_prf(average, modifier, msg_start, len(result))\n"
          ]
        },
        {
          "output_type": "stream",
          "name": "stdout",
          "text": [
            "metric cluster :  2\n",
            "Counter({'Christian Books & Bibles': 111, 'Teen & Young Adult': 8, \"Children's Books\": 6, 'Travel': 6, 'Health, Fitness & Dieting': 6, 'Science & Math': 5, 'Crafts, Hobbies & Home': 4, 'Business & Money': 2, 'Medical Books': 2, 'Cookbooks, Food & Wine': 1}) Counter({'Medical Books': 93, 'Travel': 38, \"Children's Books\": 13, 'Christian Books & Bibles': 5, 'Science & Math': 2})\n",
            "[('accuracy', 5.3), ('precision', 10.48), ('recall', 12.12), ('f1-macro', 1.74)]\n",
            "AL distribution: {0: 4, 5: 6, 1: 5, 6: 6, 7: 5, 4: 4, 9: 6, 3: 1, 8: 6, 2: 6}\n",
            "AL leftover: 1\n"
          ]
        },
        {
          "output_type": "stream",
          "name": "stderr",
          "text": [
            "/usr/local/lib/python3.7/dist-packages/sklearn/metrics/_classification.py:1318: UndefinedMetricWarning: Precision is ill-defined and being set to 0.0 in labels with no predicted samples. Use `zero_division` parameter to control this behavior.\n",
            "  _warn_prf(average, modifier, msg_start, len(result))\n"
          ]
        },
        {
          "output_type": "stream",
          "name": "stdout",
          "text": [
            "label dist after AL step: Counter({'Crafts, Hobbies & Home': 14, 'Travel': 14, 'Medical Books': 12, \"Children's Books\": 12, 'Health, Fitness & Dieting': 9, 'Christian Books & Bibles': 9, 'Science & Math': 9, 'Business & Money': 8, 'Cookbooks, Food & Wine': 7, 'Teen & Young Adult': 6})\n",
            "current data size: 100 100\n",
            "preprocessing train...\n",
            "language: en\n",
            "train sequence lengths:\n",
            "\tmean : 9\n",
            "\t95percentile : 16\n",
            "\t99percentile : 18\n"
          ]
        },
        {
          "output_type": "stream",
          "name": "stderr",
          "text": [
            "/usr/local/lib/python3.7/dist-packages/ktrain/utils.py:738: UserWarning: class_names argument was ignored, as they were extracted from string labels in dataset\n",
            "  \"class_names argument was ignored, as they were extracted from string labels in dataset\"\n"
          ]
        },
        {
          "output_type": "display_data",
          "data": {
            "text/plain": [
              "<IPython.core.display.HTML object>"
            ],
            "text/html": [
              "\n",
              "<style>\n",
              "    /* Turns off some styling */\n",
              "    progress {\n",
              "        /* gets rid of default border in Firefox and Opera. */\n",
              "        border: none;\n",
              "        /* Needs to be in here for Safari polyfill so background images work as expected. */\n",
              "        background-size: auto;\n",
              "    }\n",
              "    progress:not([value]), progress:not([value])::-webkit-progress-bar {\n",
              "        background: repeating-linear-gradient(45deg, #7e7e7e, #7e7e7e 10px, #5c5c5c 10px, #5c5c5c 20px);\n",
              "    }\n",
              "    .progress-bar-interrupted, .progress-bar-interrupted::-webkit-progress-bar {\n",
              "        background: #F44336;\n",
              "    }\n",
              "</style>\n"
            ]
          },
          "metadata": {}
        },
        {
          "output_type": "display_data",
          "data": {
            "text/plain": [
              "<IPython.core.display.HTML object>"
            ],
            "text/html": []
          },
          "metadata": {}
        },
        {
          "output_type": "stream",
          "name": "stdout",
          "text": [
            "Is Multi-Label? False\n",
            "preprocessing test...\n",
            "language: en\n",
            "test sequence lengths:\n",
            "\tmean : 9\n",
            "\t95percentile : 19\n",
            "\t99percentile : 25\n"
          ]
        },
        {
          "output_type": "display_data",
          "data": {
            "text/plain": [
              "<IPython.core.display.HTML object>"
            ],
            "text/html": [
              "\n",
              "<style>\n",
              "    /* Turns off some styling */\n",
              "    progress {\n",
              "        /* gets rid of default border in Firefox and Opera. */\n",
              "        border: none;\n",
              "        /* Needs to be in here for Safari polyfill so background images work as expected. */\n",
              "        background-size: auto;\n",
              "    }\n",
              "    progress:not([value]), progress:not([value])::-webkit-progress-bar {\n",
              "        background: repeating-linear-gradient(45deg, #7e7e7e, #7e7e7e 10px, #5c5c5c 10px, #5c5c5c 20px);\n",
              "    }\n",
              "    .progress-bar-interrupted, .progress-bar-interrupted::-webkit-progress-bar {\n",
              "        background: #F44336;\n",
              "    }\n",
              "</style>\n"
            ]
          },
          "metadata": {}
        },
        {
          "output_type": "display_data",
          "data": {
            "text/plain": [
              "<IPython.core.display.HTML object>"
            ],
            "text/html": []
          },
          "metadata": {}
        },
        {
          "output_type": "stream",
          "name": "stdout",
          "text": [
            "\n",
            "\n",
            "begin training using onecycle policy with max lr of 8e-05...\n",
            "Epoch 1/5\n",
            "7/7 [==============================] - 29s 2s/step - loss: 2.3595 - accuracy: 0.1200 - val_loss: 2.3035 - val_accuracy: 0.1580\n",
            "Epoch 2/5\n",
            "7/7 [==============================] - 12s 2s/step - loss: 2.2670 - accuracy: 0.1500 - val_loss: 2.2453 - val_accuracy: 0.1845\n",
            "Epoch 3/5\n",
            "7/7 [==============================] - 12s 2s/step - loss: 2.1924 - accuracy: 0.2500 - val_loss: 2.2027 - val_accuracy: 0.2370\n",
            "Epoch 4/5\n",
            "7/7 [==============================] - 12s 2s/step - loss: 1.9604 - accuracy: 0.3800 - val_loss: 2.1060 - val_accuracy: 0.2685\n",
            "Epoch 5/5\n",
            "7/7 [==============================] - 12s 2s/step - loss: 1.7352 - accuracy: 0.5600 - val_loss: 2.0842 - val_accuracy: 0.2600\n",
            "updating classifier\n",
            "['Business & Money', \"Children's Books\", 'Christian Books & Bibles', 'Cookbooks, Food & Wine', 'Crafts, Hobbies & Home', 'Health, Fitness & Dieting', 'Medical Books', 'Science & Math', 'Teen & Young Adult', 'Travel']\n",
            "-----------------ROUND 1DONE--------------\n",
            "200 50\n",
            "AL ROUND:  2  (RUN2) (AL STEP)\n",
            "metric cluster :  0\n",
            "Counter({'Travel': 77, 'Crafts, Hobbies & Home': 18, 'Science & Math': 17, \"Children's Books\": 13, 'Health, Fitness & Dieting': 4, 'Business & Money': 4, 'Teen & Young Adult': 3, 'Cookbooks, Food & Wine': 3, 'Christian Books & Bibles': 3, 'Medical Books': 2}) Counter({'Travel': 116, 'Medical Books': 11, 'Science & Math': 9, 'Crafts, Hobbies & Home': 6, 'Health, Fitness & Dieting': 1, \"Children's Books\": 1})\n",
            "[('accuracy', 52.08), ('precision', 21.03), ('recall', 12.18), ('f1-macro', 11.82)]\n"
          ]
        },
        {
          "output_type": "stream",
          "name": "stderr",
          "text": [
            "/usr/local/lib/python3.7/dist-packages/sklearn/metrics/_classification.py:1318: UndefinedMetricWarning: Precision is ill-defined and being set to 0.0 in labels with no predicted samples. Use `zero_division` parameter to control this behavior.\n",
            "  _warn_prf(average, modifier, msg_start, len(result))\n"
          ]
        },
        {
          "output_type": "stream",
          "name": "stdout",
          "text": [
            "metric cluster :  5\n",
            "Counter({'Business & Money': 143, 'Medical Books': 9, 'Christian Books & Bibles': 6, 'Science & Math': 5, 'Teen & Young Adult': 4, \"Children's Books\": 4, 'Travel': 3, 'Crafts, Hobbies & Home': 2, 'Health, Fitness & Dieting': 1, 'Cookbooks, Food & Wine': 1}) Counter({'Medical Books': 59, 'Travel': 59, 'Crafts, Hobbies & Home': 25, 'Science & Math': 19, 'Business & Money': 7, \"Children's Books\": 5, 'Health, Fitness & Dieting': 2, 'Christian Books & Bibles': 2})\n",
            "[('accuracy', 7.3), ('precision', 15.52), ('recall', 16.52), ('f1-macro', 7.75)]\n"
          ]
        },
        {
          "output_type": "stream",
          "name": "stderr",
          "text": [
            "/usr/local/lib/python3.7/dist-packages/sklearn/metrics/_classification.py:1318: UndefinedMetricWarning: Precision is ill-defined and being set to 0.0 in labels with no predicted samples. Use `zero_division` parameter to control this behavior.\n",
            "  _warn_prf(average, modifier, msg_start, len(result))\n"
          ]
        },
        {
          "output_type": "stream",
          "name": "stdout",
          "text": [
            "metric cluster :  1\n",
            "Counter({\"Children's Books\": 158, 'Teen & Young Adult': 65, 'Travel': 42, 'Christian Books & Bibles': 34, 'Crafts, Hobbies & Home': 24, 'Health, Fitness & Dieting': 23, 'Science & Math': 22, 'Medical Books': 10, 'Business & Money': 6, 'Cookbooks, Food & Wine': 5}) Counter({'Travel': 248, 'Crafts, Hobbies & Home': 50, 'Medical Books': 30, \"Children's Books\": 28, 'Science & Math': 23, 'Christian Books & Bibles': 8, 'Health, Fitness & Dieting': 2})\n",
            "[('accuracy', 13.62), ('precision', 13.15), ('recall', 13.96), ('f1-macro', 7.81)]\n"
          ]
        },
        {
          "output_type": "stream",
          "name": "stderr",
          "text": [
            "/usr/local/lib/python3.7/dist-packages/sklearn/metrics/_classification.py:1318: UndefinedMetricWarning: Precision is ill-defined and being set to 0.0 in labels with no predicted samples. Use `zero_division` parameter to control this behavior.\n",
            "  _warn_prf(average, modifier, msg_start, len(result))\n"
          ]
        },
        {
          "output_type": "stream",
          "name": "stdout",
          "text": [
            "metric cluster :  6\n",
            "Counter({'Crafts, Hobbies & Home': 88, \"Children's Books\": 19, 'Travel': 9, 'Health, Fitness & Dieting': 8, 'Cookbooks, Food & Wine': 6, 'Business & Money': 4, 'Science & Math': 4, 'Teen & Young Adult': 4, 'Christian Books & Bibles': 4}) Counter({'Travel': 74, 'Medical Books': 37, 'Crafts, Hobbies & Home': 25, \"Children's Books\": 4, 'Science & Math': 4, 'Christian Books & Bibles': 2})\n",
            "[('accuracy', 18.49), ('precision', 12.88), ('recall', 11.87), ('f1-macro', 6.68)]\n"
          ]
        },
        {
          "output_type": "stream",
          "name": "stderr",
          "text": [
            "/usr/local/lib/python3.7/dist-packages/sklearn/metrics/_classification.py:1318: UndefinedMetricWarning: Recall is ill-defined and being set to 0.0 in labels with no true samples. Use `zero_division` parameter to control this behavior.\n",
            "  _warn_prf(average, modifier, msg_start, len(result))\n",
            "/usr/local/lib/python3.7/dist-packages/sklearn/metrics/_classification.py:1318: UndefinedMetricWarning: Precision is ill-defined and being set to 0.0 in labels with no predicted samples. Use `zero_division` parameter to control this behavior.\n",
            "  _warn_prf(average, modifier, msg_start, len(result))\n"
          ]
        },
        {
          "output_type": "stream",
          "name": "stdout",
          "text": [
            "metric cluster :  7\n",
            "Counter({'Health, Fitness & Dieting': 78, 'Medical Books': 49, 'Teen & Young Adult': 20, 'Christian Books & Bibles': 13, 'Science & Math': 13, 'Business & Money': 10, \"Children's Books\": 7, 'Crafts, Hobbies & Home': 3, 'Cookbooks, Food & Wine': 1}) Counter({'Medical Books': 62, 'Travel': 58, 'Crafts, Hobbies & Home': 40, 'Health, Fitness & Dieting': 13, 'Science & Math': 7, 'Business & Money': 7, \"Children's Books\": 4, 'Christian Books & Bibles': 3})\n",
            "[('accuracy', 17.53), ('precision', 14.84), ('recall', 8.18), ('f1-macro', 9.07)]\n"
          ]
        },
        {
          "output_type": "stream",
          "name": "stderr",
          "text": [
            "/usr/local/lib/python3.7/dist-packages/sklearn/metrics/_classification.py:1318: UndefinedMetricWarning: Recall is ill-defined and being set to 0.0 in labels with no true samples. Use `zero_division` parameter to control this behavior.\n",
            "  _warn_prf(average, modifier, msg_start, len(result))\n",
            "/usr/local/lib/python3.7/dist-packages/sklearn/metrics/_classification.py:1318: UndefinedMetricWarning: Precision is ill-defined and being set to 0.0 in labels with no predicted samples. Use `zero_division` parameter to control this behavior.\n",
            "  _warn_prf(average, modifier, msg_start, len(result))\n"
          ]
        },
        {
          "output_type": "stream",
          "name": "stdout",
          "text": [
            "metric cluster :  4\n",
            "Counter({'Medical Books': 149, 'Health, Fitness & Dieting': 58, 'Crafts, Hobbies & Home': 4, 'Cookbooks, Food & Wine': 2, 'Teen & Young Adult': 2, 'Christian Books & Bibles': 2, 'Science & Math': 2, 'Business & Money': 2, 'Travel': 1}) Counter({'Medical Books': 111, 'Travel': 78, 'Science & Math': 15, 'Crafts, Hobbies & Home': 10, 'Health, Fitness & Dieting': 5, 'Business & Money': 2, \"Children's Books\": 1})\n",
            "[('accuracy', 40.54), ('precision', 18.52), ('recall', 23.69), ('f1-macro', 12.12)]\n"
          ]
        },
        {
          "output_type": "stream",
          "name": "stderr",
          "text": [
            "/usr/local/lib/python3.7/dist-packages/sklearn/metrics/_classification.py:1318: UndefinedMetricWarning: Recall is ill-defined and being set to 0.0 in labels with no true samples. Use `zero_division` parameter to control this behavior.\n",
            "  _warn_prf(average, modifier, msg_start, len(result))\n",
            "/usr/local/lib/python3.7/dist-packages/sklearn/metrics/_classification.py:1318: UndefinedMetricWarning: Precision is ill-defined and being set to 0.0 in labels with no predicted samples. Use `zero_division` parameter to control this behavior.\n",
            "  _warn_prf(average, modifier, msg_start, len(result))\n"
          ]
        },
        {
          "output_type": "stream",
          "name": "stdout",
          "text": [
            "metric cluster :  9\n",
            "Counter({'Cookbooks, Food & Wine': 113, 'Health, Fitness & Dieting': 30, 'Crafts, Hobbies & Home': 7, \"Children's Books\": 4, 'Medical Books': 3, 'Science & Math': 2, 'Teen & Young Adult': 2, 'Travel': 2}) Counter({'Travel': 58, 'Medical Books': 38, 'Science & Math': 30, 'Crafts, Hobbies & Home': 29, 'Business & Money': 4, \"Children's Books\": 3, 'Cookbooks, Food & Wine': 1})\n",
            "[('accuracy', 2.45), ('precision', 12.07), ('recall', 8.83), ('f1-macro', 1.8)]\n"
          ]
        },
        {
          "output_type": "stream",
          "name": "stderr",
          "text": [
            "/usr/local/lib/python3.7/dist-packages/sklearn/metrics/_classification.py:1318: UndefinedMetricWarning: Recall is ill-defined and being set to 0.0 in labels with no true samples. Use `zero_division` parameter to control this behavior.\n",
            "  _warn_prf(average, modifier, msg_start, len(result))\n",
            "/usr/local/lib/python3.7/dist-packages/sklearn/metrics/_classification.py:1318: UndefinedMetricWarning: Precision is ill-defined and being set to 0.0 in labels with no predicted samples. Use `zero_division` parameter to control this behavior.\n",
            "  _warn_prf(average, modifier, msg_start, len(result))\n"
          ]
        },
        {
          "output_type": "stream",
          "name": "stdout",
          "text": [
            "metric cluster :  3\n",
            "Counter({'Travel': 175, \"Children's Books\": 12, 'Crafts, Hobbies & Home': 11, 'Teen & Young Adult': 8, 'Science & Math': 5, 'Christian Books & Bibles': 2, 'Business & Money': 2, 'Cookbooks, Food & Wine': 2, 'Health, Fitness & Dieting': 1}) Counter({'Travel': 203, 'Science & Math': 7, 'Crafts, Hobbies & Home': 4, 'Medical Books': 3, \"Children's Books\": 1})\n",
            "[('accuracy', 76.61), ('precision', 13.13), ('recall', 11.25), ('f1-macro', 11.4)]\n"
          ]
        },
        {
          "output_type": "stream",
          "name": "stderr",
          "text": [
            "/usr/local/lib/python3.7/dist-packages/sklearn/metrics/_classification.py:1318: UndefinedMetricWarning: Recall is ill-defined and being set to 0.0 in labels with no true samples. Use `zero_division` parameter to control this behavior.\n",
            "  _warn_prf(average, modifier, msg_start, len(result))\n",
            "/usr/local/lib/python3.7/dist-packages/sklearn/metrics/_classification.py:1318: UndefinedMetricWarning: Precision is ill-defined and being set to 0.0 in labels with no predicted samples. Use `zero_division` parameter to control this behavior.\n",
            "  _warn_prf(average, modifier, msg_start, len(result))\n"
          ]
        },
        {
          "output_type": "stream",
          "name": "stdout",
          "text": [
            "metric cluster :  8\n",
            "Counter({'Science & Math': 100, 'Crafts, Hobbies & Home': 28, \"Children's Books\": 24, 'Teen & Young Adult': 12, 'Business & Money': 12, 'Medical Books': 8, 'Health, Fitness & Dieting': 6, 'Travel': 4, 'Christian Books & Bibles': 1}) Counter({'Travel': 102, 'Medical Books': 49, 'Science & Math': 34, 'Crafts, Hobbies & Home': 7, \"Children's Books\": 3})\n",
            "[('accuracy', 17.95), ('precision', 14.17), ('recall', 17.86), ('f1-macro', 8.24)]\n"
          ]
        },
        {
          "output_type": "stream",
          "name": "stderr",
          "text": [
            "/usr/local/lib/python3.7/dist-packages/sklearn/metrics/_classification.py:1318: UndefinedMetricWarning: Precision is ill-defined and being set to 0.0 in labels with no predicted samples. Use `zero_division` parameter to control this behavior.\n",
            "  _warn_prf(average, modifier, msg_start, len(result))\n"
          ]
        },
        {
          "output_type": "stream",
          "name": "stdout",
          "text": [
            "metric cluster :  2\n",
            "Counter({'Christian Books & Bibles': 111, 'Teen & Young Adult': 8, \"Children's Books\": 6, 'Travel': 6, 'Health, Fitness & Dieting': 6, 'Science & Math': 5, 'Crafts, Hobbies & Home': 4, 'Business & Money': 2, 'Medical Books': 2, 'Cookbooks, Food & Wine': 1}) Counter({'Travel': 72, 'Crafts, Hobbies & Home': 28, 'Medical Books': 21, 'Christian Books & Bibles': 15, \"Children's Books\": 6, 'Science & Math': 5, 'Health, Fitness & Dieting': 4})\n",
            "[('accuracy', 14.57), ('precision', 13.86), ('recall', 20.67), ('f1-macro', 8.51)]\n",
            "AL distribution: {0: 3, 5: 6, 1: 6, 6: 6, 7: 6, 4: 4, 9: 7, 3: 2, 8: 6, 2: 4}\n",
            "AL leftover: 0\n"
          ]
        },
        {
          "output_type": "stream",
          "name": "stderr",
          "text": [
            "/usr/local/lib/python3.7/dist-packages/sklearn/metrics/_classification.py:1318: UndefinedMetricWarning: Precision is ill-defined and being set to 0.0 in labels with no predicted samples. Use `zero_division` parameter to control this behavior.\n",
            "  _warn_prf(average, modifier, msg_start, len(result))\n"
          ]
        },
        {
          "output_type": "stream",
          "name": "stdout",
          "text": [
            "label dist after AL step: Counter({'Crafts, Hobbies & Home': 20, 'Travel': 19, 'Science & Math': 17, \"Children's Books\": 16, 'Health, Fitness & Dieting': 15, 'Medical Books': 14, 'Christian Books & Bibles': 14, 'Cookbooks, Food & Wine': 14, 'Business & Money': 12, 'Teen & Young Adult': 9})\n",
            "current data size: 150 150\n",
            "preprocessing train...\n",
            "language: en\n",
            "train sequence lengths:\n",
            "\tmean : 10\n",
            "\t95percentile : 17\n",
            "\t99percentile : 21\n"
          ]
        },
        {
          "output_type": "stream",
          "name": "stderr",
          "text": [
            "/usr/local/lib/python3.7/dist-packages/ktrain/utils.py:738: UserWarning: class_names argument was ignored, as they were extracted from string labels in dataset\n",
            "  \"class_names argument was ignored, as they were extracted from string labels in dataset\"\n"
          ]
        },
        {
          "output_type": "display_data",
          "data": {
            "text/plain": [
              "<IPython.core.display.HTML object>"
            ],
            "text/html": [
              "\n",
              "<style>\n",
              "    /* Turns off some styling */\n",
              "    progress {\n",
              "        /* gets rid of default border in Firefox and Opera. */\n",
              "        border: none;\n",
              "        /* Needs to be in here for Safari polyfill so background images work as expected. */\n",
              "        background-size: auto;\n",
              "    }\n",
              "    progress:not([value]), progress:not([value])::-webkit-progress-bar {\n",
              "        background: repeating-linear-gradient(45deg, #7e7e7e, #7e7e7e 10px, #5c5c5c 10px, #5c5c5c 20px);\n",
              "    }\n",
              "    .progress-bar-interrupted, .progress-bar-interrupted::-webkit-progress-bar {\n",
              "        background: #F44336;\n",
              "    }\n",
              "</style>\n"
            ]
          },
          "metadata": {}
        },
        {
          "output_type": "display_data",
          "data": {
            "text/plain": [
              "<IPython.core.display.HTML object>"
            ],
            "text/html": []
          },
          "metadata": {}
        },
        {
          "output_type": "stream",
          "name": "stdout",
          "text": [
            "Is Multi-Label? False\n",
            "preprocessing test...\n",
            "language: en\n",
            "test sequence lengths:\n",
            "\tmean : 9\n",
            "\t95percentile : 19\n",
            "\t99percentile : 25\n"
          ]
        },
        {
          "output_type": "display_data",
          "data": {
            "text/plain": [
              "<IPython.core.display.HTML object>"
            ],
            "text/html": [
              "\n",
              "<style>\n",
              "    /* Turns off some styling */\n",
              "    progress {\n",
              "        /* gets rid of default border in Firefox and Opera. */\n",
              "        border: none;\n",
              "        /* Needs to be in here for Safari polyfill so background images work as expected. */\n",
              "        background-size: auto;\n",
              "    }\n",
              "    progress:not([value]), progress:not([value])::-webkit-progress-bar {\n",
              "        background: repeating-linear-gradient(45deg, #7e7e7e, #7e7e7e 10px, #5c5c5c 10px, #5c5c5c 20px);\n",
              "    }\n",
              "    .progress-bar-interrupted, .progress-bar-interrupted::-webkit-progress-bar {\n",
              "        background: #F44336;\n",
              "    }\n",
              "</style>\n"
            ]
          },
          "metadata": {}
        },
        {
          "output_type": "display_data",
          "data": {
            "text/plain": [
              "<IPython.core.display.HTML object>"
            ],
            "text/html": []
          },
          "metadata": {}
        },
        {
          "output_type": "stream",
          "name": "stdout",
          "text": [
            "\n",
            "\n",
            "begin training using onecycle policy with max lr of 8e-05...\n",
            "Epoch 1/5\n",
            "10/10 [==============================] - 31s 2s/step - loss: 2.3352 - accuracy: 0.0933 - val_loss: 2.2832 - val_accuracy: 0.1685\n",
            "Epoch 2/5\n",
            "10/10 [==============================] - 13s 1s/step - loss: 2.2152 - accuracy: 0.2200 - val_loss: 2.1998 - val_accuracy: 0.2060\n",
            "Epoch 3/5\n",
            "10/10 [==============================] - 13s 1s/step - loss: 1.9554 - accuracy: 0.3867 - val_loss: 2.0176 - val_accuracy: 0.3520\n",
            "Epoch 4/5\n",
            "10/10 [==============================] - 13s 1s/step - loss: 1.5692 - accuracy: 0.7000 - val_loss: 1.8032 - val_accuracy: 0.4650\n",
            "Epoch 5/5\n",
            "10/10 [==============================] - 13s 1s/step - loss: 1.2341 - accuracy: 0.8467 - val_loss: 1.7071 - val_accuracy: 0.4925\n",
            "updating classifier\n",
            "['Business & Money', \"Children's Books\", 'Christian Books & Bibles', 'Cookbooks, Food & Wine', 'Crafts, Hobbies & Home', 'Health, Fitness & Dieting', 'Medical Books', 'Science & Math', 'Teen & Young Adult', 'Travel']\n",
            "-----------------ROUND 2DONE--------------\n",
            "150 50\n",
            "AL ROUND:  3  (RUN2) (AL STEP)\n",
            "metric cluster :  0\n",
            "Counter({'Travel': 77, 'Crafts, Hobbies & Home': 18, 'Science & Math': 17, \"Children's Books\": 13, 'Health, Fitness & Dieting': 4, 'Business & Money': 4, 'Teen & Young Adult': 3, 'Cookbooks, Food & Wine': 3, 'Christian Books & Bibles': 3, 'Medical Books': 2}) Counter({'Travel': 90, 'Science & Math': 21, 'Crafts, Hobbies & Home': 15, \"Children's Books\": 5, 'Christian Books & Bibles': 5, 'Medical Books': 4, 'Cookbooks, Food & Wine': 2, 'Teen & Young Adult': 1, 'Business & Money': 1})\n",
            "[('accuracy', 54.17), ('precision', 41.4), ('recall', 34.57), ('f1-macro', 34.02)]\n"
          ]
        },
        {
          "output_type": "stream",
          "name": "stderr",
          "text": [
            "/usr/local/lib/python3.7/dist-packages/sklearn/metrics/_classification.py:1318: UndefinedMetricWarning: Precision is ill-defined and being set to 0.0 in labels with no predicted samples. Use `zero_division` parameter to control this behavior.\n",
            "  _warn_prf(average, modifier, msg_start, len(result))\n"
          ]
        },
        {
          "output_type": "stream",
          "name": "stdout",
          "text": [
            "metric cluster :  5\n",
            "Counter({'Business & Money': 143, 'Medical Books': 9, 'Christian Books & Bibles': 6, 'Science & Math': 5, 'Teen & Young Adult': 4, \"Children's Books\": 4, 'Travel': 3, 'Crafts, Hobbies & Home': 2, 'Health, Fitness & Dieting': 1, 'Cookbooks, Food & Wine': 1}) Counter({'Business & Money': 103, 'Science & Math': 21, 'Medical Books': 19, 'Christian Books & Bibles': 16, 'Crafts, Hobbies & Home': 6, 'Travel': 4, \"Children's Books\": 3, 'Health, Fitness & Dieting': 3, 'Cookbooks, Food & Wine': 2, 'Teen & Young Adult': 1})\n",
            "[('accuracy', 59.55), ('precision', 19.44), ('recall', 28.13), ('f1-macro', 21.05)]\n",
            "metric cluster :  1\n",
            "Counter({\"Children's Books\": 158, 'Teen & Young Adult': 65, 'Travel': 42, 'Christian Books & Bibles': 34, 'Crafts, Hobbies & Home': 24, 'Health, Fitness & Dieting': 23, 'Science & Math': 22, 'Medical Books': 10, 'Business & Money': 6, 'Cookbooks, Food & Wine': 5}) Counter({'Crafts, Hobbies & Home': 128, \"Children's Books\": 82, 'Science & Math': 57, 'Christian Books & Bibles': 46, 'Travel': 33, 'Teen & Young Adult': 19, 'Cookbooks, Food & Wine': 16, 'Medical Books': 5, 'Health, Fitness & Dieting': 3})\n",
            "[('accuracy', 23.91), ('precision', 16.36), ('recall', 19.82), ('f1-macro', 15.17)]\n"
          ]
        },
        {
          "output_type": "stream",
          "name": "stderr",
          "text": [
            "/usr/local/lib/python3.7/dist-packages/sklearn/metrics/_classification.py:1318: UndefinedMetricWarning: Precision is ill-defined and being set to 0.0 in labels with no predicted samples. Use `zero_division` parameter to control this behavior.\n",
            "  _warn_prf(average, modifier, msg_start, len(result))\n"
          ]
        },
        {
          "output_type": "stream",
          "name": "stdout",
          "text": [
            "metric cluster :  6\n",
            "Counter({'Crafts, Hobbies & Home': 88, \"Children's Books\": 19, 'Travel': 9, 'Health, Fitness & Dieting': 8, 'Cookbooks, Food & Wine': 6, 'Business & Money': 4, 'Science & Math': 4, 'Teen & Young Adult': 4, 'Christian Books & Bibles': 4}) Counter({'Crafts, Hobbies & Home': 69, 'Science & Math': 32, 'Cookbooks, Food & Wine': 16, 'Travel': 11, \"Children's Books\": 7, 'Medical Books': 4, 'Christian Books & Bibles': 3, 'Business & Money': 2, 'Health, Fitness & Dieting': 2})\n",
            "[('accuracy', 42.47), ('precision', 23.33), ('recall', 22.95), ('f1-macro', 19.58)]\n"
          ]
        },
        {
          "output_type": "stream",
          "name": "stderr",
          "text": [
            "/usr/local/lib/python3.7/dist-packages/sklearn/metrics/_classification.py:1318: UndefinedMetricWarning: Recall is ill-defined and being set to 0.0 in labels with no true samples. Use `zero_division` parameter to control this behavior.\n",
            "  _warn_prf(average, modifier, msg_start, len(result))\n",
            "/usr/local/lib/python3.7/dist-packages/sklearn/metrics/_classification.py:1318: UndefinedMetricWarning: Precision is ill-defined and being set to 0.0 in labels with no predicted samples. Use `zero_division` parameter to control this behavior.\n",
            "  _warn_prf(average, modifier, msg_start, len(result))\n"
          ]
        },
        {
          "output_type": "stream",
          "name": "stdout",
          "text": [
            "metric cluster :  7\n",
            "Counter({'Health, Fitness & Dieting': 78, 'Medical Books': 49, 'Teen & Young Adult': 20, 'Christian Books & Bibles': 13, 'Science & Math': 13, 'Business & Money': 10, \"Children's Books\": 7, 'Crafts, Hobbies & Home': 3, 'Cookbooks, Food & Wine': 1}) Counter({'Medical Books': 70, 'Christian Books & Bibles': 41, 'Health, Fitness & Dieting': 31, 'Teen & Young Adult': 12, 'Science & Math': 11, 'Crafts, Hobbies & Home': 10, 'Business & Money': 8, 'Cookbooks, Food & Wine': 5, \"Children's Books\": 3, 'Travel': 3})\n",
            "[('accuracy', 35.05), ('precision', 25.66), ('recall', 24.56), ('f1-macro', 21.4)]\n"
          ]
        },
        {
          "output_type": "stream",
          "name": "stderr",
          "text": [
            "/usr/local/lib/python3.7/dist-packages/sklearn/metrics/_classification.py:1318: UndefinedMetricWarning: Recall is ill-defined and being set to 0.0 in labels with no true samples. Use `zero_division` parameter to control this behavior.\n",
            "  _warn_prf(average, modifier, msg_start, len(result))\n"
          ]
        },
        {
          "output_type": "stream",
          "name": "stdout",
          "text": [
            "metric cluster :  4\n",
            "Counter({'Medical Books': 149, 'Health, Fitness & Dieting': 58, 'Crafts, Hobbies & Home': 4, 'Cookbooks, Food & Wine': 2, 'Teen & Young Adult': 2, 'Christian Books & Bibles': 2, 'Science & Math': 2, 'Business & Money': 2, 'Travel': 1}) Counter({'Medical Books': 154, 'Science & Math': 35, 'Health, Fitness & Dieting': 15, 'Christian Books & Bibles': 5, 'Cookbooks, Food & Wine': 4, 'Business & Money': 3, 'Crafts, Hobbies & Home': 3, 'Travel': 2, 'Teen & Young Adult': 1})\n",
            "[('accuracy', 55.86), ('precision', 22.03), ('recall', 27.05), ('f1-macro', 19.5)]\n",
            "metric cluster :  9\n",
            "Counter({'Cookbooks, Food & Wine': 113, 'Health, Fitness & Dieting': 30, 'Crafts, Hobbies & Home': 7, \"Children's Books\": 4, 'Medical Books': 3, 'Science & Math': 2, 'Teen & Young Adult': 2, 'Travel': 2}) Counter({'Cookbooks, Food & Wine': 101, 'Health, Fitness & Dieting': 20, 'Crafts, Hobbies & Home': 18, 'Science & Math': 10, 'Travel': 6, 'Medical Books': 5, \"Children's Books\": 2, 'Teen & Young Adult': 1})\n",
            "[('accuracy', 59.51), ('precision', 20.15), ('recall', 21.15), ('f1-macro', 18.66)]\n",
            "metric cluster :  3\n",
            "Counter({'Travel': 175, \"Children's Books\": 12, 'Crafts, Hobbies & Home': 11, 'Teen & Young Adult': 8, 'Science & Math': 5, 'Christian Books & Bibles': 2, 'Business & Money': 2, 'Cookbooks, Food & Wine': 2, 'Health, Fitness & Dieting': 1}) Counter({'Travel': 156, 'Science & Math': 31, 'Crafts, Hobbies & Home': 16, 'Christian Books & Bibles': 7, \"Children's Books\": 4, 'Cookbooks, Food & Wine': 2, 'Teen & Young Adult': 1, 'Medical Books': 1})\n",
            "[('accuracy', 66.97), ('precision', 14.25), ('recall', 17.5), ('f1-macro', 13.54)]\n"
          ]
        },
        {
          "output_type": "stream",
          "name": "stderr",
          "text": [
            "/usr/local/lib/python3.7/dist-packages/sklearn/metrics/_classification.py:1318: UndefinedMetricWarning: Recall is ill-defined and being set to 0.0 in labels with no true samples. Use `zero_division` parameter to control this behavior.\n",
            "  _warn_prf(average, modifier, msg_start, len(result))\n",
            "/usr/local/lib/python3.7/dist-packages/sklearn/metrics/_classification.py:1318: UndefinedMetricWarning: Precision is ill-defined and being set to 0.0 in labels with no predicted samples. Use `zero_division` parameter to control this behavior.\n",
            "  _warn_prf(average, modifier, msg_start, len(result))\n"
          ]
        },
        {
          "output_type": "stream",
          "name": "stdout",
          "text": [
            "metric cluster :  8\n",
            "Counter({'Science & Math': 100, 'Crafts, Hobbies & Home': 28, \"Children's Books\": 24, 'Teen & Young Adult': 12, 'Business & Money': 12, 'Medical Books': 8, 'Health, Fitness & Dieting': 6, 'Travel': 4, 'Christian Books & Bibles': 1}) Counter({'Science & Math': 143, 'Crafts, Hobbies & Home': 13, 'Travel': 12, 'Medical Books': 9, 'Health, Fitness & Dieting': 5, 'Business & Money': 4, 'Cookbooks, Food & Wine': 3, 'Christian Books & Bibles': 3, \"Children's Books\": 2, 'Teen & Young Adult': 1})\n",
            "[('accuracy', 52.31), ('precision', 26.25), ('recall', 19.16), ('f1-macro', 18.66)]\n"
          ]
        },
        {
          "output_type": "stream",
          "name": "stderr",
          "text": [
            "/usr/local/lib/python3.7/dist-packages/sklearn/metrics/_classification.py:1318: UndefinedMetricWarning: Recall is ill-defined and being set to 0.0 in labels with no true samples. Use `zero_division` parameter to control this behavior.\n",
            "  _warn_prf(average, modifier, msg_start, len(result))\n"
          ]
        },
        {
          "output_type": "stream",
          "name": "stdout",
          "text": [
            "metric cluster :  2\n",
            "Counter({'Christian Books & Bibles': 111, 'Teen & Young Adult': 8, \"Children's Books\": 6, 'Travel': 6, 'Health, Fitness & Dieting': 6, 'Science & Math': 5, 'Crafts, Hobbies & Home': 4, 'Business & Money': 2, 'Medical Books': 2, 'Cookbooks, Food & Wine': 1}) Counter({'Christian Books & Bibles': 131, 'Medical Books': 5, \"Children's Books\": 5, 'Travel': 3, 'Crafts, Hobbies & Home': 3, 'Science & Math': 2, 'Business & Money': 1, 'Cookbooks, Food & Wine': 1})\n",
            "[('accuracy', 72.19), ('precision', 35.45), ('recall', 33.69), ('f1-macro', 32.86)]\n",
            "AL distribution: {0: 5, 5: 4, 1: 8, 6: 6, 7: 7, 4: 5, 9: 4, 3: 3, 8: 5, 2: 3}\n",
            "AL leftover: 0\n"
          ]
        },
        {
          "output_type": "stream",
          "name": "stderr",
          "text": [
            "/usr/local/lib/python3.7/dist-packages/sklearn/metrics/_classification.py:1318: UndefinedMetricWarning: Precision is ill-defined and being set to 0.0 in labels with no predicted samples. Use `zero_division` parameter to control this behavior.\n",
            "  _warn_prf(average, modifier, msg_start, len(result))\n"
          ]
        },
        {
          "output_type": "stream",
          "name": "stdout",
          "text": [
            "label dist after AL step: Counter({'Crafts, Hobbies & Home': 28, 'Health, Fitness & Dieting': 24, 'Travel': 24, 'Science & Math': 23, 'Cookbooks, Food & Wine': 20, \"Children's Books\": 20, 'Medical Books': 17, 'Business & Money': 16, 'Christian Books & Bibles': 16, 'Teen & Young Adult': 12})\n",
            "current data size: 200 200\n",
            "preprocessing train...\n",
            "language: en\n",
            "train sequence lengths:\n",
            "\tmean : 10\n",
            "\t95percentile : 18\n",
            "\t99percentile : 25\n"
          ]
        },
        {
          "output_type": "stream",
          "name": "stderr",
          "text": [
            "/usr/local/lib/python3.7/dist-packages/ktrain/utils.py:738: UserWarning: class_names argument was ignored, as they were extracted from string labels in dataset\n",
            "  \"class_names argument was ignored, as they were extracted from string labels in dataset\"\n"
          ]
        },
        {
          "output_type": "display_data",
          "data": {
            "text/plain": [
              "<IPython.core.display.HTML object>"
            ],
            "text/html": [
              "\n",
              "<style>\n",
              "    /* Turns off some styling */\n",
              "    progress {\n",
              "        /* gets rid of default border in Firefox and Opera. */\n",
              "        border: none;\n",
              "        /* Needs to be in here for Safari polyfill so background images work as expected. */\n",
              "        background-size: auto;\n",
              "    }\n",
              "    progress:not([value]), progress:not([value])::-webkit-progress-bar {\n",
              "        background: repeating-linear-gradient(45deg, #7e7e7e, #7e7e7e 10px, #5c5c5c 10px, #5c5c5c 20px);\n",
              "    }\n",
              "    .progress-bar-interrupted, .progress-bar-interrupted::-webkit-progress-bar {\n",
              "        background: #F44336;\n",
              "    }\n",
              "</style>\n"
            ]
          },
          "metadata": {}
        },
        {
          "output_type": "display_data",
          "data": {
            "text/plain": [
              "<IPython.core.display.HTML object>"
            ],
            "text/html": []
          },
          "metadata": {}
        },
        {
          "output_type": "stream",
          "name": "stdout",
          "text": [
            "Is Multi-Label? False\n",
            "preprocessing test...\n",
            "language: en\n",
            "test sequence lengths:\n",
            "\tmean : 9\n",
            "\t95percentile : 19\n",
            "\t99percentile : 25\n"
          ]
        },
        {
          "output_type": "display_data",
          "data": {
            "text/plain": [
              "<IPython.core.display.HTML object>"
            ],
            "text/html": [
              "\n",
              "<style>\n",
              "    /* Turns off some styling */\n",
              "    progress {\n",
              "        /* gets rid of default border in Firefox and Opera. */\n",
              "        border: none;\n",
              "        /* Needs to be in here for Safari polyfill so background images work as expected. */\n",
              "        background-size: auto;\n",
              "    }\n",
              "    progress:not([value]), progress:not([value])::-webkit-progress-bar {\n",
              "        background: repeating-linear-gradient(45deg, #7e7e7e, #7e7e7e 10px, #5c5c5c 10px, #5c5c5c 20px);\n",
              "    }\n",
              "    .progress-bar-interrupted, .progress-bar-interrupted::-webkit-progress-bar {\n",
              "        background: #F44336;\n",
              "    }\n",
              "</style>\n"
            ]
          },
          "metadata": {}
        },
        {
          "output_type": "display_data",
          "data": {
            "text/plain": [
              "<IPython.core.display.HTML object>"
            ],
            "text/html": []
          },
          "metadata": {}
        },
        {
          "output_type": "stream",
          "name": "stdout",
          "text": [
            "\n",
            "\n",
            "begin training using onecycle policy with max lr of 8e-05...\n",
            "Epoch 1/5\n",
            "13/13 [==============================] - 32s 1s/step - loss: 2.3181 - accuracy: 0.1150 - val_loss: 2.2515 - val_accuracy: 0.2055\n",
            "Epoch 2/5\n",
            "13/13 [==============================] - 14s 1s/step - loss: 2.1783 - accuracy: 0.1800 - val_loss: 2.1831 - val_accuracy: 0.2535\n",
            "Epoch 3/5\n",
            "13/13 [==============================] - ETA: 0s - loss: 2.0300 - accuracy: 0.3250"
          ]
        }
      ]
    }
  ],
  "metadata": {
    "accelerator": "GPU",
    "colab": {
      "provenance": []
    },
    "gpuClass": "standard",
    "kernelspec": {
      "display_name": "Python 3",
      "name": "python3"
    },
    "language_info": {
      "name": "python"
    }
  },
  "nbformat": 4,
  "nbformat_minor": 0
}